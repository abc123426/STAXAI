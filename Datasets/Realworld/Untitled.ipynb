{
 "cells": [
  {
   "cell_type": "code",
   "execution_count": 2,
   "id": "ec6a7a5d-a78d-4913-b1c1-b4df23437b69",
   "metadata": {},
   "outputs": [],
   "source": [
    "import json\n",
    "\n",
    "metadata = {\n",
    "  \"@context\": \"https://mlcommons.org/croissant/context/v1\",\n",
    "  \"@type\": \"Dataset\",\n",
    "  \"name\": \"StatLog (German Credit) Data\",\n",
    "  \"description\": \"The StatLog German Credit dataset contains ...\",\n",
    "  \"url\": \"https://archive.ics.uci.edu/dataset/144/statlog+german+credit+data\",\n",
    "  \"license\": \"CC0-1.0\",\n",
    "  \"datePublished\": \"1994-07-01\",\n",
    "  \"keywords\": [\"credit scoring\",\"loan approval\",\"binary classification\",\"explainable AI\",\"finance\",\"UCI repository\"],\n",
    "  \"authors\": [{\"name\": \"UCI Machine Learning Repository\",\"affiliation\": \"University of California, Irvine\"}],\n",
    "  \"resources\": [\n",
    "    {\n",
    "      \"@type\": \"DataDownload\",\n",
    "      \"name\": \"german.data\",\n",
    "      \"url\": \"https://archive.ics.uci.edu/ml/machine-learning-databases/statlog/german/german.data\",\n",
    "      \"encodingFormat\": \"text/plain\",\n",
    "      \"description\": \"Primary data file with 1,000 instances and 20 attributes plus label.\"\n",
    "    },\n",
    "    {\n",
    "      \"@type\": \"DataDownload\",\n",
    "      \"name\": \"german.doc\",\n",
    "      \"url\": \"https://archive.ics.uci.edu/ml/machine-learning-databases/statlog/german/german.doc\",\n",
    "      \"encodingFormat\": \"text/plain\",\n",
    "      \"description\": \"Attribute definitions and documentation.\"\n",
    "    }\n",
    "  ]\n",
    "}"
   ]
  },
  {
   "cell_type": "code",
   "execution_count": 6,
   "id": "055038d9-13c2-401e-9655-ac09613f3acc",
   "metadata": {},
   "outputs": [],
   "source": [
    "with open(\"German Credit metadata.jsonld\", \"w\") as f:\n",
    "    json.dump(metadata, f, indent=2)"
   ]
  },
  {
   "cell_type": "code",
   "execution_count": 35,
   "id": "71266e08-03b7-4b79-aa72-a93acb54bed0",
   "metadata": {},
   "outputs": [
    {
     "name": "stdout",
     "output_type": "stream",
     "text": [
      "Median Precision: 0.88\n",
      "Median Recall:    1.00\n",
      "Top‑1 Accuracy:   0.83\n"
     ]
    }
   ],
   "source": [
    "import numpy as np\n",
    "import pandas as pd\n",
    "\n",
    "# your sample results\n",
    "data = {\n",
    "    \"Precision\":    [0.91, 0.79,0.88],\n",
    "    \"Recall\":       [1,1,1],\n",
    "    \"Top-1 Match\":  [0.83,0.83,0.83 ],\n",
    "}\n",
    "\n",
    "df = pd.DataFrame(data)\n",
    "\n",
    "# median precision and recall\n",
    "median_precision = df[\"Precision\"].median()\n",
    "median_recall    = df[\"Recall\"].median()\n",
    "\n",
    "# Top‑1 accuracy = proportion of datasets with a match\n",
    "top1_accuracy    = df[\"Top-1 Match\"].mean()\n",
    "\n",
    "print(f\"Median Precision: {median_precision:.2f}\")\n",
    "print(f\"Median Recall:    {median_recall:.2f}\")\n",
    "print(f\"Top‑1 Accuracy:   {top1_accuracy:.2f}\")\n"
   ]
  },
  {
   "cell_type": "code",
   "execution_count": 23,
   "id": "ff268529-b8a3-4a42-89c2-d38fcb7c7ba8",
   "metadata": {},
   "outputs": [],
   "source": [
    "fdr_mlp = np.array([0, 0.25, 0.25, 0.000, 0.28, 0.0])\n",
    "\n",
    "# SHAP’s FDR on the same 6 datasets (you should have run SHAP and computed these)\n",
    "# e.g. hypothetically:\n",
    "fdr_shap = np.array([0.4, 0.4, 0.4, 0.4, 0.6, 0.5])"
   ]
  },
  {
   "cell_type": "code",
   "execution_count": 25,
   "id": "20bb6c6b-c8e3-4f58-9206-776b9e111ae3",
   "metadata": {},
   "outputs": [
    {
     "name": "stdout",
     "output_type": "stream",
     "text": [
      "Median FDR (MLP):  0.125\n",
      "Median FDR (SHAP): 0.400\n"
     ]
    }
   ],
   "source": [
    "median_fdr_mlp  = np.median(fdr_mlp)\n",
    "median_fdr_shap = np.median(fdr_shap)\n",
    "print(f\"Median FDR (MLP):  {median_fdr_mlp:.3f}\")\n",
    "print(f\"Median FDR (SHAP): {median_fdr_shap:.3f}\")"
   ]
  },
  {
   "cell_type": "code",
   "execution_count": 27,
   "id": "7e584aa2-00a8-4642-8973-9ab140648458",
   "metadata": {},
   "outputs": [
    {
     "name": "stdout",
     "output_type": "stream",
     "text": [
      "Wilcoxon statistic = 0.00, p = 0.016\n"
     ]
    }
   ],
   "source": [
    "from scipy.stats import wilcoxon\n",
    "\n",
    "stat, p_value = wilcoxon(fdr_mlp, fdr_shap, alternative=\"less\")\n",
    "print(f\"Wilcoxon statistic = {stat:.2f}, p = {p_value:.3f}\")"
   ]
  },
  {
   "cell_type": "code",
   "execution_count": null,
   "id": "72fef1fd-149d-4124-90aa-f4a39fe56901",
   "metadata": {},
   "outputs": [],
   "source": []
  }
 ],
 "metadata": {
  "kernelspec": {
   "display_name": "Python [conda env:base] *",
   "language": "python",
   "name": "conda-base-py"
  },
  "language_info": {
   "codemirror_mode": {
    "name": "ipython",
    "version": 3
   },
   "file_extension": ".py",
   "mimetype": "text/x-python",
   "name": "python",
   "nbconvert_exporter": "python",
   "pygments_lexer": "ipython3",
   "version": "3.12.7"
  }
 },
 "nbformat": 4,
 "nbformat_minor": 5
}

{
 "cells": [
  {
   "cell_type": "code",
   "execution_count": 63,
   "id": "ecfe0001-bc5e-448d-b1c3-50e3a2643702",
   "metadata": {},
   "outputs": [],
   "source": [
    "import pandas as pd\n",
    "from sklearn.model_selection import train_test_split\n",
    "import torch\n",
    "import torch.nn as nn\n",
    "from torch.utils.data import Dataset, DataLoader\n",
    "from sklearn.metrics import accuracy_score, roc_auc_score\n",
    "import numpy as np"
   ]
  },
  {
   "cell_type": "code",
   "execution_count": 65,
   "id": "0c73c9d6-cb73-4166-b878-acc2a3077219",
   "metadata": {},
   "outputs": [],
   "source": [
    "df = pd.read_csv(\"Categorical Column with Numerical Outcome test.csv\")"
   ]
  },
  {
   "cell_type": "code",
   "execution_count": 67,
   "id": "dd9fe326-34e8-418c-a8a2-cd15f506ef5a",
   "metadata": {},
   "outputs": [],
   "source": [
    "df = df.drop(df.columns[[0]], axis=1)"
   ]
  },
  {
   "cell_type": "code",
   "execution_count": 69,
   "id": "fd548edc-d0fa-49db-bbe6-8b93ba70ee43",
   "metadata": {},
   "outputs": [
    {
     "data": {
      "text/html": [
       "<div>\n",
       "<style scoped>\n",
       "    .dataframe tbody tr th:only-of-type {\n",
       "        vertical-align: middle;\n",
       "    }\n",
       "\n",
       "    .dataframe tbody tr th {\n",
       "        vertical-align: top;\n",
       "    }\n",
       "\n",
       "    .dataframe thead th {\n",
       "        text-align: right;\n",
       "    }\n",
       "</style>\n",
       "<table border=\"1\" class=\"dataframe\">\n",
       "  <thead>\n",
       "    <tr style=\"text-align: right;\">\n",
       "      <th></th>\n",
       "      <th>Credit_History</th>\n",
       "      <th>Income_Level</th>\n",
       "      <th>Loan_Amount</th>\n",
       "      <th>Zip_Code</th>\n",
       "      <th>Education_Level</th>\n",
       "      <th>Predicted_Label</th>\n",
       "    </tr>\n",
       "  </thead>\n",
       "  <tbody>\n",
       "    <tr>\n",
       "      <th>0</th>\n",
       "      <td>Fair</td>\n",
       "      <td>Low</td>\n",
       "      <td>Small</td>\n",
       "      <td>Suburban</td>\n",
       "      <td>Bachelor</td>\n",
       "      <td>1</td>\n",
       "    </tr>\n",
       "    <tr>\n",
       "      <th>1</th>\n",
       "      <td>Good</td>\n",
       "      <td>Medium</td>\n",
       "      <td>Large</td>\n",
       "      <td>Suburban</td>\n",
       "      <td>Bachelor</td>\n",
       "      <td>1</td>\n",
       "    </tr>\n",
       "    <tr>\n",
       "      <th>2</th>\n",
       "      <td>Fair</td>\n",
       "      <td>Low</td>\n",
       "      <td>Small</td>\n",
       "      <td>Suburban</td>\n",
       "      <td>High School</td>\n",
       "      <td>1</td>\n",
       "    </tr>\n",
       "    <tr>\n",
       "      <th>3</th>\n",
       "      <td>Bad</td>\n",
       "      <td>High</td>\n",
       "      <td>Large</td>\n",
       "      <td>Urban</td>\n",
       "      <td>Master</td>\n",
       "      <td>0</td>\n",
       "    </tr>\n",
       "    <tr>\n",
       "      <th>4</th>\n",
       "      <td>Fair</td>\n",
       "      <td>High</td>\n",
       "      <td>Medium</td>\n",
       "      <td>Rural</td>\n",
       "      <td>Bachelor</td>\n",
       "      <td>1</td>\n",
       "    </tr>\n",
       "    <tr>\n",
       "      <th>...</th>\n",
       "      <td>...</td>\n",
       "      <td>...</td>\n",
       "      <td>...</td>\n",
       "      <td>...</td>\n",
       "      <td>...</td>\n",
       "      <td>...</td>\n",
       "    </tr>\n",
       "    <tr>\n",
       "      <th>3995</th>\n",
       "      <td>Bad</td>\n",
       "      <td>Low</td>\n",
       "      <td>Medium</td>\n",
       "      <td>Urban</td>\n",
       "      <td>Master</td>\n",
       "      <td>0</td>\n",
       "    </tr>\n",
       "    <tr>\n",
       "      <th>3996</th>\n",
       "      <td>Fair</td>\n",
       "      <td>High</td>\n",
       "      <td>Medium</td>\n",
       "      <td>Urban</td>\n",
       "      <td>High School</td>\n",
       "      <td>1</td>\n",
       "    </tr>\n",
       "    <tr>\n",
       "      <th>3997</th>\n",
       "      <td>Bad</td>\n",
       "      <td>High</td>\n",
       "      <td>Medium</td>\n",
       "      <td>Rural</td>\n",
       "      <td>Bachelor</td>\n",
       "      <td>1</td>\n",
       "    </tr>\n",
       "    <tr>\n",
       "      <th>3998</th>\n",
       "      <td>Fair</td>\n",
       "      <td>Medium</td>\n",
       "      <td>Large</td>\n",
       "      <td>Urban</td>\n",
       "      <td>High School</td>\n",
       "      <td>0</td>\n",
       "    </tr>\n",
       "    <tr>\n",
       "      <th>3999</th>\n",
       "      <td>Fair</td>\n",
       "      <td>Low</td>\n",
       "      <td>Medium</td>\n",
       "      <td>Urban</td>\n",
       "      <td>High School</td>\n",
       "      <td>0</td>\n",
       "    </tr>\n",
       "  </tbody>\n",
       "</table>\n",
       "<p>4000 rows × 6 columns</p>\n",
       "</div>"
      ],
      "text/plain": [
       "     Credit_History Income_Level Loan_Amount  Zip_Code Education_Level  \\\n",
       "0              Fair          Low       Small  Suburban        Bachelor   \n",
       "1              Good       Medium       Large  Suburban        Bachelor   \n",
       "2              Fair          Low       Small  Suburban     High School   \n",
       "3               Bad         High       Large     Urban          Master   \n",
       "4              Fair         High      Medium     Rural        Bachelor   \n",
       "...             ...          ...         ...       ...             ...   \n",
       "3995            Bad          Low      Medium     Urban          Master   \n",
       "3996           Fair         High      Medium     Urban     High School   \n",
       "3997            Bad         High      Medium     Rural        Bachelor   \n",
       "3998           Fair       Medium       Large     Urban     High School   \n",
       "3999           Fair          Low      Medium     Urban     High School   \n",
       "\n",
       "      Predicted_Label  \n",
       "0                   1  \n",
       "1                   1  \n",
       "2                   1  \n",
       "3                   0  \n",
       "4                   1  \n",
       "...               ...  \n",
       "3995                0  \n",
       "3996                1  \n",
       "3997                1  \n",
       "3998                0  \n",
       "3999                0  \n",
       "\n",
       "[4000 rows x 6 columns]"
      ]
     },
     "execution_count": 69,
     "metadata": {},
     "output_type": "execute_result"
    }
   ],
   "source": [
    "df"
   ]
  },
  {
   "cell_type": "code",
   "execution_count": 71,
   "id": "c2c6173d-de85-4fc6-9065-7490a6a2f363",
   "metadata": {},
   "outputs": [],
   "source": [
    "features = [\"Credit_History\",\"Income_Level\",\"Loan_Amount\",\"Zip_Code\",\"Education_Level\"]\n",
    "target   = \"Predicted_Label\""
   ]
  },
  {
   "cell_type": "code",
   "execution_count": 73,
   "id": "154a1ad1-bbbf-4d2f-b1d3-649505e19657",
   "metadata": {},
   "outputs": [],
   "source": [
    "train_df, test_df = train_test_split(\n",
    "    df, test_size=0.3, random_state=42, stratify=df[\"Predicted_Label\"]\n",
    ")"
   ]
  },
  {
   "cell_type": "code",
   "execution_count": 75,
   "id": "da2ceadb-f873-42b6-adb9-782db0acce72",
   "metadata": {},
   "outputs": [],
   "source": [
    "X_test_orig= test_df.copy()  # this will remain unchanged"
   ]
  },
  {
   "cell_type": "code",
   "execution_count": null,
   "id": "0c8a04f3-a3b0-4454-977e-6a8661c8f70c",
   "metadata": {},
   "outputs": [],
   "source": []
  },
  {
   "cell_type": "code",
   "execution_count": 77,
   "id": "1bc6a2d5-abd1-42a4-9ec2-2463084123e0",
   "metadata": {},
   "outputs": [],
   "source": [
    "mappings = {\n",
    "    \"Credit_History\":   {\"Bad\": 0, \"Fair\": 1, \"Good\": 2},\n",
    "    \"Income_Level\":     {\"Low\": 0, \"Medium\": 1, \"High\": 2},\n",
    "    \"Loan_Amount\":      {\"Small\":2, \"Medium\": 1, \"Large\": 0},\n",
    "    \"Zip_Code\":         {\"Urban\": 0, \"Suburban\": 1, \"Rural\": 2},\n",
    "    \"Education_Level\":  {\"High School\": 0, \"Bachelor\": 1, \"Master\": 2}\n",
    "}\n"
   ]
  },
  {
   "cell_type": "code",
   "execution_count": null,
   "id": "21064aae-2c1d-4df9-8422-9e324c3ef0aa",
   "metadata": {},
   "outputs": [],
   "source": []
  },
  {
   "cell_type": "code",
   "execution_count": 79,
   "id": "c3476e11-cf00-4136-9edf-33ca2dd57164",
   "metadata": {},
   "outputs": [],
   "source": [
    "for col, map_dict in mappings.items():\n",
    "    train_df[col] = train_df[col].map(map_dict)\n",
    "    test_df[col]  = test_df[col].map(map_dict)\n"
   ]
  },
  {
   "cell_type": "code",
   "execution_count": 81,
   "id": "b77a7fb6-c94a-4b63-93da-a4f23af24e1a",
   "metadata": {},
   "outputs": [],
   "source": [
    "class CatDataset(Dataset):\n",
    "    def __init__(self, df, feature_cols, target_col):\n",
    "        self.X = torch.LongTensor(df[feature_cols].values)\n",
    "        self.y = torch.FloatTensor(df[target_col].values).unsqueeze(1)\n",
    "    def __len__(self):\n",
    "        return len(self.X)\n",
    "    def __getitem__(self, idx):\n",
    "        return self.X[idx], self.y[idx]\n"
   ]
  },
  {
   "cell_type": "code",
   "execution_count": 83,
   "id": "e0da5424-c190-416d-86a3-ef3ead3b8aa8",
   "metadata": {},
   "outputs": [],
   "source": [
    "X_train = train_df[features].values\n",
    "y_train = train_df[target].values\n",
    "X_test  = test_df[features].values\n",
    "y_test  = test_df[target].values"
   ]
  },
  {
   "cell_type": "code",
   "execution_count": 85,
   "id": "64ca5b1a-81fd-4d71-a363-0f0a6491a3f0",
   "metadata": {},
   "outputs": [],
   "source": [
    "features = list(mappings.keys())\n",
    "target   = \"Predicted_Label\"\n",
    "\n",
    "train_ds = CatDataset(train_df, features, target)\n",
    "test_ds  = CatDataset(test_df, features, target)\n",
    "train_dl = DataLoader(train_ds, batch_size=4, shuffle=True)\n",
    "test_dl  = DataLoader(test_ds, batch_size=4)\n"
   ]
  },
  {
   "cell_type": "code",
   "execution_count": null,
   "id": "f2a547df-3382-432c-b319-f54c1833d944",
   "metadata": {},
   "outputs": [],
   "source": []
  },
  {
   "cell_type": "code",
   "execution_count": 87,
   "id": "88fbf54e-094f-4dad-876d-f53f9dfe0615",
   "metadata": {},
   "outputs": [],
   "source": [
    "class TabularTransformer(nn.Module):\n",
    "    def __init__(self, cat_dims, d_model=16, nhead=4, num_layers=2):\n",
    "        super().__init__()\n",
    "        self.embeddings = nn.ModuleList([nn.Embedding(dim, d_model) for dim in cat_dims])\n",
    "        self.pos_embed  = nn.Parameter(torch.randn(len(cat_dims), d_model))\n",
    "        encoder_layer = nn.TransformerEncoderLayer(d_model=d_model, nhead=nhead)\n",
    "        self.transformer = nn.TransformerEncoder(encoder_layer, num_layers=num_layers)\n",
    "        self.classifier  = nn.Linear(d_model, 1)\n",
    "\n",
    "    def forward(self, x):\n",
    "        embs = [emb(x[:, i]) for i, emb in enumerate(self.embeddings)]\n",
    "        x_seq = torch.stack(embs, dim=1)            # [B, F, d_model]\n",
    "        x_seq = x_seq + self.pos_embed.unsqueeze(0) # add positional embeddings\n",
    "        x_seq = x_seq.permute(1, 0, 2)              # [F, B, d_model]\n",
    "        h = self.transformer(x_seq)                 # [F, B, d_model]\n",
    "        h = h.permute(1, 0, 2).mean(dim=1)          # [B, d_model]\n",
    "        return self.classifier(h)"
   ]
  },
  {
   "cell_type": "code",
   "execution_count": 89,
   "id": "03349e2a-0fd5-4afc-b876-33ea60bb9ed9",
   "metadata": {},
   "outputs": [
    {
     "name": "stderr",
     "output_type": "stream",
     "text": [
      "/opt/anaconda3/lib/python3.12/site-packages/torch/nn/modules/transformer.py:385: UserWarning: enable_nested_tensor is True, but self.use_nested_tensor is False because encoder_layer.self_attn.batch_first was not True(use batch_first for better inference performance)\n",
      "  warnings.warn(\n"
     ]
    }
   ],
   "source": [
    "device = torch.device(\"cuda\" if torch.cuda.is_available() else \"cpu\")\n",
    "model = TabularTransformer(cat_dims=[3,3,3,3,3]).to(device)\n",
    "opt   = torch.optim.Adam(model.parameters(), lr=1e-3)\n",
    "loss_fn = nn.BCEWithLogitsLoss()"
   ]
  },
  {
   "cell_type": "code",
   "execution_count": 91,
   "id": "ab98a677-f0df-4e6f-afa6-a6d779eece26",
   "metadata": {},
   "outputs": [
    {
     "name": "stdout",
     "output_type": "stream",
     "text": [
      "Epoch 10  train loss=0.0043\n",
      "Epoch 20  train loss=0.0007\n"
     ]
    }
   ],
   "source": [
    "for epoch in range(1, 21):\n",
    "    model.train()\n",
    "    total_loss = 0.0\n",
    "    for xb, yb in train_dl:\n",
    "        xb, yb = xb.to(device), yb.to(device)\n",
    "        logits = model(xb)\n",
    "        loss   = loss_fn(logits, yb)\n",
    "        opt.zero_grad()\n",
    "        loss.backward()\n",
    "        opt.step()\n",
    "        total_loss += loss.item() * xb.size(0)\n",
    "    if epoch % 10 == 0:\n",
    "        print(f\"Epoch {epoch:02d}  train loss={total_loss/len(train_dl.dataset):.4f}\")\n"
   ]
  },
  {
   "cell_type": "code",
   "execution_count": 93,
   "id": "cb8a6a12-1afd-4455-a6ff-8a87f2dcd85b",
   "metadata": {},
   "outputs": [],
   "source": [
    "model.eval()\n",
    "probs, preds = [], []\n",
    "with torch.no_grad():\n",
    "    for xb, _ in test_dl:\n",
    "        xb = xb.to(device)\n",
    "        p = torch.sigmoid(model(xb)).cpu().numpy().flatten()\n",
    "        probs.extend(p)\n",
    "        preds.extend((p > 0.5).astype(int))\n",
    "\n",
    "# 1. Build a new DataFrame with just your predictions\n",
    "preds_df = pd.DataFrame({\n",
    "    \"pred_label\": preds\n",
    "})\n",
    "\n",
    "\n",
    "\n"
   ]
  },
  {
   "cell_type": "code",
   "execution_count": 95,
   "id": "f8bf96d4-47a7-4323-8b48-2c3374ae59f0",
   "metadata": {},
   "outputs": [],
   "source": [
    "true_labels = test_df[\"Predicted_Label\"].values "
   ]
  },
  {
   "cell_type": "code",
   "execution_count": 2,
   "id": "c898646f-d9d1-470b-99a2-1f63fa513d9f",
   "metadata": {},
   "outputs": [],
   "source": [
    "acc = accuracy_score(true_labels, preds_df[\"pred_label\"])\n",
    "print(f\"\\nTest Accuracy: {acc:.4f}\")"
   ]
  },
  {
   "cell_type": "code",
   "execution_count": null,
   "id": "b191f835-13d0-4383-bff0-fd9ef2495d2f",
   "metadata": {},
   "outputs": [],
   "source": []
  },
  {
   "cell_type": "code",
   "execution_count": 99,
   "id": "4672e161-9fff-470c-aef7-44c6a2edd4a7",
   "metadata": {},
   "outputs": [],
   "source": [
    "test_df = test_df.drop(test_df.columns[[-1]], axis=1)"
   ]
  },
  {
   "cell_type": "code",
   "execution_count": 101,
   "id": "b22ef501-6d23-408b-bd64-db8bae11616e",
   "metadata": {},
   "outputs": [
    {
     "data": {
      "text/html": [
       "<div>\n",
       "<style scoped>\n",
       "    .dataframe tbody tr th:only-of-type {\n",
       "        vertical-align: middle;\n",
       "    }\n",
       "\n",
       "    .dataframe tbody tr th {\n",
       "        vertical-align: top;\n",
       "    }\n",
       "\n",
       "    .dataframe thead th {\n",
       "        text-align: right;\n",
       "    }\n",
       "</style>\n",
       "<table border=\"1\" class=\"dataframe\">\n",
       "  <thead>\n",
       "    <tr style=\"text-align: right;\">\n",
       "      <th></th>\n",
       "      <th>Credit_History</th>\n",
       "      <th>Income_Level</th>\n",
       "      <th>Loan_Amount</th>\n",
       "      <th>Zip_Code</th>\n",
       "      <th>Education_Level</th>\n",
       "    </tr>\n",
       "  </thead>\n",
       "  <tbody>\n",
       "    <tr>\n",
       "      <th>1107</th>\n",
       "      <td>2</td>\n",
       "      <td>0</td>\n",
       "      <td>2</td>\n",
       "      <td>2</td>\n",
       "      <td>2</td>\n",
       "    </tr>\n",
       "    <tr>\n",
       "      <th>1517</th>\n",
       "      <td>2</td>\n",
       "      <td>1</td>\n",
       "      <td>2</td>\n",
       "      <td>0</td>\n",
       "      <td>0</td>\n",
       "    </tr>\n",
       "    <tr>\n",
       "      <th>298</th>\n",
       "      <td>1</td>\n",
       "      <td>1</td>\n",
       "      <td>2</td>\n",
       "      <td>0</td>\n",
       "      <td>2</td>\n",
       "    </tr>\n",
       "    <tr>\n",
       "      <th>960</th>\n",
       "      <td>1</td>\n",
       "      <td>2</td>\n",
       "      <td>0</td>\n",
       "      <td>0</td>\n",
       "      <td>2</td>\n",
       "    </tr>\n",
       "    <tr>\n",
       "      <th>3210</th>\n",
       "      <td>1</td>\n",
       "      <td>0</td>\n",
       "      <td>2</td>\n",
       "      <td>0</td>\n",
       "      <td>2</td>\n",
       "    </tr>\n",
       "    <tr>\n",
       "      <th>...</th>\n",
       "      <td>...</td>\n",
       "      <td>...</td>\n",
       "      <td>...</td>\n",
       "      <td>...</td>\n",
       "      <td>...</td>\n",
       "    </tr>\n",
       "    <tr>\n",
       "      <th>3900</th>\n",
       "      <td>0</td>\n",
       "      <td>1</td>\n",
       "      <td>2</td>\n",
       "      <td>0</td>\n",
       "      <td>2</td>\n",
       "    </tr>\n",
       "    <tr>\n",
       "      <th>469</th>\n",
       "      <td>1</td>\n",
       "      <td>0</td>\n",
       "      <td>1</td>\n",
       "      <td>2</td>\n",
       "      <td>2</td>\n",
       "    </tr>\n",
       "    <tr>\n",
       "      <th>1116</th>\n",
       "      <td>2</td>\n",
       "      <td>0</td>\n",
       "      <td>2</td>\n",
       "      <td>2</td>\n",
       "      <td>2</td>\n",
       "    </tr>\n",
       "    <tr>\n",
       "      <th>1581</th>\n",
       "      <td>2</td>\n",
       "      <td>2</td>\n",
       "      <td>1</td>\n",
       "      <td>0</td>\n",
       "      <td>0</td>\n",
       "    </tr>\n",
       "    <tr>\n",
       "      <th>12</th>\n",
       "      <td>1</td>\n",
       "      <td>0</td>\n",
       "      <td>1</td>\n",
       "      <td>0</td>\n",
       "      <td>2</td>\n",
       "    </tr>\n",
       "  </tbody>\n",
       "</table>\n",
       "<p>1200 rows × 5 columns</p>\n",
       "</div>"
      ],
      "text/plain": [
       "      Credit_History  Income_Level  Loan_Amount  Zip_Code  Education_Level\n",
       "1107               2             0            2         2                2\n",
       "1517               2             1            2         0                0\n",
       "298                1             1            2         0                2\n",
       "960                1             2            0         0                2\n",
       "3210               1             0            2         0                2\n",
       "...              ...           ...          ...       ...              ...\n",
       "3900               0             1            2         0                2\n",
       "469                1             0            1         2                2\n",
       "1116               2             0            2         2                2\n",
       "1581               2             2            1         0                0\n",
       "12                 1             0            1         0                2\n",
       "\n",
       "[1200 rows x 5 columns]"
      ]
     },
     "execution_count": 101,
     "metadata": {},
     "output_type": "execute_result"
    }
   ],
   "source": [
    "test_df"
   ]
  },
  {
   "cell_type": "code",
   "execution_count": 103,
   "id": "028e97eb-b57e-4898-b164-3fd554d296c3",
   "metadata": {},
   "outputs": [],
   "source": [
    "merged_df = pd.concat([\n",
    "    test_df.reset_index(drop=True),\n",
    "    preds_df.reset_index(drop=True)\n",
    "], axis=1)"
   ]
  },
  {
   "cell_type": "code",
   "execution_count": 43,
   "id": "6a7f7b35-afbe-4800-9264-df1e3bb1d2d0",
   "metadata": {},
   "outputs": [],
   "source": [
    "# merged_df.to_csv('Statistical Dataset for Categorical Features and Binary Outcome for Transformer.csv', index=False)"
   ]
  },
  {
   "cell_type": "code",
   "execution_count": 45,
   "id": "d987b76f-978b-4ae1-8df7-6302bff561ab",
   "metadata": {},
   "outputs": [],
   "source": [
    "import matplotlib.pyplot as plt"
   ]
  },
  {
   "cell_type": "code",
   "execution_count": 47,
   "id": "7e44241f-d515-4ab4-bcd8-614bbec49166",
   "metadata": {},
   "outputs": [
    {
     "name": "stdout",
     "output_type": "stream",
     "text": [
      "\n",
      "Feature: Credit_History\n",
      "Chi2 statistic: 233.9711\n",
      "p-value: 0.0\n",
      "→ Statistically significant association\n",
      "\n",
      "Feature: Income_Level\n",
      "Chi2 statistic: 243.0222\n",
      "p-value: 0.0\n",
      "→ Statistically significant association\n",
      "\n",
      "Feature: Loan_Amount\n",
      "Chi2 statistic: 302.8731\n",
      "p-value: 0.0\n",
      "→ Statistically significant association\n",
      "\n",
      "Feature: Zip_Code\n",
      "Chi2 statistic: 4.3272\n",
      "p-value: 0.1149\n",
      "→ No significant association\n",
      "\n",
      "Feature: Education_Level\n",
      "Chi2 statistic: 1.5079\n",
      "p-value: 0.4705\n",
      "→ No significant association\n"
     ]
    }
   ],
   "source": [
    "from scipy.stats import chi2_contingency\n",
    "\n",
    "categorical_features = ['Credit_History', 'Income_Level', 'Loan_Amount', 'Zip_Code', 'Education_Level']\n",
    "\n",
    "for feature in categorical_features:\n",
    "    # Create a contingency table\n",
    "    contingency = pd.crosstab(merged_df[feature], merged_df['pred_label'])\n",
    "    \n",
    "    # Run chi-square test\n",
    "    chi2, p, dof, expected = chi2_contingency(contingency)\n",
    "    \n",
    "    print(f\"\\nFeature: {feature}\")\n",
    "    print(\"Chi2 statistic:\", round(chi2, 4))\n",
    "    print(\"p-value:\", round(p, 4))\n",
    "    if p < 0.05:\n",
    "        print(\"→ Statistically significant association\")\n",
    "    else:\n",
    "        print(\"→ No significant association\")"
   ]
  },
  {
   "cell_type": "code",
   "execution_count": 49,
   "id": "1f7b7275-fc91-4804-bc30-6e3b0140595e",
   "metadata": {},
   "outputs": [],
   "source": [
    "def cramers_v(confusion_matrix):\n",
    "    chi2 = chi2_contingency(confusion_matrix)[0]\n",
    "    n = confusion_matrix.sum().sum()\n",
    "    r, k = confusion_matrix.shape\n",
    "    return np.sqrt(chi2 / (n * (min(r, k) - 1)))"
   ]
  },
  {
   "cell_type": "code",
   "execution_count": 61,
   "id": "fd01a025-0471-4dfb-a3a8-8c978c105be1",
   "metadata": {},
   "outputs": [
    {
     "data": {
      "text/html": [
       "<div>\n",
       "<style scoped>\n",
       "    .dataframe tbody tr th:only-of-type {\n",
       "        vertical-align: middle;\n",
       "    }\n",
       "\n",
       "    .dataframe tbody tr th {\n",
       "        vertical-align: top;\n",
       "    }\n",
       "\n",
       "    .dataframe thead th {\n",
       "        text-align: right;\n",
       "    }\n",
       "</style>\n",
       "<table border=\"1\" class=\"dataframe\">\n",
       "  <thead>\n",
       "    <tr style=\"text-align: right;\">\n",
       "      <th></th>\n",
       "      <th>Feature</th>\n",
       "      <th>Cramers_V</th>\n",
       "    </tr>\n",
       "  </thead>\n",
       "  <tbody>\n",
       "    <tr>\n",
       "      <th>0</th>\n",
       "      <td>Loan_Amount</td>\n",
       "      <td>0.502389</td>\n",
       "    </tr>\n",
       "    <tr>\n",
       "      <th>1</th>\n",
       "      <td>Income_Level</td>\n",
       "      <td>0.450021</td>\n",
       "    </tr>\n",
       "    <tr>\n",
       "      <th>2</th>\n",
       "      <td>Credit_History</td>\n",
       "      <td>0.441561</td>\n",
       "    </tr>\n",
       "  </tbody>\n",
       "</table>\n",
       "</div>"
      ],
      "text/plain": [
       "          Feature  Cramers_V\n",
       "0     Loan_Amount   0.502389\n",
       "1    Income_Level   0.450021\n",
       "2  Credit_History   0.441561"
      ]
     },
     "metadata": {},
     "output_type": "display_data"
    },
    {
     "name": "stderr",
     "output_type": "stream",
     "text": [
      "/var/folders/fg/p1v2zct14kndx3r29mnqvqkm0000gp/T/ipykernel_65607/2537808418.py:32: UserWarning: No artists with labels found to put in legend.  Note that artists whose label start with an underscore are ignored when legend() is called with no argument.\n",
      "  plt.legend()\n"
     ]
    },
    {
     "data": {
      "image/png": "[encoded data removed]",
      "text/plain": [
       "<Figure size 800x400 with 1 Axes>"
      ]
     },
     "metadata": {},
     "output_type": "display_data"
    }
   ],
   "source": [
    "effect_sizes = {}\n",
    "for feature in categorical_features:\n",
    "    # Contingency table\n",
    "    contingency = pd.crosstab(merged_df[feature], merged_df['pred_label'])\n",
    "    chi2, p, _, _ = chi2_contingency(contingency)\n",
    "    \n",
    "    # Filter by significance\n",
    "    if p < 0.05:\n",
    "        # Compute Cramér's V\n",
    "        n = contingency.values.sum()\n",
    "        r, k = contingency.shape\n",
    "        v = np.sqrt(chi2 / (n * (min(r, k) - 1)))\n",
    "        effect_sizes[feature] = v\n",
    "\n",
    "# 3. Build DataFrame and sort\n",
    "if not effect_sizes:\n",
    "    print(\"No categorical features with p < 0.05\")\n",
    "else:\n",
    "    eff_df = pd.DataFrame.from_dict(effect_sizes, orient='index', columns=[\"Cramers_V\"])\n",
    "    eff_df = eff_df.sort_values(\"Cramers_V\", ascending=False).reset_index().rename(columns={\"index\": \"Feature\"})\n",
    "    display(eff_df)\n",
    "\n",
    "    # 4. Plot only significant effect sizes\n",
    "    plt.figure(figsize=(8, 4))\n",
    "    plt.barh(eff_df[\"Feature\"], eff_df[\"Cramers_V\"])\n",
    "    plt.xlabel(\"Cramér's V\")\n",
    "    plt.title(\"Effect Sizes (Cramér's V) for Features with p < 0.05\")\n",
    "    # plt.axvline(0.1, color='gray', linestyle='--', label='Small (0.1)')\n",
    "    # plt.axvline(0.3, color='orange', linestyle='--', label='Medium (0.3)')\n",
    "    # plt.axvline(0.5, color='red', linestyle='--', label='Large (0.5)')\n",
    "    plt.gca().invert_yaxis()  # largest at top\n",
    "    plt.legend()\n",
    "    plt.tight_layout()\n",
    "    plt.show()"
   ]
  },
  {
   "cell_type": "code",
   "execution_count": 63,
   "id": "e3f7cf58-eefc-4c74-b733-82a94175af5c",
   "metadata": {},
   "outputs": [
    {
     "name": "stdout",
     "output_type": "stream",
     "text": [
      "  Method  Precision  Recall  FDR  Top-1 Match\n",
      "Stat-XAI        1.0     1.0  0.0            1\n"
     ]
    }
   ],
   "source": [
    "def compute_feature_recovery_metrics(gt, flagged, ranking):\n",
    "    \"\"\"\n",
    "    Compute TP, FP, FN, Precision, Recall, FDR, and Top-1 Match for feature recovery.\n",
    "\n",
    "    Parameters\n",
    "    ----------\n",
    "    gt : set\n",
    "        Ground-truth causal features.\n",
    "    flagged : list or set\n",
    "        Features your method flagged as important (e.g., top‑k from ranking).\n",
    "    ranking : list\n",
    "        Ordered list of features by descending effect size.\n",
    "\n",
    "    Returns\n",
    "    -------\n",
    "    pd.DataFrame\n",
    "        Single-row DataFrame with the metrics.\n",
    "    \"\"\"\n",
    "    tp = set(gt) & set(flagged)\n",
    "    fp = set(flagged) - set(gt)\n",
    "    fn = set(gt) - set(flagged)\n",
    "\n",
    "    precision = len(tp) / (len(tp) + len(fp)) if (len(tp) + len(fp)) else 0.0\n",
    "    recall    = len(tp) / len(gt)        if len(gt)              else 0.0\n",
    "    fdr       = len(fp) / (len(tp) + len(fp)) if (len(tp) + len(fp)) else 0.0\n",
    "    top1      = 1 if ranking and ranking[0] in gt else 0\n",
    "\n",
    "    metrics = {\n",
    "        \"TP\":           \", \".join(sorted(tp)),\n",
    "        \"FP\":           \", \".join(sorted(fp)),\n",
    "        \"FN\":           \", \".join(sorted(fn)),\n",
    "        \"Precision\":     precision,\n",
    "        \"Recall\":        recall,\n",
    "        \"FDR\":           fdr,\n",
    "        \"Top-1 Match\":   top1\n",
    "    }\n",
    "    return pd.DataFrame([{\n",
    "        \"Precision\": precision,\n",
    "        \"Recall\": recall,\n",
    "        \"FDR\": fdr,\n",
    "        \"Top-1 Match\": top1\n",
    "    }])\n",
    "\n",
    "\n",
    "\n",
    "if __name__ == \"__main__\":\n",
    "    # Example:\n",
    "    GT = {\"Loan_Amount\", \"Credit_History\", \"Income_Level\"}\n",
    "    ranking = [\n",
    "        \"Loan_Amount\",\n",
    "        \"Income_Level\",\n",
    "        \"Credit_History\",\n",
    "    ]\n",
    "    flagged = ranking[:3]  # e.g. top‑3 features\n",
    "\n",
    "    df_metrics = compute_feature_recovery_metrics(GT, flagged, ranking)\n",
    "    df_metrics.insert(0, \"Method\", \"Stat-XAI\")\n",
    "    df_metrics = df_metrics[[\"Method\", \"Precision\", \"Recall\", \"FDR\", \"Top-1 Match\"]]\n",
    "    print(df_metrics.to_string(index=False))"
   ]
  },
  {
   "cell_type": "code",
   "execution_count": null,
   "id": "baf13113-a246-4e43-b440-9ecf8c68cfab",
   "metadata": {},
   "outputs": [],
   "source": []
  },
  {
   "cell_type": "code",
   "execution_count": 105,
   "id": "bf8b255e-fe80-4627-a66e-b2fa8cd315a8",
   "metadata": {},
   "outputs": [],
   "source": [
    "import shap\n",
    "import numpy as np\n",
    "import psutil\n",
    "import os\n",
    "import torch.optim as optim\n",
    "import matplotlib.pyplot as plt"
   ]
  },
  {
   "cell_type": "code",
   "execution_count": 107,
   "id": "6d519be8-4ba1-45f1-8f6a-c2d827cdfe22",
   "metadata": {},
   "outputs": [],
   "source": [
    "def predict_proba_np(x_np):\n",
    "    \"\"\"\n",
    "    x_np: np.array of shape (batch, 5), dtype int\n",
    "    returns: np.array of shape (batch,) with predicted positive‐class probabilities\n",
    "    \"\"\"\n",
    "    model.eval()\n",
    "    with torch.no_grad():\n",
    "        tensor = torch.LongTensor(x_np).to(device)\n",
    "        logits = model(tensor)\n",
    "        probs  = torch.sigmoid(logits).cpu().numpy().flatten()\n",
    "    return probs"
   ]
  },
  {
   "cell_type": "code",
   "execution_count": 109,
   "id": "cbc55234-047f-40e9-979a-5633b1cd409d",
   "metadata": {},
   "outputs": [],
   "source": [
    "bg_size    = 100\n",
    "bg_idx     = np.random.choice(len(X_train), size=bg_size, replace=False)\n",
    "background = X_train[bg_idx]   # shape (100,5)"
   ]
  },
  {
   "cell_type": "code",
   "execution_count": 111,
   "id": "f21618ab-18b6-477f-8977-688556ad5161",
   "metadata": {},
   "outputs": [],
   "source": [
    "explainer = shap.KernelExplainer(predict_proba_np, background)\n"
   ]
  },
  {
   "cell_type": "code",
   "execution_count": 113,
   "id": "d60cb31e-89e9-4c0c-a9a3-4d0a22dd8dd4",
   "metadata": {},
   "outputs": [],
   "source": [
    "batch_size = 512\n",
    "all_shap   = []"
   ]
  },
  {
   "cell_type": "code",
   "execution_count": 115,
   "id": "cacf1fd4-a543-4502-93ea-21ff00641c07",
   "metadata": {},
   "outputs": [
    {
     "name": "stdout",
     "output_type": "stream",
     "text": [
      "Batch 0-512: free RAM 3.74 GB\n"
     ]
    },
    {
     "data": {
      "application/vnd.jupyter.widget-view+json": {
       "model_id": "d2b3bb70411242adb123bf45fca52d17",
       "version_major": 2,
       "version_minor": 0
      },
      "text/plain": [
       "  0%|          | 0/512 [00:00<?, ?it/s]"
      ]
     },
     "metadata": {},
     "output_type": "display_data"
    },
    {
     "name": "stdout",
     "output_type": "stream",
     "text": [
      "Batch 512-1024: free RAM 3.68 GB\n"
     ]
    },
    {
     "data": {
      "application/vnd.jupyter.widget-view+json": {
       "model_id": "2442323df0c84695a44a9480ef76cb10",
       "version_major": 2,
       "version_minor": 0
      },
      "text/plain": [
       "  0%|          | 0/512 [00:00<?, ?it/s]"
      ]
     },
     "metadata": {},
     "output_type": "display_data"
    },
    {
     "name": "stdout",
     "output_type": "stream",
     "text": [
      "Batch 1024-1200: free RAM 3.59 GB\n"
     ]
    },
    {
     "data": {
      "application/vnd.jupyter.widget-view+json": {
       "model_id": "b553c65476514d3a8540c6cf2cbb07d9",
       "version_major": 2,
       "version_minor": 0
      },
      "text/plain": [
       "  0%|          | 0/176 [00:00<?, ?it/s]"
      ]
     },
     "metadata": {},
     "output_type": "display_data"
    }
   ],
   "source": [
    "for start in range(0, len(X_test), batch_size):\n",
    "    end    = min(start + batch_size, len(X_test))\n",
    "    Xb_np  = X_test[start:end]\n",
    "    \n",
    "    mem = psutil.virtual_memory()\n",
    "    print(f\"Batch {start}-{end}: free RAM {mem.available/1e9:.2f} GB\")\n",
    "    \n",
    "    # nsamples controls speed/accuracy\n",
    "    shap_vals_batch = explainer.shap_values(Xb_np, nsamples=100)\n",
    "    all_shap.append(shap_vals_batch)\n"
   ]
  },
  {
   "cell_type": "code",
   "execution_count": 117,
   "id": "b942b1b4-4fa0-4cca-a073-0e426d5c3d26",
   "metadata": {},
   "outputs": [],
   "source": [
    "all_shap_values = np.vstack(all_shap)"
   ]
  },
  {
   "cell_type": "code",
   "execution_count": 119,
   "id": "ca49b410-d86d-46ed-9254-1f072dc8b7d5",
   "metadata": {},
   "outputs": [],
   "source": [
    "mean_abs = pd.Series(\n",
    "    np.abs(all_shap_values).mean(axis=0),\n",
    "    index=features\n",
    ").sort_values()"
   ]
  },
  {
   "cell_type": "code",
   "execution_count": 123,
   "id": "145a441f-3f57-4e8c-bd2a-e27b973f6956",
   "metadata": {},
   "outputs": [
    {
     "data": {
      "text/plain": [
       "Education_Level    0.001524\n",
       "Zip_Code           0.001621\n",
       "Credit_History     0.175580\n",
       "Income_Level       0.211204\n",
       "Loan_Amount        0.217283\n",
       "dtype: float64"
      ]
     },
     "execution_count": 123,
     "metadata": {},
     "output_type": "execute_result"
    }
   ],
   "source": [
    "mean_abs"
   ]
  },
  {
   "cell_type": "code",
   "execution_count": 121,
   "id": "4935a003-8664-4238-ab9b-471cfc97a333",
   "metadata": {},
   "outputs": [
    {
     "data": {
      "image/png": "[encoded data removed]",
      "text/plain": [
       "<Figure size 600x400 with 1 Axes>"
      ]
     },
     "metadata": {},
     "output_type": "display_data"
    }
   ],
   "source": [
    "os.makedirs(\"shap\", exist_ok=True)\n",
    "plt.figure(figsize=(6,4))\n",
    "mean_abs.plot.barh()\n",
    "plt.xlabel(\"Mean |SHAP value|\")\n",
    "plt.title(\"Mean absolute SHAP — Transformer model\")\n",
    "plt.tight_layout()\n",
    "plt.savefig(\"shap/Transformer_categorical_binary_shap_summary.jpg\", dpi=300)\n",
    "plt.show()"
   ]
  },
  {
   "cell_type": "code",
   "execution_count": 57,
   "id": "21b5fe77-c991-4e46-a5e3-c4a7530af8ac",
   "metadata": {},
   "outputs": [],
   "source": [
    "def compute_feature_recovery_metrics(gt, ranking):\n",
    "    \"\"\"\n",
    "    Compute TP, FP, FN, Precision, Recall, FDR, and Top-1 Match for feature recovery.\n",
    "\n",
    "    Parameters\n",
    "    ----------\n",
    "    gt : set\n",
    "        Ground-truth causal features.\n",
    "    flagged : list or set\n",
    "        Features your method flagged as important (e.g., top‑k from ranking).\n",
    "    ranking : list\n",
    "        Ordered list of features by descending effect size.\n",
    "\n",
    "    Returns\n",
    "    -------\n",
    "    pd.DataFrame\n",
    "        Single-row DataFrame with the metrics.\n",
    "    \"\"\"\n",
    "    tp = set(gt) & set(ranking)\n",
    "    fp = set(ranking) - set(gt)\n",
    "    fn = set(gt) - set(ranking)\n",
    "\n",
    "    precision = len(tp) / (len(tp) + len(fp)) if (len(tp) + len(fp)) else 0.0\n",
    "    recall    = len(tp) / len(gt)        if len(gt)              else 0.0\n",
    "    fdr       = len(fp) / (len(tp) + len(fp)) if (len(tp) + len(fp)) else 0.0\n",
    "    top1      = 1 if ranking and ranking[0] in gt else 0\n",
    "\n",
    "    metrics = {\n",
    "        \"TP\":           \", \".join(sorted(tp)),\n",
    "        \"FP\":           \", \".join(sorted(fp)),\n",
    "        \"FN\":           \", \".join(sorted(fn)),\n",
    "        \"Precision\":     precision,\n",
    "        \"Recall\":        recall,\n",
    "        \"FDR\":           fdr,\n",
    "        \"Top-1 Match\":   top1\n",
    "    }\n",
    "    return pd.DataFrame([{\n",
    "        \"Precision\": precision,\n",
    "        \"Recall\": recall,\n",
    "        \"FDR\": fdr,\n",
    "        \"Top-1 Match\": top1\n",
    "    }])\n",
    "\n",
    "\n"
   ]
  },
  {
   "cell_type": "code",
   "execution_count": 59,
   "id": "322eb93c-87fe-4520-8ee9-dfd0ea1c7303",
   "metadata": {},
   "outputs": [
    {
     "name": "stdout",
     "output_type": "stream",
     "text": [
      "  Method  Precision  Recall  FDR  Top-1 Match\n",
      "SHAP-XAI        0.6     1.0  0.4            1\n"
     ]
    }
   ],
   "source": [
    "if __name__ == \"__main__\":\n",
    "    # Example:\n",
    "    GT = {\"Loan_Amount\", \"Credit_History\", \"Income_Level\"}\n",
    "    ranking = [\n",
    "        \"Loan_Amount\",\n",
    "        \"Income_Level\",\n",
    "        \"Credit_History\",\n",
    "         \"Zip_Code\",\n",
    "    \"Education_Level\"\n",
    "   ]\n",
    "    # flagged = ranking[:3]  # e.g. top‑3 features\n",
    "\n",
    "    df_metrics = compute_feature_recovery_metrics(GT, ranking)\n",
    "    df_metrics.insert(0, \"Method\", \"SHAP-XAI\")\n",
    "    df_metrics = df_metrics[[\"Method\", \"Precision\", \"Recall\", \"FDR\", \"Top-1 Match\"]]\n",
    "    print(df_metrics.to_string(index=False))"
   ]
  },
  {
   "cell_type": "code",
   "execution_count": null,
   "id": "4c616a0f-c9e5-4621-82ae-4ec797322f40",
   "metadata": {},
   "outputs": [],
   "source": []
  }
 ],
 "metadata": {
  "kernelspec": {
   "display_name": "Python [conda env:base] *",
   "language": "python",
   "name": "conda-base-py"
  },
  "language_info": {
   "codemirror_mode": {
    "name": "ipython",
    "version": 3
   },
   "file_extension": ".py",
   "mimetype": "text/x-python",
   "name": "python",
   "nbconvert_exporter": "python",
   "pygments_lexer": "ipython3",
   "version": "3.12.7"
  }
 },
 "nbformat": 4,
 "nbformat_minor": 5
}

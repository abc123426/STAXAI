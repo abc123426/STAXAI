{
 "cells": [
  {
   "cell_type": "code",
   "execution_count": 58,
   "id": "575478ac-9336-4c43-a810-de11bedf6135",
   "metadata": {},
   "outputs": [],
   "source": [
    "import pandas as pd\n",
    "import numpy as np\n",
    "from sklearn.model_selection import train_test_split\n",
    "from sklearn.preprocessing import StandardScaler\n",
    "from sklearn.metrics import accuracy_score, roc_auc_score\n",
    "import matplotlib.pyplot as plt\n",
    "import torch\n",
    "import torch.nn as nn\n",
    "from torch.utils.data import Dataset, DataLoader"
   ]
  },
  {
   "cell_type": "code",
   "execution_count": 60,
   "id": "011be0d2-b5aa-4523-a82b-e68e77e69230",
   "metadata": {},
   "outputs": [],
   "source": [
    "df = pd.read_csv(\"Numerical Loan Approval Synthetic Dataset with binary outcome.csv\").drop(columns=[\"Unnamed: 0\"])\n"
   ]
  },
  {
   "cell_type": "code",
   "execution_count": 62,
   "id": "e2b3affe-e909-4ef7-ade8-d00edc9140f2",
   "metadata": {},
   "outputs": [
    {
     "data": {
      "text/html": [
       "<div>\n",
       "<style scoped>\n",
       "    .dataframe tbody tr th:only-of-type {\n",
       "        vertical-align: middle;\n",
       "    }\n",
       "\n",
       "    .dataframe tbody tr th {\n",
       "        vertical-align: top;\n",
       "    }\n",
       "\n",
       "    .dataframe thead th {\n",
       "        text-align: right;\n",
       "    }\n",
       "</style>\n",
       "<table border=\"1\" class=\"dataframe\">\n",
       "  <thead>\n",
       "    <tr style=\"text-align: right;\">\n",
       "      <th></th>\n",
       "      <th>Annual_Income</th>\n",
       "      <th>Credit_Score</th>\n",
       "      <th>Debt_to_Income</th>\n",
       "      <th>Employment_Length</th>\n",
       "      <th>Age</th>\n",
       "      <th>Loan_Approval</th>\n",
       "    </tr>\n",
       "  </thead>\n",
       "  <tbody>\n",
       "    <tr>\n",
       "      <th>0</th>\n",
       "      <td>65581.311290</td>\n",
       "      <td>505.502450</td>\n",
       "      <td>0.729998</td>\n",
       "      <td>12.762891</td>\n",
       "      <td>73</td>\n",
       "      <td>0</td>\n",
       "    </tr>\n",
       "    <tr>\n",
       "      <th>1</th>\n",
       "      <td>120317.859109</td>\n",
       "      <td>483.101653</td>\n",
       "      <td>0.184512</td>\n",
       "      <td>9.185849</td>\n",
       "      <td>38</td>\n",
       "      <td>1</td>\n",
       "    </tr>\n",
       "    <tr>\n",
       "      <th>2</th>\n",
       "      <td>99539.424472</td>\n",
       "      <td>396.884652</td>\n",
       "      <td>0.346640</td>\n",
       "      <td>19.289970</td>\n",
       "      <td>18</td>\n",
       "      <td>0</td>\n",
       "    </tr>\n",
       "    <tr>\n",
       "      <th>3</th>\n",
       "      <td>86872.555999</td>\n",
       "      <td>633.996669</td>\n",
       "      <td>0.663281</td>\n",
       "      <td>4.379569</td>\n",
       "      <td>69</td>\n",
       "      <td>1</td>\n",
       "    </tr>\n",
       "    <tr>\n",
       "      <th>4</th>\n",
       "      <td>44821.770842</td>\n",
       "      <td>562.143288</td>\n",
       "      <td>0.482089</td>\n",
       "      <td>11.757128</td>\n",
       "      <td>20</td>\n",
       "      <td>0</td>\n",
       "    </tr>\n",
       "    <tr>\n",
       "      <th>...</th>\n",
       "      <td>...</td>\n",
       "      <td>...</td>\n",
       "      <td>...</td>\n",
       "      <td>...</td>\n",
       "      <td>...</td>\n",
       "      <td>...</td>\n",
       "    </tr>\n",
       "    <tr>\n",
       "      <th>9995</th>\n",
       "      <td>111477.318883</td>\n",
       "      <td>782.371246</td>\n",
       "      <td>0.952275</td>\n",
       "      <td>15.080678</td>\n",
       "      <td>39</td>\n",
       "      <td>1</td>\n",
       "    </tr>\n",
       "    <tr>\n",
       "      <th>9996</th>\n",
       "      <td>115263.339335</td>\n",
       "      <td>325.747676</td>\n",
       "      <td>0.747824</td>\n",
       "      <td>15.290539</td>\n",
       "      <td>40</td>\n",
       "      <td>1</td>\n",
       "    </tr>\n",
       "    <tr>\n",
       "      <th>9997</th>\n",
       "      <td>119937.251928</td>\n",
       "      <td>467.034158</td>\n",
       "      <td>0.019456</td>\n",
       "      <td>5.391389</td>\n",
       "      <td>69</td>\n",
       "      <td>0</td>\n",
       "    </tr>\n",
       "    <tr>\n",
       "      <th>9998</th>\n",
       "      <td>67761.359280</td>\n",
       "      <td>543.826004</td>\n",
       "      <td>0.401005</td>\n",
       "      <td>8.686395</td>\n",
       "      <td>53</td>\n",
       "      <td>0</td>\n",
       "    </tr>\n",
       "    <tr>\n",
       "      <th>9999</th>\n",
       "      <td>50628.338384</td>\n",
       "      <td>394.745648</td>\n",
       "      <td>0.257398</td>\n",
       "      <td>9.748474</td>\n",
       "      <td>39</td>\n",
       "      <td>0</td>\n",
       "    </tr>\n",
       "  </tbody>\n",
       "</table>\n",
       "<p>10000 rows × 6 columns</p>\n",
       "</div>"
      ],
      "text/plain": [
       "      Annual_Income  Credit_Score  Debt_to_Income  Employment_Length  Age  \\\n",
       "0      65581.311290    505.502450        0.729998          12.762891   73   \n",
       "1     120317.859109    483.101653        0.184512           9.185849   38   \n",
       "2      99539.424472    396.884652        0.346640          19.289970   18   \n",
       "3      86872.555999    633.996669        0.663281           4.379569   69   \n",
       "4      44821.770842    562.143288        0.482089          11.757128   20   \n",
       "...             ...           ...             ...                ...  ...   \n",
       "9995  111477.318883    782.371246        0.952275          15.080678   39   \n",
       "9996  115263.339335    325.747676        0.747824          15.290539   40   \n",
       "9997  119937.251928    467.034158        0.019456           5.391389   69   \n",
       "9998   67761.359280    543.826004        0.401005           8.686395   53   \n",
       "9999   50628.338384    394.745648        0.257398           9.748474   39   \n",
       "\n",
       "      Loan_Approval  \n",
       "0                 0  \n",
       "1                 1  \n",
       "2                 0  \n",
       "3                 1  \n",
       "4                 0  \n",
       "...             ...  \n",
       "9995              1  \n",
       "9996              1  \n",
       "9997              0  \n",
       "9998              0  \n",
       "9999              0  \n",
       "\n",
       "[10000 rows x 6 columns]"
      ]
     },
     "execution_count": 62,
     "metadata": {},
     "output_type": "execute_result"
    }
   ],
   "source": [
    "df"
   ]
  },
  {
   "cell_type": "code",
   "execution_count": 64,
   "id": "37e5f525-c9c9-4900-bcb0-bfc0d8bc2656",
   "metadata": {},
   "outputs": [],
   "source": [
    "features = [\"Annual_Income\",\"Credit_Score\",\"Debt_to_Income\",\"Employment_Length\",\"Age\"]\n",
    "X = df[features].values\n",
    "y = df[\"Loan_Approval\"].values.reshape(-1,1).astype(np.float32)\n"
   ]
  },
  {
   "cell_type": "code",
   "execution_count": 66,
   "id": "c7b2ec53-8a6b-4a14-9c95-7cb018810361",
   "metadata": {},
   "outputs": [],
   "source": [
    "X_train, X_test, y_train, y_test = train_test_split(\n",
    "    X, y, test_size=0.3, random_state=42, stratify=y\n",
    ")\n"
   ]
  },
  {
   "cell_type": "code",
   "execution_count": 68,
   "id": "a46151f9-62b7-4ae6-addb-990646dde26d",
   "metadata": {},
   "outputs": [],
   "source": [
    "X_test_original = X_test.copy()"
   ]
  },
  {
   "cell_type": "code",
   "execution_count": 70,
   "id": "c9cd8949-711f-4301-bad9-f6f97864f4c4",
   "metadata": {},
   "outputs": [],
   "source": [
    "scaler = StandardScaler().fit(X_train)\n",
    "X_train = scaler.transform(X_train)\n",
    "X_test  = scaler.transform(X_test)\n"
   ]
  },
  {
   "cell_type": "code",
   "execution_count": 72,
   "id": "e1891777-1904-41fa-95b6-138470d4c539",
   "metadata": {},
   "outputs": [],
   "source": [
    "class TabularDataset(Dataset):\n",
    "    def __init__(self, X, y):\n",
    "        self.X = torch.from_numpy(X).float()\n",
    "        self.y = torch.from_numpy(y).float()\n",
    "    def __len__(self):\n",
    "        return len(self.X)\n",
    "    def __getitem__(self, idx):\n",
    "        # return [seq_len=5, 1] and [1]\n",
    "        return self.X[idx].unsqueeze(-1), self.y[idx]"
   ]
  },
  {
   "cell_type": "code",
   "execution_count": 74,
   "id": "5f052948-1013-43c1-8778-c81876cf3f48",
   "metadata": {},
   "outputs": [],
   "source": [
    "train_ds = TabularDataset(X_train, y_train)\n",
    "test_ds  = TabularDataset(X_test,  y_test)\n",
    "train_dl = DataLoader(train_ds, batch_size=16, shuffle=True)\n",
    "test_dl  = DataLoader(test_ds,  batch_size=16)\n"
   ]
  },
  {
   "cell_type": "code",
   "execution_count": 76,
   "id": "8275a060-d820-48c5-9757-9a483dad3567",
   "metadata": {},
   "outputs": [],
   "source": [
    "class TabularTransformer(nn.Module):\n",
    "    def __init__(self, num_features=5, d_model=32, nhead=4, num_layers=2):\n",
    "        super().__init__()\n",
    "        # one linear per feature → d_model dims\n",
    "        self.embeds = nn.ModuleList([nn.Linear(1, d_model) for _ in range(num_features)])\n",
    "        self.pos    = nn.Parameter(torch.randn(num_features, d_model))\n",
    "        enc_layer   = nn.TransformerEncoderLayer(d_model, nhead)\n",
    "        self.transformer = nn.TransformerEncoder(enc_layer, num_layers)\n",
    "        self.classifier = nn.Linear(d_model, 1)\n",
    "\n",
    "    def forward(self, x):\n",
    "        # x: [B, F, 1]\n",
    "        embs = [emb(x[:,i]) for i, emb in enumerate(self.embeds)]\n",
    "        x = torch.stack(embs, dim=1)             # [B, F, d_model]\n",
    "        x = x + self.pos.unsqueeze(0)            # positional\n",
    "        x = x.permute(1,0,2)                     # [F, B, d_model]\n",
    "        x = self.transformer(x)                  # [F, B, d_model]\n",
    "        x = x.permute(1,0,2).mean(dim=1)         # [B, d_model]\n",
    "        return self.classifier(x)                # [B, 1] logits\n"
   ]
  },
  {
   "cell_type": "code",
   "execution_count": 78,
   "id": "5bac4298-f0bc-4f94-978d-852df991ac6b",
   "metadata": {},
   "outputs": [
    {
     "name": "stderr",
     "output_type": "stream",
     "text": [
      "/opt/anaconda3/lib/python3.12/site-packages/torch/nn/modules/transformer.py:385: UserWarning: enable_nested_tensor is True, but self.use_nested_tensor is False because encoder_layer.self_attn.batch_first was not True(use batch_first for better inference performance)\n",
      "  warnings.warn(\n"
     ]
    }
   ],
   "source": [
    "device = torch.device(\"cuda\" if torch.cuda.is_available() else \"cpu\")\n",
    "model = TabularTransformer().to(device)\n",
    "opt   = torch.optim.Adam(model.parameters(), lr=1e-3)\n",
    "loss_fn = nn.BCEWithLogitsLoss()\n"
   ]
  },
  {
   "cell_type": "code",
   "execution_count": 2,
   "id": "667e7fe6-38ed-46bb-9aff-d6e55f02d70a",
   "metadata": {},
   "outputs": [],
   "source": [
    "for epoch in range(1, 51):\n",
    "    model.train()\n",
    "    total_loss = 0.0\n",
    "    for xb, yb in train_dl:\n",
    "        xb, yb = xb.to(device), yb.to(device)\n",
    "        logits = model(xb)\n",
    "        loss   = loss_fn(logits, yb)\n",
    "        opt.zero_grad()\n",
    "        loss.backward()\n",
    "        opt.step()\n",
    "        total_loss += loss.item() * xb.size(0)\n",
    "    avg_loss = total_loss / len(train_dl.dataset)\n",
    "\n",
    "    # evaluate train accuracy\n",
    "    model.eval()\n",
    "    with torch.no_grad():\n",
    "        all_preds, all_targets = [], []\n",
    "        for xb, yb in train_dl:\n",
    "            xb = xb.to(device)\n",
    "            probs = torch.sigmoid(model(xb)).cpu().numpy().flatten()\n",
    "            all_preds.extend((probs > 0.5).astype(int))\n",
    "            all_targets.extend(yb.numpy().flatten().astype(int))\n",
    "    train_acc = accuracy_score(all_targets, all_preds)\n",
    "\n",
    "    if epoch % 10 == 0 or epoch == 1:\n",
    "        print(f\"Epoch {epoch:02d}  train loss={avg_loss:.4f}  train acc={train_acc:.4f}\")\n"
   ]
  },
  {
   "cell_type": "code",
   "execution_count": 82,
   "id": "d4a156e8-f13a-4389-a4fb-45d483066b98",
   "metadata": {},
   "outputs": [],
   "source": [
    "model.eval()\n",
    "with torch.no_grad():\n",
    "    probs, targets = [], []\n",
    "    for xb, yb in test_dl:\n",
    "        xb = xb.to(device)\n",
    "        p = torch.sigmoid(model(xb)).cpu().numpy().flatten()\n",
    "        probs.extend(p)\n",
    "        targets.extend(yb.numpy().flatten().astype(int))\n",
    "\n",
    "preds    = (np.array(probs) > 0.5).astype(int)\n",
    "acc      = accuracy_score(targets, preds)\n",
    "roc_auc  = roc_auc_score(targets, probs)"
   ]
  },
  {
   "cell_type": "code",
   "execution_count": 4,
   "id": "82ed9f00-c4c2-4660-b52b-fd9b2807c02e",
   "metadata": {},
   "outputs": [],
   "source": [
    "print(f\"\\nTest Accuracy: {acc:.4f}\")\n",
    "print(f\"Test ROC AUC : {roc_auc:.4f}\")"
   ]
  },
  {
   "cell_type": "code",
   "execution_count": 86,
   "id": "4c7a02be-58c8-434c-b6b9-9b4aabf12a09",
   "metadata": {},
   "outputs": [],
   "source": [
    "cols = [\"Annual_Income\", \"Credit_Score\", \"Debt_to_Income\", \"Employment_Length\", \"Age\"]\n",
    "\n",
    "# 2. Convert the NumPy arrays into DataFrames\n",
    "X_test_df      = pd.DataFrame(X_test_original, columns=cols)"
   ]
  },
  {
   "cell_type": "code",
   "execution_count": null,
   "id": "4e5c5782-0c5a-462d-99b5-bb105bea388f",
   "metadata": {},
   "outputs": [],
   "source": []
  },
  {
   "cell_type": "code",
   "execution_count": 88,
   "id": "2f7d5dc5-68cd-463c-817a-b73b0ed08335",
   "metadata": {},
   "outputs": [],
   "source": [
    "predictions_df = pd.DataFrame(preds.flatten(), columns=['Loan_Approval_Pred'])"
   ]
  },
  {
   "cell_type": "code",
   "execution_count": 37,
   "id": "0e52125e-3812-4d0f-9fd7-a5af55935230",
   "metadata": {},
   "outputs": [],
   "source": [
    "merged_df = pd.concat([\n",
    "    X_test_df.reset_index(drop=True),\n",
    "    predictions_df.reset_index(drop=True)\n",
    "], axis=1)"
   ]
  },
  {
   "cell_type": "code",
   "execution_count": 39,
   "id": "368ad9b1-3f16-40ff-a206-df755d70e4dd",
   "metadata": {},
   "outputs": [],
   "source": [
    "# merged_df.to_csv('Statistical Dataset for Numerical Features and Binary Outcome for Transformer.csv', index=False)"
   ]
  },
  {
   "cell_type": "code",
   "execution_count": null,
   "id": "cdbe1b19-be1e-4acc-856b-2928a7b676e5",
   "metadata": {},
   "outputs": [],
   "source": []
  },
  {
   "cell_type": "code",
   "execution_count": 88,
   "id": "6ea28c15-50be-4418-846b-f50901d6daf0",
   "metadata": {},
   "outputs": [
    {
     "name": "stdout",
     "output_type": "stream",
     "text": [
      "          Feature     abs_r        p_value         d\n",
      "0   Annual_Income  0.526444  1.450404e-213  1.238385\n",
      "1    Credit_Score  0.454598  6.247077e-153  1.020768\n",
      "2  Debt_to_Income  0.412743  9.234264e-124  0.906283\n",
      "3             Age  0.039087   3.229011e-02 -0.078233\n"
     ]
    }
   ],
   "source": [
    "def r_to_cohens_d(r):\n",
    "    return 2 * r / np.sqrt(1 - r**2)\n",
    "\n",
    "# 1. Compute r, p, d for each feature\n",
    "records = []\n",
    "for feat in features:\n",
    "    r, p = pointbiserialr(merged_df[feat], merged_df['Loan_Approval_Pred'])\n",
    "    if p < 0.05:\n",
    "        d = r_to_cohens_d(r)\n",
    "        records.append({\n",
    "            'Feature': feat,\n",
    "            'r':        r,\n",
    "            'p_value':  p,\n",
    "            'd':        d,\n",
    "            'abs_r':    abs(r)\n",
    "        })\n",
    "\n",
    "# 2. Build DataFrame and sort by |d| descending (largest effect first)\n",
    "eff_df = pd.DataFrame(records)\n",
    "if eff_df.empty:\n",
    "    print(\"No features with p < 0.05\")\n",
    "else:\n",
    "    eff_df = eff_df.sort_values('abs_r', ascending=False).reset_index(drop=True)\n",
    "    print(eff_df[['Feature','abs_r','p_value','d']])"
   ]
  },
  {
   "cell_type": "code",
   "execution_count": 90,
   "id": "42164e93-d2aa-44a4-aedb-4771bbeeccb1",
   "metadata": {},
   "outputs": [
    {
     "data": {
      "image/png": "[encoded data removed]",
      "text/plain": [
       "<Figure size 600x400 with 1 Axes>"
      ]
     },
     "metadata": {},
     "output_type": "display_data"
    }
   ],
   "source": [
    "    import matplotlib.pyplot as plt\n",
    "    plt.figure(figsize=(6,4))\n",
    "    plt.barh(eff_df['Feature'], eff_df['abs_r'])\n",
    "    plt.xlabel(\"Absolute Cohen's d\")\n",
    "    plt.title(\"Significant Features Ranked by Effect Size\")\n",
    "    plt.gca().invert_yaxis()  # bring largest to top\n",
    "    plt.grid(axis='x', linestyle='--', alpha=0.6)\n",
    "    plt.tight_layout()\n",
    "    plt.show()"
   ]
  },
  {
   "cell_type": "code",
   "execution_count": 74,
   "id": "0777af6f-a61f-43ff-84d4-b428b9e27652",
   "metadata": {},
   "outputs": [
    {
     "name": "stdout",
     "output_type": "stream",
     "text": [
      "  Method  Precision  Recall  FDR  Top-1 Match\n",
      "Stat-XAI       0.75     1.0 0.25            1\n"
     ]
    }
   ],
   "source": [
    "def compute_feature_recovery_metrics(gt, ranking):\n",
    "    \"\"\"\n",
    "    Compute TP, FP, FN, Precision, Recall, FDR, and Top-1 Match for feature recovery.\n",
    "\n",
    "    Parameters\n",
    "    ----------\n",
    "    gt : set\n",
    "        Ground-truth causal features.\n",
    "    flagged : list or set\n",
    "        Features your method flagged as important (e.g., top‑k from ranking).\n",
    "    ranking : list\n",
    "        Ordered list of features by descending effect size.\n",
    "\n",
    "    Returns\n",
    "    -------\n",
    "    pd.DataFrame\n",
    "        Single-row DataFrame with the metrics.\n",
    "    \"\"\"\n",
    "    tp = set(gt) & set(ranking)\n",
    "    fp = set(ranking) - set(gt)\n",
    "    fn = set(gt) - set(ranking)\n",
    "\n",
    "    precision = len(tp) / (len(tp) + len(fp)) if (len(tp) + len(fp)) else 0.0\n",
    "    recall    = len(tp) / len(gt)        if len(gt)              else 0.0\n",
    "    fdr       = len(fp) / (len(tp) + len(fp)) if (len(tp) + len(fp)) else 0.0\n",
    "    top1      = 1 if ranking and ranking[0] in gt else 0\n",
    "\n",
    "    metrics = {\n",
    "        \"TP\":           \", \".join(sorted(tp)),\n",
    "        \"FP\":           \", \".join(sorted(fp)),\n",
    "        \"FN\":           \", \".join(sorted(fn)),\n",
    "        \"Precision\":     precision,\n",
    "        \"Recall\":        recall,\n",
    "        \"FDR\":           fdr,\n",
    "        \"Top-1 Match\":   top1\n",
    "    }\n",
    "    return pd.DataFrame([{\n",
    "        \"Precision\": precision,\n",
    "        \"Recall\": recall,\n",
    "        \"FDR\": fdr,\n",
    "        \"Top-1 Match\": top1\n",
    "    }])\n",
    "\n",
    "\n",
    "\n",
    "if __name__ == \"__main__\":\n",
    "    # Example:\n",
    "    GT = {\"annual_income\", \"credit_score\", \"debt_to_income\"}\n",
    "    ranking = [\n",
    "        \"annual_income\",\n",
    "        \"credit_score\",\n",
    "        \"debt_to_income\",\n",
    "        \"Age\"\n",
    "    ]\n",
    "    # flagged = ranking[:3]  # e.g. top‑3 features\n",
    "\n",
    "    df_metrics = compute_feature_recovery_metrics(GT, ranking)\n",
    "    df_metrics.insert(0, \"Method\", \"Stat-XAI\")\n",
    "    df_metrics = df_metrics[[\"Method\", \"Precision\", \"Recall\", \"FDR\", \"Top-1 Match\"]]\n",
    "    print(df_metrics.to_string(index=False))"
   ]
  },
  {
   "cell_type": "code",
   "execution_count": 90,
   "id": "2306594d-6f8d-463f-b806-07bfb6207a0d",
   "metadata": {},
   "outputs": [],
   "source": [
    "import shap\n",
    "import numpy as np\n",
    "import psutil\n",
    "import os\n",
    "import torch.optim as optim\n",
    "import matplotlib.pyplot as plt"
   ]
  },
  {
   "cell_type": "code",
   "execution_count": 92,
   "id": "4ec14274-ab1c-4d0c-98fe-0a710d41ff65",
   "metadata": {},
   "outputs": [],
   "source": [
    "def predict_proba_np(x_np):\n",
    "    \"\"\"\n",
    "    x_np: (batch, 5) float array\n",
    "    returns: (batch,) array of model's P(class=1)\n",
    "    \"\"\"\n",
    "    model.eval()\n",
    "    with torch.no_grad():\n",
    "        # convert to tensor shape (batch,5,1)\n",
    "        t = torch.from_numpy(x_np).float().unsqueeze(-1).to(device)\n",
    "        logits = model(t)               # [batch,1]\n",
    "        probs  = torch.sigmoid(logits)  # [batch,1]\n",
    "    return probs.cpu().numpy().flatten()"
   ]
  },
  {
   "cell_type": "code",
   "execution_count": 94,
   "id": "86ec5152-42b3-4f62-b27b-08d0d4222c4e",
   "metadata": {},
   "outputs": [],
   "source": [
    "bg_size = 200\n",
    "idx = np.random.choice(len(X_train), size=bg_size, replace=False)\n",
    "background = X_train[idx]  # shape (200,5)\n",
    "\n"
   ]
  },
  {
   "cell_type": "code",
   "execution_count": 96,
   "id": "1386f38e-2a4a-4332-af4a-a1e96cae77b6",
   "metadata": {},
   "outputs": [
    {
     "name": "stderr",
     "output_type": "stream",
     "text": [
      "Using 200 background data samples could cause slower run times. Consider using shap.sample(data, K) or shap.kmeans(data, K) to summarize the background as K samples.\n"
     ]
    }
   ],
   "source": [
    "explainer = shap.KernelExplainer(predict_proba_np, background)"
   ]
  },
  {
   "cell_type": "code",
   "execution_count": 98,
   "id": "a41a6e11-6a37-4bac-be23-b7c65aafe347",
   "metadata": {},
   "outputs": [
    {
     "name": "stdout",
     "output_type": "stream",
     "text": [
      "Batch 0-512: free RAM = 3.58 GB\n"
     ]
    },
    {
     "data": {
      "application/vnd.jupyter.widget-view+json": {
       "model_id": "95835f6d7e9d402a8612ec1f3e00844f",
       "version_major": 2,
       "version_minor": 0
      },
      "text/plain": [
       "  0%|          | 0/512 [00:00<?, ?it/s]"
      ]
     },
     "metadata": {},
     "output_type": "display_data"
    },
    {
     "name": "stdout",
     "output_type": "stream",
     "text": [
      "Batch 512-1024: free RAM = 3.70 GB\n"
     ]
    },
    {
     "data": {
      "application/vnd.jupyter.widget-view+json": {
       "model_id": "4a54319e435a44bab852137d2c186000",
       "version_major": 2,
       "version_minor": 0
      },
      "text/plain": [
       "  0%|          | 0/512 [00:00<?, ?it/s]"
      ]
     },
     "metadata": {},
     "output_type": "display_data"
    },
    {
     "name": "stdout",
     "output_type": "stream",
     "text": [
      "Batch 1024-1536: free RAM = 4.36 GB\n"
     ]
    },
    {
     "data": {
      "application/vnd.jupyter.widget-view+json": {
       "model_id": "40db2712504d46b9994392137fea62b3",
       "version_major": 2,
       "version_minor": 0
      },
      "text/plain": [
       "  0%|          | 0/512 [00:00<?, ?it/s]"
      ]
     },
     "metadata": {},
     "output_type": "display_data"
    },
    {
     "name": "stdout",
     "output_type": "stream",
     "text": [
      "Batch 1536-2048: free RAM = 4.19 GB\n"
     ]
    },
    {
     "data": {
      "application/vnd.jupyter.widget-view+json": {
       "model_id": "c6ec74cdd4984201a0dac7baff80d2f8",
       "version_major": 2,
       "version_minor": 0
      },
      "text/plain": [
       "  0%|          | 0/512 [00:00<?, ?it/s]"
      ]
     },
     "metadata": {},
     "output_type": "display_data"
    },
    {
     "name": "stdout",
     "output_type": "stream",
     "text": [
      "Batch 2048-2560: free RAM = 4.29 GB\n"
     ]
    },
    {
     "data": {
      "application/vnd.jupyter.widget-view+json": {
       "model_id": "8e06259df43b42bd9a47348c90d8df07",
       "version_major": 2,
       "version_minor": 0
      },
      "text/plain": [
       "  0%|          | 0/512 [00:00<?, ?it/s]"
      ]
     },
     "metadata": {},
     "output_type": "display_data"
    },
    {
     "name": "stdout",
     "output_type": "stream",
     "text": [
      "Batch 2560-3000: free RAM = 4.14 GB\n"
     ]
    },
    {
     "data": {
      "application/vnd.jupyter.widget-view+json": {
       "model_id": "fc48bf10af75452a9e8c23677eff7fae",
       "version_major": 2,
       "version_minor": 0
      },
      "text/plain": [
       "  0%|          | 0/440 [00:00<?, ?it/s]"
      ]
     },
     "metadata": {},
     "output_type": "display_data"
    }
   ],
   "source": [
    "batch_size = 512\n",
    "all_shap = []\n",
    "\n",
    "for start in range(0, X_test.shape[0], batch_size):\n",
    "    end = min(start + batch_size, X_test.shape[0])\n",
    "    Xb = X_test[start:end]  # (batch,5)\n",
    "\n",
    "    mem = psutil.virtual_memory()\n",
    "    print(f\"Batch {start}-{end}: free RAM = {mem.available/1e9:.2f} GB\")\n",
    "\n",
    "    # nsamples trades off speed vs. accuracy\n",
    "    shap_vals = explainer.shap_values(Xb, nsamples=100)\n",
    "    all_shap.append(shap_vals)       # (batch,5)\n"
   ]
  },
  {
   "cell_type": "code",
   "execution_count": 40,
   "id": "fbb739e7-fdcf-44b7-aa23-b55d2a11c53b",
   "metadata": {},
   "outputs": [],
   "source": [
    "all_shap_values = np.vstack(all_shap)"
   ]
  },
  {
   "cell_type": "code",
   "execution_count": 44,
   "id": "c942548a-25f8-4176-b736-5f0a063b44a5",
   "metadata": {},
   "outputs": [],
   "source": [
    "num_feats = ['Annual_Income','Credit_Score','Debt_to_Income','Employment_Length','Age']"
   ]
  },
  {
   "cell_type": "code",
   "execution_count": 100,
   "id": "95060883-8891-4a08-a1ea-d21b4f66fcaf",
   "metadata": {},
   "outputs": [],
   "source": [
    "mean_abs = pd.Series(\n",
    "    np.abs(all_shap_values).mean(axis=0),\n",
    "    index=num_feats\n",
    ").sort_values()\n"
   ]
  },
  {
   "cell_type": "code",
   "execution_count": 102,
   "id": "87b4e855-5ae7-4b1d-ab1c-4acd9fffb5a0",
   "metadata": {},
   "outputs": [
    {
     "data": {
      "text/plain": [
       "Age                  0.000689\n",
       "Employment_Length    0.000697\n",
       "Debt_to_Income       0.193637\n",
       "Credit_Score         0.208475\n",
       "Annual_Income        0.239823\n",
       "dtype: float64"
      ]
     },
     "execution_count": 102,
     "metadata": {},
     "output_type": "execute_result"
    }
   ],
   "source": [
    "mean_abs"
   ]
  },
  {
   "cell_type": "code",
   "execution_count": 50,
   "id": "ffcf15f2-ea0f-4162-bfcb-c08e76f4b40f",
   "metadata": {},
   "outputs": [
    {
     "data": {
      "image/png": "[encoded data removed]",
      "text/plain": [
       "<Figure size 600x400 with 1 Axes>"
      ]
     },
     "metadata": {},
     "output_type": "display_data"
    }
   ],
   "source": [
    "os.makedirs(\"shap\", exist_ok=True)\n",
    "plt.figure(figsize=(6,4))\n",
    "mean_abs.plot.barh()\n",
    "plt.xlabel(\"Mean |SHAP value|\")\n",
    "plt.title(\"Mean absolute SHAP: Transformer Numerical Features\")\n",
    "plt.tight_layout()\n",
    "plt.savefig(\"shap/Transformer_numeric_binary_shap_kernel.jpg\", dpi=300)\n",
    "plt.show()"
   ]
  },
  {
   "cell_type": "code",
   "execution_count": 52,
   "id": "c5311060-87d3-45bb-926c-cfda93533439",
   "metadata": {},
   "outputs": [],
   "source": [
    "def compute_feature_recovery_metrics(gt, ranking):\n",
    "    \"\"\"\n",
    "    Compute TP, FP, FN, Precision, Recall, FDR, and Top-1 Match for feature recovery.\n",
    "\n",
    "    Parameters\n",
    "    ----------\n",
    "    gt : set\n",
    "        Ground-truth causal features.\n",
    "    flagged : list or set\n",
    "        Features your method flagged as important (e.g., top‑k from ranking).\n",
    "    ranking : list\n",
    "        Ordered list of features by descending effect size.\n",
    "\n",
    "    Returns\n",
    "    -------\n",
    "    pd.DataFrame\n",
    "        Single-row DataFrame with the metrics.\n",
    "    \"\"\"\n",
    "    tp = set(gt) & set(ranking)\n",
    "    fp = set(ranking) - set(gt)\n",
    "    fn = set(gt) - set(ranking)\n",
    "\n",
    "    precision = len(tp) / (len(tp) + len(fp)) if (len(tp) + len(fp)) else 0.0\n",
    "    recall    = len(tp) / len(gt)        if len(gt)              else 0.0\n",
    "    fdr       = len(fp) / (len(tp) + len(fp)) if (len(tp) + len(fp)) else 0.0\n",
    "    top1      = 1 if ranking and ranking[0] in gt else 0\n",
    "\n",
    "    metrics = {\n",
    "        \"TP\":           \", \".join(sorted(tp)),\n",
    "        \"FP\":           \", \".join(sorted(fp)),\n",
    "        \"FN\":           \", \".join(sorted(fn)),\n",
    "        \"Precision\":     precision,\n",
    "        \"Recall\":        recall,\n",
    "        \"FDR\":           fdr,\n",
    "        \"Top-1 Match\":   top1\n",
    "    }\n",
    "    return pd.DataFrame([{\n",
    "        \"Precision\": precision,\n",
    "        \"Recall\": recall,\n",
    "        \"FDR\": fdr,\n",
    "        \"Top-1 Match\": top1\n",
    "    }])\n",
    "\n"
   ]
  },
  {
   "cell_type": "code",
   "execution_count": 54,
   "id": "41c745b2-626c-463f-ab09-f39032cd9de6",
   "metadata": {},
   "outputs": [
    {
     "name": "stdout",
     "output_type": "stream",
     "text": [
      "  Method  Precision  Recall  FDR  Top-1 Match\n",
      "SHAP-XAI        0.6     1.0  0.4            1\n"
     ]
    }
   ],
   "source": [
    "if __name__ == \"__main__\":\n",
    "    # Example:\n",
    "    GT = {\"annual_income\", \"credit_score\", \"debt_to_income\"}\n",
    "    ranking = [\n",
    "        \"annual_income\",\n",
    "        \"credit_score\",\n",
    "        \"debt_to_income\",\n",
    "        \"Age\",\n",
    "        \"Employement_Lenght\"\n",
    "    ]\n",
    "    # flagged = ranking[:3]  # e.g. top‑3 features\n",
    "\n",
    "    df_metrics = compute_feature_recovery_metrics(GT, ranking)\n",
    "    df_metrics.insert(0, \"Method\", \"SHAP-XAI\")\n",
    "    df_metrics = df_metrics[[\"Method\", \"Precision\", \"Recall\", \"FDR\", \"Top-1 Match\"]]\n",
    "    print(df_metrics.to_string(index=False))"
   ]
  },
  {
   "cell_type": "code",
   "execution_count": null,
   "id": "066e3f52-15d8-4d44-809f-c6ccff7cb77b",
   "metadata": {},
   "outputs": [],
   "source": []
  }
 ],
 "metadata": {
  "kernelspec": {
   "display_name": "Python [conda env:base] *",
   "language": "python",
   "name": "conda-base-py"
  },
  "language_info": {
   "codemirror_mode": {
    "name": "ipython",
    "version": 3
   },
   "file_extension": ".py",
   "mimetype": "text/x-python",
   "name": "python",
   "nbconvert_exporter": "python",
   "pygments_lexer": "ipython3",
   "version": "3.12.7"
  }
 },
 "nbformat": 4,
 "nbformat_minor": 5
}

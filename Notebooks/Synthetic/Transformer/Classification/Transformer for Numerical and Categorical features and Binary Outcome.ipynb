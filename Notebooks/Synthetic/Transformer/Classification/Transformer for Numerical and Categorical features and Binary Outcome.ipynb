{
 "cells": [
  {
   "cell_type": "code",
   "execution_count": 2,
   "id": "cfa62f18-dab9-42c3-9bf5-38ba5132198c",
   "metadata": {},
   "outputs": [],
   "source": [
    "import pandas as pd\n",
    "import numpy as np\n",
    "from sklearn.model_selection import train_test_split\n",
    "from sklearn.preprocessing import StandardScaler\n",
    "from sklearn.metrics import accuracy_score, roc_auc_score\n",
    "\n",
    "import torch\n",
    "import torch.nn as nn\n",
    "from torch.utils.data import Dataset, DataLoader"
   ]
  },
  {
   "cell_type": "code",
   "execution_count": 4,
   "id": "20b89245-e6f2-45e2-a527-cd06f11433eb",
   "metadata": {},
   "outputs": [
    {
     "data": {
      "text/html": [
       "<div>\n",
       "<style scoped>\n",
       "    .dataframe tbody tr th:only-of-type {\n",
       "        vertical-align: middle;\n",
       "    }\n",
       "\n",
       "    .dataframe tbody tr th {\n",
       "        vertical-align: top;\n",
       "    }\n",
       "\n",
       "    .dataframe thead th {\n",
       "        text-align: right;\n",
       "    }\n",
       "</style>\n",
       "<table border=\"1\" class=\"dataframe\">\n",
       "  <thead>\n",
       "    <tr style=\"text-align: right;\">\n",
       "      <th></th>\n",
       "      <th>Annual_Income</th>\n",
       "      <th>Credit_Score</th>\n",
       "      <th>Employment_Length</th>\n",
       "      <th>Age</th>\n",
       "      <th>Loan_Term</th>\n",
       "      <th>Loan_Purpose</th>\n",
       "      <th>Employment_Status</th>\n",
       "      <th>Loan_Categories</th>\n",
       "      <th>Region</th>\n",
       "      <th>Marital_Status</th>\n",
       "      <th>Approval_Probability</th>\n",
       "    </tr>\n",
       "  </thead>\n",
       "  <tbody>\n",
       "    <tr>\n",
       "      <th>0</th>\n",
       "      <td>74944.814262</td>\n",
       "      <td>505.502450</td>\n",
       "      <td>14.599966</td>\n",
       "      <td>30</td>\n",
       "      <td>28</td>\n",
       "      <td>Personal</td>\n",
       "      <td>Self-employed</td>\n",
       "      <td>Medium</td>\n",
       "      <td>West</td>\n",
       "      <td>Married</td>\n",
       "      <td>1</td>\n",
       "    </tr>\n",
       "    <tr>\n",
       "      <th>1</th>\n",
       "      <td>144085.716769</td>\n",
       "      <td>483.101653</td>\n",
       "      <td>3.690240</td>\n",
       "      <td>44</td>\n",
       "      <td>14</td>\n",
       "      <td>Home</td>\n",
       "      <td>Employed</td>\n",
       "      <td>Small</td>\n",
       "      <td>South</td>\n",
       "      <td>Divorced</td>\n",
       "      <td>1</td>\n",
       "    </tr>\n",
       "    <tr>\n",
       "      <th>2</th>\n",
       "      <td>117839.273017</td>\n",
       "      <td>396.884652</td>\n",
       "      <td>6.932794</td>\n",
       "      <td>55</td>\n",
       "      <td>27</td>\n",
       "      <td>Home</td>\n",
       "      <td>Unemployed</td>\n",
       "      <td>Large</td>\n",
       "      <td>South</td>\n",
       "      <td>Single</td>\n",
       "      <td>0</td>\n",
       "    </tr>\n",
       "    <tr>\n",
       "      <th>3</th>\n",
       "      <td>101839.018104</td>\n",
       "      <td>633.996669</td>\n",
       "      <td>13.265613</td>\n",
       "      <td>50</td>\n",
       "      <td>1</td>\n",
       "      <td>Personal</td>\n",
       "      <td>Employed</td>\n",
       "      <td>Small</td>\n",
       "      <td>North</td>\n",
       "      <td>Divorced</td>\n",
       "      <td>1</td>\n",
       "    </tr>\n",
       "    <tr>\n",
       "      <th>4</th>\n",
       "      <td>48722.236853</td>\n",
       "      <td>562.143288</td>\n",
       "      <td>9.641787</td>\n",
       "      <td>23</td>\n",
       "      <td>28</td>\n",
       "      <td>Car</td>\n",
       "      <td>Self-employed</td>\n",
       "      <td>Small</td>\n",
       "      <td>South</td>\n",
       "      <td>Single</td>\n",
       "      <td>1</td>\n",
       "    </tr>\n",
       "  </tbody>\n",
       "</table>\n",
       "</div>"
      ],
      "text/plain": [
       "   Annual_Income  Credit_Score  Employment_Length  Age  Loan_Term  \\\n",
       "0   74944.814262    505.502450          14.599966   30         28   \n",
       "1  144085.716769    483.101653           3.690240   44         14   \n",
       "2  117839.273017    396.884652           6.932794   55         27   \n",
       "3  101839.018104    633.996669          13.265613   50          1   \n",
       "4   48722.236853    562.143288           9.641787   23         28   \n",
       "\n",
       "  Loan_Purpose Employment_Status Loan_Categories Region Marital_Status  \\\n",
       "0     Personal     Self-employed          Medium   West        Married   \n",
       "1         Home          Employed           Small  South       Divorced   \n",
       "2         Home        Unemployed           Large  South         Single   \n",
       "3     Personal          Employed           Small  North       Divorced   \n",
       "4          Car     Self-employed           Small  South         Single   \n",
       "\n",
       "   Approval_Probability  \n",
       "0                     1  \n",
       "1                     1  \n",
       "2                     0  \n",
       "3                     1  \n",
       "4                     1  "
      ]
     },
     "execution_count": 4,
     "metadata": {},
     "output_type": "execute_result"
    }
   ],
   "source": [
    "df = pd.read_csv('Loan Approval Categorical Numerical Synthetic Dataset Binary Outcome.csv')\n",
    "if 'Unnamed: 0' in df.columns:\n",
    "    df = df.drop(columns=['Unnamed: 0'])\n",
    "df.head()"
   ]
  },
  {
   "cell_type": "code",
   "execution_count": 6,
   "id": "fce804c8-9515-4f22-b4d7-ead6da50048d",
   "metadata": {},
   "outputs": [],
   "source": [
    "target = \"Approval_Probability\"\n",
    "cat_feats = [\"Loan_Purpose\",\"Employment_Status\",\"Loan_Categories\",\"Region\",\"Marital_Status\"]\n",
    "num_feats = [\"Annual_Income\",\"Credit_Score\",\"Employment_Length\",\"Age\",\"Loan_Term\"]"
   ]
  },
  {
   "cell_type": "code",
   "execution_count": 8,
   "id": "82a448bb-54bd-4453-91e4-2c97514c96b0",
   "metadata": {},
   "outputs": [],
   "source": [
    "feature = cat_feats + num_feats"
   ]
  },
  {
   "cell_type": "code",
   "execution_count": 11,
   "id": "89463d7c-d47e-4edb-908d-6771a33bfaa7",
   "metadata": {},
   "outputs": [],
   "source": [
    "train_df, test_df = train_test_split(\n",
    "    df, test_size=0.3, random_state=42, stratify=df[target]\n",
    ")"
   ]
  },
  {
   "cell_type": "code",
   "execution_count": 13,
   "id": "82b4148f-e78d-404c-8719-b38188861749",
   "metadata": {},
   "outputs": [],
   "source": [
    "X_test_orignal = test_df.copy()"
   ]
  },
  {
   "cell_type": "code",
   "execution_count": 15,
   "id": "1d342aa9-e8ea-439a-8678-1f5966c1bf8d",
   "metadata": {},
   "outputs": [],
   "source": [
    "cat_dims = []\n",
    "for col in cat_feats:\n",
    "    train_df[col] = train_df[col].astype(\"category\")\n",
    "    cat_dims.append(train_df[col].nunique())\n",
    "    # ensure test has same categories:\n",
    "    test_df[col]  = pd.Categorical(test_df[col], \n",
    "                                   categories=train_df[col].cat.categories)\n",
    "    train_df[col] = train_df[col].cat.codes\n",
    "    test_df[col]  = test_df[col].cat.codes"
   ]
  },
  {
   "cell_type": "code",
   "execution_count": 17,
   "id": "9a0f3791-c727-42bf-ac84-5ca445c8d1c4",
   "metadata": {},
   "outputs": [],
   "source": [
    "scaler = StandardScaler().fit(train_df[num_feats])\n",
    "train_num = scaler.transform(train_df[num_feats])\n",
    "test_num  = scaler.transform(test_df[num_feats])\n"
   ]
  },
  {
   "cell_type": "code",
   "execution_count": 19,
   "id": "fa711a6d-7809-46ca-b897-0401c05f2afc",
   "metadata": {},
   "outputs": [],
   "source": [
    "X_train_num  = scaler.transform(train_df[num_feats])\n",
    "X_test_num   = scaler.transform(test_df[num_feats])\n",
    "y_train      = train_df[target].values.astype(float)\n",
    "y_test       = test_df[target].values.astype(float)\n",
    "X_train_cat  = train_df[cat_feats].values.astype(int)\n",
    "X_test_cat   = test_df[cat_feats].values.astype(int)"
   ]
  },
  {
   "cell_type": "code",
   "execution_count": 21,
   "id": "038b62d4-8f38-49d1-b942-f9103fa34a9d",
   "metadata": {},
   "outputs": [],
   "source": [
    "feature_name =  test_df.columns.tolist()"
   ]
  },
  {
   "cell_type": "code",
   "execution_count": 23,
   "id": "e4edbb79-8daa-4261-b787-e07f07b21e5d",
   "metadata": {},
   "outputs": [],
   "source": [
    "class MixedDataset(Dataset):\n",
    "    def __init__(self, X_num, X_cat, y):\n",
    "        self.X_num = torch.from_numpy(X_num).float()\n",
    "        self.X_cat = torch.from_numpy(X_cat).long()\n",
    "        self.y     = torch.from_numpy(y).float().unsqueeze(1)\n",
    "    def __len__(self):\n",
    "        return len(self.y)\n",
    "    def __getitem__(self, i):\n",
    "        return self.X_num[i], self.X_cat[i], self.y[i]\n",
    "\n",
    "train_ds = MixedDataset(train_num, train_df[cat_feats].values, train_df[target].values)\n",
    "test_ds  = MixedDataset(test_num,  test_df[cat_feats].values,  test_df[target].values)\n",
    "train_dl = DataLoader(train_ds, batch_size=8, shuffle=True)\n",
    "test_dl  = DataLoader(test_ds,  batch_size=8)"
   ]
  },
  {
   "cell_type": "code",
   "execution_count": 25,
   "id": "47de7000-9a32-47af-9146-24b738b4b88e",
   "metadata": {},
   "outputs": [
    {
     "name": "stderr",
     "output_type": "stream",
     "text": [
      "/opt/anaconda3/lib/python3.12/site-packages/torch/nn/modules/transformer.py:385: UserWarning: enable_nested_tensor is True, but self.use_nested_tensor is False because encoder_layer.self_attn.batch_first was not True(use batch_first for better inference performance)\n",
      "  warnings.warn(\n"
     ]
    }
   ],
   "source": [
    "class MixedTransformer(nn.Module):\n",
    "    def __init__(self, num_feats, cat_dims, d_model=32, nhead=4, layers=2):\n",
    "        super().__init__()\n",
    "\n",
    "        self.num_embeds = nn.ModuleList([nn.Linear(1, d_model) \n",
    "                                         for _ in range(num_feats)])\n",
    "\n",
    "        self.cat_embeds = nn.ModuleList([nn.Embedding(dim, d_model) \n",
    "                                         for dim in cat_dims])\n",
    "\n",
    "        total_feats = num_feats + len(cat_dims)\n",
    "        self.pos_embed  = nn.Parameter(torch.randn(total_feats, d_model))\n",
    "\n",
    "        encoder_layer = nn.TransformerEncoderLayer(d_model, nhead)\n",
    "        self.transformer = nn.TransformerEncoder(encoder_layer, layers)\n",
    "       \n",
    "        self.head = nn.Linear(d_model, 1)\n",
    "\n",
    "    def forward(self, x_num, x_cat):\n",
    "\n",
    "        num_emb = [emb(x_num[:,i].unsqueeze(-1)) \n",
    "                   for i, emb in enumerate(self.num_embeds)]\n",
    "        \n",
    "        cat_emb = [emb(x_cat[:,i]) \n",
    "                   for i, emb in enumerate(self.cat_embeds)]\n",
    "        \n",
    "        seq = torch.stack(num_emb + cat_emb, dim=1)\n",
    "        seq = seq + self.pos_embed.unsqueeze(0)\n",
    "      \n",
    "        seq = seq.permute(1, 0, 2)\n",
    "        out = self.transformer(seq)\n",
    "        \n",
    "        out = out.permute(1, 0, 2).mean(dim=1)\n",
    "        return self.head(out)  # logits\n",
    "\n",
    "device = torch.device(\"cuda\" if torch.cuda.is_available() else \"cpu\")\n",
    "model = MixedTransformer(\n",
    "    num_feats = len(num_feats),\n",
    "    cat_dims  = cat_dims,\n",
    "    d_model   = 32,\n",
    "    nhead     = 4,\n",
    "    layers    = 2\n",
    ").to(device)\n",
    "\n",
    "opt     = torch.optim.Adam(model.parameters(), lr=1e-3)\n",
    "loss_fn = nn.BCEWithLogitsLoss()"
   ]
  },
  {
   "cell_type": "code",
   "execution_count": 2,
   "id": "80d4c18a-c6a7-4bf3-a9e8-b300a9445f77",
   "metadata": {},
   "outputs": [],
   "source": [
    "for epoch in range(1, 21):\n",
    "    model.train()\n",
    "    tot = 0.0\n",
    "    for x_num, x_cat, y in train_dl:\n",
    "        x_num, x_cat, y = x_num.to(device), x_cat.to(device), y.to(device)\n",
    "        logits = model(x_num, x_cat)\n",
    "        loss   = loss_fn(logits, y)\n",
    "        opt.zero_grad(); loss.backward(); opt.step()\n",
    "        tot += loss.item() * y.size(0)\n",
    "    if epoch % 10 == 0:\n",
    "        print(f\"Epoch {epoch:02d}  Train MSE={tot/len(train_dl.dataset):.4f}\")"
   ]
  },
  {
   "cell_type": "code",
   "execution_count": 4,
   "id": "58b5d590-aeb2-43d2-83ee-5d6de5676891",
   "metadata": {},
   "outputs": [],
   "source": [
    "model.eval()\n",
    "probs, preds, trues = [], [], []\n",
    "with torch.no_grad():\n",
    "    for x_num, x_cat, y in test_dl:\n",
    "        x_num, x_cat = x_num.to(device), x_cat.to(device)\n",
    "        logit = model(x_num, x_cat).cpu()\n",
    "        p     = torch.sigmoid(logit).numpy().flatten()\n",
    "        probs.extend(p)\n",
    "        preds.extend((p>0.5).astype(int))\n",
    "        trues.extend(y.numpy().flatten().astype(int))\n",
    "\n",
    "print(\"Test  Acc:\", accuracy_score(trues, preds))\n",
    "print(\"Test  AUC:\", roc_auc_score(trues, probs))"
   ]
  },
  {
   "cell_type": "code",
   "execution_count": 31,
   "id": "00aca6b2-1136-4cc9-8d15-2d73897fc4f4",
   "metadata": {},
   "outputs": [],
   "source": [
    "preds_df = pd.DataFrame(preds, columns=['pred_label'])"
   ]
  },
  {
   "cell_type": "code",
   "execution_count": null,
   "id": "f15a1812-1491-454b-aaeb-eeb6a2750269",
   "metadata": {},
   "outputs": [],
   "source": []
  },
  {
   "cell_type": "code",
   "execution_count": 33,
   "id": "c346c304-078e-4b6a-ae05-864c12b508a3",
   "metadata": {},
   "outputs": [],
   "source": [
    "X_test_orignal = X_test_orignal.iloc[:, :-1]\n"
   ]
  },
  {
   "cell_type": "code",
   "execution_count": 35,
   "id": "d5faf233-5804-4ace-a623-049937f39000",
   "metadata": {},
   "outputs": [],
   "source": [
    "merged_df = pd.concat([\n",
    "    X_test_orignal.reset_index(drop=True),\n",
    "    preds_df.reset_index(drop=True)\n",
    "], axis=1)"
   ]
  },
  {
   "cell_type": "code",
   "execution_count": 37,
   "id": "d6ab4c70-737d-43fa-bb0f-dcefef3d24ed",
   "metadata": {},
   "outputs": [],
   "source": [
    "import numpy as np\n",
    "import matplotlib.pyplot as plt\n",
    "from scipy.stats import pointbiserialr, chi2_contingency\n"
   ]
  },
  {
   "cell_type": "code",
   "execution_count": 39,
   "id": "dd166a97-273a-4269-9cd8-785634a74a8e",
   "metadata": {},
   "outputs": [],
   "source": [
    "numeric_features = ['Annual_Income', 'Credit_Score', 'Employment_Length', 'Age', 'Loan_Term']\n",
    "categorical_features = ['Loan_Purpose', 'Employment_Status', 'Loan_Categories', 'Region', 'Marital_Status']\n",
    "target = 'pred_label'\n"
   ]
  },
  {
   "cell_type": "code",
   "execution_count": 41,
   "id": "8e7c91bc-045a-4f15-a766-6b1a3ddbcbc2",
   "metadata": {},
   "outputs": [],
   "source": [
    "def cramers_v(conf_mat):\n",
    "    chi2, _, _, _ = chi2_contingency(conf_mat)\n",
    "    n = conf_mat.values.sum()\n",
    "    r, k = conf_mat.shape\n",
    "    return np.sqrt(chi2 / (n * (min(r, k) - 1)))\n"
   ]
  },
  {
   "cell_type": "code",
   "execution_count": 43,
   "id": "043f0dc5-1f0a-4863-a568-435f34f10433",
   "metadata": {},
   "outputs": [],
   "source": [
    "\n",
    "# 3. Collect effect sizes\n",
    "records = []"
   ]
  },
  {
   "cell_type": "code",
   "execution_count": 45,
   "id": "8158f658-c280-4f11-a2e1-23bb83ea2f42",
   "metadata": {},
   "outputs": [],
   "source": [
    "for feat in numeric_features:\n",
    "    r, p = pointbiserialr(merged_df[feat], merged_df[target])\n",
    "    # if p < 0.05:\n",
    "    records.append({\n",
    "            'Feature': feat,\n",
    "            'Type': 'Numeric',\n",
    "            'p_value': p,\n",
    "            'effect_size': abs(r)\n",
    "        })\n",
    "\n",
    "for feat in categorical_features:\n",
    "    conf = pd.crosstab(merged_df[feat], merged_df[target])\n",
    "    chi2_stat, p, _, _ = chi2_contingency(conf)\n",
    "    # if p < 0.05:\n",
    "    v = cramers_v(conf)\n",
    "    records.append({\n",
    "            'Feature': feat,\n",
    "            'Type': 'Categorical',\n",
    "            'p_value': p,\n",
    "            'effect_size': v\n",
    "        })\n"
   ]
  },
  {
   "cell_type": "code",
   "execution_count": 49,
   "id": "eb898638-be45-4e25-9c5f-4ef0ced7a4e8",
   "metadata": {},
   "outputs": [
    {
     "data": {
      "text/html": [
       "<div>\n",
       "<style scoped>\n",
       "    .dataframe tbody tr th:only-of-type {\n",
       "        vertical-align: middle;\n",
       "    }\n",
       "\n",
       "    .dataframe tbody tr th {\n",
       "        vertical-align: top;\n",
       "    }\n",
       "\n",
       "    .dataframe thead th {\n",
       "        text-align: right;\n",
       "    }\n",
       "</style>\n",
       "<table border=\"1\" class=\"dataframe\">\n",
       "  <thead>\n",
       "    <tr style=\"text-align: right;\">\n",
       "      <th></th>\n",
       "      <th>Feature</th>\n",
       "      <th>Type</th>\n",
       "      <th>p_value</th>\n",
       "      <th>effect_size</th>\n",
       "    </tr>\n",
       "  </thead>\n",
       "  <tbody>\n",
       "    <tr>\n",
       "      <th>0</th>\n",
       "      <td>Employment_Status</td>\n",
       "      <td>Categorical</td>\n",
       "      <td>3.293927e-146</td>\n",
       "      <td>0.472571</td>\n",
       "    </tr>\n",
       "    <tr>\n",
       "      <th>1</th>\n",
       "      <td>Annual_Income</td>\n",
       "      <td>Numeric</td>\n",
       "      <td>6.421414e-145</td>\n",
       "      <td>0.443676</td>\n",
       "    </tr>\n",
       "    <tr>\n",
       "      <th>2</th>\n",
       "      <td>Credit_Score</td>\n",
       "      <td>Numeric</td>\n",
       "      <td>4.111203e-105</td>\n",
       "      <td>0.382479</td>\n",
       "    </tr>\n",
       "    <tr>\n",
       "      <th>3</th>\n",
       "      <td>Loan_Categories</td>\n",
       "      <td>Categorical</td>\n",
       "      <td>5.410680e-73</td>\n",
       "      <td>0.333067</td>\n",
       "    </tr>\n",
       "    <tr>\n",
       "      <th>4</th>\n",
       "      <td>Loan_Purpose</td>\n",
       "      <td>Categorical</td>\n",
       "      <td>9.662437e-08</td>\n",
       "      <td>0.103770</td>\n",
       "    </tr>\n",
       "    <tr>\n",
       "      <th>5</th>\n",
       "      <td>Employment_Length</td>\n",
       "      <td>Numeric</td>\n",
       "      <td>2.778349e-02</td>\n",
       "      <td>0.040173</td>\n",
       "    </tr>\n",
       "    <tr>\n",
       "      <th>6</th>\n",
       "      <td>Marital_Status</td>\n",
       "      <td>Categorical</td>\n",
       "      <td>2.578788e-01</td>\n",
       "      <td>0.030058</td>\n",
       "    </tr>\n",
       "    <tr>\n",
       "      <th>7</th>\n",
       "      <td>Age</td>\n",
       "      <td>Numeric</td>\n",
       "      <td>1.674743e-01</td>\n",
       "      <td>0.025208</td>\n",
       "    </tr>\n",
       "    <tr>\n",
       "      <th>8</th>\n",
       "      <td>Region</td>\n",
       "      <td>Categorical</td>\n",
       "      <td>6.625999e-01</td>\n",
       "      <td>0.022992</td>\n",
       "    </tr>\n",
       "    <tr>\n",
       "      <th>9</th>\n",
       "      <td>Loan_Term</td>\n",
       "      <td>Numeric</td>\n",
       "      <td>6.740339e-01</td>\n",
       "      <td>0.007682</td>\n",
       "    </tr>\n",
       "  </tbody>\n",
       "</table>\n",
       "</div>"
      ],
      "text/plain": [
       "             Feature         Type        p_value  effect_size\n",
       "0  Employment_Status  Categorical  3.293927e-146     0.472571\n",
       "1      Annual_Income      Numeric  6.421414e-145     0.443676\n",
       "2       Credit_Score      Numeric  4.111203e-105     0.382479\n",
       "3    Loan_Categories  Categorical   5.410680e-73     0.333067\n",
       "4       Loan_Purpose  Categorical   9.662437e-08     0.103770\n",
       "5  Employment_Length      Numeric   2.778349e-02     0.040173\n",
       "6     Marital_Status  Categorical   2.578788e-01     0.030058\n",
       "7                Age      Numeric   1.674743e-01     0.025208\n",
       "8             Region  Categorical   6.625999e-01     0.022992\n",
       "9          Loan_Term      Numeric   6.740339e-01     0.007682"
      ]
     },
     "metadata": {},
     "output_type": "display_data"
    }
   ],
   "source": [
    "# if not records:\n",
    "#     print(\"No features reached p < 0.05.\")\n",
    "# else:\n",
    "eff_df = pd.DataFrame(records)\n",
    "eff_df = eff_df.sort_values('effect_size', ascending=False).reset_index(drop=True)\n",
    "    \n",
    "    # 5. Display ranked features\n",
    "display(eff_df[['Feature', 'Type', 'p_value', 'effect_size']])\n",
    "    "
   ]
  },
  {
   "cell_type": "code",
   "execution_count": 41,
   "id": "d4830496-4801-4516-8f37-1f021772b084",
   "metadata": {},
   "outputs": [
    {
     "data": {
      "image/png": "[encoded data removed]",
      "text/plain": [
       "<Figure size 800x600 with 1 Axes>"
      ]
     },
     "metadata": {},
     "output_type": "display_data"
    }
   ],
   "source": [
    "plt.figure(figsize=(8, 6))\n",
    "plt.barh(eff_df['Feature'], eff_df['effect_size'], color='skyblue')\n",
    "plt.xlabel(\"Effect Size\")\n",
    "plt.title(\"Ranked Effect Sizes for Significant Features (p < 0.05)\")\n",
    "plt.gca().invert_yaxis()  # largest effect at top\n",
    "plt.grid(axis='x', linestyle='--', alpha=0.6)\n",
    "plt.tight_layout()\n",
    "plt.show()"
   ]
  },
  {
   "cell_type": "code",
   "execution_count": 43,
   "id": "d30f7b4d-af65-463b-b78b-cfc357663792",
   "metadata": {},
   "outputs": [],
   "source": [
    "def compute_metrics(GT, R):\n",
    "    # True Positives, False Positives, False Negatives\n",
    "    TP = GT & R\n",
    "    FP = R - GT\n",
    "    FN = GT - R\n",
    "    \n",
    "    # Counts\n",
    "    tp, fp, fn = len(TP), len(FP), len(FN)\n",
    "    \n",
    "    # Metrics\n",
    "    precision = tp / (tp + fp) if (tp + fp) > 0 else 0\n",
    "    recall = tp / len(GT) if len(GT) > 0 else 0\n",
    "    fdr = fp / (tp + fp) if (tp + fp) > 0 else 0\n",
    "    \n",
    "    return {\n",
    "        'TP': TP, 'FP': FP, 'FN': FN,\n",
    "        'Precision': precision,\n",
    "        'Recall': recall,\n",
    "        'FDR': fdr\n",
    "    }\n",
    "\n",
    "\n",
    "GT = {\"annual_income\", \"credit_score\",\"Employment_Status\",\"Loan_Categories\",\"Loan_Purpose\"}\n",
    "R  = {\"Employment_Status\",\n",
    "      \"annual_income\",\n",
    "      \"credit_score\",\n",
    "      \"Loan_Categories\",\n",
    "      \"Loan_Purpose\",\n",
    "      \"Marital_Status\",\n",
    "     \"Employment_Length\"}"
   ]
  },
  {
   "cell_type": "code",
   "execution_count": 45,
   "id": "2e2026fc-4ed4-491f-bd39-f32713b8e43b",
   "metadata": {},
   "outputs": [],
   "source": [
    "metrics = compute_metrics(GT, R)"
   ]
  },
  {
   "cell_type": "code",
   "execution_count": 47,
   "id": "63067095-b29a-4ba9-94f0-c41142ca9a78",
   "metadata": {},
   "outputs": [
    {
     "name": "stdout",
     "output_type": "stream",
     "text": [
      "True Positives (TP): {'Loan_Categories', 'Loan_Purpose', 'Employment_Status', 'credit_score', 'annual_income'}\n",
      "False Positives (FP): {'Marital_Status', 'Employment_Length'}\n",
      "False Negatives (FN): set()\n",
      "Precision: 0.714\n",
      "Recall:    1.000\n",
      "FDR:       0.286\n"
     ]
    }
   ],
   "source": [
    "print(\"True Positives (TP):\", metrics['TP'])\n",
    "print(\"False Positives (FP):\", metrics['FP'])\n",
    "print(\"False Negatives (FN):\", metrics['FN'])\n",
    "print(f\"Precision: {metrics['Precision']:.3f}\")\n",
    "print(f\"Recall:    {metrics['Recall']:.3f}\")\n",
    "print(f\"FDR:       {metrics['FDR']:.3f}\")"
   ]
  },
  {
   "cell_type": "code",
   "execution_count": 93,
   "id": "b06d983d-4491-4267-8c45-fca474d4532d",
   "metadata": {},
   "outputs": [],
   "source": [
    "metrics = compute_metrics(GT, R)"
   ]
  },
  {
   "cell_type": "code",
   "execution_count": 95,
   "id": "df4d019c-4175-46ec-8d5c-66052cd62bd5",
   "metadata": {},
   "outputs": [
    {
     "name": "stdout",
     "output_type": "stream",
     "text": [
      "True Positives (TP): {'Loan_Categories', 'Loan_Purpose', 'Employment_Status', 'credit_score', 'annual_income'}\n",
      "False Positives (FP): {'Age'}\n",
      "False Negatives (FN): set()\n",
      "Precision: 0.833\n",
      "Recall:    1.000\n",
      "FDR:       0.167\n"
     ]
    }
   ],
   "source": [
    "print(\"True Positives (TP):\", metrics['TP'])\n",
    "print(\"False Positives (FP):\", metrics['FP'])\n",
    "print(\"False Negatives (FN):\", metrics['FN'])\n",
    "print(f\"Precision: {metrics['Precision']:.3f}\")\n",
    "print(f\"Recall:    {metrics['Recall']:.3f}\")\n",
    "print(f\"FDR:       {metrics['FDR']:.3f}\")"
   ]
  },
  {
   "cell_type": "code",
   "execution_count": null,
   "id": "d2be66b0-014f-4400-9b48-e889559a54f7",
   "metadata": {},
   "outputs": [],
   "source": []
  },
  {
   "cell_type": "code",
   "execution_count": 30,
   "id": "fa5452fd-36dd-4109-8771-6887a278d3c0",
   "metadata": {},
   "outputs": [],
   "source": [
    "import shap\n",
    "import numpy as np\n",
    "import psutil\n",
    "import os\n",
    "import torch.optim as optim\n",
    "import matplotlib.pyplot as plt"
   ]
  },
  {
   "cell_type": "code",
   "execution_count": 36,
   "id": "b66988b8-8890-489c-b76f-6595b0939337",
   "metadata": {},
   "outputs": [],
   "source": [
    "X_train_all = np.hstack([X_train_num, X_train_cat])\n",
    "X_test_all  = np.hstack([X_test_num,  X_test_cat])\n"
   ]
  },
  {
   "cell_type": "code",
   "execution_count": 63,
   "id": "98ecf08d-7dfd-4b45-b4c3-733e958f0bb8",
   "metadata": {},
   "outputs": [],
   "source": [
    "features = ['Annual_Income',\n",
    " 'Credit_Score',\n",
    " 'Employment_Length',\n",
    " 'Age',\n",
    " 'Loan_Term',\n",
    " 'Loan_Purpose_Car',\n",
    " 'Loan_Purpose_Home',\n",
    " 'Loan_Purpose_Personal',\n",
    " 'Employment_Status_Employed',\n",
    " 'Employment_Status_Self-employed',\n",
    " 'Employment_Status_Unemployed',\n",
    " 'Loan_Categories_Large',\n",
    " 'Loan_Categories_Medium',\n",
    " 'Loan_Categories_Small',\n",
    " 'Region_East',\n",
    " 'Region_North',\n",
    " 'Region_South',\n",
    " 'Region_West',\n",
    " 'Marital_Status_Divorced',\n",
    " 'Marital_Status_Married',\n",
    " 'Marital_Status_Single']"
   ]
  },
  {
   "cell_type": "code",
   "execution_count": null,
   "id": "6872879d-53be-45b8-8bf9-6be0894105c1",
   "metadata": {},
   "outputs": [],
   "source": []
  },
  {
   "cell_type": "code",
   "execution_count": 38,
   "id": "92eec6de-046e-45d4-8d44-0661c7013764",
   "metadata": {},
   "outputs": [],
   "source": [
    "def predict_proba_np(x_np):\n",
    "    \"\"\"\n",
    "    x_np: (batch,10) array: first 5 numerics, then 5 ints\n",
    "    returns: (batch,) positive‐class probabilities\n",
    "    \"\"\"\n",
    "    model.eval()\n",
    "    with torch.no_grad():\n",
    "        # split\n",
    "        x_num = torch.from_numpy(x_np[:,:5]).float().to(device)\n",
    "        x_cat = torch.from_numpy(x_np[:,5:].astype(int)).long().to(device)\n",
    "        logits= model(x_num, x_cat)\n",
    "        probs = torch.sigmoid(logits).cpu().numpy().flatten()\n",
    "    return probs\n"
   ]
  },
  {
   "cell_type": "code",
   "execution_count": 40,
   "id": "0ab23dda-21e5-411b-b210-ca358b124109",
   "metadata": {},
   "outputs": [
    {
     "name": "stderr",
     "output_type": "stream",
     "text": [
      "Using 200 background data samples could cause slower run times. Consider using shap.sample(data, K) or shap.kmeans(data, K) to summarize the background as K samples.\n"
     ]
    }
   ],
   "source": [
    "bg_size    = 200\n",
    "bg_indices = np.random.choice(len(X_train_all), size=bg_size, replace=False)\n",
    "background = X_train_all[bg_indices]  # (200,10)\n",
    "explainer  = shap.KernelExplainer(predict_proba_np, background)"
   ]
  },
  {
   "cell_type": "code",
   "execution_count": 42,
   "id": "3ea6b667-5eca-41bf-b557-9af4a2dcba45",
   "metadata": {},
   "outputs": [
    {
     "name": "stdout",
     "output_type": "stream",
     "text": [
      "Batch 0-512: free RAM 3.17 GB\n"
     ]
    },
    {
     "data": {
      "application/vnd.jupyter.widget-view+json": {
       "model_id": "0c515e482a924c8abf13c96a269a1987",
       "version_major": 2,
       "version_minor": 0
      },
      "text/plain": [
       "  0%|          | 0/512 [00:00<?, ?it/s]"
      ]
     },
     "metadata": {},
     "output_type": "display_data"
    },
    {
     "name": "stdout",
     "output_type": "stream",
     "text": [
      "Batch 512-1024: free RAM 4.81 GB\n"
     ]
    },
    {
     "data": {
      "application/vnd.jupyter.widget-view+json": {
       "model_id": "d1901340c4774e4fb1da3c2730c86a3c",
       "version_major": 2,
       "version_minor": 0
      },
      "text/plain": [
       "  0%|          | 0/512 [00:00<?, ?it/s]"
      ]
     },
     "metadata": {},
     "output_type": "display_data"
    },
    {
     "name": "stdout",
     "output_type": "stream",
     "text": [
      "Batch 1024-1536: free RAM 5.59 GB\n"
     ]
    },
    {
     "data": {
      "application/vnd.jupyter.widget-view+json": {
       "model_id": "703404eacbe245b8b56b18f0ff623735",
       "version_major": 2,
       "version_minor": 0
      },
      "text/plain": [
       "  0%|          | 0/512 [00:00<?, ?it/s]"
      ]
     },
     "metadata": {},
     "output_type": "display_data"
    },
    {
     "name": "stdout",
     "output_type": "stream",
     "text": [
      "Batch 1536-2048: free RAM 5.60 GB\n"
     ]
    },
    {
     "data": {
      "application/vnd.jupyter.widget-view+json": {
       "model_id": "a8c1bc9ee3ec4016823ad9313b6dbcf1",
       "version_major": 2,
       "version_minor": 0
      },
      "text/plain": [
       "  0%|          | 0/512 [00:00<?, ?it/s]"
      ]
     },
     "metadata": {},
     "output_type": "display_data"
    },
    {
     "name": "stdout",
     "output_type": "stream",
     "text": [
      "Batch 2048-2560: free RAM 5.74 GB\n"
     ]
    },
    {
     "data": {
      "application/vnd.jupyter.widget-view+json": {
       "model_id": "d7f2330ff2e1486ca574f2c26cfdd3db",
       "version_major": 2,
       "version_minor": 0
      },
      "text/plain": [
       "  0%|          | 0/512 [00:00<?, ?it/s]"
      ]
     },
     "metadata": {},
     "output_type": "display_data"
    },
    {
     "name": "stdout",
     "output_type": "stream",
     "text": [
      "Batch 2560-3000: free RAM 5.11 GB\n"
     ]
    },
    {
     "data": {
      "application/vnd.jupyter.widget-view+json": {
       "model_id": "599619b4b8a04eb9af959e90b9678a1d",
       "version_major": 2,
       "version_minor": 0
      },
      "text/plain": [
       "  0%|          | 0/440 [00:00<?, ?it/s]"
      ]
     },
     "metadata": {},
     "output_type": "display_data"
    }
   ],
   "source": [
    "batch_size = 512\n",
    "all_shap   = []\n",
    "for start in range(0, len(X_test_all), batch_size):\n",
    "    end    = min(start + batch_size, len(X_test_all))\n",
    "    Xb_np  = X_test_all[start:end]\n",
    "    mem    = psutil.virtual_memory()\n",
    "    print(f\"Batch {start}-{end}: free RAM {mem.available/1e9:.2f} GB\")\n",
    "    sv     = explainer.shap_values(Xb_np, nsamples=100)  # (batch,10)\n",
    "    all_shap.append(sv)"
   ]
  },
  {
   "cell_type": "code",
   "execution_count": 44,
   "id": "124ac571-381d-417a-bff4-e20d61b1f896",
   "metadata": {},
   "outputs": [],
   "source": [
    "all_shap_values = np.vstack(all_shap)"
   ]
  },
  {
   "cell_type": "code",
   "execution_count": 74,
   "id": "e4510ec2-27ff-48af-a3cd-8ba9117d800d",
   "metadata": {},
   "outputs": [
    {
     "name": "stdout",
     "output_type": "stream",
     "text": [
      "Mean |SHAP value| per feature:\n",
      "Region               0.005381\n",
      "Loan_Term            0.006824\n",
      "Loan_Categories      0.007147\n",
      "Marital_Status       0.009090\n",
      "Age                  0.011059\n",
      "Annual_Income        0.053851\n",
      "Employment_Length    0.129285\n",
      "Employment_Status    0.138956\n",
      "Loan_Purpose         0.181798\n",
      "Credit_Score         0.209871\n",
      "dtype: float64\n"
     ]
    }
   ],
   "source": [
    "mean_abs = pd.Series(\n",
    "    np.abs(all_shap_values).mean(axis=0),\n",
    "    index=feature\n",
    ").sort_values()\n",
    "\n",
    "# Print the values\n",
    "print(\"Mean |SHAP value| per feature:\")\n",
    "print(mean_abs)"
   ]
  },
  {
   "cell_type": "code",
   "execution_count": 78,
   "id": "b21e4ad9-dedb-4ee7-998f-5b924d954500",
   "metadata": {},
   "outputs": [
    {
     "data": {
      "image/png": "[encoded data removed]",
      "text/plain": [
       "<Figure size 800x500 with 1 Axes>"
      ]
     },
     "metadata": {},
     "output_type": "display_data"
    }
   ],
   "source": [
    "os.makedirs(\"shap\", exist_ok=True)\n",
    "plt.figure(figsize=(8,5))\n",
    "mean_abs.plot.barh()\n",
    "plt.xlabel(\"Mean |SHAP value|\")\n",
    "plt.title(\"Mean absolute SHAP — Mixed Transformer regression inputs\")\n",
    "plt.tight_layout()\n",
    "plt.savefig(\"shap/MixedTransformer_regression_shap_summary.jpg\", dpi=300)\n",
    "plt.show()"
   ]
  },
  {
   "cell_type": "code",
   "execution_count": 80,
   "id": "c5eb1413-2b89-4d4c-a0ee-416de9fe445a",
   "metadata": {},
   "outputs": [],
   "source": [
    "def compute_metrics(GT, R):\n",
    "    # True Positives, False Positives, False Negatives\n",
    "    TP = GT & R\n",
    "    FP = R - GT\n",
    "    FN = GT - R\n",
    "    \n",
    "    # Counts\n",
    "    tp, fp, fn = len(TP), len(FP), len(FN)\n",
    "    \n",
    "    # Metrics\n",
    "    precision = tp / (tp + fp) if (tp + fp) > 0 else 0\n",
    "    recall = tp / len(GT) if len(GT) > 0 else 0\n",
    "    fdr = fp / (tp + fp) if (tp + fp) > 0 else 0\n",
    "    \n",
    "    return {\n",
    "        'TP': TP, 'FP': FP, 'FN': FN,\n",
    "        'Precision': precision,\n",
    "        'Recall': recall,\n",
    "        'FDR': fdr\n",
    "    }\n",
    "\n",
    "\n",
    "GT = {\"annual_income\", \"credit_score\",\"Employment_Status\",\"Loan_Categories\",\"Loan_Purpose\"}\n",
    "R  = {\"Region\",\n",
    "      \"Loan_Purpose\",\n",
    "        \"Loan_Categories\",\n",
    "        \"Loan_Categories\",\n",
    "        \"Marital_Status\",\n",
    "        \"Age\",\n",
    "        \"Annual_Income\",\n",
    "     \"Employment_Length\",\n",
    "    \"Employment_Status\",\n",
    "    \"Loan_Purpose\",\n",
    "     \"Credit_Score\"}"
   ]
  },
  {
   "cell_type": "code",
   "execution_count": 82,
   "id": "98d9ba34-0740-4a4e-a96b-2538c8e30540",
   "metadata": {},
   "outputs": [],
   "source": [
    "metrics = compute_metrics(GT, R)"
   ]
  },
  {
   "cell_type": "code",
   "execution_count": 84,
   "id": "c23f9a15-1421-4136-a89c-fcee5d57b357",
   "metadata": {},
   "outputs": [
    {
     "name": "stdout",
     "output_type": "stream",
     "text": [
      "True Positives (TP): {'Employment_Status', 'Loan_Purpose', 'Loan_Categories'}\n",
      "False Positives (FP): {'Age', 'Region', 'Annual_Income', 'Employment_Length', 'Credit_Score', 'Marital_Status'}\n",
      "False Negatives (FN): {'credit_score', 'annual_income'}\n",
      "Precision: 0.333\n",
      "Recall:    0.600\n",
      "FDR:       0.667\n"
     ]
    }
   ],
   "source": [
    "print(\"True Positives (TP):\", metrics['TP'])\n",
    "print(\"False Positives (FP):\", metrics['FP'])\n",
    "print(\"False Negatives (FN):\", metrics['FN'])\n",
    "print(f\"Precision: {metrics['Precision']:.3f}\")\n",
    "print(f\"Recall:    {metrics['Recall']:.3f}\")\n",
    "print(f\"FDR:       {metrics['FDR']:.3f}\")"
   ]
  },
  {
   "cell_type": "code",
   "execution_count": null,
   "id": "04d317af-5a79-4232-a324-813cee7fd426",
   "metadata": {},
   "outputs": [],
   "source": []
  }
 ],
 "metadata": {
  "kernelspec": {
   "display_name": "Python [conda env:base] *",
   "language": "python",
   "name": "conda-base-py"
  },
  "language_info": {
   "codemirror_mode": {
    "name": "ipython",
    "version": 3
   },
   "file_extension": ".py",
   "mimetype": "text/x-python",
   "name": "python",
   "nbconvert_exporter": "python",
   "pygments_lexer": "ipython3",
   "version": "3.12.7"
  }
 },
 "nbformat": 4,
 "nbformat_minor": 5
}

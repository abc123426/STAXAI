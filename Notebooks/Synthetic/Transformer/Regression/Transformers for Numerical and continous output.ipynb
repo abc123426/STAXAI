{
 "cells": [
  {
   "cell_type": "code",
   "execution_count": 2,
   "id": "b73d3b6b-329f-4831-a057-1d076a4ebc78",
   "metadata": {},
   "outputs": [],
   "source": [
    "import pandas as pd\n",
    "import numpy as np\n",
    "from sklearn.model_selection import train_test_split\n",
    "from sklearn.preprocessing import StandardScaler\n",
    "import torch\n",
    "import torch.nn as nn\n",
    "from torch.utils.data import Dataset, DataLoader\n",
    "import matplotlib.pyplot as plt"
   ]
  },
  {
   "cell_type": "code",
   "execution_count": 4,
   "id": "102257f8-1598-4035-b76a-dd3988945bed",
   "metadata": {},
   "outputs": [],
   "source": [
    "data = pd.read_csv('Numerical Features Continous Outcome.csv')"
   ]
  },
  {
   "cell_type": "code",
   "execution_count": 6,
   "id": "ab70eebf-e353-430d-946b-c5b60bad7ee1",
   "metadata": {},
   "outputs": [
    {
     "data": {
      "text/html": [
       "<div>\n",
       "<style scoped>\n",
       "    .dataframe tbody tr th:only-of-type {\n",
       "        vertical-align: middle;\n",
       "    }\n",
       "\n",
       "    .dataframe tbody tr th {\n",
       "        vertical-align: top;\n",
       "    }\n",
       "\n",
       "    .dataframe thead th {\n",
       "        text-align: right;\n",
       "    }\n",
       "</style>\n",
       "<table border=\"1\" class=\"dataframe\">\n",
       "  <thead>\n",
       "    <tr style=\"text-align: right;\">\n",
       "      <th></th>\n",
       "      <th>Unnamed: 0</th>\n",
       "      <th>Annual_Income</th>\n",
       "      <th>Credit_Score</th>\n",
       "      <th>Debt_to_Income</th>\n",
       "      <th>Employment_Length</th>\n",
       "      <th>Age</th>\n",
       "      <th>Loan_Approval</th>\n",
       "    </tr>\n",
       "  </thead>\n",
       "  <tbody>\n",
       "    <tr>\n",
       "      <th>0</th>\n",
       "      <td>0</td>\n",
       "      <td>65581.311290</td>\n",
       "      <td>505.502450</td>\n",
       "      <td>0.729998</td>\n",
       "      <td>12.762891</td>\n",
       "      <td>73</td>\n",
       "      <td>0.476365</td>\n",
       "    </tr>\n",
       "    <tr>\n",
       "      <th>1</th>\n",
       "      <td>1</td>\n",
       "      <td>120317.859109</td>\n",
       "      <td>483.101653</td>\n",
       "      <td>0.184512</td>\n",
       "      <td>9.185849</td>\n",
       "      <td>38</td>\n",
       "      <td>0.507581</td>\n",
       "    </tr>\n",
       "    <tr>\n",
       "      <th>2</th>\n",
       "      <td>2</td>\n",
       "      <td>99539.424472</td>\n",
       "      <td>396.884652</td>\n",
       "      <td>0.346640</td>\n",
       "      <td>19.289970</td>\n",
       "      <td>18</td>\n",
       "      <td>0.387672</td>\n",
       "    </tr>\n",
       "    <tr>\n",
       "      <th>3</th>\n",
       "      <td>3</td>\n",
       "      <td>86872.555999</td>\n",
       "      <td>633.996669</td>\n",
       "      <td>0.663281</td>\n",
       "      <td>4.379569</td>\n",
       "      <td>69</td>\n",
       "      <td>0.677483</td>\n",
       "    </tr>\n",
       "    <tr>\n",
       "      <th>4</th>\n",
       "      <td>4</td>\n",
       "      <td>44821.770842</td>\n",
       "      <td>562.143288</td>\n",
       "      <td>0.482089</td>\n",
       "      <td>11.757128</td>\n",
       "      <td>20</td>\n",
       "      <td>0.306824</td>\n",
       "    </tr>\n",
       "    <tr>\n",
       "      <th>...</th>\n",
       "      <td>...</td>\n",
       "      <td>...</td>\n",
       "      <td>...</td>\n",
       "      <td>...</td>\n",
       "      <td>...</td>\n",
       "      <td>...</td>\n",
       "      <td>...</td>\n",
       "    </tr>\n",
       "    <tr>\n",
       "      <th>9995</th>\n",
       "      <td>9995</td>\n",
       "      <td>111477.318883</td>\n",
       "      <td>782.371246</td>\n",
       "      <td>0.952275</td>\n",
       "      <td>15.080678</td>\n",
       "      <td>39</td>\n",
       "      <td>0.916532</td>\n",
       "    </tr>\n",
       "    <tr>\n",
       "      <th>9996</th>\n",
       "      <td>9996</td>\n",
       "      <td>115263.339335</td>\n",
       "      <td>325.747676</td>\n",
       "      <td>0.747824</td>\n",
       "      <td>15.290539</td>\n",
       "      <td>40</td>\n",
       "      <td>0.594636</td>\n",
       "    </tr>\n",
       "    <tr>\n",
       "      <th>9997</th>\n",
       "      <td>9997</td>\n",
       "      <td>119937.251928</td>\n",
       "      <td>467.034158</td>\n",
       "      <td>0.019456</td>\n",
       "      <td>5.391389</td>\n",
       "      <td>69</td>\n",
       "      <td>0.413762</td>\n",
       "    </tr>\n",
       "    <tr>\n",
       "      <th>9998</th>\n",
       "      <td>9998</td>\n",
       "      <td>67761.359280</td>\n",
       "      <td>543.826004</td>\n",
       "      <td>0.401005</td>\n",
       "      <td>8.686395</td>\n",
       "      <td>53</td>\n",
       "      <td>0.373033</td>\n",
       "    </tr>\n",
       "    <tr>\n",
       "      <th>9999</th>\n",
       "      <td>9999</td>\n",
       "      <td>50628.338384</td>\n",
       "      <td>394.745648</td>\n",
       "      <td>0.257398</td>\n",
       "      <td>9.748474</td>\n",
       "      <td>39</td>\n",
       "      <td>0.150010</td>\n",
       "    </tr>\n",
       "  </tbody>\n",
       "</table>\n",
       "<p>10000 rows × 7 columns</p>\n",
       "</div>"
      ],
      "text/plain": [
       "      Unnamed: 0  Annual_Income  Credit_Score  Debt_to_Income  \\\n",
       "0              0   65581.311290    505.502450        0.729998   \n",
       "1              1  120317.859109    483.101653        0.184512   \n",
       "2              2   99539.424472    396.884652        0.346640   \n",
       "3              3   86872.555999    633.996669        0.663281   \n",
       "4              4   44821.770842    562.143288        0.482089   \n",
       "...          ...            ...           ...             ...   \n",
       "9995        9995  111477.318883    782.371246        0.952275   \n",
       "9996        9996  115263.339335    325.747676        0.747824   \n",
       "9997        9997  119937.251928    467.034158        0.019456   \n",
       "9998        9998   67761.359280    543.826004        0.401005   \n",
       "9999        9999   50628.338384    394.745648        0.257398   \n",
       "\n",
       "      Employment_Length  Age  Loan_Approval  \n",
       "0             12.762891   73       0.476365  \n",
       "1              9.185849   38       0.507581  \n",
       "2             19.289970   18       0.387672  \n",
       "3              4.379569   69       0.677483  \n",
       "4             11.757128   20       0.306824  \n",
       "...                 ...  ...            ...  \n",
       "9995          15.080678   39       0.916532  \n",
       "9996          15.290539   40       0.594636  \n",
       "9997           5.391389   69       0.413762  \n",
       "9998           8.686395   53       0.373033  \n",
       "9999           9.748474   39       0.150010  \n",
       "\n",
       "[10000 rows x 7 columns]"
      ]
     },
     "execution_count": 6,
     "metadata": {},
     "output_type": "execute_result"
    }
   ],
   "source": [
    "data"
   ]
  },
  {
   "cell_type": "code",
   "execution_count": 8,
   "id": "e0f3950a-1e2c-4423-81af-a1a4a877535f",
   "metadata": {},
   "outputs": [],
   "source": [
    "data = data.drop(data.columns[[0]], axis=1)"
   ]
  },
  {
   "cell_type": "code",
   "execution_count": 10,
   "id": "6f7229a2-396b-469a-9368-e30c0fad8e91",
   "metadata": {},
   "outputs": [
    {
     "data": {
      "text/html": [
       "<div>\n",
       "<style scoped>\n",
       "    .dataframe tbody tr th:only-of-type {\n",
       "        vertical-align: middle;\n",
       "    }\n",
       "\n",
       "    .dataframe tbody tr th {\n",
       "        vertical-align: top;\n",
       "    }\n",
       "\n",
       "    .dataframe thead th {\n",
       "        text-align: right;\n",
       "    }\n",
       "</style>\n",
       "<table border=\"1\" class=\"dataframe\">\n",
       "  <thead>\n",
       "    <tr style=\"text-align: right;\">\n",
       "      <th></th>\n",
       "      <th>Annual_Income</th>\n",
       "      <th>Credit_Score</th>\n",
       "      <th>Debt_to_Income</th>\n",
       "      <th>Employment_Length</th>\n",
       "      <th>Age</th>\n",
       "      <th>Loan_Approval</th>\n",
       "    </tr>\n",
       "  </thead>\n",
       "  <tbody>\n",
       "    <tr>\n",
       "      <th>0</th>\n",
       "      <td>65581.311290</td>\n",
       "      <td>505.502450</td>\n",
       "      <td>0.729998</td>\n",
       "      <td>12.762891</td>\n",
       "      <td>73</td>\n",
       "      <td>0.476365</td>\n",
       "    </tr>\n",
       "    <tr>\n",
       "      <th>1</th>\n",
       "      <td>120317.859109</td>\n",
       "      <td>483.101653</td>\n",
       "      <td>0.184512</td>\n",
       "      <td>9.185849</td>\n",
       "      <td>38</td>\n",
       "      <td>0.507581</td>\n",
       "    </tr>\n",
       "    <tr>\n",
       "      <th>2</th>\n",
       "      <td>99539.424472</td>\n",
       "      <td>396.884652</td>\n",
       "      <td>0.346640</td>\n",
       "      <td>19.289970</td>\n",
       "      <td>18</td>\n",
       "      <td>0.387672</td>\n",
       "    </tr>\n",
       "    <tr>\n",
       "      <th>3</th>\n",
       "      <td>86872.555999</td>\n",
       "      <td>633.996669</td>\n",
       "      <td>0.663281</td>\n",
       "      <td>4.379569</td>\n",
       "      <td>69</td>\n",
       "      <td>0.677483</td>\n",
       "    </tr>\n",
       "    <tr>\n",
       "      <th>4</th>\n",
       "      <td>44821.770842</td>\n",
       "      <td>562.143288</td>\n",
       "      <td>0.482089</td>\n",
       "      <td>11.757128</td>\n",
       "      <td>20</td>\n",
       "      <td>0.306824</td>\n",
       "    </tr>\n",
       "    <tr>\n",
       "      <th>...</th>\n",
       "      <td>...</td>\n",
       "      <td>...</td>\n",
       "      <td>...</td>\n",
       "      <td>...</td>\n",
       "      <td>...</td>\n",
       "      <td>...</td>\n",
       "    </tr>\n",
       "    <tr>\n",
       "      <th>9995</th>\n",
       "      <td>111477.318883</td>\n",
       "      <td>782.371246</td>\n",
       "      <td>0.952275</td>\n",
       "      <td>15.080678</td>\n",
       "      <td>39</td>\n",
       "      <td>0.916532</td>\n",
       "    </tr>\n",
       "    <tr>\n",
       "      <th>9996</th>\n",
       "      <td>115263.339335</td>\n",
       "      <td>325.747676</td>\n",
       "      <td>0.747824</td>\n",
       "      <td>15.290539</td>\n",
       "      <td>40</td>\n",
       "      <td>0.594636</td>\n",
       "    </tr>\n",
       "    <tr>\n",
       "      <th>9997</th>\n",
       "      <td>119937.251928</td>\n",
       "      <td>467.034158</td>\n",
       "      <td>0.019456</td>\n",
       "      <td>5.391389</td>\n",
       "      <td>69</td>\n",
       "      <td>0.413762</td>\n",
       "    </tr>\n",
       "    <tr>\n",
       "      <th>9998</th>\n",
       "      <td>67761.359280</td>\n",
       "      <td>543.826004</td>\n",
       "      <td>0.401005</td>\n",
       "      <td>8.686395</td>\n",
       "      <td>53</td>\n",
       "      <td>0.373033</td>\n",
       "    </tr>\n",
       "    <tr>\n",
       "      <th>9999</th>\n",
       "      <td>50628.338384</td>\n",
       "      <td>394.745648</td>\n",
       "      <td>0.257398</td>\n",
       "      <td>9.748474</td>\n",
       "      <td>39</td>\n",
       "      <td>0.150010</td>\n",
       "    </tr>\n",
       "  </tbody>\n",
       "</table>\n",
       "<p>10000 rows × 6 columns</p>\n",
       "</div>"
      ],
      "text/plain": [
       "      Annual_Income  Credit_Score  Debt_to_Income  Employment_Length  Age  \\\n",
       "0      65581.311290    505.502450        0.729998          12.762891   73   \n",
       "1     120317.859109    483.101653        0.184512           9.185849   38   \n",
       "2      99539.424472    396.884652        0.346640          19.289970   18   \n",
       "3      86872.555999    633.996669        0.663281           4.379569   69   \n",
       "4      44821.770842    562.143288        0.482089          11.757128   20   \n",
       "...             ...           ...             ...                ...  ...   \n",
       "9995  111477.318883    782.371246        0.952275          15.080678   39   \n",
       "9996  115263.339335    325.747676        0.747824          15.290539   40   \n",
       "9997  119937.251928    467.034158        0.019456           5.391389   69   \n",
       "9998   67761.359280    543.826004        0.401005           8.686395   53   \n",
       "9999   50628.338384    394.745648        0.257398           9.748474   39   \n",
       "\n",
       "      Loan_Approval  \n",
       "0          0.476365  \n",
       "1          0.507581  \n",
       "2          0.387672  \n",
       "3          0.677483  \n",
       "4          0.306824  \n",
       "...             ...  \n",
       "9995       0.916532  \n",
       "9996       0.594636  \n",
       "9997       0.413762  \n",
       "9998       0.373033  \n",
       "9999       0.150010  \n",
       "\n",
       "[10000 rows x 6 columns]"
      ]
     },
     "execution_count": 10,
     "metadata": {},
     "output_type": "execute_result"
    }
   ],
   "source": [
    "data"
   ]
  },
  {
   "cell_type": "code",
   "execution_count": 12,
   "id": "f78dbb2f-a4ac-4953-81cf-de8f30a8916d",
   "metadata": {},
   "outputs": [],
   "source": [
    "X = data[[\"Annual_Income\",\"Credit_Score\",\"Debt_to_Income\",\"Employment_Length\",\"Age\"]].values\n",
    "y = data[\"Loan_Approval\"].values.reshape(-1,1)"
   ]
  },
  {
   "cell_type": "code",
   "execution_count": 14,
   "id": "f3584d01-5813-46db-8409-3296dadbe11e",
   "metadata": {},
   "outputs": [],
   "source": [
    "X_train, X_test, y_train, y_test = train_test_split(X, y, test_size=0.3, random_state=42)\n"
   ]
  },
  {
   "cell_type": "code",
   "execution_count": 16,
   "id": "2fed91de-d1cf-492f-b706-48172c6180c3",
   "metadata": {},
   "outputs": [],
   "source": [
    "X_test_original = X_test.copy()"
   ]
  },
  {
   "cell_type": "code",
   "execution_count": 18,
   "id": "3918a712-038a-4f4e-9312-3787907e2cc2",
   "metadata": {},
   "outputs": [],
   "source": [
    "scaler = StandardScaler().fit(X_train)\n",
    "X_train = scaler.transform(X_train)\n",
    "X_test  = scaler.transform(X_test)"
   ]
  },
  {
   "cell_type": "code",
   "execution_count": 20,
   "id": "12509318-d19b-46f7-9772-0f8155fc0cf9",
   "metadata": {},
   "outputs": [],
   "source": [
    "class TabularDataset(Dataset):\n",
    "    def __init__(self, X, y):\n",
    "        self.X = torch.from_numpy(X).float()\n",
    "        self.y = torch.from_numpy(y).float()\n",
    "    def __len__(self):\n",
    "        return len(self.X)\n",
    "    def __getitem__(self, i):\n",
    "        return self.X[i], self.y[i]\n",
    "\n",
    "train_ds = TabularDataset(X_train, y_train)\n",
    "test_ds  = TabularDataset(X_test,  y_test)\n",
    "train_dl = DataLoader(train_ds, batch_size=4, shuffle=True)\n",
    "test_dl  = DataLoader(test_ds,  batch_size=4)"
   ]
  },
  {
   "cell_type": "code",
   "execution_count": 22,
   "id": "15c8d3ee-e7d8-4cb1-aa67-f3ab5a5bef12",
   "metadata": {},
   "outputs": [],
   "source": [
    "class TabularTransformer(nn.Module):\n",
    "    def __init__(self, num_features=5, d_model=32, nhead=4, num_layers=2):\n",
    "        super().__init__()\n",
    "        # embed each scalar feature → d_model\n",
    "        self.feature_embeds = nn.ModuleList([\n",
    "            nn.Linear(1, d_model) for _ in range(num_features)\n",
    "        ])\n",
    "        # positional (feature-index) embeddings\n",
    "        self.pos_embed = nn.Parameter(torch.randn(num_features, d_model))\n",
    "        # transformer encoder\n",
    "        encoder_layer = nn.TransformerEncoderLayer(d_model=d_model, nhead=nhead)\n",
    "        self.transformer = nn.TransformerEncoder(encoder_layer, num_layers=num_layers)\n",
    "        # final head to scalar\n",
    "        self.head = nn.Linear(d_model, 1)\n",
    "\n",
    "    def forward(self, x):\n",
    "        # x: [B, F]\n",
    "        # embed each feature separately, then stack → [B, F, d_model]\n",
    "        embs = [emb(x[:,i].unsqueeze(-1)) for i, emb in enumerate(self.feature_embeds)]\n",
    "        x = torch.stack(embs, dim=1)                        # [B, F, d_model]\n",
    "        x = x + self.pos_embed.unsqueeze(0)                 # add positional\n",
    "        x = x.permute(1,0,2)                                # [F, B, d_model] for transformer\n",
    "        x = self.transformer(x)                             # [F, B, d_model]\n",
    "        x = x.permute(1,0,2)                                # [B, F, d_model]\n",
    "        x = x.mean(dim=1)                                   # simple mean‐pool → [B, d_model]\n",
    "        return self.head(x)                                 "
   ]
  },
  {
   "cell_type": "code",
   "execution_count": 24,
   "id": "01cdf301-a08d-4df5-904f-53fa256e8c84",
   "metadata": {},
   "outputs": [
    {
     "name": "stderr",
     "output_type": "stream",
     "text": [
      "/opt/anaconda3/lib/python3.12/site-packages/torch/nn/modules/transformer.py:385: UserWarning: enable_nested_tensor is True, but self.use_nested_tensor is False because encoder_layer.self_attn.batch_first was not True(use batch_first for better inference performance)\n",
      "  warnings.warn(\n"
     ]
    }
   ],
   "source": [
    "device = torch.device(\"cuda\" if torch.cuda.is_available() else \"cpu\")\n",
    "model = TabularTransformer().to(device)\n",
    "opt   = torch.optim.Adam(model.parameters(), lr=1e-3)\n",
    "loss_fn = nn.MSELoss()"
   ]
  },
  {
   "cell_type": "code",
   "execution_count": 26,
   "id": "6f0c3f92-82cf-43ac-9b60-115951b745b4",
   "metadata": {},
   "outputs": [
    {
     "name": "stdout",
     "output_type": "stream",
     "text": [
      "Epoch 00  train MSE=0.0062  val MSE=0.0003\n",
      "Epoch 10  train MSE=0.0004  val MSE=0.0001\n",
      "Epoch 20  train MSE=0.0002  val MSE=0.0001\n"
     ]
    }
   ],
   "source": [
    "for epoch in range(30):\n",
    "    model.train()\n",
    "    total_loss = 0.0\n",
    "    for xb, yb in train_dl:\n",
    "        xb, yb = xb.to(device), yb.to(device)\n",
    "        pred = model(xb)\n",
    "        loss = loss_fn(pred, yb)\n",
    "        opt.zero_grad()\n",
    "        loss.backward()\n",
    "        opt.step()\n",
    "        total_loss += loss.item() * xb.size(0)\n",
    "    total_loss /= len(train_dl.dataset)\n",
    "    # eval\n",
    "    model.eval()\n",
    "    with torch.no_grad():\n",
    "        val_loss = 0.0\n",
    "        for xb, yb in test_dl:\n",
    "            xb, yb = xb.to(device), yb.to(device)\n",
    "            val_loss += loss_fn(model(xb), yb).item() * xb.size(0)\n",
    "        val_loss /= len(test_dl.dataset)\n",
    "    if epoch % 10 == 0:\n",
    "        print(f\"Epoch {epoch:02d}  train MSE={total_loss:.4f}  val MSE={val_loss:.4f}\")\n"
   ]
  },
  {
   "cell_type": "code",
   "execution_count": 28,
   "id": "a1d295c1-cab5-4330-aa95-07e6ab94c410",
   "metadata": {},
   "outputs": [],
   "source": [
    "model.eval()\n",
    "with torch.no_grad():\n",
    "    X_test_t = torch.from_numpy(X_test).float().to(device)\n",
    "    preds = model(X_test_t).cpu().numpy().flatten()\n"
   ]
  },
  {
   "cell_type": "code",
   "execution_count": 38,
   "id": "58ad4adb-6341-4f4a-a699-6767cf5ea994",
   "metadata": {},
   "outputs": [
    {
     "name": "stdout",
     "output_type": "stream",
     "text": [
      "True  : [0.42632969 0.64973306 0.6423571  ... 0.81625794 0.40076027 0.42606929]\n",
      "Preds : [0.42238843 0.6546835  0.6329223  ... 0.81067765 0.3963406  0.421617  ]\n"
     ]
    }
   ],
   "source": [
    "print(\"True  :\", y_test.flatten())\n",
    "print(\"Preds :\", preds)"
   ]
  },
  {
   "cell_type": "code",
   "execution_count": 40,
   "id": "1289e495-8a71-4040-b85c-6b21fae8da2f",
   "metadata": {},
   "outputs": [
    {
     "name": "stdout",
     "output_type": "stream",
     "text": [
      "Test MSE: 0.0000\n",
      "Test R² : 0.9993\n"
     ]
    }
   ],
   "source": [
    "from sklearn.metrics import mean_squared_error, r2_score\n",
    "\n",
    "mse = mean_squared_error(y_test.flatten(), preds)\n",
    "r2  = r2_score         (y_test.flatten(), preds)\n",
    "\n",
    "print(f\"Test MSE: {mse:.4f}\")\n",
    "print(f\"Test R² : {r2:.4f}\")"
   ]
  },
  {
   "cell_type": "code",
   "execution_count": 50,
   "id": "862c9de5-8159-4ffd-9f86-91778a1f9203",
   "metadata": {},
   "outputs": [
    {
     "data": {
      "text/plain": [
       "array([[6.20603193e+04, 3.53290689e+02, 9.68948492e-01, 1.15869475e+01,\n",
       "        4.50000000e+01],\n",
       "       [1.03673003e+05, 7.34158798e+02, 1.95105806e-01, 1.55752522e+01,\n",
       "        2.50000000e+01],\n",
       "       [8.92701044e+04, 4.14860361e+02, 9.89355015e-01, 1.13857296e+01,\n",
       "        2.30000000e+01],\n",
       "       ...,\n",
       "       [8.92466339e+04, 8.35664566e+02, 6.30416028e-01, 8.55117887e+00,\n",
       "        1.90000000e+01],\n",
       "       [6.64428588e+04, 5.80706474e+02, 4.05352034e-01, 1.52133389e+01,\n",
       "        3.00000000e+01],\n",
       "       [7.01082622e+04, 5.78302934e+02, 4.21781485e-01, 1.36122904e+01,\n",
       "        4.20000000e+01]])"
      ]
     },
     "execution_count": 50,
     "metadata": {},
     "output_type": "execute_result"
    }
   ],
   "source": [
    "X_test_original"
   ]
  },
  {
   "cell_type": "code",
   "execution_count": 52,
   "id": "b260aaf7-5358-47e3-a0a8-89e057e4a2f0",
   "metadata": {},
   "outputs": [],
   "source": [
    "cols = [\"Annual_Income\", \"Credit_Score\", \"Debt_to_Income\", \"Employment_Length\", \"Age\"]\n",
    "\n",
    "# 2. Convert the NumPy arrays into DataFrames\n",
    "X_test_df      = pd.DataFrame(X_test_original, columns=cols)"
   ]
  },
  {
   "cell_type": "code",
   "execution_count": null,
   "id": "6e484ca7-9cfd-44cb-9303-f9b81d37cb94",
   "metadata": {},
   "outputs": [],
   "source": []
  },
  {
   "cell_type": "code",
   "execution_count": 46,
   "id": "525e46d7-10af-4a4f-bce7-6a909251514f",
   "metadata": {},
   "outputs": [],
   "source": [
    "predictions_df = pd.DataFrame(preds.flatten(), columns=['Loan_Approval_Pred'])"
   ]
  },
  {
   "cell_type": "code",
   "execution_count": 59,
   "id": "8d0092e6-7832-40e6-be20-4981e9118cf1",
   "metadata": {},
   "outputs": [],
   "source": [
    "merged_df = pd.concat([\n",
    "    X_test_df.reset_index(drop=True),\n",
    "    predictions_df.reset_index(drop=True)\n",
    "], axis=1)"
   ]
  },
  {
   "cell_type": "code",
   "execution_count": 61,
   "id": "61f4d46b-07eb-488d-a431-57e6fefb2964",
   "metadata": {},
   "outputs": [],
   "source": [
    "# merged_df.to_csv('Statistical Dataset for Numerical Features and Continous Outcome for Transformer.csv', index=False)"
   ]
  },
  {
   "cell_type": "code",
   "execution_count": 63,
   "id": "aba1b6c3-2668-4d98-ba3b-556034535d2a",
   "metadata": {},
   "outputs": [
    {
     "name": "stdout",
     "output_type": "stream",
     "text": [
      "                            OLS Regression Results                            \n",
      "==============================================================================\n",
      "Dep. Variable:     Loan_Approval_Pred   R-squared:                       0.987\n",
      "Model:                            OLS   Adj. R-squared:                  0.987\n",
      "Method:                 Least Squares   F-statistic:                 4.580e+04\n",
      "Date:                Thu, 01 May 2025   Prob (F-statistic):               0.00\n",
      "Time:                        10:27:06   Log-Likelihood:                 6845.4\n",
      "No. Observations:                3000   AIC:                        -1.368e+04\n",
      "Df Residuals:                    2994   BIC:                        -1.364e+04\n",
      "Df Model:                           5                                         \n",
      "Covariance Type:            nonrobust                                         \n",
      "=====================================================================================\n",
      "                        coef    std err          t      P>|t|      [0.025      0.975]\n",
      "-------------------------------------------------------------------------------------\n",
      "const                 0.5080      0.000   1125.177      0.000       0.507       0.509\n",
      "Annual_Income         0.1341      0.000    296.896      0.000       0.133       0.135\n",
      "Credit_Score          0.1275      0.000    282.180      0.000       0.127       0.128\n",
      "Debt_to_Income        0.1137      0.000    251.683      0.000       0.113       0.115\n",
      "Employment_Length  2.277e-05      0.000      0.050      0.960      -0.001       0.001\n",
      "Age                   0.0001      0.000      0.312      0.755      -0.001       0.001\n",
      "==============================================================================\n",
      "Omnibus:                      404.341   Durbin-Watson:                   1.971\n",
      "Prob(Omnibus):                  0.000   Jarque-Bera (JB):             2502.148\n",
      "Skew:                          -0.474   Prob(JB):                         0.00\n",
      "Kurtosis:                       7.373   Cond. No.                         1.04\n",
      "==============================================================================\n",
      "\n",
      "Notes:\n",
      "[1] Standard Errors assume that the covariance matrix of the errors is correctly specified.\n",
      "\n",
      "OLS Regression Summary on Standardized Data:\n",
      "                            OLS Regression Results                            \n",
      "==============================================================================\n",
      "Dep. Variable:                      y   R-squared:                       0.987\n",
      "Model:                            OLS   Adj. R-squared:                  0.987\n",
      "Method:                 Least Squares   F-statistic:                 4.580e+04\n",
      "Date:                Thu, 01 May 2025   Prob (F-statistic):               0.00\n",
      "Time:                        10:27:06   Log-Likelihood:                 2268.2\n",
      "No. Observations:                3000   AIC:                            -4524.\n",
      "Df Residuals:                    2994   BIC:                            -4488.\n",
      "Df Model:                           5                                         \n",
      "Covariance Type:            nonrobust                                         \n",
      "=====================================================================================\n",
      "                        coef    std err          t      P>|t|      [0.025      0.975]\n",
      "-------------------------------------------------------------------------------------\n",
      "const             -1.343e-08      0.002  -6.47e-06      1.000      -0.004       0.004\n",
      "Annual_Income         0.6166      0.002    296.896      0.000       0.613       0.621\n",
      "Credit_Score          0.5861      0.002    282.180      0.000       0.582       0.590\n",
      "Debt_to_Income        0.5229      0.002    251.683      0.000       0.519       0.527\n",
      "Employment_Length     0.0001      0.002      0.050      0.960      -0.004       0.004\n",
      "Age                   0.0006      0.002      0.312      0.755      -0.003       0.005\n",
      "==============================================================================\n",
      "Omnibus:                      404.341   Durbin-Watson:                   1.971\n",
      "Prob(Omnibus):                  0.000   Jarque-Bera (JB):             2502.147\n",
      "Skew:                          -0.474   Prob(JB):                         0.00\n",
      "Kurtosis:                       7.373   Cond. No.                         1.04\n",
      "==============================================================================\n",
      "\n",
      "Notes:\n",
      "[1] Standard Errors assume that the covariance matrix of the errors is correctly specified.\n",
      "\n",
      "Beta Weights (Standardized Coefficients):\n",
      "Annual_Income        0.616604\n",
      "Credit_Score         0.586083\n",
      "Debt_to_Income       0.522852\n",
      "Employment_Length    0.000105\n",
      "Age                  0.000649\n",
      "dtype: float64\n"
     ]
    }
   ],
   "source": [
    "import statsmodels.api as sm\n",
    "from scipy import stats\n",
    "\n",
    "features = ['Annual_Income', 'Credit_Score', 'Debt_to_Income', 'Employment_Length', 'Age']\n",
    "DV = 'Loan_Approval_Pred'\n",
    "\n",
    "scaler = StandardScaler()\n",
    "X_std = scaler.fit_transform(merged_df[features])\n",
    "# Convert back to DataFrame for easier manipulation.\n",
    "X_std_df = pd.DataFrame(X_std, columns=features)\n",
    "\n",
    "# Define the target\n",
    "y = merged_df[DV]\n",
    "\n",
    "# # Add an intercept (constant) to the standardized features.\n",
    "X_std_const = sm.add_constant(X_std_df)\n",
    "\n",
    "# # ----------------------------\n",
    "# # 3. Fit a Multiple Linear Regression Model\n",
    "# # ----------------------------\n",
    "model_std = sm.OLS(y, X_std_const)\n",
    "results_std = model_std.fit()\n",
    "print(results_std.summary())\n",
    "\n",
    "\n",
    "\n",
    "scaler_y = StandardScaler()\n",
    "y_std = scaler_y.fit_transform(y.values.reshape(-1, 1)).flatten()\n",
    "\n",
    "# Add an intercept term to the standardized independent variables\n",
    "X_std_const = sm.add_constant(X_std_df)\n",
    "\n",
    "# ----------------------------\n",
    "# 3. Fit the OLS Regression Model on Standardized Data\n",
    "# ----------------------------\n",
    "model_std = sm.OLS(y_std, X_std_const)\n",
    "results_std = model_std.fit()\n",
    "print(\"\\nOLS Regression Summary on Standardized Data:\")\n",
    "print(results_std.summary())\n",
    "\n",
    "# Extract Beta Weights (standardized coefficients) excluding the intercept.\n",
    "beta_weights = results_std.params.drop('const')\n",
    "print(\"\\nBeta Weights (Standardized Coefficients):\")\n",
    "print(beta_weights)\n"
   ]
  },
  {
   "cell_type": "code",
   "execution_count": 71,
   "id": "2ec0b6a8-72eb-4251-ac58-56e78d54f402",
   "metadata": {},
   "outputs": [
    {
     "data": {
      "image/png": "[encoded data removed]",
      "text/plain": [
       "<Figure size 800x600 with 1 Axes>"
      ]
     },
     "metadata": {},
     "output_type": "display_data"
    }
   ],
   "source": [
    "beta_weights_sorted = beta_weights.sort_values(ascending=True)\n",
    "\n",
    "# Plot the sorted beta weights\n",
    "plt.figure(figsize=(8, 6))\n",
    "plt.barh(beta_weights_sorted.index, beta_weights_sorted.values, color='skyblue')\n",
    "plt.xlabel(\"Beta Weight (Standardized Coefficient)\")\n",
    "plt.title(\"Beta Weights for Each Feature (Sorted in Ascending Order)\")\n",
    "plt.grid(True, axis='x', linestyle='--', alpha=0.6)\n",
    "plt.show()"
   ]
  },
  {
   "cell_type": "code",
   "execution_count": 83,
   "id": "1afb7e04-6ea3-4e4a-8326-6092db600d68",
   "metadata": {},
   "outputs": [
    {
     "data": {
      "image/png": "[encoded data removed]",
      "text/plain": [
       "<Figure size 600x400 with 1 Axes>"
      ]
     },
     "metadata": {},
     "output_type": "display_data"
    }
   ],
   "source": [
    "import matplotlib.pyplot as plt\n",
    "\n",
    "# 1. grab p-values and beta‐weights (drop the intercept)\n",
    "pvals        = results_std.pvalues.drop('const')\n",
    "beta_weights = results_std.params .drop('const')\n",
    "\n",
    "# 2. select only those features with p < .05\n",
    "sig_feats    = pvals[pvals < 0.05].index\n",
    "sig_betas    = beta_weights[sig_feats]\n",
    "\n",
    "if len(sig_betas) == 0:\n",
    "    print(\"No features reach p < 0.05.\")\n",
    "else:\n",
    "    # 3. sort them by absolute effect size (largest first)\n",
    "    sig_betas_sorted = sig_betas.reindex(\n",
    "        sig_betas.abs().sort_values(ascending=True).index\n",
    "    )\n",
    "\n",
    "    # 4. plot a horizontal bar chart\n",
    "    plt.figure(figsize=(6, 4))\n",
    "    plt.barh(sig_betas_sorted.index, sig_betas_sorted.values)\n",
    "    plt.xlabel(\"Standardized Coefficient (β)\")\n",
    "    plt.title(\"Effect Sizes for Significant Features (p < 0.05)\")\n",
    "    plt.grid(axis='x', linestyle='--', alpha=0.5)\n",
    "    plt.tight_layout()\n",
    "    plt.show()"
   ]
  },
  {
   "cell_type": "code",
   "execution_count": 85,
   "id": "6d55987a-2ff1-4b4b-bec2-1619a12ea982",
   "metadata": {},
   "outputs": [
    {
     "name": "stdout",
     "output_type": "stream",
     "text": [
      "  Method  Precision  Recall  FDR  Top-1 Match\n",
      "Stat-XAI        1.0     1.0  0.0            1\n"
     ]
    }
   ],
   "source": [
    "def compute_feature_recovery_metrics(gt, flagged, ranking):\n",
    "    \"\"\"\n",
    "    Compute TP, FP, FN, Precision, Recall, FDR, and Top-1 Match for feature recovery.\n",
    "\n",
    "    Parameters\n",
    "    ----------\n",
    "    gt : set\n",
    "        Ground-truth causal features.\n",
    "    flagged : list or set\n",
    "        Features your method flagged as important (e.g., top‑k from ranking).\n",
    "    ranking : list\n",
    "        Ordered list of features by descending effect size.\n",
    "\n",
    "    Returns\n",
    "    -------\n",
    "    pd.DataFrame\n",
    "        Single-row DataFrame with the metrics.\n",
    "    \"\"\"\n",
    "    tp = set(gt) & set(flagged)\n",
    "    fp = set(flagged) - set(gt)\n",
    "    fn = set(gt) - set(flagged)\n",
    "\n",
    "    precision = len(tp) / (len(tp) + len(fp)) if (len(tp) + len(fp)) else 0.0\n",
    "    recall    = len(tp) / len(gt)        if len(gt)              else 0.0\n",
    "    fdr       = len(fp) / (len(tp) + len(fp)) if (len(tp) + len(fp)) else 0.0\n",
    "    top1      = 1 if ranking and ranking[0] in gt else 0\n",
    "\n",
    "    metrics = {\n",
    "        \"TP\":           \", \".join(sorted(tp)),\n",
    "        \"FP\":           \", \".join(sorted(fp)),\n",
    "        \"FN\":           \", \".join(sorted(fn)),\n",
    "        \"Precision\":     precision,\n",
    "        \"Recall\":        recall,\n",
    "        \"FDR\":           fdr,\n",
    "        \"Top-1 Match\":   top1\n",
    "    }\n",
    "    return pd.DataFrame([{\n",
    "        \"Precision\": precision,\n",
    "        \"Recall\": recall,\n",
    "        \"FDR\": fdr,\n",
    "        \"Top-1 Match\": top1\n",
    "    }])\n",
    "\n",
    "\n",
    "\n",
    "if __name__ == \"__main__\":\n",
    "    # Example:\n",
    "    GT = {\"annual_income\", \"credit_score\", \"debt_to_income\"}\n",
    "    ranking = [\n",
    "        \"annual_income\",\n",
    "        \"credit_score\",\n",
    "        \"debt_to_income\",\n",
    "    ]\n",
    "    flagged = ranking[:3]  # e.g. top‑3 features\n",
    "\n",
    "    df_metrics = compute_feature_recovery_metrics(GT, flagged, ranking)\n",
    "    df_metrics.insert(0, \"Method\", \"Stat-XAI\")\n",
    "    df_metrics = df_metrics[[\"Method\", \"Precision\", \"Recall\", \"FDR\", \"Top-1 Match\"]]\n",
    "    print(df_metrics.to_string(index=False))"
   ]
  },
  {
   "cell_type": "code",
   "execution_count": null,
   "id": "c2a3090e-1ec1-4089-bb0d-357ae38f25d9",
   "metadata": {},
   "outputs": [],
   "source": []
  },
  {
   "cell_type": "code",
   "execution_count": 42,
   "id": "4fb96539-06b0-4404-ace9-8abbc332aa53",
   "metadata": {},
   "outputs": [],
   "source": [
    "import shap\n",
    "import numpy as np\n",
    "import psutil\n",
    "import os\n",
    "import torch.optim as optim\n",
    "import matplotlib.pyplot as plt"
   ]
  },
  {
   "cell_type": "code",
   "execution_count": 74,
   "id": "fd7d8c7d-645d-4415-b2f2-eca28f8d53dd",
   "metadata": {},
   "outputs": [],
   "source": [
    "device = torch.device(\"cuda\" if torch.cuda.is_available() else \"cpu\")\n",
    "model.to(device).eval()\n",
    "\n",
    "# 1) Build a pure‑NumPy wrapper for your model’s regression output\n",
    "def predict_regression(x_np):\n",
    "    \"\"\"\n",
    "    x_np: np.array shape (batch, 5)\n",
    "    returns: np.array shape (batch,) of model outputs\n",
    "    \"\"\"\n",
    "    with torch.no_grad():\n",
    "        t = torch.from_numpy(x_np).float().to(device)    # [batch,5]\n",
    "        out = model(t).cpu().numpy().flatten()           # [batch,]\n",
    "    return out"
   ]
  },
  {
   "cell_type": "code",
   "execution_count": 76,
   "id": "14deafc1-721d-4132-9d36-079d32ed18aa",
   "metadata": {},
   "outputs": [],
   "source": [
    "bg_size    = 200\n",
    "bg_indices = np.random.choice(len(X_train), size=bg_size, replace=False)\n",
    "background = X_train[bg_indices]   # (200,5)\n"
   ]
  },
  {
   "cell_type": "code",
   "execution_count": 78,
   "id": "b0c06213-42fa-4d72-9c8a-8f5c0786b97b",
   "metadata": {},
   "outputs": [
    {
     "name": "stderr",
     "output_type": "stream",
     "text": [
      "Using 200 background data samples could cause slower run times. Consider using shap.sample(data, K) or shap.kmeans(data, K) to summarize the background as K samples.\n"
     ]
    }
   ],
   "source": [
    "explainer = shap.KernelExplainer(predict_regression, background)"
   ]
  },
  {
   "cell_type": "code",
   "execution_count": 80,
   "id": "be01c2a7-cd8c-460d-9d19-b9bf2d3430f0",
   "metadata": {},
   "outputs": [
    {
     "name": "stdout",
     "output_type": "stream",
     "text": [
      "Batch 0-512: free RAM = 3.18 GB\n"
     ]
    },
    {
     "data": {
      "application/vnd.jupyter.widget-view+json": {
       "model_id": "989718429f4e416289e35ef85460bc15",
       "version_major": 2,
       "version_minor": 0
      },
      "text/plain": [
       "  0%|          | 0/512 [00:00<?, ?it/s]"
      ]
     },
     "metadata": {},
     "output_type": "display_data"
    },
    {
     "name": "stdout",
     "output_type": "stream",
     "text": [
      "Batch 512-1024: free RAM = 3.40 GB\n"
     ]
    },
    {
     "data": {
      "application/vnd.jupyter.widget-view+json": {
       "model_id": "acfe6ca682b74684a8c0cc9257330fe9",
       "version_major": 2,
       "version_minor": 0
      },
      "text/plain": [
       "  0%|          | 0/512 [00:00<?, ?it/s]"
      ]
     },
     "metadata": {},
     "output_type": "display_data"
    },
    {
     "name": "stdout",
     "output_type": "stream",
     "text": [
      "Batch 1024-1536: free RAM = 3.50 GB\n"
     ]
    },
    {
     "data": {
      "application/vnd.jupyter.widget-view+json": {
       "model_id": "ba7bbb69e1cf410190144168823fd952",
       "version_major": 2,
       "version_minor": 0
      },
      "text/plain": [
       "  0%|          | 0/512 [00:00<?, ?it/s]"
      ]
     },
     "metadata": {},
     "output_type": "display_data"
    },
    {
     "name": "stdout",
     "output_type": "stream",
     "text": [
      "Batch 1536-2048: free RAM = 3.47 GB\n"
     ]
    },
    {
     "data": {
      "application/vnd.jupyter.widget-view+json": {
       "model_id": "730089aaca944e4ca43c59df50101e69",
       "version_major": 2,
       "version_minor": 0
      },
      "text/plain": [
       "  0%|          | 0/512 [00:00<?, ?it/s]"
      ]
     },
     "metadata": {},
     "output_type": "display_data"
    },
    {
     "name": "stdout",
     "output_type": "stream",
     "text": [
      "Batch 2048-2560: free RAM = 3.67 GB\n"
     ]
    },
    {
     "data": {
      "application/vnd.jupyter.widget-view+json": {
       "model_id": "14df0fd56925410f99019551a3ea2b6a",
       "version_major": 2,
       "version_minor": 0
      },
      "text/plain": [
       "  0%|          | 0/512 [00:00<?, ?it/s]"
      ]
     },
     "metadata": {},
     "output_type": "display_data"
    },
    {
     "name": "stdout",
     "output_type": "stream",
     "text": [
      "Batch 2560-3000: free RAM = 3.96 GB\n"
     ]
    },
    {
     "data": {
      "application/vnd.jupyter.widget-view+json": {
       "model_id": "25cd7b1894584e1fb6c23b65402dc95e",
       "version_major": 2,
       "version_minor": 0
      },
      "text/plain": [
       "  0%|          | 0/440 [00:00<?, ?it/s]"
      ]
     },
     "metadata": {},
     "output_type": "display_data"
    }
   ],
   "source": [
    "batch_size = 512\n",
    "all_shap   = []\n",
    "\n",
    "for start in range(0, X_test.shape[0], batch_size):\n",
    "    end   = min(start + batch_size, X_test.shape[0])\n",
    "    Xb_np = X_test[start:end]                   # (batch,5)\n",
    "    mem   = psutil.virtual_memory()\n",
    "    print(f\"Batch {start}-{end}: free RAM = {mem.available/1e9:.2f} GB\")\n",
    "    sv = explainer.shap_values(Xb_np, nsamples=100)  # (batch,5)\n",
    "    all_shap.append(sv)\n"
   ]
  },
  {
   "cell_type": "code",
   "execution_count": 82,
   "id": "e2e91d5a-5824-4619-8a02-93222a08fccd",
   "metadata": {},
   "outputs": [],
   "source": [
    "all_shap_values = np.vstack(all_shap)"
   ]
  },
  {
   "cell_type": "code",
   "execution_count": 86,
   "id": "c2f3d1f0-9347-433b-8bc5-408c1f84a5a7",
   "metadata": {},
   "outputs": [],
   "source": [
    "num_feats = [\"Annual_Income\",\"Credit_Score\",\"Debt_to_Income\",\"Employment_Length\",\"Age\"]"
   ]
  },
  {
   "cell_type": "code",
   "execution_count": 88,
   "id": "ad688aae-be97-4274-9e4a-c928cc4938ce",
   "metadata": {},
   "outputs": [],
   "source": [
    "mean_abs = pd.Series(\n",
    "    np.abs(all_shap_values).mean(axis=0),\n",
    "    index=num_feats\n",
    ").sort_values()\n"
   ]
  },
  {
   "cell_type": "code",
   "execution_count": 90,
   "id": "f97ec8eb-cfe2-48c8-a531-ecaaff6016d0",
   "metadata": {},
   "outputs": [
    {
     "name": "stdout",
     "output_type": "stream",
     "text": [
      "Mean |SHAP| per feature (regression):\n",
      "Age                  0.000120\n",
      "Employment_Length    0.000173\n",
      "Debt_to_Income       0.098703\n",
      "Credit_Score         0.108717\n",
      "Annual_Income        0.111993\n",
      "dtype: float64\n"
     ]
    }
   ],
   "source": [
    "print(\"Mean |SHAP| per feature (regression):\")\n",
    "print(mean_abs)"
   ]
  },
  {
   "cell_type": "code",
   "execution_count": 92,
   "id": "f682af32-6227-4a97-819a-a095e2d8ff81",
   "metadata": {},
   "outputs": [
    {
     "data": {
      "image/png": "[encoded data removed]",
      "text/plain": [
       "<Figure size 600x400 with 1 Axes>"
      ]
     },
     "metadata": {},
     "output_type": "display_data"
    }
   ],
   "source": [
    "os.makedirs(\"shap\", exist_ok=True)\n",
    "plt.figure(figsize=(6,4))\n",
    "mean_abs.plot.barh()\n",
    "plt.xlabel(\"Mean |SHAP value|\")\n",
    "plt.title(\"Mean absolute SHAP — Numeric Transformer (regression)\")\n",
    "plt.tight_layout()\n",
    "plt.savefig(\"shap/Traansformer_numeric_regression_shap.jpg\", dpi=300)\n",
    "plt.show()"
   ]
  },
  {
   "cell_type": "code",
   "execution_count": 94,
   "id": "06acd7f3-0a8f-489e-b011-9ebfe35d2a2a",
   "metadata": {},
   "outputs": [
    {
     "name": "stdout",
     "output_type": "stream",
     "text": [
      "  Method  Precision  Recall  FDR  Top-1 Match\n",
      "Stat-XAI        0.6     1.0  0.4            1\n"
     ]
    }
   ],
   "source": [
    "def compute_feature_recovery_metrics(gt, ranking):\n",
    "    \"\"\"\n",
    "    Compute TP, FP, FN, Precision, Recall, FDR, and Top-1 Match for feature recovery.\n",
    "\n",
    "    Parameters\n",
    "    ----------\n",
    "    gt : set\n",
    "        Ground-truth causal features.\n",
    "    flagged : list or set\n",
    "        Features your method flagged as important (e.g., top‑k from ranking).\n",
    "    ranking : list\n",
    "        Ordered list of features by descending effect size.\n",
    "\n",
    "    Returns\n",
    "    -------\n",
    "    pd.DataFrame\n",
    "        Single-row DataFrame with the metrics.\n",
    "    \"\"\"\n",
    "    tp = set(gt) & set(ranking)\n",
    "    fp = set(ranking) - set(gt)\n",
    "    fn = set(gt) - set(ranking)\n",
    "\n",
    "    precision = len(tp) / (len(tp) + len(fp)) if (len(tp) + len(fp)) else 0.0\n",
    "    recall    = len(tp) / len(gt)        if len(gt)              else 0.0\n",
    "    fdr       = len(fp) / (len(tp) + len(fp)) if (len(tp) + len(fp)) else 0.0\n",
    "    top1      = 1 if ranking and ranking[0] in gt else 0\n",
    "\n",
    "    metrics = {\n",
    "        \"TP\":           \", \".join(sorted(tp)),\n",
    "        \"FP\":           \", \".join(sorted(fp)),\n",
    "        \"FN\":           \", \".join(sorted(fn)),\n",
    "        \"Precision\":     precision,\n",
    "        \"Recall\":        recall,\n",
    "        \"FDR\":           fdr,\n",
    "        \"Top-1 Match\":   top1\n",
    "    }\n",
    "    return pd.DataFrame([{\n",
    "        \"Precision\": precision,\n",
    "        \"Recall\": recall,\n",
    "        \"FDR\": fdr,\n",
    "        \"Top-1 Match\": top1\n",
    "    }])\n",
    "\n",
    "\n",
    "\n",
    "if __name__ == \"__main__\":\n",
    "    # Example:\n",
    "    GT = {\"annual_income\", \"credit_score\", \"debt_to_income\"}\n",
    "    ranking = [\n",
    "        \"annual_income\",\n",
    "        \"credit_score\",\n",
    "        \"debt_to_income\",\n",
    "        \"Employement_Length\",\n",
    "        \"Age\"\n",
    "    ]\n",
    "    # flagged = ranking[:3]  # e.g. top‑3 features\n",
    "\n",
    "    df_metrics = compute_feature_recovery_metrics(GT, ranking)\n",
    "    df_metrics.insert(0, \"Method\", \"Stat-XAI\")\n",
    "    df_metrics = df_metrics[[\"Method\", \"Precision\", \"Recall\", \"FDR\", \"Top-1 Match\"]]\n",
    "    print(df_metrics.to_string(index=False))"
   ]
  },
  {
   "cell_type": "code",
   "execution_count": null,
   "id": "da26d51e-d004-4f9f-9ddd-e85644be5057",
   "metadata": {},
   "outputs": [],
   "source": []
  }
 ],
 "metadata": {
  "kernelspec": {
   "display_name": "Python [conda env:base] *",
   "language": "python",
   "name": "conda-base-py"
  },
  "language_info": {
   "codemirror_mode": {
    "name": "ipython",
    "version": 3
   },
   "file_extension": ".py",
   "mimetype": "text/x-python",
   "name": "python",
   "nbconvert_exporter": "python",
   "pygments_lexer": "ipython3",
   "version": "3.12.7"
  }
 },
 "nbformat": 4,
 "nbformat_minor": 5
}

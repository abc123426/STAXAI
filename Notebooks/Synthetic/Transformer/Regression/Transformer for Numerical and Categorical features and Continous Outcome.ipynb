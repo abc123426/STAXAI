{
 "cells": [
  {
   "cell_type": "code",
   "execution_count": 1,
   "id": "c5e3c383-270d-4879-913e-de776c817b40",
   "metadata": {},
   "outputs": [],
   "source": [
    "import pandas as pd\n",
    "import numpy as np\n",
    "from sklearn.model_selection import train_test_split\n",
    "from sklearn.preprocessing import StandardScaler\n",
    "from sklearn.metrics import mean_squared_error, r2_score\n",
    "\n",
    "import torch\n",
    "import torch.nn as nn\n",
    "from torch.utils.data import Dataset, DataLoader"
   ]
  },
  {
   "cell_type": "code",
   "execution_count": 3,
   "id": "1b0747ea-40dd-406e-9b18-4b5aa791e3b0",
   "metadata": {},
   "outputs": [
    {
     "data": {
      "text/html": [
       "<div>\n",
       "<style scoped>\n",
       "    .dataframe tbody tr th:only-of-type {\n",
       "        vertical-align: middle;\n",
       "    }\n",
       "\n",
       "    .dataframe tbody tr th {\n",
       "        vertical-align: top;\n",
       "    }\n",
       "\n",
       "    .dataframe thead th {\n",
       "        text-align: right;\n",
       "    }\n",
       "</style>\n",
       "<table border=\"1\" class=\"dataframe\">\n",
       "  <thead>\n",
       "    <tr style=\"text-align: right;\">\n",
       "      <th></th>\n",
       "      <th>Annual_Income</th>\n",
       "      <th>Credit_Score</th>\n",
       "      <th>Employment_Length</th>\n",
       "      <th>Age</th>\n",
       "      <th>Loan_Term</th>\n",
       "      <th>Loan_Purpose</th>\n",
       "      <th>Employment_Status</th>\n",
       "      <th>Loan_Categories</th>\n",
       "      <th>Region</th>\n",
       "      <th>Marital_Status</th>\n",
       "      <th>Approval_Probability</th>\n",
       "    </tr>\n",
       "  </thead>\n",
       "  <tbody>\n",
       "    <tr>\n",
       "      <th>0</th>\n",
       "      <td>74944.814262</td>\n",
       "      <td>505.502450</td>\n",
       "      <td>14.599966</td>\n",
       "      <td>30</td>\n",
       "      <td>28</td>\n",
       "      <td>Personal</td>\n",
       "      <td>Self-employed</td>\n",
       "      <td>Medium</td>\n",
       "      <td>West</td>\n",
       "      <td>Married</td>\n",
       "      <td>0.656925</td>\n",
       "    </tr>\n",
       "    <tr>\n",
       "      <th>1</th>\n",
       "      <td>144085.716769</td>\n",
       "      <td>483.101653</td>\n",
       "      <td>3.690240</td>\n",
       "      <td>44</td>\n",
       "      <td>14</td>\n",
       "      <td>Home</td>\n",
       "      <td>Employed</td>\n",
       "      <td>Small</td>\n",
       "      <td>South</td>\n",
       "      <td>Divorced</td>\n",
       "      <td>0.719795</td>\n",
       "    </tr>\n",
       "    <tr>\n",
       "      <th>2</th>\n",
       "      <td>117839.273017</td>\n",
       "      <td>396.884652</td>\n",
       "      <td>6.932794</td>\n",
       "      <td>55</td>\n",
       "      <td>27</td>\n",
       "      <td>Home</td>\n",
       "      <td>Unemployed</td>\n",
       "      <td>Large</td>\n",
       "      <td>South</td>\n",
       "      <td>Single</td>\n",
       "      <td>0.281247</td>\n",
       "    </tr>\n",
       "    <tr>\n",
       "      <th>3</th>\n",
       "      <td>101839.018104</td>\n",
       "      <td>633.996669</td>\n",
       "      <td>13.265613</td>\n",
       "      <td>50</td>\n",
       "      <td>1</td>\n",
       "      <td>Personal</td>\n",
       "      <td>Employed</td>\n",
       "      <td>Small</td>\n",
       "      <td>North</td>\n",
       "      <td>Divorced</td>\n",
       "      <td>0.833786</td>\n",
       "    </tr>\n",
       "    <tr>\n",
       "      <th>4</th>\n",
       "      <td>48722.236853</td>\n",
       "      <td>562.143288</td>\n",
       "      <td>9.641787</td>\n",
       "      <td>23</td>\n",
       "      <td>28</td>\n",
       "      <td>Car</td>\n",
       "      <td>Self-employed</td>\n",
       "      <td>Small</td>\n",
       "      <td>South</td>\n",
       "      <td>Single</td>\n",
       "      <td>0.449401</td>\n",
       "    </tr>\n",
       "  </tbody>\n",
       "</table>\n",
       "</div>"
      ],
      "text/plain": [
       "   Annual_Income  Credit_Score  Employment_Length  Age  Loan_Term  \\\n",
       "0   74944.814262    505.502450          14.599966   30         28   \n",
       "1  144085.716769    483.101653           3.690240   44         14   \n",
       "2  117839.273017    396.884652           6.932794   55         27   \n",
       "3  101839.018104    633.996669          13.265613   50          1   \n",
       "4   48722.236853    562.143288           9.641787   23         28   \n",
       "\n",
       "  Loan_Purpose Employment_Status Loan_Categories Region Marital_Status  \\\n",
       "0     Personal     Self-employed          Medium   West        Married   \n",
       "1         Home          Employed           Small  South       Divorced   \n",
       "2         Home        Unemployed           Large  South         Single   \n",
       "3     Personal          Employed           Small  North       Divorced   \n",
       "4          Car     Self-employed           Small  South         Single   \n",
       "\n",
       "   Approval_Probability  \n",
       "0              0.656925  \n",
       "1              0.719795  \n",
       "2              0.281247  \n",
       "3              0.833786  \n",
       "4              0.449401  "
      ]
     },
     "execution_count": 3,
     "metadata": {},
     "output_type": "execute_result"
    }
   ],
   "source": [
    "df = pd.read_csv('Loan Approval Categorical Numerical Synthetic Dataset Continous Outcome.csv')\n",
    "if 'Unnamed: 0' in df.columns:\n",
    "    df = df.drop(columns=['Unnamed: 0'])\n",
    "df.head()"
   ]
  },
  {
   "cell_type": "code",
   "execution_count": 5,
   "id": "addb2e20-181e-45ae-bb1c-b6261582a236",
   "metadata": {},
   "outputs": [],
   "source": [
    "target = \"Approval_Probability\"\n",
    "cat_feats = [\"Loan_Purpose\",\"Employment_Status\",\"Loan_Categories\",\"Region\",\"Marital_Status\"]\n",
    "num_feats = [\"Annual_Income\",\"Credit_Score\",\"Employment_Length\",\"Age\",\"Loan_Term\"]\n"
   ]
  },
  {
   "cell_type": "code",
   "execution_count": 7,
   "id": "eb19559b-d6fb-4c1a-acf9-0ed85b706421",
   "metadata": {},
   "outputs": [],
   "source": [
    "train_df, test_df = train_test_split(df, test_size=0.3, random_state=42)\n",
    "X_test_original = test_df.copy()"
   ]
  },
  {
   "cell_type": "code",
   "execution_count": 9,
   "id": "c50d41fa-d929-4bf6-b799-466d847810c4",
   "metadata": {},
   "outputs": [],
   "source": [
    "cat_categories = {\n",
    "    col: train_df[col].astype(\"category\").cat.categories.tolist()\n",
    "    for col in cat_feats\n",
    "}"
   ]
  },
  {
   "cell_type": "code",
   "execution_count": 11,
   "id": "65700f5b-a949-4382-b702-253792d50fa3",
   "metadata": {},
   "outputs": [],
   "source": [
    "cat_dims = []\n",
    "for col in cat_feats:\n",
    "    # ensure both train and test share same categories\n",
    "    train_df[col] = train_df[col].astype(\"category\")\n",
    "    test_df[col]  = pd.Categorical(test_df[col], categories=cat_categories[col])\n",
    "    \n",
    "    # convert to codes\n",
    "    train_df[col] = train_df[col].cat.codes\n",
    "    test_df[col]  = test_df[col].cat.codes\n",
    "    \n",
    "    cat_dims.append(len(cat_categories[col]))\n",
    "\n",
    "# 4) Scale numeric features\n",
    "scaler = StandardScaler().fit(train_df[num_feats])\n",
    "train_num = scaler.transform(train_df[num_feats])\n",
    "test_num = scaler.transform(test_df[num_feats])\n"
   ]
  },
  {
   "cell_type": "code",
   "execution_count": 13,
   "id": "e62df0eb-138e-46f9-a877-38bc6ae2268e",
   "metadata": {},
   "outputs": [],
   "source": [
    "class MixedDataset(Dataset):\n",
    "    def __init__(self, X_num, X_cat, y):\n",
    "        self.X_num = torch.from_numpy(X_num).float()\n",
    "        self.X_cat = torch.from_numpy(X_cat).long()\n",
    "        self.y = torch.from_numpy(y).float().unsqueeze(1)\n",
    "    def __len__(self):\n",
    "        return len(self.y)\n",
    "    def __getitem__(self, idx):\n",
    "        return self.X_num[idx], self.X_cat[idx], self.y[idx]\n",
    "\n",
    "train_ds = MixedDataset(train_num, train_df[cat_feats].values, train_df[target].values)\n",
    "test_ds = MixedDataset(test_num, test_df[cat_feats].values, test_df[target].values)\n",
    "train_dl = DataLoader(train_ds, batch_size=8, shuffle=True)\n",
    "test_dl = DataLoader(test_ds, batch_size=8)"
   ]
  },
  {
   "cell_type": "code",
   "execution_count": 15,
   "id": "16b80a72-2baa-49dd-858a-94e146391942",
   "metadata": {},
   "outputs": [],
   "source": [
    "class MixedTransformerReg(nn.Module):\n",
    "    def __init__(self, num_feats, cat_dims, d_model=32, nhead=4, layers=2):\n",
    "        super().__init__()\n",
    "        # numeric → d_model\n",
    "        self.num_embeds = nn.ModuleList([nn.Linear(1, d_model) for _ in range(num_feats)])\n",
    "        # categorical embeddings\n",
    "        self.cat_embeds = nn.ModuleList([nn.Embedding(dim, d_model) for dim in cat_dims])\n",
    "        # positional embeddings\n",
    "        total_feats = num_feats + len(cat_dims)\n",
    "        self.pos_embed = nn.Parameter(torch.randn(total_feats, d_model))\n",
    "        # transformer encoder\n",
    "        enc_layer = nn.TransformerEncoderLayer(d_model, nhead)\n",
    "        self.transformer = nn.TransformerEncoder(enc_layer, layers)\n",
    "        # regression head\n",
    "        self.reg_head = nn.Linear(d_model, 1)\n",
    "\n",
    "    def forward(self, x_num, x_cat):\n",
    "        # embed numeric features\n",
    "        num_emb = [emb(x_num[:, i].unsqueeze(-1)) for i, emb in enumerate(self.num_embeds)]\n",
    "        # embed categorical features\n",
    "        cat_emb = [emb(x_cat[:, i]) for i, emb in enumerate(self.cat_embeds)]\n",
    "        # stack sequence [B, total_feats, d_model]\n",
    "        seq = torch.stack(num_emb + cat_emb, dim=1)\n",
    "        seq = seq + self.pos_embed.unsqueeze(0)\n",
    "        # transformer expects [seq_len, batch, d_model]\n",
    "        seq = seq.permute(1, 0, 2)\n",
    "        out = self.transformer(seq)\n",
    "        # back to [batch, seq_len, d_model] then pool\n",
    "        rep = out.permute(1, 0, 2).mean(dim=1)\n",
    "        return self.reg_head(rep)"
   ]
  },
  {
   "cell_type": "code",
   "execution_count": 17,
   "id": "436e6c9a-31a1-4ae2-b0e9-1875d9a401a9",
   "metadata": {},
   "outputs": [
    {
     "name": "stderr",
     "output_type": "stream",
     "text": [
      "/opt/anaconda3/lib/python3.12/site-packages/torch/nn/modules/transformer.py:385: UserWarning: enable_nested_tensor is True, but self.use_nested_tensor is False because encoder_layer.self_attn.batch_first was not True(use batch_first for better inference performance)\n",
      "  warnings.warn(\n"
     ]
    }
   ],
   "source": [
    "device = torch.device(\"cuda\" if torch.cuda.is_available() else \"cpu\")\n",
    "model = MixedTransformerReg(num_feats=len(num_feats), cat_dims=cat_dims).to(device)\n",
    "opt = torch.optim.Adam(model.parameters(), lr=1e-3)\n",
    "loss_fn = nn.MSELoss()"
   ]
  },
  {
   "cell_type": "code",
   "execution_count": 19,
   "id": "17b636b6-93da-4c0e-bea5-008b8ef60be6",
   "metadata": {},
   "outputs": [
    {
     "name": "stdout",
     "output_type": "stream",
     "text": [
      "Epoch 10  Train MSE: 0.0039\n",
      "Epoch 20  Train MSE: 0.0038\n"
     ]
    }
   ],
   "source": [
    "for epoch in range(1, 21):\n",
    "    model.train()\n",
    "    total_loss = 0.0\n",
    "    for x_num, x_cat, y in train_dl:\n",
    "        x_num, x_cat, y = x_num.to(device), x_cat.to(device), y.to(device)\n",
    "        pred = model(x_num, x_cat)\n",
    "        loss = loss_fn(pred, y)\n",
    "        opt.zero_grad()\n",
    "        loss.backward()\n",
    "        opt.step()\n",
    "        total_loss += loss.item() * y.size(0)\n",
    "    if epoch % 10 == 0:\n",
    "        print(f\"Epoch {epoch:02d}  Train MSE: {total_loss/len(train_dl.dataset):.4f}\")\n"
   ]
  },
  {
   "cell_type": "code",
   "execution_count": 21,
   "id": "75d985b2-1315-41f4-9a0b-50ac507b65b5",
   "metadata": {},
   "outputs": [],
   "source": [
    "model.eval()\n",
    "y_preds, y_trues = [], []\n",
    "with torch.no_grad():\n",
    "    for x_num, x_cat, y in test_dl:\n",
    "        x_num, x_cat = x_num.to(device), x_cat.to(device)\n",
    "        preds = model(x_num, x_cat).cpu().numpy().flatten()\n",
    "        y_preds.extend(preds)\n",
    "        y_trues.extend(y.numpy().flatten())"
   ]
  },
  {
   "cell_type": "code",
   "execution_count": 23,
   "id": "9d3c53ea-0215-42c4-a658-edf754b5560a",
   "metadata": {},
   "outputs": [
    {
     "name": "stdout",
     "output_type": "stream",
     "text": [
      "\n",
      "Test MSE: 0.0050\n",
      "Test R² : 0.8884\n"
     ]
    }
   ],
   "source": [
    "mse = mean_squared_error(y_trues, y_preds)\n",
    "r2 = r2_score(y_trues, y_preds)\n",
    "print(f\"\\nTest MSE: {mse:.4f}\")\n",
    "print(f\"Test R² : {r2:.4f}\")"
   ]
  },
  {
   "cell_type": "code",
   "execution_count": 66,
   "id": "c1eb4f1a-a3cd-4400-8132-a157b6a32c59",
   "metadata": {},
   "outputs": [
    {
     "data": {
      "text/html": [
       "<div>\n",
       "<style scoped>\n",
       "    .dataframe tbody tr th:only-of-type {\n",
       "        vertical-align: middle;\n",
       "    }\n",
       "\n",
       "    .dataframe tbody tr th {\n",
       "        vertical-align: top;\n",
       "    }\n",
       "\n",
       "    .dataframe thead th {\n",
       "        text-align: right;\n",
       "    }\n",
       "</style>\n",
       "<table border=\"1\" class=\"dataframe\">\n",
       "  <thead>\n",
       "    <tr style=\"text-align: right;\">\n",
       "      <th></th>\n",
       "      <th>pred_value</th>\n",
       "    </tr>\n",
       "  </thead>\n",
       "  <tbody>\n",
       "    <tr>\n",
       "      <th>0</th>\n",
       "      <td>0.407486</td>\n",
       "    </tr>\n",
       "    <tr>\n",
       "      <th>1</th>\n",
       "      <td>0.886695</td>\n",
       "    </tr>\n",
       "    <tr>\n",
       "      <th>2</th>\n",
       "      <td>0.550894</td>\n",
       "    </tr>\n",
       "    <tr>\n",
       "      <th>3</th>\n",
       "      <td>0.419627</td>\n",
       "    </tr>\n",
       "    <tr>\n",
       "      <th>4</th>\n",
       "      <td>0.484188</td>\n",
       "    </tr>\n",
       "    <tr>\n",
       "      <th>...</th>\n",
       "      <td>...</td>\n",
       "    </tr>\n",
       "    <tr>\n",
       "      <th>2995</th>\n",
       "      <td>0.617529</td>\n",
       "    </tr>\n",
       "    <tr>\n",
       "      <th>2996</th>\n",
       "      <td>0.393914</td>\n",
       "    </tr>\n",
       "    <tr>\n",
       "      <th>2997</th>\n",
       "      <td>0.848818</td>\n",
       "    </tr>\n",
       "    <tr>\n",
       "      <th>2998</th>\n",
       "      <td>0.459092</td>\n",
       "    </tr>\n",
       "    <tr>\n",
       "      <th>2999</th>\n",
       "      <td>0.464137</td>\n",
       "    </tr>\n",
       "  </tbody>\n",
       "</table>\n",
       "<p>3000 rows × 1 columns</p>\n",
       "</div>"
      ],
      "text/plain": [
       "      pred_value\n",
       "0       0.407486\n",
       "1       0.886695\n",
       "2       0.550894\n",
       "3       0.419627\n",
       "4       0.484188\n",
       "...          ...\n",
       "2995    0.617529\n",
       "2996    0.393914\n",
       "2997    0.848818\n",
       "2998    0.459092\n",
       "2999    0.464137\n",
       "\n",
       "[3000 rows x 1 columns]"
      ]
     },
     "metadata": {},
     "output_type": "display_data"
    }
   ],
   "source": [
    "preds_df = pd.DataFrame({\"pred_value\": y_preds})\n",
    "display(preds_df)"
   ]
  },
  {
   "cell_type": "code",
   "execution_count": 68,
   "id": "0f479d1f-8996-4ce1-85e6-321542298fcb",
   "metadata": {},
   "outputs": [],
   "source": [
    "X_test_original = X_test_original.iloc[:, :-1]"
   ]
  },
  {
   "cell_type": "code",
   "execution_count": 70,
   "id": "9eee3991-f633-4175-90f3-18e476d29e35",
   "metadata": {},
   "outputs": [],
   "source": [
    "merged_df = pd.concat([\n",
    "    X_test_original.reset_index(drop=True),\n",
    "    preds_df.reset_index(drop=True)\n",
    "], axis=1)"
   ]
  },
  {
   "cell_type": "code",
   "execution_count": 29,
   "id": "8ff2bad2-9a68-4e3d-82cb-4c96f5bf9cc1",
   "metadata": {},
   "outputs": [],
   "source": [
    "import pandas as pd\n",
    "import numpy as np\n",
    "import matplotlib.pyplot as plt\n",
    "from scipy.stats import pointbiserialr, chi2_contingency\n",
    "import statsmodels.api as sm\n",
    "from statsmodels.formula.api import ols\n",
    "\n"
   ]
  },
  {
   "cell_type": "code",
   "execution_count": 31,
   "id": "258d89fb-eb67-40a5-860e-6cb0f6ce53fc",
   "metadata": {},
   "outputs": [],
   "source": [
    "# 1) Define features and target\n",
    "numeric_features = ['Annual_Income', 'Credit_Score', 'Employment_Length', 'Age', 'Loan_Term']\n",
    "categorical_features = ['Loan_Purpose', 'Employment_Status', 'Loan_Categories', 'Region', 'Marital_Status']\n",
    "target = 'pred_value'  # continuous predictions column in merged_df\n",
    "\n"
   ]
  },
  {
   "cell_type": "code",
   "execution_count": 33,
   "id": "29e08ea7-f480-4d84-85a1-83426cced5c4",
   "metadata": {},
   "outputs": [],
   "source": [
    "# 2) Helper for one‐way ANOVA + η²\n",
    "def one_way_anova_eta(df, feat, target):\n",
    "    formula = f\"{target} ~ C({feat})\"\n",
    "    model = ols(formula, data=df).fit()\n",
    "    aov = sm.stats.anova_lm(model, typ=2)\n",
    "    ss_factor = aov.loc[f\"C({feat})\", \"sum_sq\"]\n",
    "    ss_total = aov[\"sum_sq\"].sum()\n",
    "    p_val = aov.loc[f\"C({feat})\", \"PR(>F)\"]\n",
    "    eta_sq = ss_factor / ss_total if ss_total > 0 else np.nan\n",
    "    return p_val, eta_sq\n"
   ]
  },
  {
   "cell_type": "code",
   "execution_count": 35,
   "id": "e5ac67fb-264d-4908-80a7-dc531adb4f74",
   "metadata": {},
   "outputs": [],
   "source": [
    "records = []\n",
    "\n",
    "# Categorical: ANOVA + η²\n",
    "for feat in categorical_features:\n",
    "    p_val, eta_sq = one_way_anova_eta(merged_df, feat, target)\n",
    "    # if p_val < 0.05:\n",
    "    records.append({\n",
    "            'Feature': feat,\n",
    "            'Type': 'Categorical',\n",
    "            'p_val': p_val,\n",
    "            'Effect_Size': eta_sq\n",
    "        })\n"
   ]
  },
  {
   "cell_type": "code",
   "execution_count": 37,
   "id": "497661c4-144d-441c-ba95-6d154ae691f9",
   "metadata": {},
   "outputs": [],
   "source": [
    "for feat in numeric_features:\n",
    "    X = sm.add_constant(merged_df[feat])\n",
    "    y = merged_df[target]\n",
    "    model = sm.OLS(y, X).fit()\n",
    "    beta = model.params[feat]\n",
    "    p_val = model.pvalues[feat]\n",
    "    # standardized beta = beta * (SD_x / SD_y)\n",
    "    std_beta = beta * (merged_df[feat].std() / merged_df[target].std())\n",
    "    # if p_val < 0.05:\n",
    "    records.append({\n",
    "            'Feature': feat,\n",
    "            'Type': 'Numeric',\n",
    "            'p_val': p_val,\n",
    "            'Effect_Size': abs(std_beta)\n",
    "        })\n"
   ]
  },
  {
   "cell_type": "code",
   "execution_count": 39,
   "id": "c3afa9bd-452e-4420-bf52-640e3d919dd8",
   "metadata": {},
   "outputs": [],
   "source": [
    "eff_df = pd.DataFrame(records)\n",
    "eff_df = eff_df.sort_values('Effect_Size', ascending=False).reset_index(drop=True)\n"
   ]
  },
  {
   "cell_type": "code",
   "execution_count": 46,
   "id": "7b1ead9e-6b72-45d4-b858-9a9f41a22512",
   "metadata": {},
   "outputs": [],
   "source": [
    "# eff_df = eff_df.sort_values('Effect_Size', ascending=False).reset_index(drop=True)"
   ]
  },
  {
   "cell_type": "code",
   "execution_count": 41,
   "id": "7386f54e-7d90-4665-9932-19eb861dcee0",
   "metadata": {},
   "outputs": [
    {
     "data": {
      "text/html": [
       "<div>\n",
       "<style scoped>\n",
       "    .dataframe tbody tr th:only-of-type {\n",
       "        vertical-align: middle;\n",
       "    }\n",
       "\n",
       "    .dataframe tbody tr th {\n",
       "        vertical-align: top;\n",
       "    }\n",
       "\n",
       "    .dataframe thead th {\n",
       "        text-align: right;\n",
       "    }\n",
       "</style>\n",
       "<table border=\"1\" class=\"dataframe\">\n",
       "  <thead>\n",
       "    <tr style=\"text-align: right;\">\n",
       "      <th></th>\n",
       "      <th>Feature</th>\n",
       "      <th>Type</th>\n",
       "      <th>p_val</th>\n",
       "      <th>Effect_Size</th>\n",
       "    </tr>\n",
       "  </thead>\n",
       "  <tbody>\n",
       "    <tr>\n",
       "      <th>0</th>\n",
       "      <td>Annual_Income</td>\n",
       "      <td>Numeric</td>\n",
       "      <td>7.604961e-279</td>\n",
       "      <td>0.588272</td>\n",
       "    </tr>\n",
       "    <tr>\n",
       "      <th>1</th>\n",
       "      <td>Credit_Score</td>\n",
       "      <td>Numeric</td>\n",
       "      <td>1.646121e-111</td>\n",
       "      <td>0.393222</td>\n",
       "    </tr>\n",
       "    <tr>\n",
       "      <th>2</th>\n",
       "      <td>Employment_Status</td>\n",
       "      <td>Categorical</td>\n",
       "      <td>6.765741e-244</td>\n",
       "      <td>0.311784</td>\n",
       "    </tr>\n",
       "    <tr>\n",
       "      <th>3</th>\n",
       "      <td>Loan_Categories</td>\n",
       "      <td>Categorical</td>\n",
       "      <td>5.280975e-106</td>\n",
       "      <td>0.149362</td>\n",
       "    </tr>\n",
       "    <tr>\n",
       "      <th>4</th>\n",
       "      <td>Loan_Purpose</td>\n",
       "      <td>Categorical</td>\n",
       "      <td>7.398381e-34</td>\n",
       "      <td>0.049635</td>\n",
       "    </tr>\n",
       "    <tr>\n",
       "      <th>5</th>\n",
       "      <td>Employment_Length</td>\n",
       "      <td>Numeric</td>\n",
       "      <td>1.069173e-01</td>\n",
       "      <td>0.029441</td>\n",
       "    </tr>\n",
       "    <tr>\n",
       "      <th>6</th>\n",
       "      <td>Age</td>\n",
       "      <td>Numeric</td>\n",
       "      <td>1.364057e-01</td>\n",
       "      <td>0.027197</td>\n",
       "    </tr>\n",
       "    <tr>\n",
       "      <th>7</th>\n",
       "      <td>Loan_Term</td>\n",
       "      <td>Numeric</td>\n",
       "      <td>6.350367e-01</td>\n",
       "      <td>0.008669</td>\n",
       "    </tr>\n",
       "    <tr>\n",
       "      <th>8</th>\n",
       "      <td>Region</td>\n",
       "      <td>Categorical</td>\n",
       "      <td>1.614542e-01</td>\n",
       "      <td>0.001716</td>\n",
       "    </tr>\n",
       "    <tr>\n",
       "      <th>9</th>\n",
       "      <td>Marital_Status</td>\n",
       "      <td>Categorical</td>\n",
       "      <td>8.096568e-01</td>\n",
       "      <td>0.000141</td>\n",
       "    </tr>\n",
       "  </tbody>\n",
       "</table>\n",
       "</div>"
      ],
      "text/plain": [
       "             Feature         Type          p_val  Effect_Size\n",
       "0      Annual_Income      Numeric  7.604961e-279     0.588272\n",
       "1       Credit_Score      Numeric  1.646121e-111     0.393222\n",
       "2  Employment_Status  Categorical  6.765741e-244     0.311784\n",
       "3    Loan_Categories  Categorical  5.280975e-106     0.149362\n",
       "4       Loan_Purpose  Categorical   7.398381e-34     0.049635\n",
       "5  Employment_Length      Numeric   1.069173e-01     0.029441\n",
       "6                Age      Numeric   1.364057e-01     0.027197\n",
       "7          Loan_Term      Numeric   6.350367e-01     0.008669\n",
       "8             Region  Categorical   1.614542e-01     0.001716\n",
       "9     Marital_Status  Categorical   8.096568e-01     0.000141"
      ]
     },
     "metadata": {},
     "output_type": "display_data"
    }
   ],
   "source": [
    "display(eff_df)"
   ]
  },
  {
   "cell_type": "code",
   "execution_count": 48,
   "id": "ace8bb0d-75d6-448b-8e4a-206e2c7b3a75",
   "metadata": {},
   "outputs": [
    {
     "data": {
      "image/png": "[encoded data removed]",
      "text/plain": [
       "<Figure size 800x600 with 1 Axes>"
      ]
     },
     "metadata": {},
     "output_type": "display_data"
    }
   ],
   "source": [
    "plt.figure(figsize=(8, 6))\n",
    "plt.barh(eff_df['Feature'], eff_df['Effect_Size'], color='skyblue')\n",
    "plt.xlabel(\"Effect Size (η² for categorical, |β_std| for numeric)\")\n",
    "plt.title(\"Ranked Effect Sizes for Features with p < 0.05\")\n",
    "plt.gca().invert_yaxis()\n",
    "plt.grid(axis='x', linestyle='--', alpha=0.6)\n",
    "plt.tight_layout()\n",
    "plt.show()"
   ]
  },
  {
   "cell_type": "code",
   "execution_count": 50,
   "id": "d95b1121-1b5a-4c36-a850-7b3fee0ccde5",
   "metadata": {},
   "outputs": [],
   "source": [
    "def compute_metrics(GT, R):\n",
    "    # True Positives, False Positives, False Negatives\n",
    "    TP = GT & R\n",
    "    FP = R - GT\n",
    "    FN = GT - R\n",
    "    \n",
    "    # Counts\n",
    "    tp, fp, fn = len(TP), len(FP), len(FN)\n",
    "    \n",
    "    # Metrics\n",
    "    precision = tp / (tp + fp) if (tp + fp) > 0 else 0\n",
    "    recall = tp / len(GT) if len(GT) > 0 else 0\n",
    "    fdr = fp / (tp + fp) if (tp + fp) > 0 else 0\n",
    "    \n",
    "    return {\n",
    "        'TP': TP, 'FP': FP, 'FN': FN,\n",
    "        'Precision': precision,\n",
    "        'Recall': recall,\n",
    "        'FDR': fdr\n",
    "    }\n",
    "\n",
    "\n",
    "GT = {\"annual_income\", \"credit_score\",\"Employment_Status\",\"Loan_Categories\",\"Loan_Purpose\"}\n",
    "R  = {\"annual_income\",\n",
    "        \"credit_score\",\n",
    "        \"Employment_Status\",\n",
    "        \"Loan_Categories\",\n",
    "        \"Loan_Purpose\"}"
   ]
  },
  {
   "cell_type": "code",
   "execution_count": 52,
   "id": "811c083a-3a56-4a8b-88be-76b347a46835",
   "metadata": {},
   "outputs": [],
   "source": [
    "metrics = compute_metrics(GT, R)"
   ]
  },
  {
   "cell_type": "code",
   "execution_count": 54,
   "id": "f6d2ba34-64b5-4f24-9b29-81f00acff3b1",
   "metadata": {},
   "outputs": [
    {
     "name": "stdout",
     "output_type": "stream",
     "text": [
      "True Positives (TP): {'Loan_Categories', 'credit_score', 'Loan_Purpose', 'annual_income', 'Employment_Status'}\n",
      "False Positives (FP): set()\n",
      "False Negatives (FN): set()\n",
      "Precision: 1.000\n",
      "Recall:    1.000\n",
      "FDR:       0.000\n"
     ]
    }
   ],
   "source": [
    "print(\"True Positives (TP):\", metrics['TP'])\n",
    "print(\"False Positives (FP):\", metrics['FP'])\n",
    "print(\"False Negatives (FN):\", metrics['FN'])\n",
    "print(f\"Precision: {metrics['Precision']:.3f}\")\n",
    "print(f\"Recall:    {metrics['Recall']:.3f}\")\n",
    "print(f\"FDR:       {metrics['FDR']:.3f}\")"
   ]
  },
  {
   "cell_type": "code",
   "execution_count": 56,
   "id": "f8f8f2f4-5798-4342-9943-e187a1f7b03d",
   "metadata": {},
   "outputs": [],
   "source": [
    "#SEM"
   ]
  },
  {
   "cell_type": "code",
   "execution_count": 58,
   "id": "eba10705-220b-4888-a845-40f10a404be6",
   "metadata": {},
   "outputs": [],
   "source": [
    "from semopy import Model\n",
    "import matplotlib.pyplot as plt\n",
    "from sklearn.preprocessing import StandardScaler"
   ]
  },
  {
   "cell_type": "code",
   "execution_count": 60,
   "id": "23f908eb-8cf8-4d41-914a-ec1eff2c9682",
   "metadata": {},
   "outputs": [],
   "source": [
    "categorical_cols = ['Loan_Purpose', 'Employment_Status', 'Loan_Categories', 'Region', 'Marital_Status']\n",
    "df_encoded = pd.get_dummies(merged_df, columns=categorical_cols, drop_first=False)\n",
    "df_encoded.columns = df_encoded.columns.str.replace(\"-\", \"_\").str.replace(\" \", \"_\")"
   ]
  },
  {
   "cell_type": "code",
   "execution_count": 62,
   "id": "1f7ded5e-d7e1-4ea2-85d5-f8d3152853d3",
   "metadata": {},
   "outputs": [],
   "source": [
    "nums = ['Annual_Income','Credit_Score','Employment_Length','Age','Loan_Term']\n",
    "scaler = StandardScaler()\n",
    "df_encoded[nums] = scaler.fit_transform(df_encoded[nums])"
   ]
  },
  {
   "cell_type": "code",
   "execution_count": 64,
   "id": "8fa347d4-9a2f-479d-b417-e883dfe93f2b",
   "metadata": {},
   "outputs": [],
   "source": [
    "model_desc = \"\"\"\n",
    "# Measurement model (latent constructs from categorical dummy variables)\n",
    "LoanPurpose      =~ Loan_Purpose_Car + Loan_Purpose_Home + Loan_Purpose_Personal\n",
    "EmploymentStatus =~ Employment_Status_Self_employed + Employment_Status_Unemployed + Employment_Status_Employed\n",
    "LoanCategories   =~ Loan_Categories_Large + Loan_Categories_Medium + Loan_Categories_Small\n",
    "RegionLatent     =~ Region_South + Region_East + Region_West + Region_North\n",
    "MaritalStatus    =~ Marital_Status_Divorced + Marital_Status_Married + Marital_Status_Single\n",
    "\n",
    "# Structural model: all features pointing to Approval_Probability\n",
    "pred_value ~ Annual_Income + Credit_Score + Employment_Length + Age + Loan_Term + LoanPurpose + EmploymentStatus + LoanCategories + RegionLatent + MaritalStatus\n",
    "\"\"\"\n",
    "\n"
   ]
  },
  {
   "cell_type": "code",
   "execution_count": 66,
   "id": "14819cf4-81cd-466c-9974-4ad46e74044a",
   "metadata": {},
   "outputs": [
    {
     "name": "stderr",
     "output_type": "stream",
     "text": [
      "WARNING:root:Sample covariance matrix is not PD. It may indicate that data is bad. Also, it arises often when polychoric/polyserial correlations are used. semopy now will run nearPD subroutines.\n"
     ]
    },
    {
     "data": {
      "text/plain": [
       "SolverResult(fun=18.700827290295496, success=True, n_it=57, x=array([-4.92193055e-01, -4.97721908e-01, -4.84417443e-01, -5.05841372e-01,\n",
       "       -4.89636709e-01, -5.00300626e-01, -3.23351233e-01, -3.21145924e-01,\n",
       "       -3.45505984e-01, -4.77948485e-01, -5.12057199e-01,  1.16654740e-01,\n",
       "        8.68404383e-02, -2.94703961e-03, -1.80940032e-03,  9.38723419e-04,\n",
       "       -4.42047890e-02,  1.93002183e-01, -1.56122192e-01,  7.49480203e-03,\n",
       "        6.25655102e-04,  2.21294030e-01, -5.53247068e-03, -7.97410140e-03,\n",
       "        1.68444334e-01,  4.50565543e-09,  1.68257127e-01,  2.23421842e-01,\n",
       "        4.20599800e-03,  4.23516463e-03, -5.36435564e-03, -3.90500608e-03,\n",
       "        2.23623688e-01, -5.32028662e-03, -4.85855909e-03, -1.11214914e-03,\n",
       "        4.54783675e-09,  1.66855873e-01,  1.66833941e-01,  4.56416322e-09,\n",
       "        1.66666166e-01,  1.66687980e-01,  2.24181865e-01, -3.53801236e-03,\n",
       "        4.57536432e-09,  1.66028525e-01,  1.66148274e-01,  1.90015685e-01,\n",
       "        1.64257367e-01,  1.69671871e-01,  3.90643554e-09,  1.63668412e-01,\n",
       "        7.93202463e-03]), message='Optimization terminated successfully', name_method='SLSQP', name_obj='MLW')"
      ]
     },
     "execution_count": 66,
     "metadata": {},
     "output_type": "execute_result"
    }
   ],
   "source": [
    "model = Model(model_desc)\n",
    "model.fit(df_encoded)"
   ]
  },
  {
   "cell_type": "code",
   "execution_count": 68,
   "id": "91f2a452-f642-4a3b-b8f2-d86172ed809e",
   "metadata": {},
   "outputs": [],
   "source": [
    "std_est = model.inspect(std_est=True)"
   ]
  },
  {
   "cell_type": "code",
   "execution_count": 76,
   "id": "5bfdf77d-1b5d-4cfe-bd21-7f1722ffa98a",
   "metadata": {},
   "outputs": [],
   "source": [
    "lhs_col = \"lhs\" if \"lhs\" in std_est.columns else \"lval\"\n",
    "rhs_col = \"rhs\" if \"rhs\" in std_est.columns else \"rval\"\n",
    "p_col = \"pval\" if \"pval\" in std_est.columns else \"p-value\"\n",
    "\n",
    "effect_col = \"std_est\" if \"std_est\" in std_est.columns else \"Est. Std\" \n",
    "\n",
    "# Filter: Only regression paths into the output variable\n",
    "mask = (std_est[\"op\"] == \"~\") & (std_est[lhs_col] == \"pred_value\")\n",
    "results = std_est.loc[mask, [rhs_col, effect_col, p_col]].rename(\n",
    "    columns={rhs_col: \"Feature\", effect_col: \"EffectSize\", p_col: \"p_value\"}\n",
    ")\n",
    "\n",
    "# Rank by absolute effect size\n",
    "results[\"abs_effect\"] = results[\"EffectSize\"].abs()\n",
    "results = results.sort_values(\"abs_effect\", ascending=False)"
   ]
  },
  {
   "cell_type": "code",
   "execution_count": 78,
   "id": "91651f94-0c51-4f6a-83ad-4920f5a9b8a7",
   "metadata": {},
   "outputs": [],
   "source": [
    "# results = pd.DataFrame(data)\n",
    "results[\"abs_effect\"] = results[\"EffectSize\"].abs()\n",
    "\n",
    "# Filter features with p-value < 0.05\n",
    "significant = results[results[\"p_value\"] < 0.05]\n",
    "\n",
    "# Sort by effect size for a clean visual\n",
    "significant = significant.sort_values(\"abs_effect\",ascending = True)"
   ]
  },
  {
   "cell_type": "code",
   "execution_count": 80,
   "id": "98bf59ba-c874-4b2a-ab5d-9ede35d5c225",
   "metadata": {},
   "outputs": [
    {
     "data": {
      "text/html": [
       "<div>\n",
       "<style scoped>\n",
       "    .dataframe tbody tr th:only-of-type {\n",
       "        vertical-align: middle;\n",
       "    }\n",
       "\n",
       "    .dataframe tbody tr th {\n",
       "        vertical-align: top;\n",
       "    }\n",
       "\n",
       "    .dataframe thead th {\n",
       "        text-align: right;\n",
       "    }\n",
       "</style>\n",
       "<table border=\"1\" class=\"dataframe\">\n",
       "  <thead>\n",
       "    <tr style=\"text-align: right;\">\n",
       "      <th></th>\n",
       "      <th>Feature</th>\n",
       "      <th>EffectSize</th>\n",
       "      <th>p_value</th>\n",
       "      <th>abs_effect</th>\n",
       "    </tr>\n",
       "  </thead>\n",
       "  <tbody>\n",
       "    <tr>\n",
       "      <th>24</th>\n",
       "      <td>RegionLatent</td>\n",
       "      <td>0.015704</td>\n",
       "      <td>0.048047</td>\n",
       "      <td>0.015704</td>\n",
       "    </tr>\n",
       "    <tr>\n",
       "      <th>21</th>\n",
       "      <td>LoanPurpose</td>\n",
       "      <td>-0.100484</td>\n",
       "      <td>0.0</td>\n",
       "      <td>0.100484</td>\n",
       "    </tr>\n",
       "    <tr>\n",
       "      <th>23</th>\n",
       "      <td>LoanCategories</td>\n",
       "      <td>-0.354729</td>\n",
       "      <td>0.0</td>\n",
       "      <td>0.354729</td>\n",
       "    </tr>\n",
       "    <tr>\n",
       "      <th>17</th>\n",
       "      <td>Credit_Score</td>\n",
       "      <td>0.417437</td>\n",
       "      <td>0.0</td>\n",
       "      <td>0.417437</td>\n",
       "    </tr>\n",
       "    <tr>\n",
       "      <th>22</th>\n",
       "      <td>EmploymentStatus</td>\n",
       "      <td>0.436431</td>\n",
       "      <td>0.0</td>\n",
       "      <td>0.436431</td>\n",
       "    </tr>\n",
       "    <tr>\n",
       "      <th>16</th>\n",
       "      <td>Annual_Income</td>\n",
       "      <td>0.560753</td>\n",
       "      <td>0.0</td>\n",
       "      <td>0.560753</td>\n",
       "    </tr>\n",
       "  </tbody>\n",
       "</table>\n",
       "</div>"
      ],
      "text/plain": [
       "             Feature  EffectSize   p_value  abs_effect\n",
       "24      RegionLatent    0.015704  0.048047    0.015704\n",
       "21       LoanPurpose   -0.100484       0.0    0.100484\n",
       "23    LoanCategories   -0.354729       0.0    0.354729\n",
       "17      Credit_Score    0.417437       0.0    0.417437\n",
       "22  EmploymentStatus    0.436431       0.0    0.436431\n",
       "16     Annual_Income    0.560753       0.0    0.560753"
      ]
     },
     "execution_count": 80,
     "metadata": {},
     "output_type": "execute_result"
    }
   ],
   "source": [
    "significant"
   ]
  },
  {
   "cell_type": "code",
   "execution_count": 82,
   "id": "ff302c6e-fc03-46bf-803d-3e21f0c88ccc",
   "metadata": {},
   "outputs": [
    {
     "data": {
      "image/png": "[encoded data removed]",
      "text/plain": [
       "<Figure size 1000x600 with 1 Axes>"
      ]
     },
     "metadata": {},
     "output_type": "display_data"
    }
   ],
   "source": [
    "plt.figure(figsize=(10, 6))\n",
    "plt.barh(significant[\"Feature\"], significant[\"abs_effect\"])\n",
    "plt.xlabel(\"Standardized Effect Size (Beta)\")\n",
    "plt.title(\"Significant Feature Effects (p < 0.05)\")\n",
    "plt.grid(True, linestyle=\"--\", alpha=0.7)\n",
    "plt.tight_layout()\n",
    "plt.show()"
   ]
  },
  {
   "cell_type": "code",
   "execution_count": 84,
   "id": "47e4afbe-6ef6-405c-aa84-b8629bb26ae4",
   "metadata": {},
   "outputs": [],
   "source": [
    "def compute_metrics(GT, R):\n",
    "    # True Positives, False Positives, False Negatives\n",
    "    TP = GT & R\n",
    "    FP = R - GT\n",
    "    FN = GT - R\n",
    "    \n",
    "    # Counts\n",
    "    tp, fp, fn = len(TP), len(FP), len(FN)\n",
    "    \n",
    "    # Metrics\n",
    "    precision = tp / (tp + fp) if (tp + fp) > 0 else 0\n",
    "    recall = tp / len(GT) if len(GT) > 0 else 0\n",
    "    fdr = fp / (tp + fp) if (tp + fp) > 0 else 0\n",
    "    \n",
    "    return {\n",
    "        'TP': TP, 'FP': FP, 'FN': FN,\n",
    "        'Precision': precision,\n",
    "        'Recall': recall,\n",
    "        'FDR': fdr\n",
    "    }\n",
    "\n",
    "\n",
    "GT = {\"annual_income\", \"credit_score\",\"Employment_Status\",\"Loan_Categories\",\"Loan_Purpose\"}\n",
    "R  = {\"annual_income\",\n",
    "        \"Employment_Status\",\n",
    "        \"credit_score\",\n",
    "        \"Loan_Categories\",\n",
    "        \"Loan_Purpose\",\n",
    "        \"RegionLatent\"}"
   ]
  },
  {
   "cell_type": "code",
   "execution_count": 86,
   "id": "8801fd5a-6f0e-475b-9086-228b3c91046c",
   "metadata": {},
   "outputs": [],
   "source": [
    "metrics = compute_metrics(GT, R)"
   ]
  },
  {
   "cell_type": "code",
   "execution_count": 88,
   "id": "afdecd06-8fee-499f-809f-42dc1cde030e",
   "metadata": {},
   "outputs": [
    {
     "name": "stdout",
     "output_type": "stream",
     "text": [
      "True Positives (TP): {'Loan_Categories', 'credit_score', 'Loan_Purpose', 'annual_income', 'Employment_Status'}\n",
      "False Positives (FP): {'RegionLatent'}\n",
      "False Negatives (FN): set()\n",
      "Precision: 0.833\n",
      "Recall:    1.000\n",
      "FDR:       0.167\n"
     ]
    }
   ],
   "source": [
    "\n",
    "print(\"True Positives (TP):\", metrics['TP'])\n",
    "print(\"False Positives (FP):\", metrics['FP'])\n",
    "print(\"False Negatives (FN):\", metrics['FN'])\n",
    "print(f\"Precision: {metrics['Precision']:.3f}\")\n",
    "print(f\"Recall:    {metrics['Recall']:.3f}\")\n",
    "print(f\"FDR:       {metrics['FDR']:.3f}\")"
   ]
  },
  {
   "cell_type": "code",
   "execution_count": 25,
   "id": "3c6cc6e9-35e4-4957-beac-7502de38af71",
   "metadata": {},
   "outputs": [],
   "source": [
    "import shap\n",
    "import numpy as np\n",
    "import psutil\n",
    "import os\n",
    "import torch.optim as optim\n",
    "import matplotlib.pyplot as plt"
   ]
  },
  {
   "cell_type": "code",
   "execution_count": 74,
   "id": "231619cf-583b-4b9b-a3bc-191a9326a303",
   "metadata": {},
   "outputs": [],
   "source": [
    "X_train_num  = scaler.transform(train_df[num_feats])\n",
    "X_test_num   = scaler.transform(test_df[num_feats])\n",
    "y_train      = train_df[target].values.astype(float)\n",
    "y_test       = test_df[target].values.astype(float)\n",
    "X_train_cat  = train_df[cat_feats].values.astype(int)\n",
    "X_test_cat   = test_df[cat_feats].values.astype(int)"
   ]
  },
  {
   "cell_type": "code",
   "execution_count": 76,
   "id": "93a3baef-87d9-4c15-9783-2d475bec6884",
   "metadata": {},
   "outputs": [],
   "source": [
    "# X_train_all = np.hstack([X_train_num, X_train_cat])\n",
    "# X_test_all  = np.hstack([X_test_num,  X_test_cat])\n"
   ]
  },
  {
   "cell_type": "code",
   "execution_count": 27,
   "id": "08e945e2-554e-4588-b5bd-ae1fbd9aa6db",
   "metadata": {},
   "outputs": [],
   "source": [
    "X_train_all = np.hstack([train_num, train_df[cat_feats].values])  # (n_train, 10)\n",
    "X_test_all  = np.hstack([test_num,  test_df[cat_feats].values])   # (n_test,  10)\n"
   ]
  },
  {
   "cell_type": "code",
   "execution_count": 62,
   "id": "d3468288-3fd7-4a4c-925f-6b43ae7c398a",
   "metadata": {},
   "outputs": [],
   "source": [
    "feature_name = num_feats + cat_feats"
   ]
  },
  {
   "cell_type": "code",
   "execution_count": 29,
   "id": "da193b4d-c8ec-4625-a032-77d804536be7",
   "metadata": {},
   "outputs": [],
   "source": [
    "feature_names = (\n",
    "    num_feats +\n",
    "    [f\"{col}_{lvl}\" for col in cat_feats for lvl in cat_categories[col]]\n",
    ")"
   ]
  },
  {
   "cell_type": "code",
   "execution_count": 31,
   "id": "d7a6b00f-45e6-4599-8887-c0e0fe6ec197",
   "metadata": {},
   "outputs": [],
   "source": [
    "def predict_regression(x_np):\n",
    "    \"\"\"\n",
    "    x_np: np.array of shape (batch, D=10)\n",
    "      first 5 columns = scaled numerics\n",
    "      next 5 columns = integer codes\n",
    "    returns: (batch,) continuous outputs\n",
    "    \"\"\"\n",
    "    x_num = torch.from_numpy(x_np[:, :len(num_feats)]).float().to(device)\n",
    "    x_cat = torch.from_numpy(x_np[:, len(num_feats):].astype(int)).long().to(device)\n",
    "    model.eval()\n",
    "    with torch.no_grad():\n",
    "        out = model(x_num, x_cat).cpu().numpy().flatten()\n",
    "    return out"
   ]
  },
  {
   "cell_type": "code",
   "execution_count": 33,
   "id": "31bb948c-25f3-4786-a4e4-453041b3c98c",
   "metadata": {},
   "outputs": [],
   "source": [
    "bg_size    = 200\n",
    "bg_inds    = np.random.choice(len(X_train_all), size=bg_size, replace=False)\n",
    "background = X_train_all[bg_inds]"
   ]
  },
  {
   "cell_type": "code",
   "execution_count": 35,
   "id": "b753c075-daef-4ba5-8cbd-5f9c5314c3f8",
   "metadata": {},
   "outputs": [
    {
     "name": "stderr",
     "output_type": "stream",
     "text": [
      "Using 200 background data samples could cause slower run times. Consider using shap.sample(data, K) or shap.kmeans(data, K) to summarize the background as K samples.\n"
     ]
    }
   ],
   "source": [
    "explainer = shap.KernelExplainer(predict_regression, background)\n"
   ]
  },
  {
   "cell_type": "code",
   "execution_count": 37,
   "id": "00f81e30-179e-4b43-8c5f-05618e04429c",
   "metadata": {},
   "outputs": [
    {
     "data": {
      "application/vnd.jupyter.widget-view+json": {
       "model_id": "a0a6b9c8ae0c467983c9adee33a2416d",
       "version_major": 2,
       "version_minor": 0
      },
      "text/plain": [
       "  0%|          | 0/512 [00:00<?, ?it/s]"
      ]
     },
     "metadata": {},
     "output_type": "display_data"
    },
    {
     "data": {
      "application/vnd.jupyter.widget-view+json": {
       "model_id": "f9dd39d29af742f68b16b07eea61532a",
       "version_major": 2,
       "version_minor": 0
      },
      "text/plain": [
       "  0%|          | 0/512 [00:00<?, ?it/s]"
      ]
     },
     "metadata": {},
     "output_type": "display_data"
    },
    {
     "data": {
      "application/vnd.jupyter.widget-view+json": {
       "model_id": "36316c2361a14cbd8bd56378d6367136",
       "version_major": 2,
       "version_minor": 0
      },
      "text/plain": [
       "  0%|          | 0/512 [00:00<?, ?it/s]"
      ]
     },
     "metadata": {},
     "output_type": "display_data"
    },
    {
     "data": {
      "application/vnd.jupyter.widget-view+json": {
       "model_id": "b94477c9ed3f42f39fb795e904716b20",
       "version_major": 2,
       "version_minor": 0
      },
      "text/plain": [
       "  0%|          | 0/512 [00:00<?, ?it/s]"
      ]
     },
     "metadata": {},
     "output_type": "display_data"
    },
    {
     "data": {
      "application/vnd.jupyter.widget-view+json": {
       "model_id": "801f24c3ec9d4ee6891874bcd8513605",
       "version_major": 2,
       "version_minor": 0
      },
      "text/plain": [
       "  0%|          | 0/512 [00:00<?, ?it/s]"
      ]
     },
     "metadata": {},
     "output_type": "display_data"
    },
    {
     "data": {
      "application/vnd.jupyter.widget-view+json": {
       "model_id": "0699e9409a36406ca5e1d7af8b972fc1",
       "version_major": 2,
       "version_minor": 0
      },
      "text/plain": [
       "  0%|          | 0/440 [00:00<?, ?it/s]"
      ]
     },
     "metadata": {},
     "output_type": "display_data"
    }
   ],
   "source": [
    "all_shap = []\n",
    "batch_size = 512\n",
    "for i in range(0, len(X_test_all), batch_size):\n",
    "    Xb = X_test_all[i : i + batch_size]\n",
    "    sv = explainer.shap_values(Xb, nsamples=100)  # → (batch, 10)\n",
    "    all_shap.append(sv)"
   ]
  },
  {
   "cell_type": "code",
   "execution_count": 41,
   "id": "3036f7ab-636e-46e8-baa6-9873bcbab41c",
   "metadata": {},
   "outputs": [],
   "source": [
    "all_shap_values = np.vstack(all_shap)     "
   ]
  },
  {
   "cell_type": "code",
   "execution_count": 45,
   "id": "a6575a62-41be-4afc-ad89-bf90e93bed99",
   "metadata": {},
   "outputs": [
    {
     "data": {
      "text/plain": [
       "['Annual_Income',\n",
       " 'Credit_Score',\n",
       " 'Employment_Length',\n",
       " 'Age',\n",
       " 'Loan_Term',\n",
       " 'Loan_Purpose_Car',\n",
       " 'Loan_Purpose_Home',\n",
       " 'Loan_Purpose_Personal',\n",
       " 'Employment_Status_Employed',\n",
       " 'Employment_Status_Self-employed',\n",
       " 'Employment_Status_Unemployed',\n",
       " 'Loan_Categories_Large',\n",
       " 'Loan_Categories_Medium',\n",
       " 'Loan_Categories_Small',\n",
       " 'Region_East',\n",
       " 'Region_North',\n",
       " 'Region_South',\n",
       " 'Region_West',\n",
       " 'Marital_Status_Divorced',\n",
       " 'Marital_Status_Married',\n",
       " 'Marital_Status_Single']"
      ]
     },
     "execution_count": 45,
     "metadata": {},
     "output_type": "execute_result"
    }
   ],
   "source": [
    "feature_names"
   ]
  },
  {
   "cell_type": "code",
   "execution_count": null,
   "id": "e5f5b537-f385-442d-a4b0-630f406458c7",
   "metadata": {},
   "outputs": [],
   "source": []
  },
  {
   "cell_type": "code",
   "execution_count": 64,
   "id": "01d41695-6ea1-4c76-97c3-d80f6cbe3a94",
   "metadata": {},
   "outputs": [],
   "source": [
    "mean_abs_enc = pd.Series(\n",
    "    np.abs(all_shap_values).mean(axis=0),\n",
    "    index=feature_name\n",
    ")"
   ]
  },
  {
   "cell_type": "code",
   "execution_count": 68,
   "id": "74890432-77d0-4fd7-bd4b-a16857f98774",
   "metadata": {
    "scrolled": true
   },
   "outputs": [],
   "source": [
    "mean_orig_sorted = mean_abs_enc.sort_values(ascending=False)"
   ]
  },
  {
   "cell_type": "code",
   "execution_count": 70,
   "id": "20597215-41e4-4114-929b-f9669e953510",
   "metadata": {},
   "outputs": [
    {
     "data": {
      "text/plain": [
       "Annual_Income        0.108402\n",
       "Employment_Status    0.100812\n",
       "Credit_Score         0.087452\n",
       "Loan_Categories      0.073041\n",
       "Loan_Purpose         0.029732\n",
       "Loan_Term            0.002381\n",
       "Employment_Length    0.001626\n",
       "Region               0.001549\n",
       "Marital_Status       0.001098\n",
       "Age                  0.000779\n",
       "dtype: float64"
      ]
     },
     "execution_count": 70,
     "metadata": {},
     "output_type": "execute_result"
    }
   ],
   "source": [
    "mean_orig_sorted"
   ]
  },
  {
   "cell_type": "code",
   "execution_count": 76,
   "id": "f99fffde-4b37-4f48-8378-37bb862c8e57",
   "metadata": {},
   "outputs": [
    {
     "data": {
      "image/png": "[encoded data removed]",
      "text/plain": [
       "<Figure size 600x400 with 1 Axes>"
      ]
     },
     "metadata": {},
     "output_type": "display_data"
    }
   ],
   "source": [
    "os.makedirs(\"shap\", exist_ok=True)\n",
    "plt.figure(figsize=(6,4))\n",
    "mean_orig_sorted.plot.barh()\n",
    "plt.xlabel(\"mean(|SHAP value|)\")\n",
    "plt.title(\"Mean absolute SHAP - Numerical and Categorical Features\")\n",
    "plt.gca().invert_yaxis()\n",
    "plt.tight_layout()\n",
    "out_path = os.path.join(\"shap\", \"Transformer_numerical categorical_regression_test_shap_summary.jpg\")\n",
    "plt.savefig(out_path, format=\"jpg\", dpi=300)\n",
    "plt.show()"
   ]
  },
  {
   "cell_type": "code",
   "execution_count": 80,
   "id": "44fa080b-c8a0-4136-b59b-8d878c8650c2",
   "metadata": {},
   "outputs": [],
   "source": [
    "def compute_metrics(GT, R):\n",
    "    # True Positives, False Positives, False Negatives\n",
    "    TP = GT & R\n",
    "    FP = R - GT\n",
    "    FN = GT - R\n",
    "    \n",
    "    # Counts\n",
    "    tp, fp, fn = len(TP), len(FP), len(FN)\n",
    "    \n",
    "    # Metrics\n",
    "    precision = tp / (tp + fp) if (tp + fp) > 0 else 0\n",
    "    recall = tp / len(GT) if len(GT) > 0 else 0\n",
    "    fdr = fp / (tp + fp) if (tp + fp) > 0 else 0\n",
    "    \n",
    "    return {\n",
    "        'TP': TP, 'FP': FP, 'FN': FN,\n",
    "        'Precision': precision,\n",
    "        'Recall': recall,\n",
    "        'FDR': fdr\n",
    "    }\n",
    "\n",
    "\n",
    "GT = {\"annual_income\", \"credit_score\",\"Employment_Status\",\"Loan_Categories\",\"Loan_Purpose\"}\n",
    "R  = {\"annual_income\",\n",
    "        \"Employment_Status\",\n",
    "        \"credit_score\",\n",
    "        \"Loan_Categories\",\n",
    "        \"Loan_Purpose\",\n",
    "      \"Loan_Term\",\n",
    "      \"Employment_Length\",\n",
    "        \"Region\",\n",
    "     \"Marital_Status\",\n",
    "    \"Age\" }"
   ]
  },
  {
   "cell_type": "code",
   "execution_count": 82,
   "id": "3096dd78-a021-4bfb-8d5b-089cb457028e",
   "metadata": {},
   "outputs": [
    {
     "name": "stdout",
     "output_type": "stream",
     "text": [
      "True Positives (TP): {'Loan_Purpose', 'Employment_Status', 'credit_score', 'annual_income', 'Loan_Categories'}\n",
      "False Positives (FP): {'Loan_Term', 'Age', 'Employment_Length', 'Marital_Status', 'Region'}\n",
      "False Negatives (FN): set()\n",
      "Precision: 0.500\n",
      "Recall:    1.000\n",
      "FDR:       0.500\n"
     ]
    }
   ],
   "source": [
    "metrics = compute_metrics(GT, R)\n",
    "print(\"True Positives (TP):\", metrics['TP'])\n",
    "print(\"False Positives (FP):\", metrics['FP'])\n",
    "print(\"False Negatives (FN):\", metrics['FN'])\n",
    "print(f\"Precision: {metrics['Precision']:.3f}\")\n",
    "print(f\"Recall:    {metrics['Recall']:.3f}\")\n",
    "print(f\"FDR:       {metrics['FDR']:.3f}\")"
   ]
  },
  {
   "cell_type": "code",
   "execution_count": null,
   "id": "f4d0d798-8bcc-41b7-a5ab-4387ea072765",
   "metadata": {},
   "outputs": [],
   "source": []
  }
 ],
 "metadata": {
  "kernelspec": {
   "display_name": "Python [conda env:base] *",
   "language": "python",
   "name": "conda-base-py"
  },
  "language_info": {
   "codemirror_mode": {
    "name": "ipython",
    "version": 3
   },
   "file_extension": ".py",
   "mimetype": "text/x-python",
   "name": "python",
   "nbconvert_exporter": "python",
   "pygments_lexer": "ipython3",
   "version": "3.12.7"
  }
 },
 "nbformat": 4,
 "nbformat_minor": 5
}

{
 "cells": [
  {
   "cell_type": "code",
   "execution_count": 2,
   "id": "837ba68e-24c9-4418-b568-43be74b96144",
   "metadata": {},
   "outputs": [],
   "source": [
    "import pandas as pd\n",
    "from sklearn.model_selection import train_test_split\n",
    "from sklearn.metrics import mean_squared_error, r2_score\n",
    "\n",
    "import torch\n",
    "import torch.nn as nn\n",
    "from torch.utils.data import Dataset, DataLoader"
   ]
  },
  {
   "cell_type": "code",
   "execution_count": 4,
   "id": "dfe54d11-e4ac-4124-a205-16943bc155b7",
   "metadata": {},
   "outputs": [],
   "source": [
    "df = pd.read_csv(\"/Users/Downloads/Loan Approval Categorical Synthetic Dataset.csv\")"
   ]
  },
  {
   "cell_type": "code",
   "execution_count": 6,
   "id": "912f1208-4dce-4d2b-a3c4-0587b056b413",
   "metadata": {},
   "outputs": [
    {
     "data": {
      "text/html": [
       "<div>\n",
       "<style scoped>\n",
       "    .dataframe tbody tr th:only-of-type {\n",
       "        vertical-align: middle;\n",
       "    }\n",
       "\n",
       "    .dataframe tbody tr th {\n",
       "        vertical-align: top;\n",
       "    }\n",
       "\n",
       "    .dataframe thead th {\n",
       "        text-align: right;\n",
       "    }\n",
       "</style>\n",
       "<table border=\"1\" class=\"dataframe\">\n",
       "  <thead>\n",
       "    <tr style=\"text-align: right;\">\n",
       "      <th></th>\n",
       "      <th>Unnamed: 0</th>\n",
       "      <th>Credit_History</th>\n",
       "      <th>Income_Level</th>\n",
       "      <th>Loan_Amount</th>\n",
       "      <th>Zip_Code</th>\n",
       "      <th>Education_Level</th>\n",
       "      <th>Approval_Prob</th>\n",
       "      <th>Loan_Approval</th>\n",
       "    </tr>\n",
       "  </thead>\n",
       "  <tbody>\n",
       "    <tr>\n",
       "      <th>0</th>\n",
       "      <td>0</td>\n",
       "      <td>Fair</td>\n",
       "      <td>Low</td>\n",
       "      <td>Small</td>\n",
       "      <td>Suburban</td>\n",
       "      <td>High School</td>\n",
       "      <td>0.545770</td>\n",
       "      <td>Approved</td>\n",
       "    </tr>\n",
       "    <tr>\n",
       "      <th>1</th>\n",
       "      <td>1</td>\n",
       "      <td>Good</td>\n",
       "      <td>Low</td>\n",
       "      <td>Large</td>\n",
       "      <td>Urban</td>\n",
       "      <td>High School</td>\n",
       "      <td>0.582107</td>\n",
       "      <td>Approved</td>\n",
       "    </tr>\n",
       "    <tr>\n",
       "      <th>2</th>\n",
       "      <td>2</td>\n",
       "      <td>Good</td>\n",
       "      <td>Low</td>\n",
       "      <td>Medium</td>\n",
       "      <td>Rural</td>\n",
       "      <td>High School</td>\n",
       "      <td>0.646670</td>\n",
       "      <td>Approved</td>\n",
       "    </tr>\n",
       "    <tr>\n",
       "      <th>3</th>\n",
       "      <td>3</td>\n",
       "      <td>Fair</td>\n",
       "      <td>Medium</td>\n",
       "      <td>Medium</td>\n",
       "      <td>Urban</td>\n",
       "      <td>High School</td>\n",
       "      <td>0.379236</td>\n",
       "      <td>Disapproved</td>\n",
       "    </tr>\n",
       "    <tr>\n",
       "      <th>4</th>\n",
       "      <td>4</td>\n",
       "      <td>Bad</td>\n",
       "      <td>Medium</td>\n",
       "      <td>Medium</td>\n",
       "      <td>Suburban</td>\n",
       "      <td>High School</td>\n",
       "      <td>0.633403</td>\n",
       "      <td>Approved</td>\n",
       "    </tr>\n",
       "    <tr>\n",
       "      <th>...</th>\n",
       "      <td>...</td>\n",
       "      <td>...</td>\n",
       "      <td>...</td>\n",
       "      <td>...</td>\n",
       "      <td>...</td>\n",
       "      <td>...</td>\n",
       "      <td>...</td>\n",
       "      <td>...</td>\n",
       "    </tr>\n",
       "    <tr>\n",
       "      <th>9995</th>\n",
       "      <td>9995</td>\n",
       "      <td>Good</td>\n",
       "      <td>High</td>\n",
       "      <td>Small</td>\n",
       "      <td>Suburban</td>\n",
       "      <td>Bachelor</td>\n",
       "      <td>0.905898</td>\n",
       "      <td>Approved</td>\n",
       "    </tr>\n",
       "    <tr>\n",
       "      <th>9996</th>\n",
       "      <td>9996</td>\n",
       "      <td>Good</td>\n",
       "      <td>Low</td>\n",
       "      <td>Small</td>\n",
       "      <td>Suburban</td>\n",
       "      <td>High School</td>\n",
       "      <td>0.635281</td>\n",
       "      <td>Approved</td>\n",
       "    </tr>\n",
       "    <tr>\n",
       "      <th>9997</th>\n",
       "      <td>9997</td>\n",
       "      <td>Good</td>\n",
       "      <td>Low</td>\n",
       "      <td>Large</td>\n",
       "      <td>Urban</td>\n",
       "      <td>Master</td>\n",
       "      <td>0.662883</td>\n",
       "      <td>Approved</td>\n",
       "    </tr>\n",
       "    <tr>\n",
       "      <th>9998</th>\n",
       "      <td>9998</td>\n",
       "      <td>Fair</td>\n",
       "      <td>Medium</td>\n",
       "      <td>Medium</td>\n",
       "      <td>Urban</td>\n",
       "      <td>Bachelor</td>\n",
       "      <td>0.320122</td>\n",
       "      <td>Disapproved</td>\n",
       "    </tr>\n",
       "    <tr>\n",
       "      <th>9999</th>\n",
       "      <td>9999</td>\n",
       "      <td>Fair</td>\n",
       "      <td>Low</td>\n",
       "      <td>Large</td>\n",
       "      <td>Urban</td>\n",
       "      <td>Master</td>\n",
       "      <td>0.317652</td>\n",
       "      <td>Disapproved</td>\n",
       "    </tr>\n",
       "  </tbody>\n",
       "</table>\n",
       "<p>10000 rows × 8 columns</p>\n",
       "</div>"
      ],
      "text/plain": [
       "      Unnamed: 0 Credit_History Income_Level Loan_Amount  Zip_Code  \\\n",
       "0              0           Fair          Low       Small  Suburban   \n",
       "1              1           Good          Low       Large     Urban   \n",
       "2              2           Good          Low      Medium     Rural   \n",
       "3              3           Fair       Medium      Medium     Urban   \n",
       "4              4            Bad       Medium      Medium  Suburban   \n",
       "...          ...            ...          ...         ...       ...   \n",
       "9995        9995           Good         High       Small  Suburban   \n",
       "9996        9996           Good          Low       Small  Suburban   \n",
       "9997        9997           Good          Low       Large     Urban   \n",
       "9998        9998           Fair       Medium      Medium     Urban   \n",
       "9999        9999           Fair          Low       Large     Urban   \n",
       "\n",
       "     Education_Level  Approval_Prob Loan_Approval  \n",
       "0        High School       0.545770      Approved  \n",
       "1        High School       0.582107      Approved  \n",
       "2        High School       0.646670      Approved  \n",
       "3        High School       0.379236   Disapproved  \n",
       "4        High School       0.633403      Approved  \n",
       "...              ...            ...           ...  \n",
       "9995        Bachelor       0.905898      Approved  \n",
       "9996     High School       0.635281      Approved  \n",
       "9997          Master       0.662883      Approved  \n",
       "9998        Bachelor       0.320122   Disapproved  \n",
       "9999          Master       0.317652   Disapproved  \n",
       "\n",
       "[10000 rows x 8 columns]"
      ]
     },
     "execution_count": 6,
     "metadata": {},
     "output_type": "execute_result"
    }
   ],
   "source": [
    "df"
   ]
  },
  {
   "cell_type": "code",
   "execution_count": 8,
   "id": "6871d110-320b-4a29-bdcc-847e62c9021c",
   "metadata": {},
   "outputs": [],
   "source": [
    "df = df.drop(df.columns[[0, -1]], axis=1)"
   ]
  },
  {
   "cell_type": "code",
   "execution_count": 10,
   "id": "06f7ba5f-11ef-4fe6-b7ff-3d47c130b107",
   "metadata": {},
   "outputs": [
    {
     "data": {
      "text/html": [
       "<div>\n",
       "<style scoped>\n",
       "    .dataframe tbody tr th:only-of-type {\n",
       "        vertical-align: middle;\n",
       "    }\n",
       "\n",
       "    .dataframe tbody tr th {\n",
       "        vertical-align: top;\n",
       "    }\n",
       "\n",
       "    .dataframe thead th {\n",
       "        text-align: right;\n",
       "    }\n",
       "</style>\n",
       "<table border=\"1\" class=\"dataframe\">\n",
       "  <thead>\n",
       "    <tr style=\"text-align: right;\">\n",
       "      <th></th>\n",
       "      <th>Credit_History</th>\n",
       "      <th>Income_Level</th>\n",
       "      <th>Loan_Amount</th>\n",
       "      <th>Zip_Code</th>\n",
       "      <th>Education_Level</th>\n",
       "      <th>Approval_Prob</th>\n",
       "    </tr>\n",
       "  </thead>\n",
       "  <tbody>\n",
       "    <tr>\n",
       "      <th>0</th>\n",
       "      <td>Fair</td>\n",
       "      <td>Low</td>\n",
       "      <td>Small</td>\n",
       "      <td>Suburban</td>\n",
       "      <td>High School</td>\n",
       "      <td>0.545770</td>\n",
       "    </tr>\n",
       "    <tr>\n",
       "      <th>1</th>\n",
       "      <td>Good</td>\n",
       "      <td>Low</td>\n",
       "      <td>Large</td>\n",
       "      <td>Urban</td>\n",
       "      <td>High School</td>\n",
       "      <td>0.582107</td>\n",
       "    </tr>\n",
       "    <tr>\n",
       "      <th>2</th>\n",
       "      <td>Good</td>\n",
       "      <td>Low</td>\n",
       "      <td>Medium</td>\n",
       "      <td>Rural</td>\n",
       "      <td>High School</td>\n",
       "      <td>0.646670</td>\n",
       "    </tr>\n",
       "    <tr>\n",
       "      <th>3</th>\n",
       "      <td>Fair</td>\n",
       "      <td>Medium</td>\n",
       "      <td>Medium</td>\n",
       "      <td>Urban</td>\n",
       "      <td>High School</td>\n",
       "      <td>0.379236</td>\n",
       "    </tr>\n",
       "    <tr>\n",
       "      <th>4</th>\n",
       "      <td>Bad</td>\n",
       "      <td>Medium</td>\n",
       "      <td>Medium</td>\n",
       "      <td>Suburban</td>\n",
       "      <td>High School</td>\n",
       "      <td>0.633403</td>\n",
       "    </tr>\n",
       "    <tr>\n",
       "      <th>...</th>\n",
       "      <td>...</td>\n",
       "      <td>...</td>\n",
       "      <td>...</td>\n",
       "      <td>...</td>\n",
       "      <td>...</td>\n",
       "      <td>...</td>\n",
       "    </tr>\n",
       "    <tr>\n",
       "      <th>9995</th>\n",
       "      <td>Good</td>\n",
       "      <td>High</td>\n",
       "      <td>Small</td>\n",
       "      <td>Suburban</td>\n",
       "      <td>Bachelor</td>\n",
       "      <td>0.905898</td>\n",
       "    </tr>\n",
       "    <tr>\n",
       "      <th>9996</th>\n",
       "      <td>Good</td>\n",
       "      <td>Low</td>\n",
       "      <td>Small</td>\n",
       "      <td>Suburban</td>\n",
       "      <td>High School</td>\n",
       "      <td>0.635281</td>\n",
       "    </tr>\n",
       "    <tr>\n",
       "      <th>9997</th>\n",
       "      <td>Good</td>\n",
       "      <td>Low</td>\n",
       "      <td>Large</td>\n",
       "      <td>Urban</td>\n",
       "      <td>Master</td>\n",
       "      <td>0.662883</td>\n",
       "    </tr>\n",
       "    <tr>\n",
       "      <th>9998</th>\n",
       "      <td>Fair</td>\n",
       "      <td>Medium</td>\n",
       "      <td>Medium</td>\n",
       "      <td>Urban</td>\n",
       "      <td>Bachelor</td>\n",
       "      <td>0.320122</td>\n",
       "    </tr>\n",
       "    <tr>\n",
       "      <th>9999</th>\n",
       "      <td>Fair</td>\n",
       "      <td>Low</td>\n",
       "      <td>Large</td>\n",
       "      <td>Urban</td>\n",
       "      <td>Master</td>\n",
       "      <td>0.317652</td>\n",
       "    </tr>\n",
       "  </tbody>\n",
       "</table>\n",
       "<p>10000 rows × 6 columns</p>\n",
       "</div>"
      ],
      "text/plain": [
       "     Credit_History Income_Level Loan_Amount  Zip_Code Education_Level  \\\n",
       "0              Fair          Low       Small  Suburban     High School   \n",
       "1              Good          Low       Large     Urban     High School   \n",
       "2              Good          Low      Medium     Rural     High School   \n",
       "3              Fair       Medium      Medium     Urban     High School   \n",
       "4               Bad       Medium      Medium  Suburban     High School   \n",
       "...             ...          ...         ...       ...             ...   \n",
       "9995           Good         High       Small  Suburban        Bachelor   \n",
       "9996           Good          Low       Small  Suburban     High School   \n",
       "9997           Good          Low       Large     Urban          Master   \n",
       "9998           Fair       Medium      Medium     Urban        Bachelor   \n",
       "9999           Fair          Low       Large     Urban          Master   \n",
       "\n",
       "      Approval_Prob  \n",
       "0          0.545770  \n",
       "1          0.582107  \n",
       "2          0.646670  \n",
       "3          0.379236  \n",
       "4          0.633403  \n",
       "...             ...  \n",
       "9995       0.905898  \n",
       "9996       0.635281  \n",
       "9997       0.662883  \n",
       "9998       0.320122  \n",
       "9999       0.317652  \n",
       "\n",
       "[10000 rows x 6 columns]"
      ]
     },
     "execution_count": 10,
     "metadata": {},
     "output_type": "execute_result"
    }
   ],
   "source": [
    "df"
   ]
  },
  {
   "cell_type": "code",
   "execution_count": 12,
   "id": "79ce7b3d-af39-4308-8499-eedf15a1949f",
   "metadata": {},
   "outputs": [],
   "source": [
    "features = [\"Credit_History\", \"Income_Level\", \"Loan_Amount\", \"Zip_Code\", \"Education_Level\"]\n",
    "target   = \"Approval_Prob\"  # now continuous\n",
    "\n",
    "\n"
   ]
  },
  {
   "cell_type": "code",
   "execution_count": 14,
   "id": "562f4d97-16dc-465b-9a76-128da29e818a",
   "metadata": {},
   "outputs": [],
   "source": [
    "train_df, test_df = train_test_split(\n",
    "    df, test_size=0.3, random_state=42)\n"
   ]
  },
  {
   "cell_type": "code",
   "execution_count": 16,
   "id": "d815bec0-d235-4a61-b62b-63393480f0a5",
   "metadata": {},
   "outputs": [],
   "source": [
    "X_test_orgin = test_df.copy()"
   ]
  },
  {
   "cell_type": "code",
   "execution_count": 18,
   "id": "19a7de8c-7ffe-4fdb-bd50-de31b14061fd",
   "metadata": {},
   "outputs": [
    {
     "data": {
      "text/html": [
       "<div>\n",
       "<style scoped>\n",
       "    .dataframe tbody tr th:only-of-type {\n",
       "        vertical-align: middle;\n",
       "    }\n",
       "\n",
       "    .dataframe tbody tr th {\n",
       "        vertical-align: top;\n",
       "    }\n",
       "\n",
       "    .dataframe thead th {\n",
       "        text-align: right;\n",
       "    }\n",
       "</style>\n",
       "<table border=\"1\" class=\"dataframe\">\n",
       "  <thead>\n",
       "    <tr style=\"text-align: right;\">\n",
       "      <th></th>\n",
       "      <th>Credit_History</th>\n",
       "      <th>Income_Level</th>\n",
       "      <th>Loan_Amount</th>\n",
       "      <th>Zip_Code</th>\n",
       "      <th>Education_Level</th>\n",
       "      <th>Approval_Prob</th>\n",
       "    </tr>\n",
       "  </thead>\n",
       "  <tbody>\n",
       "    <tr>\n",
       "      <th>6252</th>\n",
       "      <td>Fair</td>\n",
       "      <td>Low</td>\n",
       "      <td>Small</td>\n",
       "      <td>Suburban</td>\n",
       "      <td>Bachelor</td>\n",
       "      <td>0.501679</td>\n",
       "    </tr>\n",
       "    <tr>\n",
       "      <th>4684</th>\n",
       "      <td>Good</td>\n",
       "      <td>Medium</td>\n",
       "      <td>Large</td>\n",
       "      <td>Suburban</td>\n",
       "      <td>Bachelor</td>\n",
       "      <td>0.452133</td>\n",
       "    </tr>\n",
       "    <tr>\n",
       "      <th>1731</th>\n",
       "      <td>Fair</td>\n",
       "      <td>Low</td>\n",
       "      <td>Small</td>\n",
       "      <td>Suburban</td>\n",
       "      <td>High School</td>\n",
       "      <td>0.369745</td>\n",
       "    </tr>\n",
       "    <tr>\n",
       "      <th>4742</th>\n",
       "      <td>Bad</td>\n",
       "      <td>High</td>\n",
       "      <td>Large</td>\n",
       "      <td>Urban</td>\n",
       "      <td>Master</td>\n",
       "      <td>0.367556</td>\n",
       "    </tr>\n",
       "    <tr>\n",
       "      <th>4521</th>\n",
       "      <td>Fair</td>\n",
       "      <td>High</td>\n",
       "      <td>Medium</td>\n",
       "      <td>Rural</td>\n",
       "      <td>Bachelor</td>\n",
       "      <td>0.706402</td>\n",
       "    </tr>\n",
       "    <tr>\n",
       "      <th>...</th>\n",
       "      <td>...</td>\n",
       "      <td>...</td>\n",
       "      <td>...</td>\n",
       "      <td>...</td>\n",
       "      <td>...</td>\n",
       "      <td>...</td>\n",
       "    </tr>\n",
       "    <tr>\n",
       "      <th>8014</th>\n",
       "      <td>Fair</td>\n",
       "      <td>Low</td>\n",
       "      <td>Small</td>\n",
       "      <td>Suburban</td>\n",
       "      <td>Bachelor</td>\n",
       "      <td>0.497551</td>\n",
       "    </tr>\n",
       "    <tr>\n",
       "      <th>1074</th>\n",
       "      <td>Good</td>\n",
       "      <td>Low</td>\n",
       "      <td>Large</td>\n",
       "      <td>Suburban</td>\n",
       "      <td>Bachelor</td>\n",
       "      <td>0.328491</td>\n",
       "    </tr>\n",
       "    <tr>\n",
       "      <th>3063</th>\n",
       "      <td>Fair</td>\n",
       "      <td>High</td>\n",
       "      <td>Medium</td>\n",
       "      <td>Urban</td>\n",
       "      <td>High School</td>\n",
       "      <td>0.624640</td>\n",
       "    </tr>\n",
       "    <tr>\n",
       "      <th>6487</th>\n",
       "      <td>Fair</td>\n",
       "      <td>Medium</td>\n",
       "      <td>Medium</td>\n",
       "      <td>Suburban</td>\n",
       "      <td>Master</td>\n",
       "      <td>0.519299</td>\n",
       "    </tr>\n",
       "    <tr>\n",
       "      <th>4705</th>\n",
       "      <td>Fair</td>\n",
       "      <td>Medium</td>\n",
       "      <td>Medium</td>\n",
       "      <td>Suburban</td>\n",
       "      <td>Master</td>\n",
       "      <td>0.504839</td>\n",
       "    </tr>\n",
       "  </tbody>\n",
       "</table>\n",
       "<p>3000 rows × 6 columns</p>\n",
       "</div>"
      ],
      "text/plain": [
       "     Credit_History Income_Level Loan_Amount  Zip_Code Education_Level  \\\n",
       "6252           Fair          Low       Small  Suburban        Bachelor   \n",
       "4684           Good       Medium       Large  Suburban        Bachelor   \n",
       "1731           Fair          Low       Small  Suburban     High School   \n",
       "4742            Bad         High       Large     Urban          Master   \n",
       "4521           Fair         High      Medium     Rural        Bachelor   \n",
       "...             ...          ...         ...       ...             ...   \n",
       "8014           Fair          Low       Small  Suburban        Bachelor   \n",
       "1074           Good          Low       Large  Suburban        Bachelor   \n",
       "3063           Fair         High      Medium     Urban     High School   \n",
       "6487           Fair       Medium      Medium  Suburban          Master   \n",
       "4705           Fair       Medium      Medium  Suburban          Master   \n",
       "\n",
       "      Approval_Prob  \n",
       "6252       0.501679  \n",
       "4684       0.452133  \n",
       "1731       0.369745  \n",
       "4742       0.367556  \n",
       "4521       0.706402  \n",
       "...             ...  \n",
       "8014       0.497551  \n",
       "1074       0.328491  \n",
       "3063       0.624640  \n",
       "6487       0.519299  \n",
       "4705       0.504839  \n",
       "\n",
       "[3000 rows x 6 columns]"
      ]
     },
     "execution_count": 18,
     "metadata": {},
     "output_type": "execute_result"
    }
   ],
   "source": [
    "X_test_orgin"
   ]
  },
  {
   "cell_type": "code",
   "execution_count": 20,
   "id": "e9c48fc9-fc5b-4b44-8d53-54c48b519495",
   "metadata": {},
   "outputs": [],
   "source": [
    "mappings = {\n",
    "    \"Credit_History\":   {\"Bad\": 0, \"Fair\": 1, \"Good\": 2},\n",
    "    \"Income_Level\":     {\"Low\": 0, \"Medium\": 1, \"High\": 2},\n",
    "    \"Loan_Amount\":      {\"Small\": 2, \"Medium\": 1, \"Large\": 0},\n",
    "    \"Zip_Code\":         {\"Urban\": 0, \"Suburban\": 1, \"Rural\": 2},\n",
    "    \"Education_Level\":  {\"High School\": 0, \"Bachelor\": 1, \"Master\": 2}\n",
    "}"
   ]
  },
  {
   "cell_type": "code",
   "execution_count": 22,
   "id": "8844cab6-3092-4840-8fd0-cdf0c336d4b1",
   "metadata": {},
   "outputs": [],
   "source": [
    "for col, map_dict in mappings.items():\n",
    "    train_df[col] = train_df[col].map(map_dict)\n",
    "    test_df[col]  = test_df[col].map(map_dict)"
   ]
  },
  {
   "cell_type": "code",
   "execution_count": 24,
   "id": "3b2ab782-6896-4e1f-9ab9-0b6268b081d0",
   "metadata": {},
   "outputs": [],
   "source": [
    "class CatRegDataset(Dataset):\n",
    "    def __init__(self, df, feature_cols, target_col):\n",
    "        self.X = torch.LongTensor(df[feature_cols].values)\n",
    "        self.y = torch.FloatTensor(df[target_col].values).unsqueeze(1)\n",
    "    def __len__(self):\n",
    "        return len(self.X)\n",
    "    def __getitem__(self, idx):\n",
    "        return self.X[idx], self.y[idx]\n"
   ]
  },
  {
   "cell_type": "code",
   "execution_count": 38,
   "id": "98ffdc35-6f47-47b6-9abc-e12ea5be52c6",
   "metadata": {},
   "outputs": [],
   "source": [
    "X_train = train_df[features].values\n",
    "y_train = train_df[target].values\n",
    "X_test  = test_df[features].values\n",
    "y_test  = test_df[target].values"
   ]
  },
  {
   "cell_type": "code",
   "execution_count": 26,
   "id": "d90c4533-ea62-4e19-bf37-a074446449c0",
   "metadata": {},
   "outputs": [],
   "source": [
    "train_ds = CatRegDataset(train_df, features, target)\n",
    "test_ds  = CatRegDataset(test_df,  features, target)\n",
    "train_dl = DataLoader(train_ds, batch_size=4, shuffle=True)\n",
    "test_dl  = DataLoader(test_ds,  batch_size=4)"
   ]
  },
  {
   "cell_type": "code",
   "execution_count": 28,
   "id": "be4f92ba-d53a-481f-8790-98e2d960bb02",
   "metadata": {},
   "outputs": [],
   "source": [
    "class TabularTransformerReg(nn.Module):\n",
    "    def __init__(self, cat_dims, d_model=16, nhead=4, num_layers=2):\n",
    "        super().__init__()\n",
    "        self.embeds = nn.ModuleList([nn.Embedding(n, d_model) for n in cat_dims])\n",
    "        self.pos    = nn.Parameter(torch.randn(len(cat_dims), d_model))\n",
    "        enc_layer   = nn.TransformerEncoderLayer(d_model, nhead)\n",
    "        self.trans  = nn.TransformerEncoder(enc_layer, num_layers)\n",
    "        self.reg    = nn.Linear(d_model, 1)\n",
    "\n",
    "    def forward(self, x):\n",
    "        embs = [emb(x[:, i]) for i, emb in enumerate(self.embeds)]\n",
    "        seq  = torch.stack(embs, dim=1)            # [B, F, d_model]\n",
    "        seq  = seq + self.pos.unsqueeze(0)         # add positional embeddings\n",
    "        seq  = seq.permute(1, 0, 2)                # [F, B, d_model]\n",
    "        out  = self.trans(seq)                     # [F, B, d_model]\n",
    "        rep  = out.permute(1, 0, 2).mean(dim=1)     # [B, d_model]\n",
    "        return self.reg(rep)                       # [B, 1]\n"
   ]
  },
  {
   "cell_type": "code",
   "execution_count": 30,
   "id": "54da3a84-8421-4320-85d6-4460e5ddee54",
   "metadata": {},
   "outputs": [
    {
     "name": "stderr",
     "output_type": "stream",
     "text": [
      "/opt/anaconda3/lib/python3.12/site-packages/torch/nn/modules/transformer.py:385: UserWarning: enable_nested_tensor is True, but self.use_nested_tensor is False because encoder_layer.self_attn.batch_first was not True(use batch_first for better inference performance)\n",
      "  warnings.warn(\n"
     ]
    }
   ],
   "source": [
    "\n",
    "device = torch.device(\"cuda\" if torch.cuda.is_available() else \"cpu\")\n",
    "model   = TabularTransformerReg(cat_dims=[3,3,3,3,3]).to(device)\n",
    "opt     = torch.optim.Adam(model.parameters(), lr=1e-3)\n",
    "loss_fn = nn.MSELoss()"
   ]
  },
  {
   "cell_type": "code",
   "execution_count": 32,
   "id": "0bce8507-1b01-4668-b46c-0d60fe18a7ce",
   "metadata": {},
   "outputs": [
    {
     "name": "stdout",
     "output_type": "stream",
     "text": [
      "Epoch 10  train MSE = 0.0193\n",
      "Epoch 20  train MSE = 0.0190\n"
     ]
    }
   ],
   "source": [
    "for epoch in range(1, 21):\n",
    "    model.train()\n",
    "    total_loss = 0.0\n",
    "    for xb, yb in train_dl:\n",
    "        xb, yb = xb.to(device), yb.to(device)\n",
    "        pred   = model(xb)\n",
    "        loss   = loss_fn(pred, yb)\n",
    "        opt.zero_grad()\n",
    "        loss.backward()\n",
    "        opt.step()\n",
    "        total_loss += loss.item() * xb.size(0)\n",
    "    if epoch % 10 == 0:\n",
    "        print(f\"Epoch {epoch:02d}  train MSE = {total_loss/len(train_dl.dataset):.4f}\")\n"
   ]
  },
  {
   "cell_type": "code",
   "execution_count": 34,
   "id": "b029af3f-7b69-4a8c-9770-c1db893901c7",
   "metadata": {},
   "outputs": [],
   "source": [
    "model.eval()\n",
    "y_preds, y_trues = [], []\n",
    "with torch.no_grad():\n",
    "    for xb, yb in test_dl:\n",
    "        xb = xb.to(device)\n",
    "        preds = model(xb).cpu().numpy().flatten()\n",
    "        y_preds.extend(preds)\n",
    "        y_trues.extend(yb.numpy().flatten())\n"
   ]
  },
  {
   "cell_type": "code",
   "execution_count": 41,
   "id": "a80339b4-f2f4-4f56-86a8-df801e9cd44f",
   "metadata": {},
   "outputs": [],
   "source": [
    "preds_df = pd.DataFrame({\"pred_value\": y_preds})\n"
   ]
  },
  {
   "cell_type": "code",
   "execution_count": 43,
   "id": "88ef44e4-88fd-4200-8a7c-444030d373fc",
   "metadata": {},
   "outputs": [
    {
     "name": "stdout",
     "output_type": "stream",
     "text": [
      "\n",
      "Test MSE: 0.0190\n",
      "Test R² : 0.5696\n"
     ]
    }
   ],
   "source": [
    "mse = mean_squared_error(y_trues, y_preds)\n",
    "r2  = r2_score(y_trues, y_preds)\n",
    "print(f\"\\nTest MSE: {mse:.4f}\")\n",
    "print(f\"Test R² : {r2:.4f}\")"
   ]
  },
  {
   "cell_type": "code",
   "execution_count": 47,
   "id": "6f12b6b7-5e1c-49a2-870c-355065ed6353",
   "metadata": {},
   "outputs": [],
   "source": [
    "true_labels = X_test_orgin[\"Approval_Prob\"].values "
   ]
  },
  {
   "cell_type": "code",
   "execution_count": 60,
   "id": "32f10261-30bd-441e-aae9-e74de0dd31dd",
   "metadata": {},
   "outputs": [
    {
     "data": {
      "text/html": [
       "<div>\n",
       "<style scoped>\n",
       "    .dataframe tbody tr th:only-of-type {\n",
       "        vertical-align: middle;\n",
       "    }\n",
       "\n",
       "    .dataframe tbody tr th {\n",
       "        vertical-align: top;\n",
       "    }\n",
       "\n",
       "    .dataframe thead th {\n",
       "        text-align: right;\n",
       "    }\n",
       "</style>\n",
       "<table border=\"1\" class=\"dataframe\">\n",
       "  <thead>\n",
       "    <tr style=\"text-align: right;\">\n",
       "      <th></th>\n",
       "      <th>Credit_History</th>\n",
       "      <th>Income_Level</th>\n",
       "      <th>Loan_Amount</th>\n",
       "      <th>Zip_Code</th>\n",
       "      <th>Education_Level</th>\n",
       "      <th>Approval_Prob</th>\n",
       "    </tr>\n",
       "  </thead>\n",
       "  <tbody>\n",
       "    <tr>\n",
       "      <th>6252</th>\n",
       "      <td>Fair</td>\n",
       "      <td>Low</td>\n",
       "      <td>Small</td>\n",
       "      <td>Suburban</td>\n",
       "      <td>Bachelor</td>\n",
       "      <td>0.501679</td>\n",
       "    </tr>\n",
       "    <tr>\n",
       "      <th>4684</th>\n",
       "      <td>Good</td>\n",
       "      <td>Medium</td>\n",
       "      <td>Large</td>\n",
       "      <td>Suburban</td>\n",
       "      <td>Bachelor</td>\n",
       "      <td>0.452133</td>\n",
       "    </tr>\n",
       "    <tr>\n",
       "      <th>1731</th>\n",
       "      <td>Fair</td>\n",
       "      <td>Low</td>\n",
       "      <td>Small</td>\n",
       "      <td>Suburban</td>\n",
       "      <td>High School</td>\n",
       "      <td>0.369745</td>\n",
       "    </tr>\n",
       "    <tr>\n",
       "      <th>4742</th>\n",
       "      <td>Bad</td>\n",
       "      <td>High</td>\n",
       "      <td>Large</td>\n",
       "      <td>Urban</td>\n",
       "      <td>Master</td>\n",
       "      <td>0.367556</td>\n",
       "    </tr>\n",
       "    <tr>\n",
       "      <th>4521</th>\n",
       "      <td>Fair</td>\n",
       "      <td>High</td>\n",
       "      <td>Medium</td>\n",
       "      <td>Rural</td>\n",
       "      <td>Bachelor</td>\n",
       "      <td>0.706402</td>\n",
       "    </tr>\n",
       "    <tr>\n",
       "      <th>...</th>\n",
       "      <td>...</td>\n",
       "      <td>...</td>\n",
       "      <td>...</td>\n",
       "      <td>...</td>\n",
       "      <td>...</td>\n",
       "      <td>...</td>\n",
       "    </tr>\n",
       "    <tr>\n",
       "      <th>8014</th>\n",
       "      <td>Fair</td>\n",
       "      <td>Low</td>\n",
       "      <td>Small</td>\n",
       "      <td>Suburban</td>\n",
       "      <td>Bachelor</td>\n",
       "      <td>0.497551</td>\n",
       "    </tr>\n",
       "    <tr>\n",
       "      <th>1074</th>\n",
       "      <td>Good</td>\n",
       "      <td>Low</td>\n",
       "      <td>Large</td>\n",
       "      <td>Suburban</td>\n",
       "      <td>Bachelor</td>\n",
       "      <td>0.328491</td>\n",
       "    </tr>\n",
       "    <tr>\n",
       "      <th>3063</th>\n",
       "      <td>Fair</td>\n",
       "      <td>High</td>\n",
       "      <td>Medium</td>\n",
       "      <td>Urban</td>\n",
       "      <td>High School</td>\n",
       "      <td>0.624640</td>\n",
       "    </tr>\n",
       "    <tr>\n",
       "      <th>6487</th>\n",
       "      <td>Fair</td>\n",
       "      <td>Medium</td>\n",
       "      <td>Medium</td>\n",
       "      <td>Suburban</td>\n",
       "      <td>Master</td>\n",
       "      <td>0.519299</td>\n",
       "    </tr>\n",
       "    <tr>\n",
       "      <th>4705</th>\n",
       "      <td>Fair</td>\n",
       "      <td>Medium</td>\n",
       "      <td>Medium</td>\n",
       "      <td>Suburban</td>\n",
       "      <td>Master</td>\n",
       "      <td>0.504839</td>\n",
       "    </tr>\n",
       "  </tbody>\n",
       "</table>\n",
       "<p>3000 rows × 6 columns</p>\n",
       "</div>"
      ],
      "text/plain": [
       "     Credit_History Income_Level Loan_Amount  Zip_Code Education_Level  \\\n",
       "6252           Fair          Low       Small  Suburban        Bachelor   \n",
       "4684           Good       Medium       Large  Suburban        Bachelor   \n",
       "1731           Fair          Low       Small  Suburban     High School   \n",
       "4742            Bad         High       Large     Urban          Master   \n",
       "4521           Fair         High      Medium     Rural        Bachelor   \n",
       "...             ...          ...         ...       ...             ...   \n",
       "8014           Fair          Low       Small  Suburban        Bachelor   \n",
       "1074           Good          Low       Large  Suburban        Bachelor   \n",
       "3063           Fair         High      Medium     Urban     High School   \n",
       "6487           Fair       Medium      Medium  Suburban          Master   \n",
       "4705           Fair       Medium      Medium  Suburban          Master   \n",
       "\n",
       "      Approval_Prob  \n",
       "6252       0.501679  \n",
       "4684       0.452133  \n",
       "1731       0.369745  \n",
       "4742       0.367556  \n",
       "4521       0.706402  \n",
       "...             ...  \n",
       "8014       0.497551  \n",
       "1074       0.328491  \n",
       "3063       0.624640  \n",
       "6487       0.519299  \n",
       "4705       0.504839  \n",
       "\n",
       "[3000 rows x 6 columns]"
      ]
     },
     "execution_count": 60,
     "metadata": {},
     "output_type": "execute_result"
    }
   ],
   "source": [
    "X_test_orgin"
   ]
  },
  {
   "cell_type": "code",
   "execution_count": 62,
   "id": "2a3f7551-2ad9-45de-84f1-407eabbb115d",
   "metadata": {},
   "outputs": [],
   "source": [
    "test_df = X_test_orgin.drop(X_test_orgin.columns[[-1]], axis=1)"
   ]
  },
  {
   "cell_type": "code",
   "execution_count": 64,
   "id": "2398b396-3040-4836-b6ba-ef5cb4fafd58",
   "metadata": {},
   "outputs": [],
   "source": [
    "merged_df = pd.concat([\n",
    "    test_df.reset_index(drop=True),\n",
    "    preds_df.reset_index(drop=True)\n",
    "], axis=1)"
   ]
  },
  {
   "cell_type": "code",
   "execution_count": 66,
   "id": "a84f42a7-1ac0-4596-808c-92c248a87fc8",
   "metadata": {},
   "outputs": [
    {
     "data": {
      "text/html": [
       "<div>\n",
       "<style scoped>\n",
       "    .dataframe tbody tr th:only-of-type {\n",
       "        vertical-align: middle;\n",
       "    }\n",
       "\n",
       "    .dataframe tbody tr th {\n",
       "        vertical-align: top;\n",
       "    }\n",
       "\n",
       "    .dataframe thead th {\n",
       "        text-align: right;\n",
       "    }\n",
       "</style>\n",
       "<table border=\"1\" class=\"dataframe\">\n",
       "  <thead>\n",
       "    <tr style=\"text-align: right;\">\n",
       "      <th></th>\n",
       "      <th>Credit_History</th>\n",
       "      <th>Income_Level</th>\n",
       "      <th>Loan_Amount</th>\n",
       "      <th>Zip_Code</th>\n",
       "      <th>Education_Level</th>\n",
       "      <th>pred_value</th>\n",
       "    </tr>\n",
       "  </thead>\n",
       "  <tbody>\n",
       "    <tr>\n",
       "      <th>0</th>\n",
       "      <td>Fair</td>\n",
       "      <td>Low</td>\n",
       "      <td>Small</td>\n",
       "      <td>Suburban</td>\n",
       "      <td>Bachelor</td>\n",
       "      <td>0.546841</td>\n",
       "    </tr>\n",
       "    <tr>\n",
       "      <th>1</th>\n",
       "      <td>Good</td>\n",
       "      <td>Medium</td>\n",
       "      <td>Large</td>\n",
       "      <td>Suburban</td>\n",
       "      <td>Bachelor</td>\n",
       "      <td>0.503365</td>\n",
       "    </tr>\n",
       "    <tr>\n",
       "      <th>2</th>\n",
       "      <td>Fair</td>\n",
       "      <td>Low</td>\n",
       "      <td>Small</td>\n",
       "      <td>Suburban</td>\n",
       "      <td>High School</td>\n",
       "      <td>0.554159</td>\n",
       "    </tr>\n",
       "    <tr>\n",
       "      <th>3</th>\n",
       "      <td>Bad</td>\n",
       "      <td>High</td>\n",
       "      <td>Large</td>\n",
       "      <td>Urban</td>\n",
       "      <td>Master</td>\n",
       "      <td>0.355897</td>\n",
       "    </tr>\n",
       "    <tr>\n",
       "      <th>4</th>\n",
       "      <td>Fair</td>\n",
       "      <td>High</td>\n",
       "      <td>Medium</td>\n",
       "      <td>Rural</td>\n",
       "      <td>Bachelor</td>\n",
       "      <td>0.635739</td>\n",
       "    </tr>\n",
       "    <tr>\n",
       "      <th>...</th>\n",
       "      <td>...</td>\n",
       "      <td>...</td>\n",
       "      <td>...</td>\n",
       "      <td>...</td>\n",
       "      <td>...</td>\n",
       "      <td>...</td>\n",
       "    </tr>\n",
       "    <tr>\n",
       "      <th>2995</th>\n",
       "      <td>Fair</td>\n",
       "      <td>Low</td>\n",
       "      <td>Small</td>\n",
       "      <td>Suburban</td>\n",
       "      <td>Bachelor</td>\n",
       "      <td>0.546841</td>\n",
       "    </tr>\n",
       "    <tr>\n",
       "      <th>2996</th>\n",
       "      <td>Good</td>\n",
       "      <td>Low</td>\n",
       "      <td>Large</td>\n",
       "      <td>Suburban</td>\n",
       "      <td>Bachelor</td>\n",
       "      <td>0.392775</td>\n",
       "    </tr>\n",
       "    <tr>\n",
       "      <th>2997</th>\n",
       "      <td>Fair</td>\n",
       "      <td>High</td>\n",
       "      <td>Medium</td>\n",
       "      <td>Urban</td>\n",
       "      <td>High School</td>\n",
       "      <td>0.630264</td>\n",
       "    </tr>\n",
       "    <tr>\n",
       "      <th>2998</th>\n",
       "      <td>Fair</td>\n",
       "      <td>Medium</td>\n",
       "      <td>Medium</td>\n",
       "      <td>Suburban</td>\n",
       "      <td>Master</td>\n",
       "      <td>0.507347</td>\n",
       "    </tr>\n",
       "    <tr>\n",
       "      <th>2999</th>\n",
       "      <td>Fair</td>\n",
       "      <td>Medium</td>\n",
       "      <td>Medium</td>\n",
       "      <td>Suburban</td>\n",
       "      <td>Master</td>\n",
       "      <td>0.507347</td>\n",
       "    </tr>\n",
       "  </tbody>\n",
       "</table>\n",
       "<p>3000 rows × 6 columns</p>\n",
       "</div>"
      ],
      "text/plain": [
       "     Credit_History Income_Level Loan_Amount  Zip_Code Education_Level  \\\n",
       "0              Fair          Low       Small  Suburban        Bachelor   \n",
       "1              Good       Medium       Large  Suburban        Bachelor   \n",
       "2              Fair          Low       Small  Suburban     High School   \n",
       "3               Bad         High       Large     Urban          Master   \n",
       "4              Fair         High      Medium     Rural        Bachelor   \n",
       "...             ...          ...         ...       ...             ...   \n",
       "2995           Fair          Low       Small  Suburban        Bachelor   \n",
       "2996           Good          Low       Large  Suburban        Bachelor   \n",
       "2997           Fair         High      Medium     Urban     High School   \n",
       "2998           Fair       Medium      Medium  Suburban          Master   \n",
       "2999           Fair       Medium      Medium  Suburban          Master   \n",
       "\n",
       "      pred_value  \n",
       "0       0.546841  \n",
       "1       0.503365  \n",
       "2       0.554159  \n",
       "3       0.355897  \n",
       "4       0.635739  \n",
       "...          ...  \n",
       "2995    0.546841  \n",
       "2996    0.392775  \n",
       "2997    0.630264  \n",
       "2998    0.507347  \n",
       "2999    0.507347  \n",
       "\n",
       "[3000 rows x 6 columns]"
      ]
     },
     "execution_count": 66,
     "metadata": {},
     "output_type": "execute_result"
    }
   ],
   "source": [
    "merged_df"
   ]
  },
  {
   "cell_type": "code",
   "execution_count": 68,
   "id": "087fb204-8e98-48e0-9766-f8550a8bad51",
   "metadata": {},
   "outputs": [],
   "source": [
    "import statsmodels.api as sm\n",
    "from statsmodels.formula.api import ols\n",
    "from statsmodels.stats.anova import anova_lm\n",
    "import statsmodels.formula.api as smf"
   ]
  },
  {
   "cell_type": "code",
   "execution_count": 86,
   "id": "2b38bca0-b0cb-4fdc-abea-f96b1fc038be",
   "metadata": {},
   "outputs": [],
   "source": [
    "def one_way_anova_with_eta(df, feature, target=\"Prediction\"):\n",
    "    formula = f\"{target} ~ C({feature})\"\n",
    "    model = ols(formula, data=df).fit()\n",
    "    anova_table = anova_lm(model, typ=2)\n",
    "\n",
    "    sum_sq_factor = anova_table.loc[f\"C({feature})\", \"sum_sq\"]\n",
    "    sum_sq_total = anova_table[\"sum_sq\"].sum()\n",
    "    F_stat = anova_table.loc[f\"C({feature})\", \"F\"]\n",
    "    p_value = anova_table.loc[f\"C({feature})\", \"PR(>F)\"]\n",
    "    eta_sq = sum_sq_factor / sum_sq_total if sum_sq_total > 0 else 0.0\n",
    "    return F_stat, p_value, eta_sq\n",
    "\n",
    "# 2) Features of interest\n",
    "features = [\"Credit_History\", \"Income_Level\", \"Loan_Amount\", \"Zip_Code\", \"Education_Level\"]"
   ]
  },
  {
   "cell_type": "code",
   "execution_count": 88,
   "id": "70ab6ea3-5bf3-4761-863b-9ee3f7cad670",
   "metadata": {},
   "outputs": [],
   "source": [
    "# features = [\"Credit_History\", \"Income_Level\", \n",
    "#             \"Loan_Amount\", \"Zip_Code\", \"Education_Level\"]"
   ]
  },
  {
   "cell_type": "code",
   "execution_count": 90,
   "id": "7a00c6a7-65fa-4e17-817c-2da99632e6c2",
   "metadata": {},
   "outputs": [],
   "source": [
    "results = []\n",
    "for feat in features:\n",
    "    F, pval, eta_sq = one_way_anova_with_eta(merged_df, feat, target=\"pred_value\")\n",
    "    results.append({\n",
    "        \"Feature\": feat,\n",
    "        \"F_stat\": F,\n",
    "        \"Eta_squared\": eta_sq,\n",
    "        \"p_value\": pval\n",
    "    })"
   ]
  },
  {
   "cell_type": "code",
   "execution_count": 92,
   "id": "d8f942eb-201c-4542-af16-32b8c580d1b2",
   "metadata": {},
   "outputs": [
    {
     "name": "stdout",
     "output_type": "stream",
     "text": [
      "Significant Features (p < 0.05), ranked by η²:\n",
      "\n",
      "           Feature       F_stat        p_value  Eta_squared\n",
      "0      Loan_Amount  1058.789224   0.000000e+00     0.414028\n",
      "1   Credit_History   741.746716  2.010506e-262     0.331100\n",
      "2     Income_Level   468.825183  7.050553e-178     0.238306\n",
      "3  Education_Level     5.698596   3.387077e-03     0.003788\n"
     ]
    }
   ],
   "source": [
    "res_df = pd.DataFrame(results)\n",
    "sig_df = res_df[res_df[\"p_value\"] < 0.05].copy()\n",
    "\n",
    "# 5) Sort by effect size (η²) descending\n",
    "sig_df.sort_values(\"Eta_squared\", ascending=False, inplace=True)\n",
    "sig_df.reset_index(drop=True, inplace=True)\n",
    "\n",
    "# 6) Display significant results\n",
    "print(\"Significant Features (p < 0.05), ranked by η²:\\n\")\n",
    "print(sig_df[[\"Feature\", \"F_stat\", \"p_value\", \"Eta_squared\"]])\n"
   ]
  },
  {
   "cell_type": "code",
   "execution_count": 98,
   "id": "83109765-977e-485d-a7a5-02af9d3f8cee",
   "metadata": {},
   "outputs": [
    {
     "data": {
      "image/png": "[encoded data removed]",
      "text/plain": [
       "<Figure size 800x500 with 1 Axes>"
      ]
     },
     "metadata": {},
     "output_type": "display_data"
    }
   ],
   "source": [
    "import matplotlib.pyplot as plt\n",
    "\n",
    "plt.figure(figsize=(8, 5))\n",
    "plt.barh(sig_df[\"Feature\"], sig_df[\"Eta_squared\"])\n",
    "plt.xlabel(\"η² (Eta-squared)\")\n",
    "plt.title(\"One-way ANOVA Effect Sizes for Significant Features\")\n",
    "plt.gca().invert_yaxis()  # largest η² on top\n",
    "plt.grid(axis=\"x\", linestyle=\"--\", alpha=0.6)\n",
    "plt.tight_layout()\n",
    "plt.show()"
   ]
  },
  {
   "cell_type": "code",
   "execution_count": 100,
   "id": "2e208621-9922-4bd7-89cf-e316ebd9ffaf",
   "metadata": {},
   "outputs": [
    {
     "name": "stdout",
     "output_type": "stream",
     "text": [
      "  Method  Precision  Recall  FDR  Top-1 Match\n",
      "Stat-XAI       0.75     1.0 0.25            1\n"
     ]
    }
   ],
   "source": [
    "def compute_feature_recovery_metrics(gt, ranking):\n",
    "    \"\"\"\n",
    "    Compute TP, FP, FN, Precision, Recall, FDR, and Top-1 Match for feature recovery.\n",
    "\n",
    "    Parameters\n",
    "    ----------\n",
    "    gt : set\n",
    "        Ground-truth causal features.\n",
    "    flagged : list or set\n",
    "        Features your method flagged as important (e.g., top‑k from ranking).\n",
    "    ranking : list\n",
    "        Ordered list of features by descending effect size.\n",
    "\n",
    "    Returns\n",
    "    -------\n",
    "    pd.DataFrame\n",
    "        Single-row DataFrame with the metrics.\n",
    "    \"\"\"\n",
    "    tp = set(gt) & set(ranking)\n",
    "    fp = set(ranking) - set(gt)\n",
    "    fn = set(gt) - set(ranking)\n",
    "\n",
    "    precision = len(tp) / (len(tp) + len(fp)) if (len(tp) + len(fp)) else 0.0\n",
    "    recall    = len(tp) / len(gt)        if len(gt)              else 0.0\n",
    "    fdr       = len(fp) / (len(tp) + len(fp)) if (len(tp) + len(fp)) else 0.0\n",
    "    top1      = 1 if ranking and ranking[0] in gt else 0\n",
    "\n",
    "    metrics = {\n",
    "        \"TP\":           \", \".join(sorted(tp)),\n",
    "        \"FP\":           \", \".join(sorted(fp)),\n",
    "        \"FN\":           \", \".join(sorted(fn)),\n",
    "        \"Precision\":     precision,\n",
    "        \"Recall\":        recall,\n",
    "        \"FDR\":           fdr,\n",
    "        \"Top-1 Match\":   top1\n",
    "    }\n",
    "    return pd.DataFrame([{\n",
    "        \"Precision\": precision,\n",
    "        \"Recall\": recall,\n",
    "        \"FDR\": fdr,\n",
    "        \"Top-1 Match\": top1\n",
    "    }])\n",
    "\n",
    "\n",
    "\n",
    "if __name__ == \"__main__\":\n",
    "    # Example:\n",
    "    GT = {\"Loan_Amount\", \"Credit_History\", \"Income_Level\"}\n",
    "    ranking = [\n",
    "        \"Loan_Amount\",\n",
    "        \"Credit_History\",\n",
    "        \"Income_Level\",\n",
    "        \"Education_Level\",\n",
    "    ]\n",
    "    # flagged = ranking[:3]  # e.g. top‑3 features\n",
    "\n",
    "    df_metrics = compute_feature_recovery_metrics(GT, ranking)\n",
    "    df_metrics.insert(0, \"Method\", \"Stat-XAI\")\n",
    "    df_metrics = df_metrics[[\"Method\", \"Precision\", \"Recall\", \"FDR\", \"Top-1 Match\"]]\n",
    "    print(df_metrics.to_string(index=False))"
   ]
  },
  {
   "cell_type": "code",
   "execution_count": null,
   "id": "7e478625-6364-4033-9ee3-c0b8f37e5e38",
   "metadata": {},
   "outputs": [],
   "source": []
  },
  {
   "cell_type": "code",
   "execution_count": 36,
   "id": "a2355ef4-0fcd-4ae5-b27b-105f878cc9ee",
   "metadata": {},
   "outputs": [],
   "source": [
    "import shap\n",
    "import numpy as np\n",
    "import psutil\n",
    "import os\n",
    "import torch.optim as optim\n",
    "import matplotlib.pyplot as plt"
   ]
  },
  {
   "cell_type": "code",
   "execution_count": 40,
   "id": "663a9742-86fe-4b25-bc93-e5029fc7063c",
   "metadata": {},
   "outputs": [],
   "source": [
    "def predict_proba_np(x_np):\n",
    "    \"\"\"\n",
    "    x_np: np.array of shape (batch, 5), dtype int\n",
    "    returns: np.array of shape (batch,) with predicted positive‐class probabilities\n",
    "    \"\"\"\n",
    "    model.eval()\n",
    "    with torch.no_grad():\n",
    "        tensor = torch.LongTensor(x_np).to(device)\n",
    "        logits = model(tensor)\n",
    "        probs  = torch.sigmoid(logits).cpu().numpy().flatten()\n",
    "    return probs"
   ]
  },
  {
   "cell_type": "code",
   "execution_count": 42,
   "id": "4ab1a450-2035-4dd7-8ce4-503503f94b28",
   "metadata": {},
   "outputs": [],
   "source": [
    "bg_size    = 100\n",
    "bg_idx     = np.random.choice(len(X_train), size=bg_size, replace=False)\n",
    "background = X_train[bg_idx] "
   ]
  },
  {
   "cell_type": "code",
   "execution_count": 44,
   "id": "3ddf7afc-25ea-4956-a50d-9f6ff3a7417e",
   "metadata": {},
   "outputs": [],
   "source": [
    "explainer = shap.KernelExplainer(predict_proba_np, background)\n",
    "\n"
   ]
  },
  {
   "cell_type": "code",
   "execution_count": 46,
   "id": "c84f0a48-e1f3-4c05-b128-430706404ada",
   "metadata": {},
   "outputs": [],
   "source": [
    "batch_size = 512\n",
    "all_shap   = []"
   ]
  },
  {
   "cell_type": "code",
   "execution_count": 48,
   "id": "7f4a8bf5-56d1-44b1-959f-47531815b83a",
   "metadata": {},
   "outputs": [
    {
     "name": "stdout",
     "output_type": "stream",
     "text": [
      "Batch 0-512: free RAM 3.56 GB\n"
     ]
    },
    {
     "data": {
      "application/vnd.jupyter.widget-view+json": {
       "model_id": "e900aca290ee4ee3bbf8d8c8f1885dae",
       "version_major": 2,
       "version_minor": 0
      },
      "text/plain": [
       "  0%|          | 0/512 [00:00<?, ?it/s]"
      ]
     },
     "metadata": {},
     "output_type": "display_data"
    },
    {
     "name": "stdout",
     "output_type": "stream",
     "text": [
      "Batch 512-1024: free RAM 3.68 GB\n"
     ]
    },
    {
     "data": {
      "application/vnd.jupyter.widget-view+json": {
       "model_id": "d6cc8f77376d433ebc9a050bb90dd968",
       "version_major": 2,
       "version_minor": 0
      },
      "text/plain": [
       "  0%|          | 0/512 [00:00<?, ?it/s]"
      ]
     },
     "metadata": {},
     "output_type": "display_data"
    },
    {
     "name": "stdout",
     "output_type": "stream",
     "text": [
      "Batch 1024-1536: free RAM 3.67 GB\n"
     ]
    },
    {
     "data": {
      "application/vnd.jupyter.widget-view+json": {
       "model_id": "7d78f91115ed4866b2703751f7609bc0",
       "version_major": 2,
       "version_minor": 0
      },
      "text/plain": [
       "  0%|          | 0/512 [00:00<?, ?it/s]"
      ]
     },
     "metadata": {},
     "output_type": "display_data"
    },
    {
     "name": "stdout",
     "output_type": "stream",
     "text": [
      "Batch 1536-2048: free RAM 3.73 GB\n"
     ]
    },
    {
     "data": {
      "application/vnd.jupyter.widget-view+json": {
       "model_id": "9b05bbc3763446669304995dd75c188b",
       "version_major": 2,
       "version_minor": 0
      },
      "text/plain": [
       "  0%|          | 0/512 [00:00<?, ?it/s]"
      ]
     },
     "metadata": {},
     "output_type": "display_data"
    },
    {
     "name": "stdout",
     "output_type": "stream",
     "text": [
      "Batch 2048-2560: free RAM 3.73 GB\n"
     ]
    },
    {
     "data": {
      "application/vnd.jupyter.widget-view+json": {
       "model_id": "ab27133381db4859b10b6f37e4317748",
       "version_major": 2,
       "version_minor": 0
      },
      "text/plain": [
       "  0%|          | 0/512 [00:00<?, ?it/s]"
      ]
     },
     "metadata": {},
     "output_type": "display_data"
    },
    {
     "name": "stdout",
     "output_type": "stream",
     "text": [
      "Batch 2560-3000: free RAM 3.77 GB\n"
     ]
    },
    {
     "data": {
      "application/vnd.jupyter.widget-view+json": {
       "model_id": "5f43c6e314864e86b13b957702045b55",
       "version_major": 2,
       "version_minor": 0
      },
      "text/plain": [
       "  0%|          | 0/440 [00:00<?, ?it/s]"
      ]
     },
     "metadata": {},
     "output_type": "display_data"
    }
   ],
   "source": [
    "for start in range(0, len(X_test), batch_size):\n",
    "    end    = min(start + batch_size, len(X_test))\n",
    "    Xb_np  = X_test[start:end]\n",
    "    \n",
    "    mem = psutil.virtual_memory()\n",
    "    print(f\"Batch {start}-{end}: free RAM {mem.available/1e9:.2f} GB\")\n",
    "    \n",
    "    # nsamples controls speed/accuracy\n",
    "    shap_vals_batch = explainer.shap_values(Xb_np, nsamples=100)\n",
    "    all_shap.append(shap_vals_batch)\n"
   ]
  },
  {
   "cell_type": "code",
   "execution_count": 50,
   "id": "137ead7b-15e0-4039-bfd6-7b0ec0499917",
   "metadata": {},
   "outputs": [],
   "source": [
    "all_shap_values = np.vstack(all_shap)"
   ]
  },
  {
   "cell_type": "code",
   "execution_count": 52,
   "id": "b5dc9d85-fe75-43f8-af0a-4c7b24dd4389",
   "metadata": {},
   "outputs": [],
   "source": [
    "mean_abs = pd.Series(\n",
    "    np.abs(all_shap_values).mean(axis=0),\n",
    "    index=features\n",
    ").sort_values()"
   ]
  },
  {
   "cell_type": "code",
   "execution_count": 54,
   "id": "ce4456a7-8a92-4121-a25c-029967b80fe9",
   "metadata": {},
   "outputs": [
    {
     "data": {
      "image/png": "[encoded data removed]",
      "text/plain": [
       "<Figure size 600x400 with 1 Axes>"
      ]
     },
     "metadata": {},
     "output_type": "display_data"
    }
   ],
   "source": [
    "os.makedirs(\"shap\", exist_ok=True)\n",
    "plt.figure(figsize=(6,4))\n",
    "mean_abs.plot.barh()\n",
    "plt.xlabel(\"Mean |SHAP value|\")\n",
    "plt.title(\"Mean absolute SHAP — Transformer model\")\n",
    "plt.tight_layout()\n",
    "plt.savefig(\"shap/Transformer_categorical_continous_shap_summary.jpg\", dpi=300)\n",
    "plt.show()"
   ]
  },
  {
   "cell_type": "code",
   "execution_count": 56,
   "id": "c4c6d6d9-d41a-4ef4-9138-3803b41dc80c",
   "metadata": {},
   "outputs": [],
   "source": [
    "def compute_feature_recovery_metrics(gt, ranking):\n",
    "    \"\"\"\n",
    "    Compute TP, FP, FN, Precision, Recall, FDR, and Top-1 Match for feature recovery.\n",
    "\n",
    "    Parameters\n",
    "    ----------\n",
    "    gt : set\n",
    "        Ground-truth causal features.\n",
    "    flagged : list or set\n",
    "        Features your method flagged as important (e.g., top‑k from ranking).\n",
    "    ranking : list\n",
    "        Ordered list of features by descending effect size.\n",
    "\n",
    "    Returns\n",
    "    -------\n",
    "    pd.DataFrame\n",
    "        Single-row DataFrame with the metrics.\n",
    "    \"\"\"\n",
    "    tp = set(gt) & set(ranking)\n",
    "    fp = set(ranking) - set(gt)\n",
    "    fn = set(gt) - set(ranking)\n",
    "\n",
    "    precision = len(tp) / (len(tp) + len(fp)) if (len(tp) + len(fp)) else 0.0\n",
    "    recall    = len(tp) / len(gt)        if len(gt)              else 0.0\n",
    "    fdr       = len(fp) / (len(tp) + len(fp)) if (len(tp) + len(fp)) else 0.0\n",
    "    top1      = 1 if ranking and ranking[0] in gt else 0\n",
    "\n",
    "    metrics = {\n",
    "        \"TP\":           \", \".join(sorted(tp)),\n",
    "        \"FP\":           \", \".join(sorted(fp)),\n",
    "        \"FN\":           \", \".join(sorted(fn)),\n",
    "        \"Precision\":     precision,\n",
    "        \"Recall\":        recall,\n",
    "        \"FDR\":           fdr,\n",
    "        \"Top-1 Match\":   top1\n",
    "    }\n",
    "    return pd.DataFrame([{\n",
    "        \"Precision\": precision,\n",
    "        \"Recall\": recall,\n",
    "        \"FDR\": fdr,\n",
    "        \"Top-1 Match\": top1\n",
    "    }])\n"
   ]
  },
  {
   "cell_type": "code",
   "execution_count": 58,
   "id": "685a7228-74e0-4d2d-8fbb-83536e87b78a",
   "metadata": {},
   "outputs": [
    {
     "name": "stdout",
     "output_type": "stream",
     "text": [
      "  Method  Precision  Recall  FDR  Top-1 Match\n",
      "SHAP-XAI        0.6     1.0  0.4            1\n"
     ]
    }
   ],
   "source": [
    "if __name__ == \"__main__\":\n",
    "    # Example:\n",
    "    GT = {\"Loan_Amount\", \"Credit_History\", \"Income_Level\"}\n",
    "    ranking = [\n",
    "        \"Loan_Amount\",\n",
    "        \"Credit_History\",\n",
    "        \"Income_Level\",\n",
    "    \"Education_Level\",\n",
    "    \"Zip_Code\"]\n",
    "    # flagged = ranking[:3]  # e.g. top‑3 features\n",
    "\n",
    "    df_metrics = compute_feature_recovery_metrics(GT, ranking)\n",
    "    df_metrics.insert(0, \"Method\", \"SHAP-XAI\")\n",
    "    df_metrics = df_metrics[[\"Method\", \"Precision\", \"Recall\", \"FDR\", \"Top-1 Match\"]]\n",
    "    print(df_metrics.to_string(index=False))"
   ]
  },
  {
   "cell_type": "code",
   "execution_count": null,
   "id": "c39d49b6-f3aa-4032-af10-c4afa63ffe8e",
   "metadata": {},
   "outputs": [],
   "source": []
  }
 ],
 "metadata": {
  "kernelspec": {
   "display_name": "Python [conda env:base] *",
   "language": "python",
   "name": "conda-base-py"
  },
  "language_info": {
   "codemirror_mode": {
    "name": "ipython",
    "version": 3
   },
   "file_extension": ".py",
   "mimetype": "text/x-python",
   "name": "python",
   "nbconvert_exporter": "python",
   "pygments_lexer": "ipython3",
   "version": "3.12.7"
  }
 },
 "nbformat": 4,
 "nbformat_minor": 5
}

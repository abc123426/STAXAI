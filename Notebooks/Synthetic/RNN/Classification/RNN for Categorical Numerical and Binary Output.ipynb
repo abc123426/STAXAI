{
 "cells": [
  {
   "cell_type": "code",
   "execution_count": 1,
   "id": "28d0a161-ae7e-4b54-a3cc-213f2d042951",
   "metadata": {},
   "outputs": [],
   "source": [
    "import pandas as pd\n",
    "from sklearn.model_selection import train_test_split\n",
    "from sklearn.preprocessing import StandardScaler\n",
    "from sklearn.metrics import accuracy_score, roc_auc_score\n",
    "\n",
    "import torch\n",
    "import torch.nn as nn\n",
    "from torch.utils.data import Dataset, DataLoader\n"
   ]
  },
  {
   "cell_type": "code",
   "execution_count": 3,
   "id": "1ccb66a2-4692-4d0f-b9d4-61c3c5fc75cb",
   "metadata": {},
   "outputs": [
    {
     "data": {
      "text/html": [
       "<div>\n",
       "<style scoped>\n",
       "    .dataframe tbody tr th:only-of-type {\n",
       "        vertical-align: middle;\n",
       "    }\n",
       "\n",
       "    .dataframe tbody tr th {\n",
       "        vertical-align: top;\n",
       "    }\n",
       "\n",
       "    .dataframe thead th {\n",
       "        text-align: right;\n",
       "    }\n",
       "</style>\n",
       "<table border=\"1\" class=\"dataframe\">\n",
       "  <thead>\n",
       "    <tr style=\"text-align: right;\">\n",
       "      <th></th>\n",
       "      <th>Annual_Income</th>\n",
       "      <th>Credit_Score</th>\n",
       "      <th>Employment_Length</th>\n",
       "      <th>Age</th>\n",
       "      <th>Loan_Term</th>\n",
       "      <th>Loan_Purpose</th>\n",
       "      <th>Employment_Status</th>\n",
       "      <th>Loan_Categories</th>\n",
       "      <th>Region</th>\n",
       "      <th>Marital_Status</th>\n",
       "      <th>Approval_Probability</th>\n",
       "    </tr>\n",
       "  </thead>\n",
       "  <tbody>\n",
       "    <tr>\n",
       "      <th>0</th>\n",
       "      <td>74944.814262</td>\n",
       "      <td>505.502450</td>\n",
       "      <td>14.599966</td>\n",
       "      <td>30</td>\n",
       "      <td>28</td>\n",
       "      <td>Personal</td>\n",
       "      <td>Self-employed</td>\n",
       "      <td>Medium</td>\n",
       "      <td>West</td>\n",
       "      <td>Married</td>\n",
       "      <td>1</td>\n",
       "    </tr>\n",
       "    <tr>\n",
       "      <th>1</th>\n",
       "      <td>144085.716769</td>\n",
       "      <td>483.101653</td>\n",
       "      <td>3.690240</td>\n",
       "      <td>44</td>\n",
       "      <td>14</td>\n",
       "      <td>Home</td>\n",
       "      <td>Employed</td>\n",
       "      <td>Small</td>\n",
       "      <td>South</td>\n",
       "      <td>Divorced</td>\n",
       "      <td>1</td>\n",
       "    </tr>\n",
       "    <tr>\n",
       "      <th>2</th>\n",
       "      <td>117839.273017</td>\n",
       "      <td>396.884652</td>\n",
       "      <td>6.932794</td>\n",
       "      <td>55</td>\n",
       "      <td>27</td>\n",
       "      <td>Home</td>\n",
       "      <td>Unemployed</td>\n",
       "      <td>Large</td>\n",
       "      <td>South</td>\n",
       "      <td>Single</td>\n",
       "      <td>0</td>\n",
       "    </tr>\n",
       "    <tr>\n",
       "      <th>3</th>\n",
       "      <td>101839.018104</td>\n",
       "      <td>633.996669</td>\n",
       "      <td>13.265613</td>\n",
       "      <td>50</td>\n",
       "      <td>1</td>\n",
       "      <td>Personal</td>\n",
       "      <td>Employed</td>\n",
       "      <td>Small</td>\n",
       "      <td>North</td>\n",
       "      <td>Divorced</td>\n",
       "      <td>1</td>\n",
       "    </tr>\n",
       "    <tr>\n",
       "      <th>4</th>\n",
       "      <td>48722.236853</td>\n",
       "      <td>562.143288</td>\n",
       "      <td>9.641787</td>\n",
       "      <td>23</td>\n",
       "      <td>28</td>\n",
       "      <td>Car</td>\n",
       "      <td>Self-employed</td>\n",
       "      <td>Small</td>\n",
       "      <td>South</td>\n",
       "      <td>Single</td>\n",
       "      <td>1</td>\n",
       "    </tr>\n",
       "  </tbody>\n",
       "</table>\n",
       "</div>"
      ],
      "text/plain": [
       "   Annual_Income  Credit_Score  Employment_Length  Age  Loan_Term  \\\n",
       "0   74944.814262    505.502450          14.599966   30         28   \n",
       "1  144085.716769    483.101653           3.690240   44         14   \n",
       "2  117839.273017    396.884652           6.932794   55         27   \n",
       "3  101839.018104    633.996669          13.265613   50          1   \n",
       "4   48722.236853    562.143288           9.641787   23         28   \n",
       "\n",
       "  Loan_Purpose Employment_Status Loan_Categories Region Marital_Status  \\\n",
       "0     Personal     Self-employed          Medium   West        Married   \n",
       "1         Home          Employed           Small  South       Divorced   \n",
       "2         Home        Unemployed           Large  South         Single   \n",
       "3     Personal          Employed           Small  North       Divorced   \n",
       "4          Car     Self-employed           Small  South         Single   \n",
       "\n",
       "   Approval_Probability  \n",
       "0                     1  \n",
       "1                     1  \n",
       "2                     0  \n",
       "3                     1  \n",
       "4                     1  "
      ]
     },
     "execution_count": 3,
     "metadata": {},
     "output_type": "execute_result"
    }
   ],
   "source": [
    "df = pd.read_csv('Loan Approval Categorical Numerical Synthetic Dataset Binary Outcome.csv')\n",
    "if 'Unnamed: 0' in df.columns:\n",
    "    df = df.drop(columns=['Unnamed: 0'])\n",
    "df.head()"
   ]
  },
  {
   "cell_type": "code",
   "execution_count": 5,
   "id": "0f65cfa6-f308-448e-969c-2d2492dd30f5",
   "metadata": {},
   "outputs": [],
   "source": [
    "train_df, test_df = train_test_split(\n",
    "    df, test_size=0.3, random_state=42, stratify=df['Approval_Probability']\n",
    ")\n",
    "test_df_unscaled = test_df.copy()"
   ]
  },
  {
   "cell_type": "code",
   "execution_count": 7,
   "id": "ea019eb6-7290-4178-ba8f-7efc8e420b6e",
   "metadata": {},
   "outputs": [],
   "source": [
    "num_feats = [\"Annual_Income\",\"Credit_Score\",\"Employment_Length\",\"Age\",\"Loan_Term\"]\n",
    "cat_feats = [\"Loan_Purpose\",\"Employment_Status\",\"Loan_Categories\",\"Region\",\"Marital_Status\"]\n",
    "target    = \"Approval_Probability\""
   ]
  },
  {
   "cell_type": "code",
   "execution_count": 9,
   "id": "80095c3f-3eb5-4227-a3f0-cc6ab9ddfb1f",
   "metadata": {},
   "outputs": [],
   "source": [
    "mappings = {\n",
    "    \"Loan_Purpose\":      {\"Personal\":0, \"Home\":1, \"Car\":2},\n",
    "    \"Employment_Status\": {\"Self-employed\":0, \"Employed\":1, \"Unemployed\":2},\n",
    "    \"Loan_Categories\":   {\"Small\":0, \"Medium\":1, \"Large\":2},\n",
    "    \"Region\":            {\"North\":0, \"South\":1, \"West\":2},\n",
    "    \"Marital_Status\":    {\"Single\":0, \"Married\":1, \"Divorced\":2}\n",
    "}\n",
    "for col, mp in mappings.items():\n",
    "    train_df[col] = train_df[col].map(mp)\n",
    "    test_df[col]  = test_df[col].map(mp)"
   ]
  },
  {
   "cell_type": "code",
   "execution_count": 11,
   "id": "ba7d82e3-2b5b-4efe-b670-ee5af1b3fdf7",
   "metadata": {},
   "outputs": [
    {
     "name": "stderr",
     "output_type": "stream",
     "text": [
      "/var/folders/fg/p1v2zct14kndx3r29mnqvqkm0000gp/T/ipykernel_93729/3669314892.py:6: RuntimeWarning: invalid value encountered in cast\n",
      "  X_train_cat  = train_df[cat_feats].values.astype(int)\n",
      "/var/folders/fg/p1v2zct14kndx3r29mnqvqkm0000gp/T/ipykernel_93729/3669314892.py:7: RuntimeWarning: invalid value encountered in cast\n",
      "  X_test_cat   = test_df[cat_feats].values.astype(int)\n"
     ]
    }
   ],
   "source": [
    "scaler       = StandardScaler().fit(train_df[num_feats])\n",
    "X_train_num  = scaler.transform(train_df[num_feats])\n",
    "X_test_num   = scaler.transform(test_df[num_feats])\n",
    "y_train      = train_df[target].values.astype(float)\n",
    "y_test       = test_df[target].values.astype(float)\n",
    "X_train_cat  = train_df[cat_feats].values.astype(int)\n",
    "X_test_cat   = test_df[cat_feats].values.astype(int)"
   ]
  },
  {
   "cell_type": "code",
   "execution_count": 13,
   "id": "d12cb70e-b50f-4dc0-bfa1-8c918ab8d908",
   "metadata": {},
   "outputs": [],
   "source": [
    "# feature_name = scaler.get_feature_names_out()\n",
    "feature_name =  test_df.columns.tolist()"
   ]
  },
  {
   "cell_type": "code",
   "execution_count": 15,
   "id": "20a707ec-1627-4330-b0fd-e39aed5cfe32",
   "metadata": {},
   "outputs": [
    {
     "data": {
      "text/plain": [
       "['Annual_Income',\n",
       " 'Credit_Score',\n",
       " 'Employment_Length',\n",
       " 'Age',\n",
       " 'Loan_Term',\n",
       " 'Loan_Purpose',\n",
       " 'Employment_Status',\n",
       " 'Loan_Categories',\n",
       " 'Region',\n",
       " 'Marital_Status',\n",
       " 'Approval_Probability']"
      ]
     },
     "execution_count": 15,
     "metadata": {},
     "output_type": "execute_result"
    }
   ],
   "source": [
    "feature_name"
   ]
  },
  {
   "cell_type": "code",
   "execution_count": null,
   "id": "4c990dbc-cf71-4b39-819f-26325102ab3d",
   "metadata": {},
   "outputs": [],
   "source": []
  },
  {
   "cell_type": "code",
   "execution_count": 20,
   "id": "37b2b114-dfbe-42ec-9991-10577f05df9e",
   "metadata": {},
   "outputs": [],
   "source": [
    "class MixedCatNumDataset(Dataset):\n",
    "    def __init__(self, X_num, X_cat, y):\n",
    "        self.X_num = torch.from_numpy(X_num).float()   # [N, num_feats]\n",
    "        self.X_cat = torch.from_numpy(X_cat).long()    # [N, cat_feats]\n",
    "        self.y     = torch.from_numpy(y.values).float().unsqueeze(1)  # [N,1]\n",
    "    def __len__(self):\n",
    "        return len(self.y)\n",
    "    def __getitem__(self, idx):\n",
    "        return self.X_num[idx], self.X_cat[idx], self.y[idx]\n",
    "\n"
   ]
  },
  {
   "cell_type": "code",
   "execution_count": 22,
   "id": "947283a8-efe4-425a-9035-7e50c5bbcea9",
   "metadata": {},
   "outputs": [],
   "source": [
    "train_ds = MixedCatNumDataset(\n",
    "    X_train_num, train_df[cat_feats].values, train_df[target]\n",
    ")\n",
    "test_ds  = MixedCatNumDataset(\n",
    "    X_test_num,  test_df[cat_feats].values,  test_df[target]\n",
    ")\n",
    "train_dl = DataLoader(train_ds, batch_size=8, shuffle=True)\n",
    "test_dl  = DataLoader(test_ds,  batch_size=8)\n"
   ]
  },
  {
   "cell_type": "code",
   "execution_count": null,
   "id": "59a91fb9-1b07-4d5f-a4a6-c7f4affd920a",
   "metadata": {},
   "outputs": [],
   "source": []
  },
  {
   "cell_type": "code",
   "execution_count": 25,
   "id": "ed7b54d4-eb5c-41f6-b42e-3fdf3dfb1949",
   "metadata": {},
   "outputs": [],
   "source": [
    "class MixedRNNClassifier(nn.Module):\n",
    "    def __init__(self, num_feats, cat_dims, emb_dim=16, hidden_size=32):\n",
    "        super().__init__()\n",
    "        # numeric projection layers\n",
    "        self.num_proj = nn.ModuleList([nn.Linear(1, emb_dim) for _ in range(num_feats)])\n",
    "        # categorical embeddings\n",
    "        self.cat_emb  = nn.ModuleList([nn.Embedding(dim, emb_dim) for dim in cat_dims])\n",
    "        # RNN\n",
    "        self.rnn      = nn.RNN(input_size=emb_dim, hidden_size=hidden_size,\n",
    "                               batch_first=True)\n",
    "        # head\n",
    "        self.head     = nn.Linear(hidden_size, 1)\n",
    "\n",
    "    def forward(self, x_num, x_cat):\n",
    "        # embed numerics to [B, num_feats, emb_dim]\n",
    "        num_emb = [proj(x_num[:,i].unsqueeze(-1)) for i, proj in enumerate(self.num_proj)]\n",
    "        # embed categoricals to [B, cat_feats, emb_dim]\n",
    "        cat_emb = [emb(x_cat[:,i]) for i, emb in enumerate(self.cat_emb)]\n",
    "        # concatenate sequence [B, seq_len, emb_dim]\n",
    "        seq = torch.stack(num_emb + cat_emb, dim=1)\n",
    "        # RNN expects [B, seq_len, emb_dim]\n",
    "        out, h_n = self.rnn(seq)\n",
    "        last_h   = h_n[-1]            # [B, hidden_size]\n",
    "        return self.head(last_h)      # [B,1] logits\n"
   ]
  },
  {
   "cell_type": "code",
   "execution_count": 27,
   "id": "1c09b5ca-c44d-41a1-a316-309fbe8f8365",
   "metadata": {},
   "outputs": [],
   "source": [
    "device = torch.device(\"cuda\" if torch.cuda.is_available() else \"cpu\")\n",
    "model = MixedRNNClassifier(\n",
    "    num_feats=len(num_feats),\n",
    "    cat_dims=[len(mp) for mp in mappings.values()]\n",
    ").to(device)\n",
    "optimizer = torch.optim.Adam(model.parameters(), lr=1e-3)\n",
    "loss_fn = nn.BCEWithLogitsLoss()"
   ]
  },
  {
   "cell_type": "code",
   "execution_count": 28,
   "id": "ad58d9b7-2ec0-4ded-929f-c4ef101d5211",
   "metadata": {},
   "outputs": [
    {
     "name": "stdout",
     "output_type": "stream",
     "text": [
      "Epoch 10  Train Loss = 0.1918\n",
      "Epoch 20  Train Loss = 0.1791\n",
      "Epoch 30  Train Loss = 0.1601\n",
      "Epoch 40  Train Loss = 0.1449\n",
      "Epoch 50  Train Loss = 0.1300\n",
      "Epoch 60  Train Loss = 0.1143\n"
     ]
    }
   ],
   "source": [
    "for epoch in range(1, 61):\n",
    "    model.train()\n",
    "    total_loss = 0\n",
    "    for x_num, x_cat, yb in train_dl:\n",
    "        x_num, x_cat, yb = x_num.to(device), x_cat.to(device), yb.to(device)\n",
    "        logits = model(x_num, x_cat)\n",
    "        loss = loss_fn(logits, yb)\n",
    "        optimizer.zero_grad(); loss.backward(); optimizer.step()\n",
    "        total_loss += loss.item() * x_num.size(0)\n",
    "    if epoch % 10 == 0:\n",
    "        print(f\"Epoch {epoch:02d}  Train Loss = {total_loss/len(train_dl.dataset):.4f}\")\n"
   ]
  },
  {
   "cell_type": "code",
   "execution_count": 2,
   "id": "64b9128c-d2f1-4d9b-8912-21f9106bf58f",
   "metadata": {},
   "outputs": [],
   "source": [
    "model.eval()\n",
    "probs, preds, trues = [], [], []\n",
    "with torch.no_grad():\n",
    "    for x_num, x_cat, yb in test_dl:\n",
    "        x_num, x_cat = x_num.to(device), x_cat.to(device)\n",
    "        logits = model(x_num, x_cat).cpu()\n",
    "        p = torch.sigmoid(logits).numpy().flatten()\n",
    "        probs.extend(p)\n",
    "        preds.extend((p>0.5).astype(int))\n",
    "        trues.extend(yb.numpy().flatten().astype(int))\n",
    "\n",
    "print(f\"Test Accuracy: {accuracy_score(trues, preds):.4f}\")\n",
    "print(f\"Test ROC AUC : {roc_auc_score(trues, probs):.4f}\")"
   ]
  },
  {
   "cell_type": "code",
   "execution_count": 31,
   "id": "abbdd3f5-a6ed-49ae-ad3f-3569c37496f5",
   "metadata": {},
   "outputs": [],
   "source": [
    "preds_df = pd.DataFrame({\"pred_value\": preds})"
   ]
  },
  {
   "cell_type": "code",
   "execution_count": 32,
   "id": "deb4c196-9d31-45f8-9cb7-904910b4d835",
   "metadata": {},
   "outputs": [],
   "source": [
    "test_df = test_df_unscaled.drop(test_df_unscaled.columns[[-1]], axis=1)"
   ]
  },
  {
   "cell_type": "code",
   "execution_count": 33,
   "id": "413e84d7-6f8a-430e-83ab-5fde3d1bee49",
   "metadata": {},
   "outputs": [],
   "source": [
    "merged_df = pd.concat([\n",
    "    test_df.reset_index(drop=True),\n",
    "    preds_df.reset_index(drop=True)\n",
    "], axis=1)"
   ]
  },
  {
   "cell_type": "code",
   "execution_count": 34,
   "id": "5bea89e9-ffb8-4612-9848-1f74bd8b1a42",
   "metadata": {},
   "outputs": [],
   "source": [
    "import numpy as np\n",
    "import matplotlib.pyplot as plt\n",
    "from scipy.stats import pointbiserialr, chi2_contingency\n"
   ]
  },
  {
   "cell_type": "code",
   "execution_count": 41,
   "id": "49b2829c-02b4-4785-b354-eda0244a7473",
   "metadata": {},
   "outputs": [],
   "source": [
    "numeric_features = ['Annual_Income', 'Credit_Score', 'Employment_Length', 'Age', 'Loan_Term']\n",
    "categorical_features = ['Loan_Purpose', 'Employment_Status', 'Loan_Categories', 'Region', 'Marital_Status']\n",
    "target = 'pred_value'\n"
   ]
  },
  {
   "cell_type": "code",
   "execution_count": 43,
   "id": "a5a9c38b-ed1b-420d-9905-c65626b49a41",
   "metadata": {},
   "outputs": [],
   "source": [
    "def cramers_v(conf_mat):\n",
    "    chi2, _, _, _ = chi2_contingency(conf_mat)\n",
    "    n = conf_mat.values.sum()\n",
    "    r, k = conf_mat.shape\n",
    "    return np.sqrt(chi2 / (n * (min(r, k) - 1)))"
   ]
  },
  {
   "cell_type": "code",
   "execution_count": 45,
   "id": "805436c5-43bb-446f-8350-df8c7feec001",
   "metadata": {},
   "outputs": [],
   "source": [
    "records = []"
   ]
  },
  {
   "cell_type": "code",
   "execution_count": 47,
   "id": "ec2c8675-886a-4ae8-b1c0-7b492f0f0c2f",
   "metadata": {},
   "outputs": [],
   "source": [
    "for feat in numeric_features:\n",
    "    r, p = pointbiserialr(merged_df[feat], merged_df[target])\n",
    "    # if p < 0.05:\n",
    "    records.append({\n",
    "        'Feature': feat,\n",
    "            'Type': 'Numeric',\n",
    "            'p_value': p,\n",
    "            'effect_size': abs(r)\n",
    "            })\n",
    "\n",
    "for feat in categorical_features:\n",
    "    conf = pd.crosstab(merged_df[feat], merged_df[target])\n",
    "    chi2_stat, p, _, _ = chi2_contingency(conf)\n",
    "    # if p < 0.05:\n",
    "    v = cramers_v(conf)\n",
    "    records.append({\n",
    "                'Feature': feat,\n",
    "                'Type': 'Categorical',\n",
    "                'p_value': p,\n",
    "                'effect_size': v\n",
    "            })"
   ]
  },
  {
   "cell_type": "code",
   "execution_count": 49,
   "id": "fa1ca94b-0c10-46fd-9d24-f7bc79e03a82",
   "metadata": {},
   "outputs": [
    {
     "data": {
      "text/html": [
       "<div>\n",
       "<style scoped>\n",
       "    .dataframe tbody tr th:only-of-type {\n",
       "        vertical-align: middle;\n",
       "    }\n",
       "\n",
       "    .dataframe tbody tr th {\n",
       "        vertical-align: top;\n",
       "    }\n",
       "\n",
       "    .dataframe thead th {\n",
       "        text-align: right;\n",
       "    }\n",
       "</style>\n",
       "<table border=\"1\" class=\"dataframe\">\n",
       "  <thead>\n",
       "    <tr style=\"text-align: right;\">\n",
       "      <th></th>\n",
       "      <th>Feature</th>\n",
       "      <th>Type</th>\n",
       "      <th>p_value</th>\n",
       "      <th>effect_size</th>\n",
       "    </tr>\n",
       "  </thead>\n",
       "  <tbody>\n",
       "    <tr>\n",
       "      <th>0</th>\n",
       "      <td>Employment_Status</td>\n",
       "      <td>Categorical</td>\n",
       "      <td>4.601970e-149</td>\n",
       "      <td>0.477185</td>\n",
       "    </tr>\n",
       "    <tr>\n",
       "      <th>1</th>\n",
       "      <td>Annual_Income</td>\n",
       "      <td>Numeric</td>\n",
       "      <td>5.448439e-141</td>\n",
       "      <td>0.438170</td>\n",
       "    </tr>\n",
       "    <tr>\n",
       "      <th>2</th>\n",
       "      <td>Credit_Score</td>\n",
       "      <td>Numeric</td>\n",
       "      <td>8.511275e-95</td>\n",
       "      <td>0.364256</td>\n",
       "    </tr>\n",
       "    <tr>\n",
       "      <th>3</th>\n",
       "      <td>Loan_Categories</td>\n",
       "      <td>Categorical</td>\n",
       "      <td>2.836584e-70</td>\n",
       "      <td>0.326740</td>\n",
       "    </tr>\n",
       "    <tr>\n",
       "      <th>4</th>\n",
       "      <td>Loan_Purpose</td>\n",
       "      <td>Categorical</td>\n",
       "      <td>7.790035e-11</td>\n",
       "      <td>0.124567</td>\n",
       "    </tr>\n",
       "    <tr>\n",
       "      <th>5</th>\n",
       "      <td>Employment_Length</td>\n",
       "      <td>Numeric</td>\n",
       "      <td>1.381637e-02</td>\n",
       "      <td>0.044946</td>\n",
       "    </tr>\n",
       "    <tr>\n",
       "      <th>6</th>\n",
       "      <td>Marital_Status</td>\n",
       "      <td>Categorical</td>\n",
       "      <td>5.597731e-01</td>\n",
       "      <td>0.019668</td>\n",
       "    </tr>\n",
       "    <tr>\n",
       "      <th>7</th>\n",
       "      <td>Region</td>\n",
       "      <td>Categorical</td>\n",
       "      <td>7.992770e-01</td>\n",
       "      <td>0.018332</td>\n",
       "    </tr>\n",
       "    <tr>\n",
       "      <th>8</th>\n",
       "      <td>Loan_Term</td>\n",
       "      <td>Numeric</td>\n",
       "      <td>3.587341e-01</td>\n",
       "      <td>0.016762</td>\n",
       "    </tr>\n",
       "    <tr>\n",
       "      <th>9</th>\n",
       "      <td>Age</td>\n",
       "      <td>Numeric</td>\n",
       "      <td>4.343707e-01</td>\n",
       "      <td>0.014278</td>\n",
       "    </tr>\n",
       "  </tbody>\n",
       "</table>\n",
       "</div>"
      ],
      "text/plain": [
       "             Feature         Type        p_value  effect_size\n",
       "0  Employment_Status  Categorical  4.601970e-149     0.477185\n",
       "1      Annual_Income      Numeric  5.448439e-141     0.438170\n",
       "2       Credit_Score      Numeric   8.511275e-95     0.364256\n",
       "3    Loan_Categories  Categorical   2.836584e-70     0.326740\n",
       "4       Loan_Purpose  Categorical   7.790035e-11     0.124567\n",
       "5  Employment_Length      Numeric   1.381637e-02     0.044946\n",
       "6     Marital_Status  Categorical   5.597731e-01     0.019668\n",
       "7             Region  Categorical   7.992770e-01     0.018332\n",
       "8          Loan_Term      Numeric   3.587341e-01     0.016762\n",
       "9                Age      Numeric   4.343707e-01     0.014278"
      ]
     },
     "metadata": {},
     "output_type": "display_data"
    }
   ],
   "source": [
    "if not records:\n",
    "    print(\"No features reached p < 0.05.\")\n",
    "else:\n",
    "    eff_df = pd.DataFrame(records)\n",
    "    eff_df = eff_df.sort_values('effect_size', ascending=False).reset_index(drop=True)\n",
    "        \n",
    "        # 5. Display ranked features\n",
    "    display(eff_df[['Feature', 'Type', 'p_value', 'effect_size']])\n"
   ]
  },
  {
   "cell_type": "code",
   "execution_count": 96,
   "id": "7f4e2d3c-4dc6-4e72-a5d6-6843090eb432",
   "metadata": {},
   "outputs": [
    {
     "data": {
      "image/png": "[encoded data removed]",
      "text/plain": [
       "<Figure size 800x600 with 1 Axes>"
      ]
     },
     "metadata": {},
     "output_type": "display_data"
    }
   ],
   "source": [
    "plt.figure(figsize=(8, 6))\n",
    "plt.barh(eff_df['Feature'], eff_df['effect_size'], color='skyblue')\n",
    "plt.xlabel(\"Effect Size\")\n",
    "plt.title(\"Ranked Effect Sizes for Significant Features (p < 0.05)\")\n",
    "plt.gca().invert_yaxis()  # largest effect at top\n",
    "plt.grid(axis='x', linestyle='--', alpha=0.6)\n",
    "plt.tight_layout()\n",
    "plt.show()"
   ]
  },
  {
   "cell_type": "code",
   "execution_count": 100,
   "id": "088e693b-9137-46c3-910c-d23c1cba6ffb",
   "metadata": {},
   "outputs": [],
   "source": [
    "def compute_metrics(GT, R):\n",
    "    # True Positives, False Positives, False Negatives\n",
    "    TP = GT & R\n",
    "    FP = R - GT\n",
    "    FN = GT - R\n",
    "    \n",
    "    # Counts\n",
    "    tp, fp, fn = len(TP), len(FP), len(FN)\n",
    "    \n",
    "    # Metrics\n",
    "    precision = tp / (tp + fp) if (tp + fp) > 0 else 0\n",
    "    recall = tp / len(GT) if len(GT) > 0 else 0\n",
    "    fdr = fp / (tp + fp) if (tp + fp) > 0 else 0\n",
    "    \n",
    "    return {\n",
    "        'TP': TP, 'FP': FP, 'FN': FN,\n",
    "        'Precision': precision,\n",
    "        'Recall': recall,\n",
    "        'FDR': fdr\n",
    "    }\n",
    "\n",
    "\n",
    "GT = {\"annual_income\", \"credit_score\",\"Employment_Status\",\"Loan_Categories\",\"Loan_Purpose\"}\n",
    "R  = {\"Employment_Status\",\n",
    "      \"annual_income\",\n",
    "      \"credit_score\",\n",
    "      \"Loan_Categories\",\n",
    "      \"Loan_Purpose\",\n",
    "      \"Marital_Status\"}"
   ]
  },
  {
   "cell_type": "code",
   "execution_count": 102,
   "id": "886272ae-a90b-40b5-9d2d-ebea7479ae9d",
   "metadata": {},
   "outputs": [],
   "source": [
    "metrics = compute_metrics(GT, R)"
   ]
  },
  {
   "cell_type": "code",
   "execution_count": 104,
   "id": "63ea2169-8387-47ae-8b50-e00cd6c41261",
   "metadata": {},
   "outputs": [
    {
     "name": "stdout",
     "output_type": "stream",
     "text": [
      "True Positives (TP): {'credit_score', 'annual_income', 'Employment_Status', 'Loan_Categories', 'Loan_Purpose'}\n",
      "False Positives (FP): {'Marital_Status'}\n",
      "False Negatives (FN): set()\n",
      "Precision: 0.833\n",
      "Recall:    1.000\n",
      "FDR:       0.167\n"
     ]
    }
   ],
   "source": [
    "print(\"True Positives (TP):\", metrics['TP'])\n",
    "print(\"False Positives (FP):\", metrics['FP'])\n",
    "print(\"False Negatives (FN):\", metrics['FN'])\n",
    "print(f\"Precision: {metrics['Precision']:.3f}\")\n",
    "print(f\"Recall:    {metrics['Recall']:.3f}\")\n",
    "print(f\"FDR:       {metrics['FDR']:.3f}\")"
   ]
  },
  {
   "cell_type": "code",
   "execution_count": null,
   "id": "f95b1e92-06b6-4fbb-bee1-afc04a331231",
   "metadata": {},
   "outputs": [],
   "source": []
  },
  {
   "cell_type": "code",
   "execution_count": 115,
   "id": "73e55db7-9e32-4a6d-9f16-fbbe6011ecc4",
   "metadata": {},
   "outputs": [],
   "source": [
    "import shap\n",
    "import numpy as np\n",
    "import psutil\n",
    "import os\n",
    "import torch.optim as optim\n",
    "import matplotlib.pyplot as plt"
   ]
  },
  {
   "cell_type": "code",
   "execution_count": 117,
   "id": "1b8bb9f4-44ba-4d3b-bee4-6bc9987e66d1",
   "metadata": {},
   "outputs": [],
   "source": [
    "X_train_all = np.hstack([X_train_num, X_train_cat])\n",
    "X_test_all  = np.hstack([X_test_num,  X_test_cat])\n"
   ]
  },
  {
   "cell_type": "code",
   "execution_count": null,
   "id": "86428480-4652-437f-8128-b39218b2dce9",
   "metadata": {},
   "outputs": [],
   "source": []
  },
  {
   "cell_type": "code",
   "execution_count": 119,
   "id": "09a3c441-9a79-47b1-a89a-743449139c8d",
   "metadata": {},
   "outputs": [],
   "source": [
    "def predict_proba_np(x_np):\n",
    "    \"\"\"\n",
    "    x_np: (batch,10) array: first 5 numerics, then 5 ints\n",
    "    returns: (batch,) positive‐class probabilities\n",
    "    \"\"\"\n",
    "    model.eval()\n",
    "    with torch.no_grad():\n",
    "        # split\n",
    "        x_num = torch.from_numpy(x_np[:,:5]).float().to(device)\n",
    "        x_cat = torch.from_numpy(x_np[:,5:].astype(int)).long().to(device)\n",
    "        logits= model(x_num, x_cat)\n",
    "        probs = torch.sigmoid(logits).cpu().numpy().flatten()\n",
    "    return probs\n"
   ]
  },
  {
   "cell_type": "code",
   "execution_count": 121,
   "id": "ad0a555f-399f-44d6-b531-ab1bc16f900e",
   "metadata": {},
   "outputs": [
    {
     "name": "stderr",
     "output_type": "stream",
     "text": [
      "Using 200 background data samples could cause slower run times. Consider using shap.sample(data, K) or shap.kmeans(data, K) to summarize the background as K samples.\n"
     ]
    }
   ],
   "source": [
    "bg_size    = 200\n",
    "bg_indices = np.random.choice(len(X_train_all), size=bg_size, replace=False)\n",
    "background = X_train_all[bg_indices]  # (200,10)\n",
    "explainer  = shap.KernelExplainer(predict_proba_np, background)\n"
   ]
  },
  {
   "cell_type": "code",
   "execution_count": 123,
   "id": "125282c5-5ead-45af-808e-919594d757e7",
   "metadata": {},
   "outputs": [
    {
     "name": "stdout",
     "output_type": "stream",
     "text": [
      "Batch 0-512: free RAM 4.41 GB\n"
     ]
    },
    {
     "data": {
      "application/vnd.jupyter.widget-view+json": {
       "model_id": "e029869284684e7c8cf5760ece6907d3",
       "version_major": 2,
       "version_minor": 0
      },
      "text/plain": [
       "  0%|          | 0/512 [00:00<?, ?it/s]"
      ]
     },
     "metadata": {},
     "output_type": "display_data"
    },
    {
     "name": "stdout",
     "output_type": "stream",
     "text": [
      "Batch 512-1024: free RAM 4.54 GB\n"
     ]
    },
    {
     "data": {
      "application/vnd.jupyter.widget-view+json": {
       "model_id": "c6a3adf6eccc40c7813ff1a619026fc3",
       "version_major": 2,
       "version_minor": 0
      },
      "text/plain": [
       "  0%|          | 0/512 [00:00<?, ?it/s]"
      ]
     },
     "metadata": {},
     "output_type": "display_data"
    },
    {
     "name": "stdout",
     "output_type": "stream",
     "text": [
      "Batch 1024-1536: free RAM 4.53 GB\n"
     ]
    },
    {
     "data": {
      "application/vnd.jupyter.widget-view+json": {
       "model_id": "93374a06188a49e296fc8c4fe1745b00",
       "version_major": 2,
       "version_minor": 0
      },
      "text/plain": [
       "  0%|          | 0/512 [00:00<?, ?it/s]"
      ]
     },
     "metadata": {},
     "output_type": "display_data"
    },
    {
     "name": "stdout",
     "output_type": "stream",
     "text": [
      "Batch 1536-2048: free RAM 4.54 GB\n"
     ]
    },
    {
     "data": {
      "application/vnd.jupyter.widget-view+json": {
       "model_id": "687a4a36696749fd9014ea0b128adcee",
       "version_major": 2,
       "version_minor": 0
      },
      "text/plain": [
       "  0%|          | 0/512 [00:00<?, ?it/s]"
      ]
     },
     "metadata": {},
     "output_type": "display_data"
    },
    {
     "name": "stdout",
     "output_type": "stream",
     "text": [
      "Batch 2048-2560: free RAM 4.55 GB\n"
     ]
    },
    {
     "data": {
      "application/vnd.jupyter.widget-view+json": {
       "model_id": "90a05369159047f7acb78160cae9b8bb",
       "version_major": 2,
       "version_minor": 0
      },
      "text/plain": [
       "  0%|          | 0/512 [00:00<?, ?it/s]"
      ]
     },
     "metadata": {},
     "output_type": "display_data"
    },
    {
     "name": "stdout",
     "output_type": "stream",
     "text": [
      "Batch 2560-3000: free RAM 4.52 GB\n"
     ]
    },
    {
     "data": {
      "application/vnd.jupyter.widget-view+json": {
       "model_id": "dfb090ad6d11434d96d64906f7b6b760",
       "version_major": 2,
       "version_minor": 0
      },
      "text/plain": [
       "  0%|          | 0/440 [00:00<?, ?it/s]"
      ]
     },
     "metadata": {},
     "output_type": "display_data"
    }
   ],
   "source": [
    "batch_size = 512\n",
    "all_shap   = []\n",
    "for start in range(0, len(X_test_all), batch_size):\n",
    "    end    = min(start + batch_size, len(X_test_all))\n",
    "    Xb_np  = X_test_all[start:end]\n",
    "    mem    = psutil.virtual_memory()\n",
    "    print(f\"Batch {start}-{end}: free RAM {mem.available/1e9:.2f} GB\")\n",
    "    sv     = explainer.shap_values(Xb_np, nsamples=100)  # (batch,10)\n",
    "    all_shap.append(sv)"
   ]
  },
  {
   "cell_type": "code",
   "execution_count": 125,
   "id": "39f38f09-537c-405b-a520-6cb4629fed90",
   "metadata": {},
   "outputs": [],
   "source": [
    "all_shap_values = np.vstack(all_shap)"
   ]
  },
  {
   "cell_type": "code",
   "execution_count": 127,
   "id": "4e3a7ca5-b648-4915-abc7-b090fdbc43ab",
   "metadata": {},
   "outputs": [],
   "source": [
    "feature_names = num_feats + cat_feats\n",
    "mean_abs = pd.Series(\n",
    "    np.abs(all_shap_values).mean(axis=0),\n",
    "    index=feature_names\n",
    ").sort_values()"
   ]
  },
  {
   "cell_type": "code",
   "execution_count": 131,
   "id": "64a3a243-d7e5-4a57-acfe-ec932cfb21d0",
   "metadata": {},
   "outputs": [
    {
     "name": "stdout",
     "output_type": "stream",
     "text": [
      "Mean |SHAP| per feature (regression):\n",
      "Age                  0.008956\n",
      "Marital_Status       0.009895\n",
      "Region               0.010713\n",
      "Employment_Length    0.011041\n",
      "Loan_Term            0.011925\n",
      "Loan_Purpose         0.049137\n",
      "Credit_Score         0.143501\n",
      "Loan_Categories      0.143980\n",
      "Annual_Income        0.171237\n",
      "Employment_Status    0.210632\n",
      "dtype: float64\n"
     ]
    }
   ],
   "source": [
    "print(\"Mean |SHAP| per feature (regression):\")\n",
    "print(mean_abs)"
   ]
  },
  {
   "cell_type": "code",
   "execution_count": 133,
   "id": "b95ad2cd-2131-44c8-b5eb-d9a7bb1238f0",
   "metadata": {},
   "outputs": [
    {
     "data": {
      "image/png": "[encoded data removed]",
      "text/plain": [
       "<Figure size 800x500 with 1 Axes>"
      ]
     },
     "metadata": {},
     "output_type": "display_data"
    }
   ],
   "source": [
    "os.makedirs(\"shap\", exist_ok=True)\n",
    "plt.figure(figsize=(8,5))\n",
    "mean_abs.plot.barh()\n",
    "plt.xlabel(\"Mean |SHAP value|\")\n",
    "plt.title(\"Mean absolute SHAP — Categorical + Numerical RNN inputs\")\n",
    "plt.tight_layout()\n",
    "plt.savefig(\"shap/RNN_Categorical + Numerical_binary_shap_summary.jpg\", dpi=300)\n",
    "plt.show()"
   ]
  },
  {
   "cell_type": "code",
   "execution_count": 135,
   "id": "85bbb56a-c4b1-4f7e-aedf-f929c0dba5c2",
   "metadata": {},
   "outputs": [],
   "source": [
    "def compute_metrics(GT, R):\n",
    "    # True Positives, False Positives, False Negatives\n",
    "    TP = GT & R\n",
    "    FP = R - GT\n",
    "    FN = GT - R\n",
    "    \n",
    "    # Counts\n",
    "    tp, fp, fn = len(TP), len(FP), len(FN)\n",
    "    \n",
    "    # Metrics\n",
    "    precision = tp / (tp + fp) if (tp + fp) > 0 else 0\n",
    "    recall = tp / len(GT) if len(GT) > 0 else 0\n",
    "    fdr = fp / (tp + fp) if (tp + fp) > 0 else 0\n",
    "    \n",
    "    return {\n",
    "        'TP': TP, 'FP': FP, 'FN': FN,\n",
    "        'Precision': precision,\n",
    "        'Recall': recall,\n",
    "        'FDR': fdr\n",
    "    }\n",
    "\n",
    "\n",
    "GT = {\"annual_income\", \"credit_score\",\"Employment_Status\",\"Loan_Categories\",\"Loan_Purpose\"}\n",
    "R  = {\"Employment_Status\",\n",
    "    \"annual_income\",\n",
    "      \"Loan_Categories\",\n",
    "      \"credit_score\",\n",
    "      \"Loan_Purpose\",\n",
    "      \"Loan_Term\",\n",
    "      \"Employment_Length\",\n",
    "      \"Region\",\n",
    "      \"Marital_Status\",\n",
    "      \"Age\"}"
   ]
  },
  {
   "cell_type": "code",
   "execution_count": 137,
   "id": "840a0cb4-9846-43c8-beb6-4de476cab325",
   "metadata": {},
   "outputs": [],
   "source": [
    "metrics = compute_metrics(GT, R)"
   ]
  },
  {
   "cell_type": "code",
   "execution_count": 139,
   "id": "a8d137c4-89ce-4602-b268-b540c72f417a",
   "metadata": {},
   "outputs": [
    {
     "name": "stdout",
     "output_type": "stream",
     "text": [
      "True Positives (TP): {'Loan_Categories', 'Employment_Status', 'credit_score', 'Loan_Purpose', 'annual_income'}\n",
      "False Positives (FP): {'Employment_Length', 'Loan_Term', 'Marital_Status', 'Age', 'Region'}\n",
      "False Negatives (FN): set()\n",
      "Precision: 0.500\n",
      "Recall:    1.000\n",
      "FDR:       0.500\n"
     ]
    }
   ],
   "source": [
    "print(\"True Positives (TP):\", metrics['TP'])\n",
    "print(\"False Positives (FP):\", metrics['FP'])\n",
    "print(\"False Negatives (FN):\", metrics['FN'])\n",
    "print(f\"Precision: {metrics['Precision']:.3f}\")\n",
    "print(f\"Recall:    {metrics['Recall']:.3f}\")\n",
    "print(f\"FDR:       {metrics['FDR']:.3f}\")"
   ]
  },
  {
   "cell_type": "code",
   "execution_count": null,
   "id": "e60c8d09-6646-424a-a3e3-5e85885fc4f6",
   "metadata": {},
   "outputs": [],
   "source": []
  }
 ],
 "metadata": {
  "kernelspec": {
   "display_name": "Python [conda env:base] *",
   "language": "python",
   "name": "conda-base-py"
  },
  "language_info": {
   "codemirror_mode": {
    "name": "ipython",
    "version": 3
   },
   "file_extension": ".py",
   "mimetype": "text/x-python",
   "name": "python",
   "nbconvert_exporter": "python",
   "pygments_lexer": "ipython3",
   "version": "3.12.7"
  }
 },
 "nbformat": 4,
 "nbformat_minor": 5
}

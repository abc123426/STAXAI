{
 "cells": [
  {
   "cell_type": "code",
   "execution_count": 2,
   "id": "b21d57ef-7cb3-4c27-a0a6-e59cd31cd7a0",
   "metadata": {},
   "outputs": [],
   "source": [
    "import pandas as pd\n",
    "from sklearn.model_selection import train_test_split\n",
    "from sklearn.preprocessing import StandardScaler\n",
    "from sklearn.metrics import accuracy_score, roc_auc_score\n",
    "\n",
    "import torch\n",
    "import torch.nn as nn\n",
    "from torch.utils.data import Dataset, DataLoader"
   ]
  },
  {
   "cell_type": "code",
   "execution_count": 4,
   "id": "815f767a-b7ea-4317-bb73-43d38fe58a72",
   "metadata": {},
   "outputs": [],
   "source": [
    "df = pd.read_csv(\"Numerical Loan Approval Synthetic Dataset with binary outcome.csv\").drop(columns=[\"Unnamed: 0\"])"
   ]
  },
  {
   "cell_type": "code",
   "execution_count": null,
   "id": "e5bc956b-5343-40d9-b7cd-e63bc127b681",
   "metadata": {},
   "outputs": [],
   "source": []
  },
  {
   "cell_type": "code",
   "execution_count": 6,
   "id": "0f887c72-6db7-456a-84f0-0ba5d718b182",
   "metadata": {},
   "outputs": [],
   "source": [
    "train_df, test_df = train_test_split(\n",
    "    df, test_size=0.3, random_state=42, stratify=df['Loan_Approval']\n",
    ")\n",
    "test_df_unscaled = test_df.copy()"
   ]
  },
  {
   "cell_type": "code",
   "execution_count": 8,
   "id": "fe30193a-67f6-4fff-b965-934786b595df",
   "metadata": {},
   "outputs": [],
   "source": [
    "num_feats = ['Annual_Income','Credit_Score','Debt_to_Income','Employment_Length','Age']\n",
    "scaler = StandardScaler().fit(train_df[num_feats])\n",
    "X_train = scaler.transform(train_df[num_feats])\n",
    "X_test  = scaler.transform(test_df[num_feats])\n",
    "y_train = train_df['Loan_Approval'].values\n",
    "y_test  = test_df['Loan_Approval'].values\n"
   ]
  },
  {
   "cell_type": "code",
   "execution_count": 10,
   "id": "a3a8cc10-f2b8-4fda-9d10-623680d43bc6",
   "metadata": {},
   "outputs": [],
   "source": [
    "class NumDataset(Dataset):\n",
    "    def __init__(self, X, y):\n",
    "        # X: [N, 5] → [N, 5, 1] for RNN input\n",
    "        self.X = torch.from_numpy(X).float().unsqueeze(-1)\n",
    "        # y: [N] → [N, 1]\n",
    "        self.y = torch.from_numpy(y).float().unsqueeze(1)\n",
    "    def __len__(self):\n",
    "        return len(self.X)\n",
    "    def __getitem__(self, idx):\n",
    "        return self.X[idx], self.y[idx]\n",
    "\n",
    "train_ds = NumDataset(X_train, y_train)\n",
    "test_ds  = NumDataset(X_test,  y_test)\n",
    "train_dl = DataLoader(train_ds, batch_size=8, shuffle=True)\n",
    "test_dl  = DataLoader(test_ds,  batch_size=8)\n"
   ]
  },
  {
   "cell_type": "code",
   "execution_count": 12,
   "id": "ca7aa977-f2f3-4309-8aa2-b2db77001d17",
   "metadata": {},
   "outputs": [],
   "source": [
    "class NumRNNClassifier(nn.Module):\n",
    "    def __init__(self, input_size=1, hidden_size=32, num_layers=1):\n",
    "        super().__init__()\n",
    "        self.rnn  = nn.RNN(input_size, hidden_size, num_layers, batch_first=True)\n",
    "        self.fc   = nn.Linear(hidden_size, 1)\n",
    "    def forward(self, x):\n",
    "        # x: [B, seq_len=5, 1]\n",
    "        out, h_n = self.rnn(x)      # h_n: [num_layers, B, hidden_size]\n",
    "        last_h  = h_n[-1]           # [B, hidden_size]\n",
    "        return self.fc(last_h)      # [B, 1] logits\n",
    "\n",
    "device = torch.device(\"cuda\" if torch.cuda.is_available() else \"cpu\")\n",
    "model = NumRNNClassifier().to(device)\n",
    "optimizer = torch.optim.Adam(model.parameters(), lr=1e-3)\n",
    "loss_fn = nn.BCEWithLogitsLoss()"
   ]
  },
  {
   "cell_type": "code",
   "execution_count": 2,
   "id": "f19dc01a-b17e-48cf-802f-4cf9a7c31f5c",
   "metadata": {},
   "outputs": [],
   "source": [
    "for epoch in range(1, 61):\n",
    "    model.train()\n",
    "    total_loss = 0.0\n",
    "    for xb, yb in train_dl:\n",
    "        xb, yb = xb.to(device), yb.to(device)\n",
    "        logits = model(xb)\n",
    "        loss = loss_fn(logits, yb)\n",
    "        optimizer.zero_grad()\n",
    "        loss.backward()\n",
    "        optimizer.step()\n",
    "        total_loss += loss.item() * xb.size(0)\n",
    "    if epoch % 10 == 0:\n",
    "        avg_loss = total_loss / len(train_dl.dataset)\n",
    "        print(f\"Epoch {epoch:02d}  Train Loss = {avg_loss:.4f}\")\n"
   ]
  },
  {
   "cell_type": "code",
   "execution_count": 16,
   "id": "22b8359a-c157-4e82-9036-fee5b5ba2921",
   "metadata": {},
   "outputs": [
    {
     "name": "stdout",
     "output_type": "stream",
     "text": [
      "\n",
      "Test Accuracy: 0.9893\n",
      "Test ROC AUC : 0.9997\n"
     ]
    }
   ],
   "source": [
    "model.eval()\n",
    "probs, preds, trues = [], [], []\n",
    "with torch.no_grad():\n",
    "    for xb, yb in test_dl:\n",
    "        xb = xb.to(device)\n",
    "        logit = model(xb).cpu()\n",
    "        p = torch.sigmoid(logit).numpy().flatten()\n",
    "        probs.extend(p)\n",
    "        preds.extend((p > 0.5).astype(int))\n",
    "        trues.extend(yb.numpy().flatten().astype(int))\n",
    "\n",
    "acc = accuracy_score(trues, preds)\n",
    "auc = roc_auc_score(trues, probs)\n",
    "print(f\"\\nTest Accuracy: {acc:.4f}\")\n",
    "print(f\"Test ROC AUC : {auc:.4f}\")"
   ]
  },
  {
   "cell_type": "code",
   "execution_count": 21,
   "id": "f1dbf96b-a935-4d67-a703-6f7a86d1be98",
   "metadata": {},
   "outputs": [],
   "source": [
    "preds_df = pd.DataFrame({\"pred_value\": preds})"
   ]
  },
  {
   "cell_type": "code",
   "execution_count": 25,
   "id": "895262e2-d184-4603-b6ce-4d3b76dc09f2",
   "metadata": {},
   "outputs": [],
   "source": [
    "test_df = test_df_unscaled.drop(test_df_unscaled.columns[[-1]], axis=1)"
   ]
  },
  {
   "cell_type": "code",
   "execution_count": 27,
   "id": "cfd3d741-743c-45b2-920e-128c97af96e4",
   "metadata": {},
   "outputs": [],
   "source": [
    "merged_df = pd.concat([\n",
    "    test_df.reset_index(drop=True),\n",
    "    preds_df.reset_index(drop=True)\n",
    "], axis=1)"
   ]
  },
  {
   "cell_type": "code",
   "execution_count": 35,
   "id": "cc1eb10c-f4bf-4364-a0da-6d605aa5fd8b",
   "metadata": {},
   "outputs": [
    {
     "data": {
      "text/html": [
       "<div>\n",
       "<style scoped>\n",
       "    .dataframe tbody tr th:only-of-type {\n",
       "        vertical-align: middle;\n",
       "    }\n",
       "\n",
       "    .dataframe tbody tr th {\n",
       "        vertical-align: top;\n",
       "    }\n",
       "\n",
       "    .dataframe thead th {\n",
       "        text-align: right;\n",
       "    }\n",
       "</style>\n",
       "<table border=\"1\" class=\"dataframe\">\n",
       "  <thead>\n",
       "    <tr style=\"text-align: right;\">\n",
       "      <th></th>\n",
       "      <th>Annual_Income</th>\n",
       "      <th>Credit_Score</th>\n",
       "      <th>Debt_to_Income</th>\n",
       "      <th>Employment_Length</th>\n",
       "      <th>Age</th>\n",
       "      <th>pred_value</th>\n",
       "    </tr>\n",
       "  </thead>\n",
       "  <tbody>\n",
       "    <tr>\n",
       "      <th>0</th>\n",
       "      <td>82472.111278</td>\n",
       "      <td>730.310701</td>\n",
       "      <td>0.907336</td>\n",
       "      <td>18.383897</td>\n",
       "      <td>29</td>\n",
       "      <td>1</td>\n",
       "    </tr>\n",
       "    <tr>\n",
       "      <th>1</th>\n",
       "      <td>45710.190424</td>\n",
       "      <td>425.101961</td>\n",
       "      <td>0.250506</td>\n",
       "      <td>18.268317</td>\n",
       "      <td>52</td>\n",
       "      <td>0</td>\n",
       "    </tr>\n",
       "    <tr>\n",
       "      <th>2</th>\n",
       "      <td>72076.839314</td>\n",
       "      <td>524.687593</td>\n",
       "      <td>0.717371</td>\n",
       "      <td>17.395126</td>\n",
       "      <td>24</td>\n",
       "      <td>1</td>\n",
       "    </tr>\n",
       "    <tr>\n",
       "      <th>3</th>\n",
       "      <td>68264.625734</td>\n",
       "      <td>563.976071</td>\n",
       "      <td>0.387779</td>\n",
       "      <td>8.526752</td>\n",
       "      <td>31</td>\n",
       "      <td>0</td>\n",
       "    </tr>\n",
       "    <tr>\n",
       "      <th>4</th>\n",
       "      <td>68183.436793</td>\n",
       "      <td>815.429732</td>\n",
       "      <td>0.552186</td>\n",
       "      <td>13.605073</td>\n",
       "      <td>24</td>\n",
       "      <td>1</td>\n",
       "    </tr>\n",
       "    <tr>\n",
       "      <th>...</th>\n",
       "      <td>...</td>\n",
       "      <td>...</td>\n",
       "      <td>...</td>\n",
       "      <td>...</td>\n",
       "      <td>...</td>\n",
       "      <td>...</td>\n",
       "    </tr>\n",
       "    <tr>\n",
       "      <th>2995</th>\n",
       "      <td>90631.319429</td>\n",
       "      <td>485.611082</td>\n",
       "      <td>0.810810</td>\n",
       "      <td>11.144118</td>\n",
       "      <td>26</td>\n",
       "      <td>1</td>\n",
       "    </tr>\n",
       "    <tr>\n",
       "      <th>2996</th>\n",
       "      <td>96962.745954</td>\n",
       "      <td>351.293066</td>\n",
       "      <td>0.903730</td>\n",
       "      <td>17.648027</td>\n",
       "      <td>58</td>\n",
       "      <td>1</td>\n",
       "    </tr>\n",
       "    <tr>\n",
       "      <th>2997</th>\n",
       "      <td>107639.630554</td>\n",
       "      <td>558.880170</td>\n",
       "      <td>0.640219</td>\n",
       "      <td>1.608582</td>\n",
       "      <td>70</td>\n",
       "      <td>1</td>\n",
       "    </tr>\n",
       "    <tr>\n",
       "      <th>2998</th>\n",
       "      <td>72881.767311</td>\n",
       "      <td>690.713206</td>\n",
       "      <td>0.582719</td>\n",
       "      <td>4.256265</td>\n",
       "      <td>55</td>\n",
       "      <td>1</td>\n",
       "    </tr>\n",
       "    <tr>\n",
       "      <th>2999</th>\n",
       "      <td>58821.626645</td>\n",
       "      <td>323.359001</td>\n",
       "      <td>0.059662</td>\n",
       "      <td>1.447359</td>\n",
       "      <td>52</td>\n",
       "      <td>0</td>\n",
       "    </tr>\n",
       "  </tbody>\n",
       "</table>\n",
       "<p>3000 rows × 6 columns</p>\n",
       "</div>"
      ],
      "text/plain": [
       "      Annual_Income  Credit_Score  Debt_to_Income  Employment_Length  Age  \\\n",
       "0      82472.111278    730.310701        0.907336          18.383897   29   \n",
       "1      45710.190424    425.101961        0.250506          18.268317   52   \n",
       "2      72076.839314    524.687593        0.717371          17.395126   24   \n",
       "3      68264.625734    563.976071        0.387779           8.526752   31   \n",
       "4      68183.436793    815.429732        0.552186          13.605073   24   \n",
       "...             ...           ...             ...                ...  ...   \n",
       "2995   90631.319429    485.611082        0.810810          11.144118   26   \n",
       "2996   96962.745954    351.293066        0.903730          17.648027   58   \n",
       "2997  107639.630554    558.880170        0.640219           1.608582   70   \n",
       "2998   72881.767311    690.713206        0.582719           4.256265   55   \n",
       "2999   58821.626645    323.359001        0.059662           1.447359   52   \n",
       "\n",
       "      pred_value  \n",
       "0              1  \n",
       "1              0  \n",
       "2              1  \n",
       "3              0  \n",
       "4              1  \n",
       "...          ...  \n",
       "2995           1  \n",
       "2996           1  \n",
       "2997           1  \n",
       "2998           1  \n",
       "2999           0  \n",
       "\n",
       "[3000 rows x 6 columns]"
      ]
     },
     "execution_count": 35,
     "metadata": {},
     "output_type": "execute_result"
    }
   ],
   "source": [
    "merged_df"
   ]
  },
  {
   "cell_type": "code",
   "execution_count": 47,
   "id": "61bcac8e-cec1-42de-ab83-d54467c1acd3",
   "metadata": {},
   "outputs": [],
   "source": [
    "from scipy.stats import pointbiserialr\n",
    "import numpy as np\n",
    "import matplotlib.pyplot as plt"
   ]
  },
  {
   "cell_type": "code",
   "execution_count": 51,
   "id": "914e4253-3540-4245-b2fe-5987ba1a5057",
   "metadata": {},
   "outputs": [
    {
     "name": "stdout",
     "output_type": "stream",
     "text": [
      "          Feature     abs_r        p_value         d\n",
      "0   Annual_Income  0.528877  6.953150e-216  1.246326\n",
      "1    Credit_Score  0.467364  1.129363e-162  1.057307\n",
      "2  Debt_to_Income  0.395769  4.613189e-113  0.861913\n",
      "3             Age  0.038121   3.680815e-02 -0.076298\n"
     ]
    }
   ],
   "source": [
    "def r_to_cohens_d(r):\n",
    "    return 2 * r / np.sqrt(1 - r**2)\n",
    "\n",
    "# 1. Compute r, p, d for each feature\n",
    "records = []\n",
    "for feat in features:\n",
    "    r, p = pointbiserialr(merged_df[feat], merged_df['pred_value'])\n",
    "    if p < 0.05:\n",
    "        d = r_to_cohens_d(r)\n",
    "        records.append({\n",
    "            'Feature': feat,\n",
    "            'r':        r,\n",
    "            'p_value':  p,\n",
    "            'd':        d,\n",
    "            'abs_r':    abs(r)\n",
    "        })\n",
    "\n",
    "# 2. Build DataFrame and sort by |d| descending (largest effect first)\n",
    "eff_df = pd.DataFrame(records)\n",
    "if eff_df.empty:\n",
    "    print(\"No features with p < 0.05\")\n",
    "else:\n",
    "    eff_df = eff_df.sort_values('abs_r', ascending=False).reset_index(drop=True)\n",
    "    print(eff_df[['Feature','abs_r','p_value','d']])"
   ]
  },
  {
   "cell_type": "code",
   "execution_count": 53,
   "id": "16bf2c7a-0746-4d7b-8af0-d351b5c3bb46",
   "metadata": {},
   "outputs": [
    {
     "data": {
      "image/png": "[encoded data removed]",
      "text/plain": [
       "<Figure size 600x400 with 1 Axes>"
      ]
     },
     "metadata": {},
     "output_type": "display_data"
    }
   ],
   "source": [
    "    import matplotlib.pyplot as plt\n",
    "    plt.figure(figsize=(6,4))\n",
    "    plt.barh(eff_df['Feature'], eff_df['abs_r'])\n",
    "    plt.xlabel(\"Absolute Cohen's d\")\n",
    "    plt.title(\"Significant Features Ranked by Effect Size\")\n",
    "    plt.gca().invert_yaxis()  # bring largest to top\n",
    "    plt.grid(axis='x', linestyle='--', alpha=0.6)\n",
    "    plt.tight_layout()\n",
    "    plt.show()"
   ]
  },
  {
   "cell_type": "code",
   "execution_count": 55,
   "id": "e744b9dc-2a76-402c-ae3e-3f99dc2d4ee7",
   "metadata": {},
   "outputs": [
    {
     "name": "stdout",
     "output_type": "stream",
     "text": [
      "  Method  Precision  Recall  FDR  Top-1 Match\n",
      "Stat-XAI       0.75     1.0 0.25            1\n"
     ]
    }
   ],
   "source": [
    "def compute_feature_recovery_metrics(gt, ranking):\n",
    "    \"\"\"\n",
    "    Compute TP, FP, FN, Precision, Recall, FDR, and Top-1 Match for feature recovery.\n",
    "\n",
    "    Parameters\n",
    "    ----------\n",
    "    gt : set\n",
    "        Ground-truth causal features.\n",
    "    flagged : list or set\n",
    "        Features your method flagged as important (e.g., top‑k from ranking).\n",
    "    ranking : list\n",
    "        Ordered list of features by descending effect size.\n",
    "\n",
    "    Returns\n",
    "    -------\n",
    "    pd.DataFrame\n",
    "        Single-row DataFrame with the metrics.\n",
    "    \"\"\"\n",
    "    tp = set(gt) & set(ranking)\n",
    "    fp = set(ranking) - set(gt)\n",
    "    fn = set(gt) - set(ranking)\n",
    "\n",
    "    precision = len(tp) / (len(tp) + len(fp)) if (len(tp) + len(fp)) else 0.0\n",
    "    recall    = len(tp) / len(gt)        if len(gt)              else 0.0\n",
    "    fdr       = len(fp) / (len(tp) + len(fp)) if (len(tp) + len(fp)) else 0.0\n",
    "    top1      = 1 if ranking and ranking[0] in gt else 0\n",
    "\n",
    "    metrics = {\n",
    "        \"TP\":           \", \".join(sorted(tp)),\n",
    "        \"FP\":           \", \".join(sorted(fp)),\n",
    "        \"FN\":           \", \".join(sorted(fn)),\n",
    "        \"Precision\":     precision,\n",
    "        \"Recall\":        recall,\n",
    "        \"FDR\":           fdr,\n",
    "        \"Top-1 Match\":   top1\n",
    "    }\n",
    "    return pd.DataFrame([{\n",
    "        \"Precision\": precision,\n",
    "        \"Recall\": recall,\n",
    "        \"FDR\": fdr,\n",
    "        \"Top-1 Match\": top1\n",
    "    }])\n",
    "\n",
    "\n",
    "\n",
    "if __name__ == \"__main__\":\n",
    "    # Example:\n",
    "    GT = {\"annual_income\", \"credit_score\", \"debt_to_income\"}\n",
    "    ranking = [\n",
    "        \"annual_income\",\n",
    "        \"credit_score\",\n",
    "        \"debt_to_income\",\n",
    "        \"Age\"\n",
    "    ]\n",
    "    # flagged = ranking[:3]  # e.g. top‑3 features\n",
    "\n",
    "    df_metrics = compute_feature_recovery_metrics(GT, ranking)\n",
    "    df_metrics.insert(0, \"Method\", \"Stat-XAI\")\n",
    "    df_metrics = df_metrics[[\"Method\", \"Precision\", \"Recall\", \"FDR\", \"Top-1 Match\"]]\n",
    "    print(df_metrics.to_string(index=False))"
   ]
  },
  {
   "cell_type": "code",
   "execution_count": null,
   "id": "3e537a74-0645-4088-bc06-8693486938e8",
   "metadata": {},
   "outputs": [],
   "source": []
  },
  {
   "cell_type": "code",
   "execution_count": 18,
   "id": "5cafefc4-5e69-4023-97e7-48db49d253ec",
   "metadata": {},
   "outputs": [],
   "source": [
    "import shap\n",
    "import numpy as np\n",
    "import psutil\n",
    "import os\n",
    "import torch.optim as optim\n",
    "import matplotlib.pyplot as plt"
   ]
  },
  {
   "cell_type": "code",
   "execution_count": 56,
   "id": "3a324690-1c44-4332-9257-0f1e9802b603",
   "metadata": {},
   "outputs": [],
   "source": [
    "def predict_proba_np(x_np):\n",
    "    \"\"\"\n",
    "    x_np: (batch, 5) float array\n",
    "    returns: (batch,) array of model's P(class=1)\n",
    "    \"\"\"\n",
    "    model.eval()\n",
    "    with torch.no_grad():\n",
    "        # convert to tensor shape (batch,5,1)\n",
    "        t = torch.from_numpy(x_np).float().unsqueeze(-1).to(device)\n",
    "        logits = model(t)               # [batch,1]\n",
    "        probs  = torch.sigmoid(logits)  # [batch,1]\n",
    "    return probs.cpu().numpy().flatten()"
   ]
  },
  {
   "cell_type": "code",
   "execution_count": 58,
   "id": "d4400265-6983-4f4e-b3ec-41bfd26957e0",
   "metadata": {},
   "outputs": [],
   "source": [
    "bg_size = 200\n",
    "idx = np.random.choice(len(X_train), size=bg_size, replace=False)\n",
    "background = X_train[idx]  # shape (200,5)\n",
    "\n",
    "\n"
   ]
  },
  {
   "cell_type": "code",
   "execution_count": 60,
   "id": "e3c3d44a-8b87-4f3f-b85f-0886af4797d2",
   "metadata": {},
   "outputs": [
    {
     "name": "stderr",
     "output_type": "stream",
     "text": [
      "Using 200 background data samples could cause slower run times. Consider using shap.sample(data, K) or shap.kmeans(data, K) to summarize the background as K samples.\n"
     ]
    }
   ],
   "source": [
    "explainer = shap.KernelExplainer(predict_proba_np, background)\n"
   ]
  },
  {
   "cell_type": "code",
   "execution_count": 62,
   "id": "3da63c61-7444-4de5-a56e-ba48ad2f1b08",
   "metadata": {},
   "outputs": [
    {
     "name": "stdout",
     "output_type": "stream",
     "text": [
      "Batch 0-512: free RAM = 4.88 GB\n"
     ]
    },
    {
     "data": {
      "application/vnd.jupyter.widget-view+json": {
       "model_id": "f374907d3e704ad696a4ce2613809567",
       "version_major": 2,
       "version_minor": 0
      },
      "text/plain": [
       "  0%|          | 0/512 [00:00<?, ?it/s]"
      ]
     },
     "metadata": {},
     "output_type": "display_data"
    },
    {
     "name": "stdout",
     "output_type": "stream",
     "text": [
      "Batch 512-1024: free RAM = 5.06 GB\n"
     ]
    },
    {
     "data": {
      "application/vnd.jupyter.widget-view+json": {
       "model_id": "3c2134679a864c0492c1595448f898df",
       "version_major": 2,
       "version_minor": 0
      },
      "text/plain": [
       "  0%|          | 0/512 [00:00<?, ?it/s]"
      ]
     },
     "metadata": {},
     "output_type": "display_data"
    },
    {
     "name": "stdout",
     "output_type": "stream",
     "text": [
      "Batch 1024-1536: free RAM = 5.00 GB\n"
     ]
    },
    {
     "data": {
      "application/vnd.jupyter.widget-view+json": {
       "model_id": "78c500e8e31b4abfb78ac10b989f47d7",
       "version_major": 2,
       "version_minor": 0
      },
      "text/plain": [
       "  0%|          | 0/512 [00:00<?, ?it/s]"
      ]
     },
     "metadata": {},
     "output_type": "display_data"
    },
    {
     "name": "stdout",
     "output_type": "stream",
     "text": [
      "Batch 1536-2048: free RAM = 5.01 GB\n"
     ]
    },
    {
     "data": {
      "application/vnd.jupyter.widget-view+json": {
       "model_id": "70a04354d3ba46a886af4799ae106819",
       "version_major": 2,
       "version_minor": 0
      },
      "text/plain": [
       "  0%|          | 0/512 [00:00<?, ?it/s]"
      ]
     },
     "metadata": {},
     "output_type": "display_data"
    },
    {
     "name": "stdout",
     "output_type": "stream",
     "text": [
      "Batch 2048-2560: free RAM = 5.02 GB\n"
     ]
    },
    {
     "data": {
      "application/vnd.jupyter.widget-view+json": {
       "model_id": "dc50e2c7156f4691833af718c0e192de",
       "version_major": 2,
       "version_minor": 0
      },
      "text/plain": [
       "  0%|          | 0/512 [00:00<?, ?it/s]"
      ]
     },
     "metadata": {},
     "output_type": "display_data"
    },
    {
     "name": "stdout",
     "output_type": "stream",
     "text": [
      "Batch 2560-3000: free RAM = 5.05 GB\n"
     ]
    },
    {
     "data": {
      "application/vnd.jupyter.widget-view+json": {
       "model_id": "c654b9963fcb4d4ab6ec554c67f70091",
       "version_major": 2,
       "version_minor": 0
      },
      "text/plain": [
       "  0%|          | 0/440 [00:00<?, ?it/s]"
      ]
     },
     "metadata": {},
     "output_type": "display_data"
    }
   ],
   "source": [
    "batch_size = 512\n",
    "all_shap = []\n",
    "\n",
    "for start in range(0, X_test.shape[0], batch_size):\n",
    "    end = min(start + batch_size, X_test.shape[0])\n",
    "    Xb = X_test[start:end]  # (batch,5)\n",
    "\n",
    "    mem = psutil.virtual_memory()\n",
    "    print(f\"Batch {start}-{end}: free RAM = {mem.available/1e9:.2f} GB\")\n",
    "\n",
    "    # nsamples trades off speed vs. accuracy\n",
    "    shap_vals = explainer.shap_values(Xb, nsamples=100)\n",
    "    all_shap.append(shap_vals)       # (batch,5)\n"
   ]
  },
  {
   "cell_type": "code",
   "execution_count": 64,
   "id": "faef5bf4-b8fe-497a-b21b-aaaaabb22cb3",
   "metadata": {},
   "outputs": [],
   "source": [
    "all_shap_values = np.vstack(all_shap)"
   ]
  },
  {
   "cell_type": "code",
   "execution_count": 66,
   "id": "53aac42f-2b0d-42f9-813c-d9df504b9a05",
   "metadata": {},
   "outputs": [],
   "source": [
    "mean_abs = pd.Series(\n",
    "    np.abs(all_shap_values).mean(axis=0),\n",
    "    index=num_feats\n",
    ").sort_values()\n"
   ]
  },
  {
   "cell_type": "code",
   "execution_count": 74,
   "id": "aaab16bb-4308-44dd-beb9-7e8ff98755cf",
   "metadata": {},
   "outputs": [
    {
     "data": {
      "image/png": "[encoded data removed]",
      "text/plain": [
       "<Figure size 600x400 with 1 Axes>"
      ]
     },
     "metadata": {},
     "output_type": "display_data"
    }
   ],
   "source": [
    "os.makedirs(\"shap\", exist_ok=True)\n",
    "plt.figure(figsize=(6,4))\n",
    "mean_abs.plot.barh()\n",
    "plt.xlabel(\"Mean |SHAP value|\")\n",
    "plt.title(\"Mean absolute SHAP \")\n",
    "plt.tight_layout()\n",
    "plt.savefig(\"shap/RNN_numeric_binary_shap_kernel.jpg\", dpi=300)\n",
    "plt.show()"
   ]
  },
  {
   "cell_type": "code",
   "execution_count": 76,
   "id": "14a55f0a-c12d-491d-82a0-d9323d4b0e79",
   "metadata": {},
   "outputs": [
    {
     "name": "stdout",
     "output_type": "stream",
     "text": [
      "Mean |SHAP value| per feature:\n",
      "Employment_Length    0.000865\n",
      "Age                  0.001122\n",
      "Debt_to_Income       0.195139\n",
      "Credit_Score         0.218235\n",
      "Annual_Income        0.242254\n",
      "dtype: float64\n"
     ]
    }
   ],
   "source": [
    "print(\"Mean |SHAP value| per feature:\")\n",
    "print(mean_abs)"
   ]
  },
  {
   "cell_type": "code",
   "execution_count": 78,
   "id": "ccc7b50b-e92c-4564-bac0-a688047ad2f3",
   "metadata": {},
   "outputs": [],
   "source": [
    "def compute_feature_recovery_metrics(gt, ranking):\n",
    "    \"\"\"\n",
    "    Compute TP, FP, FN, Precision, Recall, FDR, and Top-1 Match for feature recovery.\n",
    "\n",
    "    Parameters\n",
    "    ----------\n",
    "    gt : set\n",
    "        Ground-truth causal features.\n",
    "    flagged : list or set\n",
    "        Features your method flagged as important (e.g., top‑k from ranking).\n",
    "    ranking : list\n",
    "        Ordered list of features by descending effect size.\n",
    "\n",
    "    Returns\n",
    "    -------\n",
    "    pd.DataFrame\n",
    "        Single-row DataFrame with the metrics.\n",
    "    \"\"\"\n",
    "    tp = set(gt) & set(ranking)\n",
    "    fp = set(ranking) - set(gt)\n",
    "    fn = set(gt) - set(ranking)\n",
    "\n",
    "    precision = len(tp) / (len(tp) + len(fp)) if (len(tp) + len(fp)) else 0.0\n",
    "    recall    = len(tp) / len(gt)        if len(gt)              else 0.0\n",
    "    fdr       = len(fp) / (len(tp) + len(fp)) if (len(tp) + len(fp)) else 0.0\n",
    "    top1      = 1 if ranking and ranking[0] in gt else 0\n",
    "\n",
    "    metrics = {\n",
    "        \"TP\":           \", \".join(sorted(tp)),\n",
    "        \"FP\":           \", \".join(sorted(fp)),\n",
    "        \"FN\":           \", \".join(sorted(fn)),\n",
    "        \"Precision\":     precision,\n",
    "        \"Recall\":        recall,\n",
    "        \"FDR\":           fdr,\n",
    "        \"Top-1 Match\":   top1\n",
    "    }\n",
    "    return pd.DataFrame([{\n",
    "        \"Precision\": precision,\n",
    "        \"Recall\": recall,\n",
    "        \"FDR\": fdr,\n",
    "        \"Top-1 Match\": top1\n",
    "    }])\n",
    "\n",
    "\n"
   ]
  },
  {
   "cell_type": "code",
   "execution_count": 80,
   "id": "cfae42b0-3e90-479f-939f-2962f8b43d30",
   "metadata": {},
   "outputs": [
    {
     "name": "stdout",
     "output_type": "stream",
     "text": [
      "  Method  Precision  Recall  FDR  Top-1 Match\n",
      "SHAP-XAI        0.6     1.0  0.4            1\n"
     ]
    }
   ],
   "source": [
    "if __name__ == \"__main__\":\n",
    "    # Example:\n",
    "    GT = {\"annual_income\", \"credit_score\", \"debt_to_income\"}\n",
    "    ranking = [\n",
    "        \"annual_income\",\n",
    "        \"credit_score\",\n",
    "        \"debt_to_income\",\n",
    "        \"Age\",\n",
    "        \"Employement_Lenght\"\n",
    "    ]\n",
    "    # flagged = ranking[:3]  # e.g. top‑3 features\n",
    "\n",
    "    df_metrics = compute_feature_recovery_metrics(GT, ranking)\n",
    "    df_metrics.insert(0, \"Method\", \"SHAP-XAI\")\n",
    "    df_metrics = df_metrics[[\"Method\", \"Precision\", \"Recall\", \"FDR\", \"Top-1 Match\"]]\n",
    "    print(df_metrics.to_string(index=False))"
   ]
  },
  {
   "cell_type": "code",
   "execution_count": null,
   "id": "16c85857-12fd-42ed-b1ea-7a187a37ea55",
   "metadata": {},
   "outputs": [],
   "source": []
  }
 ],
 "metadata": {
  "kernelspec": {
   "display_name": "Python [conda env:base] *",
   "language": "python",
   "name": "conda-base-py"
  },
  "language_info": {
   "codemirror_mode": {
    "name": "ipython",
    "version": 3
   },
   "file_extension": ".py",
   "mimetype": "text/x-python",
   "name": "python",
   "nbconvert_exporter": "python",
   "pygments_lexer": "ipython3",
   "version": "3.12.7"
  }
 },
 "nbformat": 4,
 "nbformat_minor": 5
}

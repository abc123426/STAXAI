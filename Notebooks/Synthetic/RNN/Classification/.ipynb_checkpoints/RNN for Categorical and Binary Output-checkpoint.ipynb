{
 "cells": [
  {
   "cell_type": "code",
   "execution_count": 83,
   "id": "f057ebdc-2056-462b-9fa4-17cc069c0952",
   "metadata": {},
   "outputs": [],
   "source": [
    "import pandas as pd\n",
    "from sklearn.model_selection import train_test_split\n",
    "from sklearn.metrics import accuracy_score, roc_auc_score\n",
    "\n",
    "import torch\n",
    "import torch.nn as nn\n",
    "from torch.utils.data import Dataset, DataLoader"
   ]
  },
  {
   "cell_type": "code",
   "execution_count": 85,
   "id": "04d178ab-9ce3-4433-93c7-5e419648346c",
   "metadata": {},
   "outputs": [],
   "source": [
    "df = pd.read_csv(\"Categorical Column with Numerical Outcome test.csv\")"
   ]
  },
  {
   "cell_type": "code",
   "execution_count": 87,
   "id": "315fa3a3-e76c-4fae-8938-5ba7d6572874",
   "metadata": {},
   "outputs": [],
   "source": [
    "df = df.drop(df.columns[[0]], axis=1)"
   ]
  },
  {
   "cell_type": "code",
   "execution_count": 89,
   "id": "475836ac-ae37-4d16-9c55-21f3edb87cf9",
   "metadata": {},
   "outputs": [
    {
     "data": {
      "text/html": [
       "<div>\n",
       "<style scoped>\n",
       "    .dataframe tbody tr th:only-of-type {\n",
       "        vertical-align: middle;\n",
       "    }\n",
       "\n",
       "    .dataframe tbody tr th {\n",
       "        vertical-align: top;\n",
       "    }\n",
       "\n",
       "    .dataframe thead th {\n",
       "        text-align: right;\n",
       "    }\n",
       "</style>\n",
       "<table border=\"1\" class=\"dataframe\">\n",
       "  <thead>\n",
       "    <tr style=\"text-align: right;\">\n",
       "      <th></th>\n",
       "      <th>Credit_History</th>\n",
       "      <th>Income_Level</th>\n",
       "      <th>Loan_Amount</th>\n",
       "      <th>Zip_Code</th>\n",
       "      <th>Education_Level</th>\n",
       "      <th>Predicted_Label</th>\n",
       "    </tr>\n",
       "  </thead>\n",
       "  <tbody>\n",
       "    <tr>\n",
       "      <th>0</th>\n",
       "      <td>Fair</td>\n",
       "      <td>Low</td>\n",
       "      <td>Small</td>\n",
       "      <td>Suburban</td>\n",
       "      <td>Bachelor</td>\n",
       "      <td>1</td>\n",
       "    </tr>\n",
       "    <tr>\n",
       "      <th>1</th>\n",
       "      <td>Good</td>\n",
       "      <td>Medium</td>\n",
       "      <td>Large</td>\n",
       "      <td>Suburban</td>\n",
       "      <td>Bachelor</td>\n",
       "      <td>1</td>\n",
       "    </tr>\n",
       "    <tr>\n",
       "      <th>2</th>\n",
       "      <td>Fair</td>\n",
       "      <td>Low</td>\n",
       "      <td>Small</td>\n",
       "      <td>Suburban</td>\n",
       "      <td>High School</td>\n",
       "      <td>1</td>\n",
       "    </tr>\n",
       "    <tr>\n",
       "      <th>3</th>\n",
       "      <td>Bad</td>\n",
       "      <td>High</td>\n",
       "      <td>Large</td>\n",
       "      <td>Urban</td>\n",
       "      <td>Master</td>\n",
       "      <td>0</td>\n",
       "    </tr>\n",
       "    <tr>\n",
       "      <th>4</th>\n",
       "      <td>Fair</td>\n",
       "      <td>High</td>\n",
       "      <td>Medium</td>\n",
       "      <td>Rural</td>\n",
       "      <td>Bachelor</td>\n",
       "      <td>1</td>\n",
       "    </tr>\n",
       "    <tr>\n",
       "      <th>...</th>\n",
       "      <td>...</td>\n",
       "      <td>...</td>\n",
       "      <td>...</td>\n",
       "      <td>...</td>\n",
       "      <td>...</td>\n",
       "      <td>...</td>\n",
       "    </tr>\n",
       "    <tr>\n",
       "      <th>3995</th>\n",
       "      <td>Bad</td>\n",
       "      <td>Low</td>\n",
       "      <td>Medium</td>\n",
       "      <td>Urban</td>\n",
       "      <td>Master</td>\n",
       "      <td>0</td>\n",
       "    </tr>\n",
       "    <tr>\n",
       "      <th>3996</th>\n",
       "      <td>Fair</td>\n",
       "      <td>High</td>\n",
       "      <td>Medium</td>\n",
       "      <td>Urban</td>\n",
       "      <td>High School</td>\n",
       "      <td>1</td>\n",
       "    </tr>\n",
       "    <tr>\n",
       "      <th>3997</th>\n",
       "      <td>Bad</td>\n",
       "      <td>High</td>\n",
       "      <td>Medium</td>\n",
       "      <td>Rural</td>\n",
       "      <td>Bachelor</td>\n",
       "      <td>1</td>\n",
       "    </tr>\n",
       "    <tr>\n",
       "      <th>3998</th>\n",
       "      <td>Fair</td>\n",
       "      <td>Medium</td>\n",
       "      <td>Large</td>\n",
       "      <td>Urban</td>\n",
       "      <td>High School</td>\n",
       "      <td>0</td>\n",
       "    </tr>\n",
       "    <tr>\n",
       "      <th>3999</th>\n",
       "      <td>Fair</td>\n",
       "      <td>Low</td>\n",
       "      <td>Medium</td>\n",
       "      <td>Urban</td>\n",
       "      <td>High School</td>\n",
       "      <td>0</td>\n",
       "    </tr>\n",
       "  </tbody>\n",
       "</table>\n",
       "<p>4000 rows × 6 columns</p>\n",
       "</div>"
      ],
      "text/plain": [
       "     Credit_History Income_Level Loan_Amount  Zip_Code Education_Level  \\\n",
       "0              Fair          Low       Small  Suburban        Bachelor   \n",
       "1              Good       Medium       Large  Suburban        Bachelor   \n",
       "2              Fair          Low       Small  Suburban     High School   \n",
       "3               Bad         High       Large     Urban          Master   \n",
       "4              Fair         High      Medium     Rural        Bachelor   \n",
       "...             ...          ...         ...       ...             ...   \n",
       "3995            Bad          Low      Medium     Urban          Master   \n",
       "3996           Fair         High      Medium     Urban     High School   \n",
       "3997            Bad         High      Medium     Rural        Bachelor   \n",
       "3998           Fair       Medium       Large     Urban     High School   \n",
       "3999           Fair          Low      Medium     Urban     High School   \n",
       "\n",
       "      Predicted_Label  \n",
       "0                   1  \n",
       "1                   1  \n",
       "2                   1  \n",
       "3                   0  \n",
       "4                   1  \n",
       "...               ...  \n",
       "3995                0  \n",
       "3996                1  \n",
       "3997                1  \n",
       "3998                0  \n",
       "3999                0  \n",
       "\n",
       "[4000 rows x 6 columns]"
      ]
     },
     "execution_count": 89,
     "metadata": {},
     "output_type": "execute_result"
    }
   ],
   "source": [
    "df"
   ]
  },
  {
   "cell_type": "code",
   "execution_count": 91,
   "id": "b3ca2212-07cd-41ec-974f-97b3f6547a0b",
   "metadata": {},
   "outputs": [],
   "source": [
    "train_df, test_df = train_test_split(\n",
    "    df, test_size=0.3, random_state=42, stratify=df[\"Predicted_Label\"]\n",
    ")"
   ]
  },
  {
   "cell_type": "code",
   "execution_count": 93,
   "id": "cbde172b-c9f9-404e-9f53-0bfcabbdce8f",
   "metadata": {},
   "outputs": [],
   "source": [
    "X_test  = test_df.copy()"
   ]
  },
  {
   "cell_type": "code",
   "execution_count": 95,
   "id": "4f3627de-91cf-4bdb-89e3-e54311c19ede",
   "metadata": {},
   "outputs": [],
   "source": [
    "mappings = {\n",
    "    \"Credit_History\":   {\"Bad\":0, \"Fair\":1, \"Good\":2},\n",
    "    \"Income_Level\":     {\"Low\":0, \"Medium\":1, \"High\":2},\n",
    "    \"Loan_Amount\":      {\"Small\":2, \"Medium\":1, \"Large\":0},\n",
    "    \"Zip_Code\":         {\"Urban\":0, \"Suburban\":1, \"Rural\":2},\n",
    "    \"Education_Level\":  {\"High School\":0, \"Bachelor\":1, \"Master\":2}\n",
    "}\n",
    "features = list(mappings.keys())\n",
    "target   = \"Predicted_Label\""
   ]
  },
  {
   "cell_type": "code",
   "execution_count": 97,
   "id": "2968a6e3-b2f0-4392-a9b1-b1c9fffc0f72",
   "metadata": {},
   "outputs": [],
   "source": [
    "for col, mp in mappings.items():\n",
    "    train_df[col] = train_df[col].map(mp)\n",
    "    test_df[col]  = test_df[col].map(mp)\n",
    "\n",
    "X_train = train_df[features].values\n",
    "y_train = train_df[target].values.astype(float)\n",
    "X_test  = test_df[features].values\n",
    "y_test  = test_df[target].values.astype(float)"
   ]
  },
  {
   "cell_type": "code",
   "execution_count": 99,
   "id": "cabc6def-d0a8-4512-b97f-a5625f293acf",
   "metadata": {},
   "outputs": [],
   "source": [
    "class CatDataset(Dataset):\n",
    "    def __init__(self, X_cat, y):\n",
    "        self.X = torch.LongTensor(X_cat)\n",
    "        self.y = torch.FloatTensor(y).unsqueeze(1)\n",
    "    def __len__(self):\n",
    "        return len(self.X)\n",
    "    def __getitem__(self, idx):\n",
    "        return self.X[idx], self.y[idx]\n",
    "\n",
    "train_ds = CatDataset(X_train, y_train)\n",
    "test_ds  = CatDataset(X_test,  y_test)\n",
    "train_dl = DataLoader(train_ds, batch_size=4, shuffle=True)\n",
    "test_dl  = DataLoader(test_ds,  batch_size=4)"
   ]
  },
  {
   "cell_type": "code",
   "execution_count": null,
   "id": "2be297f3-42ab-4f9f-9f12-1db06b76020b",
   "metadata": {},
   "outputs": [],
   "source": []
  },
  {
   "cell_type": "code",
   "execution_count": 101,
   "id": "52e32595-6b6d-4c75-9bb0-84dbfeeadcdb",
   "metadata": {},
   "outputs": [],
   "source": [
    "class CatRNNClassifier(nn.Module):\n",
    "    def __init__(self, cat_dims, emb_dim=16, hidden_size=32, num_layers=1):\n",
    "        super().__init__()\n",
    "        # separate embedding per feature\n",
    "        self.embeds = nn.ModuleList([nn.Embedding(dim, emb_dim) for dim in cat_dims])\n",
    "        self.rnn    = nn.RNN(emb_dim, hidden_size, num_layers, batch_first=True)\n",
    "        self.head   = nn.Linear(hidden_size, 1)\n",
    "\n",
    "    def forward(self, x):\n",
    "        # x: [B, F]\n",
    "        embs = [emb(x[:,i]) for i, emb in enumerate(self.embeds)]\n",
    "        seq  = torch.stack(embs, dim=1)   # [B, F, emb_dim]\n",
    "        out, h_n = self.rnn(seq)          # h_n: [num_layers, B, hidden_size]\n",
    "        return self.head(h_n[-1])         # [B,1] logits\n",
    "\n",
    "cat_dims = [len(mp) for mp in mappings.values()]\n",
    "\n",
    "device = torch.device(\"cuda\" if torch.cuda.is_available() else \"cpu\")\n",
    "model = CatRNNClassifier(cat_dims).to(device)\n",
    "opt   = torch.optim.Adam(model.parameters(), lr=1e-3)\n",
    "loss_fn = nn.BCEWithLogitsLoss()\n"
   ]
  },
  {
   "cell_type": "code",
   "execution_count": 2,
   "id": "4237f09b-61f5-424c-93fa-27ef33cb3358",
   "metadata": {},
   "outputs": [],
   "source": [
    "for epoch in range(1, 51):\n",
    "    model.train()\n",
    "    tot_loss = 0.0\n",
    "    for xb, yb in train_dl:\n",
    "        xb, yb = xb.to(device), yb.to(device)\n",
    "        logits = model(xb)\n",
    "        loss = loss_fn(logits, yb)\n",
    "        opt.zero_grad(); loss.backward(); opt.step()\n",
    "        tot_loss += loss.item() * xb.size(0)\n",
    "    if epoch % 10 == 0:\n",
    "        print(f\"Epoch {epoch:02d}  Train Loss = {tot_loss/len(train_dl.dataset):.4f}\")\n"
   ]
  },
  {
   "cell_type": "code",
   "execution_count": 4,
   "id": "e9d10838-34cb-4857-9202-5a95551f2534",
   "metadata": {},
   "outputs": [],
   "source": [
    "model.eval()\n",
    "probs, preds, trues = [], [], []\n",
    "with torch.no_grad():\n",
    "    for xb, yb in test_dl:\n",
    "        xb = xb.to(device)\n",
    "        logits = model(xb).cpu()\n",
    "        p = torch.sigmoid(logits).numpy().flatten()\n",
    "        probs.extend(p)\n",
    "        preds.extend((p > 0.5).astype(int))\n",
    "        trues.extend(yb.numpy().flatten().astype(int))\n",
    "\n",
    "print(f\"Test Accuracy: {accuracy_score(trues, preds):.4f}\")\n",
    "print(f\"Test ROC AUC : {roc_auc_score(trues, probs):.4f}\")"
   ]
  },
  {
   "cell_type": "code",
   "execution_count": 107,
   "id": "b84fe467-fd20-4dbe-9fc1-fdfbd8690430",
   "metadata": {},
   "outputs": [],
   "source": [
    "test_df = test_df.drop(test_df.columns[[-1]], axis=1)"
   ]
  },
  {
   "cell_type": "code",
   "execution_count": 109,
   "id": "a2bbf503-6d7d-41ee-9c9c-308da1430bbc",
   "metadata": {},
   "outputs": [],
   "source": [
    "preds_df = pd.DataFrame({\n",
    "    \"pred_label\": preds\n",
    "})"
   ]
  },
  {
   "cell_type": "code",
   "execution_count": 111,
   "id": "838ee216-9edd-4e6f-b055-1730154e8edd",
   "metadata": {},
   "outputs": [],
   "source": [
    "merged_df = pd.concat([\n",
    "    test_df.reset_index(drop=True),\n",
    "    preds_df.reset_index(drop=True)\n",
    "], axis=1)"
   ]
  },
  {
   "cell_type": "code",
   "execution_count": 113,
   "id": "df636f8e-b418-48eb-8950-b20d8ed96f98",
   "metadata": {},
   "outputs": [],
   "source": [
    "import matplotlib.pyplot as plt\n",
    "import numpy as np"
   ]
  },
  {
   "cell_type": "code",
   "execution_count": 42,
   "id": "18acb91d-5c1a-4cb2-bb99-21483dfa2e97",
   "metadata": {},
   "outputs": [
    {
     "name": "stdout",
     "output_type": "stream",
     "text": [
      "\n",
      "Feature: Credit_History\n",
      "Chi2 statistic: 233.9711\n",
      "p-value: 0.0\n",
      "→ Statistically significant association\n",
      "\n",
      "Feature: Income_Level\n",
      "Chi2 statistic: 243.0222\n",
      "p-value: 0.0\n",
      "→ Statistically significant association\n",
      "\n",
      "Feature: Loan_Amount\n",
      "Chi2 statistic: 302.8731\n",
      "p-value: 0.0\n",
      "→ Statistically significant association\n",
      "\n",
      "Feature: Zip_Code\n",
      "Chi2 statistic: 4.3272\n",
      "p-value: 0.1149\n",
      "→ No significant association\n",
      "\n",
      "Feature: Education_Level\n",
      "Chi2 statistic: 1.5079\n",
      "p-value: 0.4705\n",
      "→ No significant association\n"
     ]
    }
   ],
   "source": [
    "from scipy.stats import chi2_contingency\n",
    "\n",
    "categorical_features = ['Credit_History', 'Income_Level', 'Loan_Amount', 'Zip_Code', 'Education_Level']\n",
    "\n",
    "for feature in categorical_features:\n",
    "    # Create a contingency table\n",
    "    contingency = pd.crosstab(merged_df[feature], merged_df['pred_label'])\n",
    "    \n",
    "    # Run chi-square test\n",
    "    chi2, p, dof, expected = chi2_contingency(contingency)\n",
    "    \n",
    "    print(f\"\\nFeature: {feature}\")\n",
    "    print(\"Chi2 statistic:\", round(chi2, 4))\n",
    "    print(\"p-value:\", round(p, 4))\n",
    "    if p < 0.05:\n",
    "        print(\"→ Statistically significant association\")\n",
    "    else:\n",
    "        print(\"→ No significant association\")"
   ]
  },
  {
   "cell_type": "code",
   "execution_count": 44,
   "id": "bf59b71a-00bb-4ef3-9f14-387375ec9488",
   "metadata": {},
   "outputs": [],
   "source": [
    "def cramers_v(confusion_matrix):\n",
    "    chi2 = chi2_contingency(confusion_matrix)[0]\n",
    "    n = confusion_matrix.sum().sum()\n",
    "    r, k = confusion_matrix.shape\n",
    "    return np.sqrt(chi2 / (n * (min(r, k) - 1)))"
   ]
  },
  {
   "cell_type": "code",
   "execution_count": 50,
   "id": "59fdb70d-6ef9-4307-b507-035f3b4fe8ac",
   "metadata": {},
   "outputs": [
    {
     "data": {
      "text/html": [
       "<div>\n",
       "<style scoped>\n",
       "    .dataframe tbody tr th:only-of-type {\n",
       "        vertical-align: middle;\n",
       "    }\n",
       "\n",
       "    .dataframe tbody tr th {\n",
       "        vertical-align: top;\n",
       "    }\n",
       "\n",
       "    .dataframe thead th {\n",
       "        text-align: right;\n",
       "    }\n",
       "</style>\n",
       "<table border=\"1\" class=\"dataframe\">\n",
       "  <thead>\n",
       "    <tr style=\"text-align: right;\">\n",
       "      <th></th>\n",
       "      <th>Feature</th>\n",
       "      <th>Cramers_V</th>\n",
       "    </tr>\n",
       "  </thead>\n",
       "  <tbody>\n",
       "    <tr>\n",
       "      <th>0</th>\n",
       "      <td>Loan_Amount</td>\n",
       "      <td>0.502389</td>\n",
       "    </tr>\n",
       "    <tr>\n",
       "      <th>1</th>\n",
       "      <td>Income_Level</td>\n",
       "      <td>0.450021</td>\n",
       "    </tr>\n",
       "    <tr>\n",
       "      <th>2</th>\n",
       "      <td>Credit_History</td>\n",
       "      <td>0.441561</td>\n",
       "    </tr>\n",
       "  </tbody>\n",
       "</table>\n",
       "</div>"
      ],
      "text/plain": [
       "          Feature  Cramers_V\n",
       "0     Loan_Amount   0.502389\n",
       "1    Income_Level   0.450021\n",
       "2  Credit_History   0.441561"
      ]
     },
     "metadata": {},
     "output_type": "display_data"
    },
    {
     "name": "stderr",
     "output_type": "stream",
     "text": [
      "/var/folders/fg/p1v2zct14kndx3r29mnqvqkm0000gp/T/ipykernel_72917/2537808418.py:32: UserWarning: No artists with labels found to put in legend.  Note that artists whose label start with an underscore are ignored when legend() is called with no argument.\n",
      "  plt.legend()\n"
     ]
    },
    {
     "data": {
      "image/png": "[encoded data removed]",
      "text/plain": [
       "<Figure size 800x400 with 1 Axes>"
      ]
     },
     "metadata": {},
     "output_type": "display_data"
    }
   ],
   "source": [
    "effect_sizes = {}\n",
    "for feature in categorical_features:\n",
    "    # Contingency table\n",
    "    contingency = pd.crosstab(merged_df[feature], merged_df['pred_label'])\n",
    "    chi2, p, _, _ = chi2_contingency(contingency)\n",
    "    \n",
    "    # Filter by significance\n",
    "    if p < 0.05:\n",
    "        # Compute Cramér's V\n",
    "        n = contingency.values.sum()\n",
    "        r, k = contingency.shape\n",
    "        v = np.sqrt(chi2 / (n * (min(r, k) - 1)))\n",
    "        effect_sizes[feature] = v\n",
    "\n",
    "# 3. Build DataFrame and sort\n",
    "if not effect_sizes:\n",
    "    print(\"No categorical features with p < 0.05\")\n",
    "else:\n",
    "    eff_df = pd.DataFrame.from_dict(effect_sizes, orient='index', columns=[\"Cramers_V\"])\n",
    "    eff_df = eff_df.sort_values(\"Cramers_V\", ascending=False).reset_index().rename(columns={\"index\": \"Feature\"})\n",
    "    display(eff_df)\n",
    "\n",
    "    # 4. Plot only significant effect sizes\n",
    "    plt.figure(figsize=(8, 4))\n",
    "    plt.barh(eff_df[\"Feature\"], eff_df[\"Cramers_V\"])\n",
    "    plt.xlabel(\"Cramér's V\")\n",
    "    plt.title(\"Effect Sizes (Cramér's V) for Features with p < 0.05\")\n",
    "    # plt.axvline(0.1, color='gray', linestyle='--', label='Small (0.1)')\n",
    "    # plt.axvline(0.3, color='orange', linestyle='--', label='Medium (0.3)')\n",
    "    # plt.axvline(0.5, color='red', linestyle='--', label='Large (0.5)')\n",
    "    plt.gca().invert_yaxis()  # largest at top\n",
    "    plt.legend()\n",
    "    plt.tight_layout()\n",
    "    plt.show()"
   ]
  },
  {
   "cell_type": "code",
   "execution_count": 52,
   "id": "7d515d74-7cf3-491e-b8c7-40fc8f9a9778",
   "metadata": {},
   "outputs": [],
   "source": [
    "def compute_feature_recovery_metrics(gt, flagged, ranking):\n",
    "    \"\"\"\n",
    "    Compute TP, FP, FN, Precision, Recall, FDR, and Top-1 Match for feature recovery.\n",
    "\n",
    "    Parameters\n",
    "    ----------\n",
    "    gt : set\n",
    "        Ground-truth causal features.\n",
    "    flagged : list or set\n",
    "        Features your method flagged as important (e.g., top‑k from ranking).\n",
    "    ranking : list\n",
    "        Ordered list of features by descending effect size.\n",
    "\n",
    "    Returns\n",
    "    -------\n",
    "    pd.DataFrame\n",
    "        Single-row DataFrame with the metrics.\n",
    "    \"\"\"\n",
    "    tp = set(gt) & set(flagged)\n",
    "    fp = set(flagged) - set(gt)\n",
    "    fn = set(gt) - set(flagged)\n",
    "\n",
    "    precision = len(tp) / (len(tp) + len(fp)) if (len(tp) + len(fp)) else 0.0\n",
    "    recall    = len(tp) / len(gt)        if len(gt)              else 0.0\n",
    "    fdr       = len(fp) / (len(tp) + len(fp)) if (len(tp) + len(fp)) else 0.0\n",
    "    top1      = 1 if ranking and ranking[0] in gt else 0\n",
    "\n",
    "    metrics = {\n",
    "        \"TP\":           \", \".join(sorted(tp)),\n",
    "        \"FP\":           \", \".join(sorted(fp)),\n",
    "        \"FN\":           \", \".join(sorted(fn)),\n",
    "        \"Precision\":     precision,\n",
    "        \"Recall\":        recall,\n",
    "        \"FDR\":           fdr,\n",
    "        \"Top-1 Match\":   top1\n",
    "    }\n",
    "    return pd.DataFrame([{\n",
    "        \"Precision\": precision,\n",
    "        \"Recall\": recall,\n",
    "        \"FDR\": fdr,\n",
    "        \"Top-1 Match\": top1\n",
    "    }])\n",
    "\n",
    "\n"
   ]
  },
  {
   "cell_type": "code",
   "execution_count": 54,
   "id": "e66a32dd-f753-40f2-9e29-16049b69e689",
   "metadata": {},
   "outputs": [
    {
     "name": "stdout",
     "output_type": "stream",
     "text": [
      "  Method  Precision  Recall  FDR  Top-1 Match\n",
      "Stat-XAI        1.0     1.0  0.0            1\n"
     ]
    }
   ],
   "source": [
    "if __name__ == \"__main__\":\n",
    "    # Example:\n",
    "    GT = {\"Loan_Amount\", \"Credit_History\", \"Income_Level\"}\n",
    "    ranking = [\n",
    "        \"Loan_Amount\",\n",
    "        \"Income_Level\",\n",
    "        \"Credit_History\",\n",
    "    ]\n",
    "    flagged = ranking[:3]  # e.g. top‑3 features\n",
    "\n",
    "    df_metrics = compute_feature_recovery_metrics(GT, flagged, ranking)\n",
    "    df_metrics.insert(0, \"Method\", \"Stat-XAI\")\n",
    "    df_metrics = df_metrics[[\"Method\", \"Precision\", \"Recall\", \"FDR\", \"Top-1 Match\"]]\n",
    "    print(df_metrics.to_string(index=False))"
   ]
  },
  {
   "cell_type": "code",
   "execution_count": null,
   "id": "bc9c97f8-ca22-419f-92ef-3fc863085c5d",
   "metadata": {},
   "outputs": [],
   "source": []
  },
  {
   "cell_type": "code",
   "execution_count": 115,
   "id": "a7b1cf6b-cb18-4358-a2f8-49409fd8a238",
   "metadata": {},
   "outputs": [],
   "source": [
    "import shap\n",
    "import numpy as np\n",
    "import psutil\n",
    "import os\n",
    "import torch.optim as optim\n",
    "import matplotlib.pyplot as plt"
   ]
  },
  {
   "cell_type": "code",
   "execution_count": 117,
   "id": "4d93cab8-86e7-4999-9fb6-459c7e42f500",
   "metadata": {},
   "outputs": [],
   "source": [
    "def predict_proba_np(x_np):\n",
    "    \"\"\"\n",
    "    x_np: np.array of shape (batch, 5), dtype int\n",
    "    returns: np.array of shape (batch,) with predicted positive‐class probabilities\n",
    "    \"\"\"\n",
    "    model.eval()\n",
    "    with torch.no_grad():\n",
    "        tensor = torch.LongTensor(x_np).to(device)\n",
    "        logits = model(tensor)\n",
    "        probs  = torch.sigmoid(logits).cpu().numpy().flatten()\n",
    "    return probs"
   ]
  },
  {
   "cell_type": "code",
   "execution_count": 119,
   "id": "1109ebc5-1273-4fde-a7fc-3b3e2a5f02af",
   "metadata": {},
   "outputs": [],
   "source": [
    "bg_size    = 100\n",
    "bg_idx     = np.random.choice(len(X_train), size=bg_size, replace=False)\n",
    "background = X_train[bg_idx]   # shape (100,5)"
   ]
  },
  {
   "cell_type": "code",
   "execution_count": 121,
   "id": "a15b3bc7-c155-4887-84ac-f533235827b8",
   "metadata": {},
   "outputs": [],
   "source": [
    "explainer = shap.KernelExplainer(predict_proba_np, background)\n",
    "\n"
   ]
  },
  {
   "cell_type": "code",
   "execution_count": 123,
   "id": "2f0f5753-2daf-4ef5-9252-674774b9d132",
   "metadata": {},
   "outputs": [],
   "source": [
    "batch_size = 512\n",
    "all_shap   = []\n"
   ]
  },
  {
   "cell_type": "code",
   "execution_count": 125,
   "id": "1ccb3de2-9e86-479d-b5a9-bcb327ad0503",
   "metadata": {},
   "outputs": [
    {
     "name": "stdout",
     "output_type": "stream",
     "text": [
      "Batch 0-512: free RAM 3.95 GB\n"
     ]
    },
    {
     "data": {
      "application/vnd.jupyter.widget-view+json": {
       "model_id": "faa529f7f03240c694409b37b9a46cfb",
       "version_major": 2,
       "version_minor": 0
      },
      "text/plain": [
       "  0%|          | 0/512 [00:00<?, ?it/s]"
      ]
     },
     "metadata": {},
     "output_type": "display_data"
    },
    {
     "name": "stdout",
     "output_type": "stream",
     "text": [
      "Batch 512-1024: free RAM 3.92 GB\n"
     ]
    },
    {
     "data": {
      "application/vnd.jupyter.widget-view+json": {
       "model_id": "595f33b4b0fb467e873deef5e2f89778",
       "version_major": 2,
       "version_minor": 0
      },
      "text/plain": [
       "  0%|          | 0/512 [00:00<?, ?it/s]"
      ]
     },
     "metadata": {},
     "output_type": "display_data"
    },
    {
     "name": "stdout",
     "output_type": "stream",
     "text": [
      "Batch 1024-1200: free RAM 3.85 GB\n"
     ]
    },
    {
     "data": {
      "application/vnd.jupyter.widget-view+json": {
       "model_id": "e4a5994808934fb990bebcc8fe3575c4",
       "version_major": 2,
       "version_minor": 0
      },
      "text/plain": [
       "  0%|          | 0/176 [00:00<?, ?it/s]"
      ]
     },
     "metadata": {},
     "output_type": "display_data"
    }
   ],
   "source": [
    "for start in range(0, len(X_test), batch_size):\n",
    "    end    = min(start + batch_size, len(X_test))\n",
    "    Xb_np  = X_test[start:end]\n",
    "    \n",
    "    mem = psutil.virtual_memory()\n",
    "    print(f\"Batch {start}-{end}: free RAM {mem.available/1e9:.2f} GB\")\n",
    "    \n",
    "    # nsamples controls speed/accuracy\n",
    "    shap_vals_batch = explainer.shap_values(Xb_np, nsamples=100)\n",
    "    all_shap.append(shap_vals_batch)\n"
   ]
  },
  {
   "cell_type": "code",
   "execution_count": 127,
   "id": "e5fc1bfb-419b-404c-9749-3b560856f0a3",
   "metadata": {},
   "outputs": [],
   "source": [
    "all_shap_values = np.vstack(all_shap)"
   ]
  },
  {
   "cell_type": "code",
   "execution_count": 129,
   "id": "fe3772df-09db-4327-a568-3493d27fa0a1",
   "metadata": {},
   "outputs": [],
   "source": [
    "mean_abs = pd.Series(\n",
    "    np.abs(all_shap_values).mean(axis=0),\n",
    "    index=features\n",
    ").sort_values()"
   ]
  },
  {
   "cell_type": "code",
   "execution_count": 133,
   "id": "9497ed02-d56b-473d-93b8-35bbec2516dc",
   "metadata": {},
   "outputs": [
    {
     "data": {
      "text/plain": [
       "Education_Level    0.001988\n",
       "Zip_Code           0.002802\n",
       "Credit_History     0.169834\n",
       "Income_Level       0.208909\n",
       "Loan_Amount        0.215947\n",
       "dtype: float64"
      ]
     },
     "execution_count": 133,
     "metadata": {},
     "output_type": "execute_result"
    }
   ],
   "source": [
    "mean_abs"
   ]
  },
  {
   "cell_type": "code",
   "execution_count": 131,
   "id": "a8dc6735-1960-410d-8771-382093477938",
   "metadata": {},
   "outputs": [
    {
     "data": {
      "image/png": "[encoded data removed]",
      "text/plain": [
       "<Figure size 600x400 with 1 Axes>"
      ]
     },
     "metadata": {},
     "output_type": "display_data"
    }
   ],
   "source": [
    "os.makedirs(\"shap\", exist_ok=True)\n",
    "plt.figure(figsize=(6,4))\n",
    "mean_abs.plot.barh()\n",
    "plt.xlabel(\"Mean |SHAP value|\")\n",
    "plt.title(\"Mean absolute SHAP — RNN model\")\n",
    "plt.tight_layout()\n",
    "plt.savefig(\"shap/RNN_categorical_binary_shap_summary.jpg\", dpi=300)\n",
    "plt.show()"
   ]
  },
  {
   "cell_type": "code",
   "execution_count": null,
   "id": "3cc7b7ab-2bf8-4010-9d36-1494707b0277",
   "metadata": {},
   "outputs": [],
   "source": [
    "mean_abs_shap = np.abs(shap_vals_plot).mean(axis=0)\n",
    "\n",
    "# Convert to Series for readable output with feature names\n",
    "shap_importance = pd.Series(mean_abs_shap, index=X.columns).sort_values(ascending=False)\n",
    "print(shap_importance)"
   ]
  },
  {
   "cell_type": "code",
   "execution_count": 73,
   "id": "f31a4da1-082f-474a-a276-7c7b26f90a0e",
   "metadata": {},
   "outputs": [],
   "source": [
    "def compute_feature_recovery_metrics(gt, ranking):\n",
    "    \"\"\"\n",
    "    Compute TP, FP, FN, Precision, Recall, FDR, and Top-1 Match for feature recovery.\n",
    "\n",
    "    Parameters\n",
    "    ----------\n",
    "    gt : set\n",
    "        Ground-truth causal features.\n",
    "    flagged : list or set\n",
    "        Features your method flagged as important (e.g., top‑k from ranking).\n",
    "    ranking : list\n",
    "        Ordered list of features by descending effect size.\n",
    "\n",
    "    Returns\n",
    "    -------\n",
    "    pd.DataFrame\n",
    "        Single-row DataFrame with the metrics.\n",
    "    \"\"\"\n",
    "    tp = set(gt) & set(ranking)\n",
    "    fp = set(ranking) - set(gt)\n",
    "    fn = set(gt) - set(ranking)\n",
    "\n",
    "    precision = len(tp) / (len(tp) + len(fp)) if (len(tp) + len(fp)) else 0.0\n",
    "    recall    = len(tp) / len(gt)        if len(gt)              else 0.0\n",
    "    fdr       = len(fp) / (len(tp) + len(fp)) if (len(tp) + len(fp)) else 0.0\n",
    "    top1      = 1 if ranking and ranking[0] in gt else 0\n",
    "\n",
    "    metrics = {\n",
    "        \"TP\":           \", \".join(sorted(tp)),\n",
    "        \"FP\":           \", \".join(sorted(fp)),\n",
    "        \"FN\":           \", \".join(sorted(fn)),\n",
    "        \"Precision\":     precision,\n",
    "        \"Recall\":        recall,\n",
    "        \"FDR\":           fdr,\n",
    "        \"Top-1 Match\":   top1\n",
    "    }\n",
    "    return pd.DataFrame([{\n",
    "        \"Precision\": precision,\n",
    "        \"Recall\": recall,\n",
    "        \"FDR\": fdr,\n",
    "        \"Top-1 Match\": top1\n",
    "    }])\n",
    "\n",
    "\n"
   ]
  },
  {
   "cell_type": "code",
   "execution_count": 75,
   "id": "6742cb9a-a83d-4685-bb69-ef96bde93f67",
   "metadata": {},
   "outputs": [
    {
     "name": "stdout",
     "output_type": "stream",
     "text": [
      "  Method  Precision  Recall  FDR  Top-1 Match\n",
      "SHAP-XAI        0.6     1.0  0.4            1\n"
     ]
    }
   ],
   "source": [
    "if __name__ == \"__main__\":\n",
    "    # Example:\n",
    "    GT = {\"Loan_Amount\", \"Credit_History\", \"Income_Level\"}\n",
    "    ranking = [\n",
    "        \"Loan_Amount\",\n",
    "        \"Income_Level\",\n",
    "        \"Credit_History\",\n",
    "    \"Education_Level\",\n",
    "    \"Zip_Code\"]\n",
    "    # flagged = ranking[:3]  # e.g. top‑3 features\n",
    "\n",
    "    df_metrics = compute_feature_recovery_metrics(GT, ranking)\n",
    "    df_metrics.insert(0, \"Method\", \"SHAP-XAI\")\n",
    "    df_metrics = df_metrics[[\"Method\", \"Precision\", \"Recall\", \"FDR\", \"Top-1 Match\"]]\n",
    "    print(df_metrics.to_string(index=False))"
   ]
  },
  {
   "cell_type": "code",
   "execution_count": null,
   "id": "aa4adfd0-56aa-475d-a33b-096266d9b52a",
   "metadata": {},
   "outputs": [],
   "source": [
    "\n"
   ]
  },
  {
   "cell_type": "code",
   "execution_count": null,
   "id": "5a178b12-d45d-4b86-8655-4e9bddd49b0c",
   "metadata": {},
   "outputs": [],
   "source": []
  }
 ],
 "metadata": {
  "kernelspec": {
   "display_name": "Python [conda env:base] *",
   "language": "python",
   "name": "conda-base-py"
  },
  "language_info": {
   "codemirror_mode": {
    "name": "ipython",
    "version": 3
   },
   "file_extension": ".py",
   "mimetype": "text/x-python",
   "name": "python",
   "nbconvert_exporter": "python",
   "pygments_lexer": "ipython3",
   "version": "3.12.7"
  }
 },
 "nbformat": 4,
 "nbformat_minor": 5
}

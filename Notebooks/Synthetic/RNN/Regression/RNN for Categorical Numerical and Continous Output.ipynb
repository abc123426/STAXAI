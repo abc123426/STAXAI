{
 "cells": [
  {
   "cell_type": "code",
   "execution_count": 53,
   "id": "52c44933-86ea-4ac7-9fac-1e9a71ad8ffe",
   "metadata": {},
   "outputs": [],
   "source": [
    "import pandas as pd\n",
    "import numpy as np\n",
    "from sklearn.model_selection import train_test_split\n",
    "from sklearn.preprocessing import StandardScaler\n",
    "from sklearn.metrics import mean_squared_error, r2_score\n",
    "import matplotlib.pyplot as plt\n",
    "import torch\n",
    "import torch.nn as nn\n",
    "from torch.utils.data import Dataset, DataLoader\n",
    "import pandas as pd\n",
    "from sklearn.model_selection import train_test_split\n",
    "from sklearn.metrics import mean_squared_error, r2_score"
   ]
  },
  {
   "cell_type": "code",
   "execution_count": 55,
   "id": "3219e9ca-bad2-483b-8ff2-e21d7b6ed4a6",
   "metadata": {},
   "outputs": [
    {
     "data": {
      "text/html": [
       "<div>\n",
       "<style scoped>\n",
       "    .dataframe tbody tr th:only-of-type {\n",
       "        vertical-align: middle;\n",
       "    }\n",
       "\n",
       "    .dataframe tbody tr th {\n",
       "        vertical-align: top;\n",
       "    }\n",
       "\n",
       "    .dataframe thead th {\n",
       "        text-align: right;\n",
       "    }\n",
       "</style>\n",
       "<table border=\"1\" class=\"dataframe\">\n",
       "  <thead>\n",
       "    <tr style=\"text-align: right;\">\n",
       "      <th></th>\n",
       "      <th>Annual_Income</th>\n",
       "      <th>Credit_Score</th>\n",
       "      <th>Employment_Length</th>\n",
       "      <th>Age</th>\n",
       "      <th>Loan_Term</th>\n",
       "      <th>Loan_Purpose</th>\n",
       "      <th>Employment_Status</th>\n",
       "      <th>Loan_Categories</th>\n",
       "      <th>Region</th>\n",
       "      <th>Marital_Status</th>\n",
       "      <th>Approval_Probability</th>\n",
       "    </tr>\n",
       "  </thead>\n",
       "  <tbody>\n",
       "    <tr>\n",
       "      <th>0</th>\n",
       "      <td>74944.814262</td>\n",
       "      <td>505.502450</td>\n",
       "      <td>14.599966</td>\n",
       "      <td>30</td>\n",
       "      <td>28</td>\n",
       "      <td>Personal</td>\n",
       "      <td>Self-employed</td>\n",
       "      <td>Medium</td>\n",
       "      <td>West</td>\n",
       "      <td>Married</td>\n",
       "      <td>0.656925</td>\n",
       "    </tr>\n",
       "    <tr>\n",
       "      <th>1</th>\n",
       "      <td>144085.716769</td>\n",
       "      <td>483.101653</td>\n",
       "      <td>3.690240</td>\n",
       "      <td>44</td>\n",
       "      <td>14</td>\n",
       "      <td>Home</td>\n",
       "      <td>Employed</td>\n",
       "      <td>Small</td>\n",
       "      <td>South</td>\n",
       "      <td>Divorced</td>\n",
       "      <td>0.719795</td>\n",
       "    </tr>\n",
       "    <tr>\n",
       "      <th>2</th>\n",
       "      <td>117839.273017</td>\n",
       "      <td>396.884652</td>\n",
       "      <td>6.932794</td>\n",
       "      <td>55</td>\n",
       "      <td>27</td>\n",
       "      <td>Home</td>\n",
       "      <td>Unemployed</td>\n",
       "      <td>Large</td>\n",
       "      <td>South</td>\n",
       "      <td>Single</td>\n",
       "      <td>0.281247</td>\n",
       "    </tr>\n",
       "    <tr>\n",
       "      <th>3</th>\n",
       "      <td>101839.018104</td>\n",
       "      <td>633.996669</td>\n",
       "      <td>13.265613</td>\n",
       "      <td>50</td>\n",
       "      <td>1</td>\n",
       "      <td>Personal</td>\n",
       "      <td>Employed</td>\n",
       "      <td>Small</td>\n",
       "      <td>North</td>\n",
       "      <td>Divorced</td>\n",
       "      <td>0.833786</td>\n",
       "    </tr>\n",
       "    <tr>\n",
       "      <th>4</th>\n",
       "      <td>48722.236853</td>\n",
       "      <td>562.143288</td>\n",
       "      <td>9.641787</td>\n",
       "      <td>23</td>\n",
       "      <td>28</td>\n",
       "      <td>Car</td>\n",
       "      <td>Self-employed</td>\n",
       "      <td>Small</td>\n",
       "      <td>South</td>\n",
       "      <td>Single</td>\n",
       "      <td>0.449401</td>\n",
       "    </tr>\n",
       "  </tbody>\n",
       "</table>\n",
       "</div>"
      ],
      "text/plain": [
       "   Annual_Income  Credit_Score  Employment_Length  Age  Loan_Term  \\\n",
       "0   74944.814262    505.502450          14.599966   30         28   \n",
       "1  144085.716769    483.101653           3.690240   44         14   \n",
       "2  117839.273017    396.884652           6.932794   55         27   \n",
       "3  101839.018104    633.996669          13.265613   50          1   \n",
       "4   48722.236853    562.143288           9.641787   23         28   \n",
       "\n",
       "  Loan_Purpose Employment_Status Loan_Categories Region Marital_Status  \\\n",
       "0     Personal     Self-employed          Medium   West        Married   \n",
       "1         Home          Employed           Small  South       Divorced   \n",
       "2         Home        Unemployed           Large  South         Single   \n",
       "3     Personal          Employed           Small  North       Divorced   \n",
       "4          Car     Self-employed           Small  South         Single   \n",
       "\n",
       "   Approval_Probability  \n",
       "0              0.656925  \n",
       "1              0.719795  \n",
       "2              0.281247  \n",
       "3              0.833786  \n",
       "4              0.449401  "
      ]
     },
     "execution_count": 55,
     "metadata": {},
     "output_type": "execute_result"
    }
   ],
   "source": [
    "df = pd.read_csv('Loan Approval Categorical Numerical Synthetic Dataset Continous Outcome.csv')\n",
    "if 'Unnamed: 0' in df.columns:\n",
    "    df = df.drop(columns=['Unnamed: 0'])\n",
    "df.head()"
   ]
  },
  {
   "cell_type": "code",
   "execution_count": 57,
   "id": "4b75e510-7b14-433b-af67-38f26bc41e98",
   "metadata": {},
   "outputs": [],
   "source": [
    "target = \"Approval_Probability\"\n",
    "cat_feats = [\"Loan_Purpose\",\"Employment_Status\",\"Loan_Categories\",\"Region\",\"Marital_Status\"]\n",
    "num_feats = [\"Annual_Income\",\"Credit_Score\",\"Employment_Length\",\"Age\",\"Loan_Term\"]\n"
   ]
  },
  {
   "cell_type": "code",
   "execution_count": 59,
   "id": "d8285564-0e38-48ab-ac19-54f36c3138d3",
   "metadata": {},
   "outputs": [],
   "source": [
    "train_df, test_df = train_test_split(df, test_size=0.3, random_state=42)\n",
    "X_test_original = test_df.copy()"
   ]
  },
  {
   "cell_type": "code",
   "execution_count": 61,
   "id": "9fe8e59e-f2ca-4a73-8c40-73a3a25153ac",
   "metadata": {},
   "outputs": [],
   "source": [
    "cat_feats = [\"Loan_Purpose\",\"Employment_Status\",\"Loan_Categories\",\"Region\",\"Marital_Status\"]\n",
    "train_cat = pd.get_dummies(train_df[cat_feats])\n",
    "test_cat  = pd.get_dummies(test_df[cat_feats])\n",
    "# align test to train columns\n",
    "test_cat = test_cat.reindex(columns=train_cat.columns, fill_value=0)\n"
   ]
  },
  {
   "cell_type": "code",
   "execution_count": 63,
   "id": "558a7d00-265b-4623-8ae0-58f00e33bee1",
   "metadata": {},
   "outputs": [],
   "source": [
    "num_feats = [\"Annual_Income\",\"Credit_Score\",\"Employment_Length\",\"Age\",\"Loan_Term\"]\n",
    "scaler = StandardScaler().fit(train_df[num_feats])\n",
    "train_num = scaler.transform(train_df[num_feats])\n",
    "test_num  = scaler.transform(test_df[num_feats])\n"
   ]
  },
  {
   "cell_type": "code",
   "execution_count": 65,
   "id": "8af82322-f261-4699-a5cf-68b2f1675180",
   "metadata": {},
   "outputs": [],
   "source": [
    "X_train = np.hstack([train_num, train_cat.values])\n",
    "X_test  = np.hstack([test_num,  test_cat.values])\n",
    "y_train = train_df[\"Approval_Probability\"].values.reshape(-1,1)\n",
    "y_test  = test_df[\"Approval_Probability\"].values.reshape(-1,1)\n"
   ]
  },
  {
   "cell_type": "code",
   "execution_count": null,
   "id": "7af6bb70-6803-48b2-be3a-9884610fa81f",
   "metadata": {},
   "outputs": [],
   "source": []
  },
  {
   "cell_type": "code",
   "execution_count": 68,
   "id": "42d5527b-bcbf-4fc4-a727-8484f68f46c2",
   "metadata": {},
   "outputs": [],
   "source": [
    "class OneHotRNNDataset(Dataset):\n",
    "    def __init__(self, X, y):\n",
    "        self.X = torch.from_numpy(X).float()  # [N, D]\n",
    "        self.y = torch.from_numpy(y).float()  # [N, 1]\n",
    "    def __len__(self):\n",
    "        return len(self.X)\n",
    "    def __getitem__(self, idx):\n",
    "        # return sequence [seq_len=D, 1]\n",
    "        x = self.X[idx].unsqueeze(-1)  # [D,1]\n",
    "        return x, self.y[idx]\n",
    "\n",
    "train_ds = OneHotRNNDataset(X_train, y_train)\n",
    "test_ds  = OneHotRNNDataset(X_test,  y_test)\n",
    "train_dl = DataLoader(train_ds, batch_size=4, shuffle=True)\n",
    "test_dl  = DataLoader(test_ds,  batch_size=4)\n"
   ]
  },
  {
   "cell_type": "code",
   "execution_count": 70,
   "id": "6f71536a-a71d-4d5d-9f5c-35717470e715",
   "metadata": {},
   "outputs": [],
   "source": [
    "class OneHotRNNReg(nn.Module):\n",
    "    def __init__(self, input_dim, hidden_size=32, num_layers=1):\n",
    "        super().__init__()\n",
    "        self.rnn = nn.RNN(input_size=1, hidden_size=hidden_size,\n",
    "                          num_layers=num_layers, batch_first=True)\n",
    "        self.head = nn.Linear(hidden_size, 1)\n",
    "    def forward(self, x):\n",
    "        # x: [B, seq_len, 1]\n",
    "        out, h_n = self.rnn(x)\n",
    "        # use last hidden state\n",
    "        return self.head(h_n[-1])\n",
    "\n",
    "device = torch.device(\"cuda\" if torch.cuda.is_available() else \"cpu\")\n",
    "model = OneHotRNNReg(input_dim=X_train.shape[1]).to(device)\n",
    "opt   = torch.optim.Adam(model.parameters(), lr=1e-3)\n",
    "loss_fn = nn.MSELoss()\n"
   ]
  },
  {
   "cell_type": "code",
   "execution_count": 72,
   "id": "3aa33ffc-a7ad-429e-82f7-2b8953b2ba25",
   "metadata": {},
   "outputs": [
    {
     "name": "stdout",
     "output_type": "stream",
     "text": [
      "Epoch 10  Train MSE = 0.0044\n",
      "Epoch 20  Train MSE = 0.0041\n"
     ]
    }
   ],
   "source": [
    "for epoch in range(1, 21):\n",
    "    model.train()\n",
    "    total_loss = 0.0\n",
    "    for xb, yb in train_dl:\n",
    "        xb, yb = xb.to(device), yb.to(device)\n",
    "        pred = model(xb)\n",
    "        loss = loss_fn(pred, yb)\n",
    "        opt.zero_grad(); loss.backward(); opt.step()\n",
    "        total_loss += loss.item() * xb.size(0)\n",
    "    if epoch % 10 == 0:\n",
    "        print(f\"Epoch {epoch:02d}  Train MSE = {total_loss/len(train_dl.dataset):.4f}\")\n"
   ]
  },
  {
   "cell_type": "code",
   "execution_count": 74,
   "id": "24a10b4d-558b-4650-84c2-7392e76a7e92",
   "metadata": {},
   "outputs": [
    {
     "name": "stdout",
     "output_type": "stream",
     "text": [
      "\n",
      "Test MSE: 0.0034\n",
      "Test R² : 0.9245\n"
     ]
    }
   ],
   "source": [
    "model.eval()\n",
    "y_preds, y_trues = [], []\n",
    "with torch.no_grad():\n",
    "    for xb, yb in test_dl:\n",
    "        xb = xb.to(device)\n",
    "        preds = model(xb).cpu().numpy().flatten()\n",
    "        y_preds.extend(preds)\n",
    "        y_trues.extend(yb.numpy().flatten())\n",
    "\n",
    "mse = mean_squared_error(y_trues, y_preds)\n",
    "r2  = r2_score(y_trues, y_preds)\n",
    "print(f\"\\nTest MSE: {mse:.4f}\")\n",
    "print(f\"Test R² : {r2:.4f}\")"
   ]
  },
  {
   "cell_type": "code",
   "execution_count": 24,
   "id": "d88c4240-9a7e-4d46-971c-b4c1163dda37",
   "metadata": {},
   "outputs": [],
   "source": [
    "preds_df = pd.DataFrame({\"pred_value\": y_preds})"
   ]
  },
  {
   "cell_type": "code",
   "execution_count": 26,
   "id": "38e173c3-6506-45c8-835b-83da0fdf0ee9",
   "metadata": {},
   "outputs": [
    {
     "data": {
      "text/html": [
       "<div>\n",
       "<style scoped>\n",
       "    .dataframe tbody tr th:only-of-type {\n",
       "        vertical-align: middle;\n",
       "    }\n",
       "\n",
       "    .dataframe tbody tr th {\n",
       "        vertical-align: top;\n",
       "    }\n",
       "\n",
       "    .dataframe thead th {\n",
       "        text-align: right;\n",
       "    }\n",
       "</style>\n",
       "<table border=\"1\" class=\"dataframe\">\n",
       "  <thead>\n",
       "    <tr style=\"text-align: right;\">\n",
       "      <th></th>\n",
       "      <th>Annual_Income</th>\n",
       "      <th>Credit_Score</th>\n",
       "      <th>Employment_Length</th>\n",
       "      <th>Age</th>\n",
       "      <th>Loan_Term</th>\n",
       "      <th>Loan_Purpose</th>\n",
       "      <th>Employment_Status</th>\n",
       "      <th>Loan_Categories</th>\n",
       "      <th>Region</th>\n",
       "      <th>Marital_Status</th>\n",
       "      <th>Approval_Probability</th>\n",
       "    </tr>\n",
       "  </thead>\n",
       "  <tbody>\n",
       "    <tr>\n",
       "      <th>6252</th>\n",
       "      <td>70497.245486</td>\n",
       "      <td>353.290689</td>\n",
       "      <td>19.378970</td>\n",
       "      <td>58</td>\n",
       "      <td>6</td>\n",
       "      <td>Personal</td>\n",
       "      <td>Self-employed</td>\n",
       "      <td>Large</td>\n",
       "      <td>South</td>\n",
       "      <td>Single</td>\n",
       "      <td>0.446404</td>\n",
       "    </tr>\n",
       "    <tr>\n",
       "      <th>4684</th>\n",
       "      <td>123060.635606</td>\n",
       "      <td>734.158798</td>\n",
       "      <td>3.902116</td>\n",
       "      <td>18</td>\n",
       "      <td>12</td>\n",
       "      <td>Personal</td>\n",
       "      <td>Self-employed</td>\n",
       "      <td>Medium</td>\n",
       "      <td>East</td>\n",
       "      <td>Divorced</td>\n",
       "      <td>0.873725</td>\n",
       "    </tr>\n",
       "    <tr>\n",
       "      <th>1731</th>\n",
       "      <td>104867.500355</td>\n",
       "      <td>414.860361</td>\n",
       "      <td>19.787100</td>\n",
       "      <td>64</td>\n",
       "      <td>30</td>\n",
       "      <td>Personal</td>\n",
       "      <td>Self-employed</td>\n",
       "      <td>Large</td>\n",
       "      <td>West</td>\n",
       "      <td>Divorced</td>\n",
       "      <td>0.600306</td>\n",
       "    </tr>\n",
       "    <tr>\n",
       "      <th>4742</th>\n",
       "      <td>34270.827697</td>\n",
       "      <td>743.248106</td>\n",
       "      <td>2.564964</td>\n",
       "      <td>30</td>\n",
       "      <td>10</td>\n",
       "      <td>Personal</td>\n",
       "      <td>Unemployed</td>\n",
       "      <td>Small</td>\n",
       "      <td>North</td>\n",
       "      <td>Married</td>\n",
       "      <td>0.294272</td>\n",
       "    </tr>\n",
       "    <tr>\n",
       "      <th>4521</th>\n",
       "      <td>99254.049887</td>\n",
       "      <td>818.050800</td>\n",
       "      <td>7.095019</td>\n",
       "      <td>24</td>\n",
       "      <td>18</td>\n",
       "      <td>Car</td>\n",
       "      <td>Unemployed</td>\n",
       "      <td>Medium</td>\n",
       "      <td>South</td>\n",
       "      <td>Divorced</td>\n",
       "      <td>0.420837</td>\n",
       "    </tr>\n",
       "    <tr>\n",
       "      <th>...</th>\n",
       "      <td>...</td>\n",
       "      <td>...</td>\n",
       "      <td>...</td>\n",
       "      <td>...</td>\n",
       "      <td>...</td>\n",
       "      <td>...</td>\n",
       "      <td>...</td>\n",
       "      <td>...</td>\n",
       "      <td>...</td>\n",
       "      <td>...</td>\n",
       "      <td>...</td>\n",
       "    </tr>\n",
       "    <tr>\n",
       "      <th>8014</th>\n",
       "      <td>111248.845519</td>\n",
       "      <td>414.425660</td>\n",
       "      <td>17.635090</td>\n",
       "      <td>37</td>\n",
       "      <td>23</td>\n",
       "      <td>Home</td>\n",
       "      <td>Employed</td>\n",
       "      <td>Small</td>\n",
       "      <td>East</td>\n",
       "      <td>Single</td>\n",
       "      <td>0.620790</td>\n",
       "    </tr>\n",
       "    <tr>\n",
       "      <th>1074</th>\n",
       "      <td>148526.686768</td>\n",
       "      <td>465.124911</td>\n",
       "      <td>4.867666</td>\n",
       "      <td>19</td>\n",
       "      <td>4</td>\n",
       "      <td>Car</td>\n",
       "      <td>Unemployed</td>\n",
       "      <td>Large</td>\n",
       "      <td>West</td>\n",
       "      <td>Single</td>\n",
       "      <td>0.303876</td>\n",
       "    </tr>\n",
       "    <tr>\n",
       "      <th>3063</th>\n",
       "      <td>104837.853395</td>\n",
       "      <td>835.664566</td>\n",
       "      <td>12.608321</td>\n",
       "      <td>69</td>\n",
       "      <td>29</td>\n",
       "      <td>Personal</td>\n",
       "      <td>Self-employed</td>\n",
       "      <td>Medium</td>\n",
       "      <td>East</td>\n",
       "      <td>Divorced</td>\n",
       "      <td>0.840500</td>\n",
       "    </tr>\n",
       "    <tr>\n",
       "      <th>6487</th>\n",
       "      <td>76033.084843</td>\n",
       "      <td>580.706474</td>\n",
       "      <td>8.107041</td>\n",
       "      <td>37</td>\n",
       "      <td>28</td>\n",
       "      <td>Car</td>\n",
       "      <td>Self-employed</td>\n",
       "      <td>Large</td>\n",
       "      <td>South</td>\n",
       "      <td>Divorced</td>\n",
       "      <td>0.434405</td>\n",
       "    </tr>\n",
       "    <tr>\n",
       "      <th>4705</th>\n",
       "      <td>80663.068066</td>\n",
       "      <td>578.302934</td>\n",
       "      <td>8.435630</td>\n",
       "      <td>77</td>\n",
       "      <td>18</td>\n",
       "      <td>Car</td>\n",
       "      <td>Self-employed</td>\n",
       "      <td>Large</td>\n",
       "      <td>East</td>\n",
       "      <td>Married</td>\n",
       "      <td>0.472274</td>\n",
       "    </tr>\n",
       "  </tbody>\n",
       "</table>\n",
       "<p>3000 rows × 11 columns</p>\n",
       "</div>"
      ],
      "text/plain": [
       "      Annual_Income  Credit_Score  Employment_Length  Age  Loan_Term  \\\n",
       "6252   70497.245486    353.290689          19.378970   58          6   \n",
       "4684  123060.635606    734.158798           3.902116   18         12   \n",
       "1731  104867.500355    414.860361          19.787100   64         30   \n",
       "4742   34270.827697    743.248106           2.564964   30         10   \n",
       "4521   99254.049887    818.050800           7.095019   24         18   \n",
       "...             ...           ...                ...  ...        ...   \n",
       "8014  111248.845519    414.425660          17.635090   37         23   \n",
       "1074  148526.686768    465.124911           4.867666   19          4   \n",
       "3063  104837.853395    835.664566          12.608321   69         29   \n",
       "6487   76033.084843    580.706474           8.107041   37         28   \n",
       "4705   80663.068066    578.302934           8.435630   77         18   \n",
       "\n",
       "     Loan_Purpose Employment_Status Loan_Categories Region Marital_Status  \\\n",
       "6252     Personal     Self-employed           Large  South         Single   \n",
       "4684     Personal     Self-employed          Medium   East       Divorced   \n",
       "1731     Personal     Self-employed           Large   West       Divorced   \n",
       "4742     Personal        Unemployed           Small  North        Married   \n",
       "4521          Car        Unemployed          Medium  South       Divorced   \n",
       "...           ...               ...             ...    ...            ...   \n",
       "8014         Home          Employed           Small   East         Single   \n",
       "1074          Car        Unemployed           Large   West         Single   \n",
       "3063     Personal     Self-employed          Medium   East       Divorced   \n",
       "6487          Car     Self-employed           Large  South       Divorced   \n",
       "4705          Car     Self-employed           Large   East        Married   \n",
       "\n",
       "      Approval_Probability  \n",
       "6252              0.446404  \n",
       "4684              0.873725  \n",
       "1731              0.600306  \n",
       "4742              0.294272  \n",
       "4521              0.420837  \n",
       "...                    ...  \n",
       "8014              0.620790  \n",
       "1074              0.303876  \n",
       "3063              0.840500  \n",
       "6487              0.434405  \n",
       "4705              0.472274  \n",
       "\n",
       "[3000 rows x 11 columns]"
      ]
     },
     "execution_count": 26,
     "metadata": {},
     "output_type": "execute_result"
    }
   ],
   "source": [
    "X_test_original"
   ]
  },
  {
   "cell_type": "code",
   "execution_count": 28,
   "id": "af6b05a8-6f29-4920-bce8-79acfbed963e",
   "metadata": {},
   "outputs": [],
   "source": [
    "test_df = X_test_original.drop(X_test_original.columns[[-1]], axis=1)"
   ]
  },
  {
   "cell_type": "code",
   "execution_count": 30,
   "id": "316d8e68-be57-4671-8236-afcafbfa2606",
   "metadata": {},
   "outputs": [],
   "source": [
    "merged_df = pd.concat([\n",
    "    test_df.reset_index(drop=True),\n",
    "    preds_df.reset_index(drop=True)\n",
    "], axis=1)"
   ]
  },
  {
   "cell_type": "code",
   "execution_count": 32,
   "id": "8af9fd45-636a-4de7-9d4c-903590cfa899",
   "metadata": {},
   "outputs": [],
   "source": [
    "import pandas as pd\n",
    "import numpy as np\n",
    "import matplotlib.pyplot as plt\n",
    "from scipy.stats import pointbiserialr, chi2_contingency\n",
    "import statsmodels.api as sm\n",
    "from statsmodels.formula.api import ols"
   ]
  },
  {
   "cell_type": "code",
   "execution_count": 34,
   "id": "d17501ff-f8f2-4a29-b1a0-33414daf6650",
   "metadata": {},
   "outputs": [],
   "source": [
    "# 1) Define features and target\n",
    "numeric_features = ['Annual_Income', 'Credit_Score', 'Employment_Length', 'Age', 'Loan_Term']\n",
    "categorical_features = ['Loan_Purpose', 'Employment_Status', 'Loan_Categories', 'Region', 'Marital_Status']\n",
    "target = 'pred_value'  # continuous predictions column in merged_df\n",
    "\n"
   ]
  },
  {
   "cell_type": "code",
   "execution_count": 36,
   "id": "d9a01eaf-7145-418b-b0c9-5b5049c4dd04",
   "metadata": {},
   "outputs": [],
   "source": [
    "# 2) Helper for one‐way ANOVA + η²\n",
    "def one_way_anova_eta(df, feat, target):\n",
    "    formula = f\"{target} ~ C({feat})\"\n",
    "    model = ols(formula, data=df).fit()\n",
    "    aov = sm.stats.anova_lm(model, typ=2)\n",
    "    ss_factor = aov.loc[f\"C({feat})\", \"sum_sq\"]\n",
    "    ss_total = aov[\"sum_sq\"].sum()\n",
    "    p_val = aov.loc[f\"C({feat})\", \"PR(>F)\"]\n",
    "    eta_sq = ss_factor / ss_total if ss_total > 0 else np.nan\n",
    "    return p_val, eta_sq"
   ]
  },
  {
   "cell_type": "code",
   "execution_count": 38,
   "id": "214a6e29-2699-40de-a5eb-cf537d3088fc",
   "metadata": {},
   "outputs": [],
   "source": [
    "records = []\n",
    "\n",
    "# Categorical: ANOVA + η²\n",
    "for feat in categorical_features:\n",
    "    p_val, eta_sq = one_way_anova_eta(merged_df, feat, target)\n",
    "    # if p_val < 0.05:\n",
    "    records.append({\n",
    "            'Feature': feat,\n",
    "            'Type': 'Categorical',\n",
    "             'p_val': p_val,\n",
    "            'Effect_Size': eta_sq\n",
    "        })\n"
   ]
  },
  {
   "cell_type": "code",
   "execution_count": 42,
   "id": "6961fa19-6a99-4c79-88e0-408c7e83a2f7",
   "metadata": {},
   "outputs": [],
   "source": [
    "for feat in numeric_features:\n",
    "    X = sm.add_constant(merged_df[feat])\n",
    "    y = merged_df[target]\n",
    "    model = sm.OLS(y, X).fit()\n",
    "    beta = model.params[feat]\n",
    "    p_val = model.pvalues[feat]\n",
    "    # standardized beta = beta * (SD_x / SD_y)\n",
    "    std_beta = beta * (merged_df[feat].std() / merged_df[target].std())\n",
    "    # if p_val < 0.05:\n",
    "    records.append({\n",
    "            'Feature': feat,\n",
    "            'Type': 'Numeric',\n",
    "            'p_value': p_val,\n",
    "            'Effect_Size': abs(std_beta)\n",
    "        })\n"
   ]
  },
  {
   "cell_type": "code",
   "execution_count": 44,
   "id": "c48430a0-946e-4d03-bcc2-b03fc51738c3",
   "metadata": {},
   "outputs": [],
   "source": [
    "eff_df = pd.DataFrame(records)\n",
    "eff_df = eff_df.sort_values('Effect_Size', ascending=False).reset_index(drop=True)\n"
   ]
  },
  {
   "cell_type": "code",
   "execution_count": 46,
   "id": "c21cbf20-3170-4345-acfa-d80ae9ab95cc",
   "metadata": {},
   "outputs": [
    {
     "data": {
      "text/html": [
       "<div>\n",
       "<style scoped>\n",
       "    .dataframe tbody tr th:only-of-type {\n",
       "        vertical-align: middle;\n",
       "    }\n",
       "\n",
       "    .dataframe tbody tr th {\n",
       "        vertical-align: top;\n",
       "    }\n",
       "\n",
       "    .dataframe thead th {\n",
       "        text-align: right;\n",
       "    }\n",
       "</style>\n",
       "<table border=\"1\" class=\"dataframe\">\n",
       "  <thead>\n",
       "    <tr style=\"text-align: right;\">\n",
       "      <th></th>\n",
       "      <th>Feature</th>\n",
       "      <th>Type</th>\n",
       "      <th>p_val</th>\n",
       "      <th>Effect_Size</th>\n",
       "      <th>p_value</th>\n",
       "    </tr>\n",
       "  </thead>\n",
       "  <tbody>\n",
       "    <tr>\n",
       "      <th>0</th>\n",
       "      <td>Annual_Income</td>\n",
       "      <td>Numeric</td>\n",
       "      <td>NaN</td>\n",
       "      <td>0.540013</td>\n",
       "      <td>9.657934e-227</td>\n",
       "    </tr>\n",
       "    <tr>\n",
       "      <th>1</th>\n",
       "      <td>Credit_Score</td>\n",
       "      <td>Numeric</td>\n",
       "      <td>NaN</td>\n",
       "      <td>0.429525</td>\n",
       "      <td>5.765504e-135</td>\n",
       "    </tr>\n",
       "    <tr>\n",
       "      <th>2</th>\n",
       "      <td>Employment_Status</td>\n",
       "      <td>Categorical</td>\n",
       "      <td>2.783210e-275</td>\n",
       "      <td>0.344187</td>\n",
       "      <td>NaN</td>\n",
       "    </tr>\n",
       "    <tr>\n",
       "      <th>3</th>\n",
       "      <td>Loan_Categories</td>\n",
       "      <td>Categorical</td>\n",
       "      <td>1.942279e-101</td>\n",
       "      <td>0.143373</td>\n",
       "      <td>NaN</td>\n",
       "    </tr>\n",
       "    <tr>\n",
       "      <th>4</th>\n",
       "      <td>Loan_Purpose</td>\n",
       "      <td>Categorical</td>\n",
       "      <td>4.456665e-25</td>\n",
       "      <td>0.036726</td>\n",
       "      <td>NaN</td>\n",
       "    </tr>\n",
       "    <tr>\n",
       "      <th>5</th>\n",
       "      <td>Employment_Length</td>\n",
       "      <td>Numeric</td>\n",
       "      <td>NaN</td>\n",
       "      <td>0.032209</td>\n",
       "      <td>7.775433e-02</td>\n",
       "    </tr>\n",
       "    <tr>\n",
       "      <th>6</th>\n",
       "      <td>Loan_Term</td>\n",
       "      <td>Numeric</td>\n",
       "      <td>NaN</td>\n",
       "      <td>0.014073</td>\n",
       "      <td>4.409740e-01</td>\n",
       "    </tr>\n",
       "    <tr>\n",
       "      <th>7</th>\n",
       "      <td>Age</td>\n",
       "      <td>Numeric</td>\n",
       "      <td>NaN</td>\n",
       "      <td>0.012811</td>\n",
       "      <td>4.830553e-01</td>\n",
       "    </tr>\n",
       "    <tr>\n",
       "      <th>8</th>\n",
       "      <td>Region</td>\n",
       "      <td>Categorical</td>\n",
       "      <td>1.182662e-01</td>\n",
       "      <td>0.001956</td>\n",
       "      <td>NaN</td>\n",
       "    </tr>\n",
       "    <tr>\n",
       "      <th>9</th>\n",
       "      <td>Marital_Status</td>\n",
       "      <td>Categorical</td>\n",
       "      <td>2.910406e-01</td>\n",
       "      <td>0.000823</td>\n",
       "      <td>NaN</td>\n",
       "    </tr>\n",
       "  </tbody>\n",
       "</table>\n",
       "</div>"
      ],
      "text/plain": [
       "             Feature         Type          p_val  Effect_Size        p_value\n",
       "0      Annual_Income      Numeric            NaN     0.540013  9.657934e-227\n",
       "1       Credit_Score      Numeric            NaN     0.429525  5.765504e-135\n",
       "2  Employment_Status  Categorical  2.783210e-275     0.344187            NaN\n",
       "3    Loan_Categories  Categorical  1.942279e-101     0.143373            NaN\n",
       "4       Loan_Purpose  Categorical   4.456665e-25     0.036726            NaN\n",
       "5  Employment_Length      Numeric            NaN     0.032209   7.775433e-02\n",
       "6          Loan_Term      Numeric            NaN     0.014073   4.409740e-01\n",
       "7                Age      Numeric            NaN     0.012811   4.830553e-01\n",
       "8             Region  Categorical   1.182662e-01     0.001956            NaN\n",
       "9     Marital_Status  Categorical   2.910406e-01     0.000823            NaN"
      ]
     },
     "metadata": {},
     "output_type": "display_data"
    }
   ],
   "source": [
    "display(eff_df)"
   ]
  },
  {
   "cell_type": "code",
   "execution_count": 56,
   "id": "8aba54ea-2917-401e-b453-a86d46b94e92",
   "metadata": {},
   "outputs": [
    {
     "data": {
      "image/png": "[encoded data removed]",
      "text/plain": [
       "<Figure size 800x600 with 1 Axes>"
      ]
     },
     "metadata": {},
     "output_type": "display_data"
    }
   ],
   "source": [
    "plt.figure(figsize=(8, 6))\n",
    "plt.barh(eff_df['Feature'], eff_df['Effect_Size'], color='skyblue')\n",
    "plt.xlabel(\"Effect Size (η² for categorical, |β_std| for numeric)\")\n",
    "plt.title(\"Ranked Effect Sizes for Features with p < 0.05\")\n",
    "plt.gca().invert_yaxis()\n",
    "plt.grid(axis='x', linestyle='--', alpha=0.6)\n",
    "plt.tight_layout()\n",
    "plt.show()"
   ]
  },
  {
   "cell_type": "code",
   "execution_count": 64,
   "id": "0c302ff8-4891-4478-b2fd-a8af62bdf1a2",
   "metadata": {},
   "outputs": [],
   "source": [
    "def compute_metrics(GT, R):\n",
    "    # True Positives, False Positives, False Negatives\n",
    "    TP = GT & R\n",
    "    FP = R - GT\n",
    "    FN = GT - R\n",
    "    \n",
    "    # Counts\n",
    "    tp, fp, fn = len(TP), len(FP), len(FN)\n",
    "    \n",
    "    # Metrics\n",
    "    precision = tp / (tp + fp) if (tp + fp) > 0 else 0\n",
    "    recall = tp / len(GT) if len(GT) > 0 else 0\n",
    "    fdr = fp / (tp + fp) if (tp + fp) > 0 else 0\n",
    "    \n",
    "    return {\n",
    "        'TP': TP, 'FP': FP, 'FN': FN,\n",
    "        'Precision': precision,\n",
    "        'Recall': recall,\n",
    "        'FDR': fdr\n",
    "    }\n",
    "\n",
    "\n",
    "GT = {\"annual_income\", \"credit_score\",\"Employment_Status\",\"Loan_Categories\",\"Loan_Purpose\"}\n",
    "R  = {\"annual_income\",\n",
    "        \"credit_score\",\n",
    "        \"Employment_Status\",\n",
    "        \"Loan_Categories\",\n",
    "        \"Loan_Purpose\",\n",
    "     \"Age\",\n",
    "     \"Region\"}"
   ]
  },
  {
   "cell_type": "code",
   "execution_count": 66,
   "id": "c4505350-2b31-428c-881e-9b3c3fbf49fc",
   "metadata": {},
   "outputs": [],
   "source": [
    "metrics = compute_metrics(GT, R)"
   ]
  },
  {
   "cell_type": "code",
   "execution_count": 68,
   "id": "91508273-f0a0-4b5a-9b16-b3d798a2473a",
   "metadata": {},
   "outputs": [
    {
     "name": "stdout",
     "output_type": "stream",
     "text": [
      "True Positives (TP): {'credit_score', 'Loan_Purpose', 'Employment_Status', 'Loan_Categories', 'annual_income'}\n",
      "False Positives (FP): {'Region', 'Age'}\n",
      "False Negatives (FN): set()\n",
      "Precision: 0.714\n",
      "Recall:    1.000\n",
      "FDR:       0.286\n"
     ]
    }
   ],
   "source": [
    "print(\"True Positives (TP):\", metrics['TP'])\n",
    "print(\"False Positives (FP):\", metrics['FP'])\n",
    "print(\"False Negatives (FN):\", metrics['FN'])\n",
    "print(f\"Precision: {metrics['Precision']:.3f}\")\n",
    "print(f\"Recall:    {metrics['Recall']:.3f}\")\n",
    "print(f\"FDR:       {metrics['FDR']:.3f}\")"
   ]
  },
  {
   "cell_type": "code",
   "execution_count": null,
   "id": "e6defadb-1068-47f1-9bae-ff1d0823abfe",
   "metadata": {},
   "outputs": [],
   "source": []
  },
  {
   "cell_type": "code",
   "execution_count": 71,
   "id": "9ea707a9-8335-4e85-b180-13a68d98aafc",
   "metadata": {},
   "outputs": [],
   "source": [
    "from semopy import Model\n",
    "import matplotlib.pyplot as plt\n",
    "from sklearn.preprocessing import StandardScaler"
   ]
  },
  {
   "cell_type": "code",
   "execution_count": 73,
   "id": "0e899de1-e034-4b64-88cc-e7cbbbd6cfe6",
   "metadata": {},
   "outputs": [],
   "source": [
    "categorical_cols = ['Loan_Purpose', 'Employment_Status', 'Loan_Categories', 'Region', 'Marital_Status']\n",
    "df_encoded = pd.get_dummies(merged_df, columns=categorical_cols, drop_first=False)\n",
    "df_encoded.columns = df_encoded.columns.str.replace(\"-\", \"_\").str.replace(\" \", \"_\")"
   ]
  },
  {
   "cell_type": "code",
   "execution_count": 75,
   "id": "3a93ed38-88b5-47c5-9d26-f5c9c9fdd805",
   "metadata": {},
   "outputs": [],
   "source": [
    "nums = ['Annual_Income','Credit_Score','Employment_Length','Age','Loan_Term']\n",
    "scaler = StandardScaler()\n",
    "df_encoded[nums] = scaler.fit_transform(df_encoded[nums])"
   ]
  },
  {
   "cell_type": "code",
   "execution_count": 77,
   "id": "f95c9c5c-24ea-42d6-ba09-ca088b751448",
   "metadata": {},
   "outputs": [],
   "source": [
    "model_desc = \"\"\"\n",
    "# Measurement model (latent constructs from categorical dummy variables)\n",
    "LoanPurpose      =~ Loan_Purpose_Car + Loan_Purpose_Home + Loan_Purpose_Personal\n",
    "EmploymentStatus =~ Employment_Status_Self_employed + Employment_Status_Unemployed + Employment_Status_Employed\n",
    "LoanCategories   =~ Loan_Categories_Large + Loan_Categories_Medium + Loan_Categories_Small\n",
    "RegionLatent     =~ Region_South + Region_East + Region_West + Region_North\n",
    "MaritalStatus    =~ Marital_Status_Divorced + Marital_Status_Married + Marital_Status_Single\n",
    "\n",
    "# Structural model: all features pointing to Approval_Probability\n",
    "pred_value ~ Annual_Income + Credit_Score + Employment_Length + Age + Loan_Term + LoanPurpose + EmploymentStatus + LoanCategories + RegionLatent + MaritalStatus\n",
    "\"\"\"\n"
   ]
  },
  {
   "cell_type": "code",
   "execution_count": 79,
   "id": "1a339141-2e6e-4493-bf6e-ba76a0a4a51e",
   "metadata": {},
   "outputs": [
    {
     "name": "stderr",
     "output_type": "stream",
     "text": [
      "WARNING:root:Sample covariance matrix is not PD. It may indicate that data is bad. Also, it arises often when polychoric/polyserial correlations are used. semopy now will run nearPD subroutines.\n"
     ]
    },
    {
     "data": {
      "text/plain": [
       "SolverResult(fun=18.733576659082782, success=True, n_it=55, x=array([-4.92265387e-01, -4.97843403e-01, -4.84116604e-01, -5.05824114e-01,\n",
       "       -4.89693335e-01, -5.00196663e-01, -3.23281691e-01, -3.21123074e-01,\n",
       "       -3.45483126e-01, -4.77965457e-01, -5.12085588e-01,  1.02036613e-01,\n",
       "        9.06739985e-02,  6.30434622e-03, -7.51471729e-03, -4.72531133e-03,\n",
       "       -6.54087605e-02,  1.90299611e-01, -1.37141848e-01,  6.27914472e-03,\n",
       "       -3.25924910e-03,  2.21362155e-01, -5.51136122e-03, -7.96734177e-03,\n",
       "        1.68387627e-01,  1.30680641e-12,  1.68237748e-01,  2.23450332e-01,\n",
       "        4.21064293e-03, -5.33632414e-03, -3.89974207e-03,  2.23638140e-01,\n",
       "       -5.28835969e-03,  4.18787928e-03, -4.90115921e-03, -1.09145523e-03,\n",
       "        1.29647362e-12,  1.66794705e-01,  1.66861042e-01,  1.30971045e-12,\n",
       "        1.66691891e-01,  1.66696157e-01,  2.24187426e-01, -3.50711862e-03,\n",
       "        1.33894194e-12,  1.65995414e-01,  1.66178886e-01,  1.90006048e-01,\n",
       "        1.64242034e-01,  1.69717551e-01,  1.11385397e-12,  1.63677132e-01,\n",
       "        7.47557401e-03]), message='Optimization terminated successfully', name_method='SLSQP', name_obj='MLW')"
      ]
     },
     "execution_count": 79,
     "metadata": {},
     "output_type": "execute_result"
    }
   ],
   "source": [
    "model = Model(model_desc)\n",
    "model.fit(df_encoded)"
   ]
  },
  {
   "cell_type": "code",
   "execution_count": 81,
   "id": "e0e5eb5c-6165-421d-893c-9ac939dc2cfc",
   "metadata": {},
   "outputs": [],
   "source": [
    "std_est = model.inspect(std_est=True)"
   ]
  },
  {
   "cell_type": "code",
   "execution_count": 83,
   "id": "89434512-47a8-4979-ba06-4a97a97ea56b",
   "metadata": {},
   "outputs": [],
   "source": [
    "lhs_col = \"lhs\" if \"lhs\" in std_est.columns else \"lval\"\n",
    "rhs_col = \"rhs\" if \"rhs\" in std_est.columns else \"rval\"\n",
    "p_col = \"pval\" if \"pval\" in std_est.columns else \"p-value\"\n",
    "\n",
    "effect_col = \"std_est\" if \"std_est\" in std_est.columns else \"Est. Std\" \n",
    "\n",
    "# Filter: Only regression paths into the output variable\n",
    "mask = (std_est[\"op\"] == \"~\") & (std_est[lhs_col] == \"pred_value\")\n",
    "results = std_est.loc[mask, [rhs_col, effect_col, p_col]].rename(\n",
    "    columns={rhs_col: \"Feature\", effect_col: \"EffectSize\", p_col: \"p_value\"}\n",
    ")\n",
    "\n",
    "# Rank by absolute effect size\n",
    "results[\"abs_effect\"] = results[\"EffectSize\"].abs()\n",
    "results = results.sort_values(\"abs_effect\", ascending=False)"
   ]
  },
  {
   "cell_type": "code",
   "execution_count": 87,
   "id": "c1df9d68-7bcd-49fd-9873-a08fd273f94b",
   "metadata": {},
   "outputs": [],
   "source": [
    "# results = pd.DataFrame(data)\n",
    "results[\"abs_effect\"] = results[\"EffectSize\"].abs()\n",
    "\n",
    "# Filter features with p-value < 0.05\n",
    "significant = results[results[\"p_value\"] < 0.05]\n",
    "\n",
    "# Sort by effect size for a clean visual\n",
    "significant = significant.sort_values(\"abs_effect\",ascending = True)"
   ]
  },
  {
   "cell_type": "code",
   "execution_count": 89,
   "id": "22339fdd-f711-47a8-9a9f-cfd9be9d78b5",
   "metadata": {},
   "outputs": [
    {
     "data": {
      "text/html": [
       "<div>\n",
       "<style scoped>\n",
       "    .dataframe tbody tr th:only-of-type {\n",
       "        vertical-align: middle;\n",
       "    }\n",
       "\n",
       "    .dataframe tbody tr th {\n",
       "        vertical-align: top;\n",
       "    }\n",
       "\n",
       "    .dataframe thead th {\n",
       "        text-align: right;\n",
       "    }\n",
       "</style>\n",
       "<table border=\"1\" class=\"dataframe\">\n",
       "  <thead>\n",
       "    <tr style=\"text-align: right;\">\n",
       "      <th></th>\n",
       "      <th>Feature</th>\n",
       "      <th>EffectSize</th>\n",
       "      <th>p_value</th>\n",
       "      <th>abs_effect</th>\n",
       "    </tr>\n",
       "  </thead>\n",
       "  <tbody>\n",
       "    <tr>\n",
       "      <th>20</th>\n",
       "      <td>Loan_Term</td>\n",
       "      <td>-0.023770</td>\n",
       "      <td>0.00279</td>\n",
       "      <td>0.023770</td>\n",
       "    </tr>\n",
       "    <tr>\n",
       "      <th>18</th>\n",
       "      <td>Employment_Length</td>\n",
       "      <td>0.031713</td>\n",
       "      <td>0.000066</td>\n",
       "      <td>0.031713</td>\n",
       "    </tr>\n",
       "    <tr>\n",
       "      <th>19</th>\n",
       "      <td>Age</td>\n",
       "      <td>-0.037802</td>\n",
       "      <td>0.000002</td>\n",
       "      <td>0.037802</td>\n",
       "    </tr>\n",
       "    <tr>\n",
       "      <th>21</th>\n",
       "      <td>LoanPurpose</td>\n",
       "      <td>-0.155599</td>\n",
       "      <td>0.0</td>\n",
       "      <td>0.155599</td>\n",
       "    </tr>\n",
       "    <tr>\n",
       "      <th>23</th>\n",
       "      <td>LoanCategories</td>\n",
       "      <td>-0.326106</td>\n",
       "      <td>0.0</td>\n",
       "      <td>0.326106</td>\n",
       "    </tr>\n",
       "    <tr>\n",
       "      <th>22</th>\n",
       "      <td>EmploymentStatus</td>\n",
       "      <td>0.450389</td>\n",
       "      <td>0.0</td>\n",
       "      <td>0.450389</td>\n",
       "    </tr>\n",
       "    <tr>\n",
       "      <th>17</th>\n",
       "      <td>Credit_Score</td>\n",
       "      <td>0.456122</td>\n",
       "      <td>0.0</td>\n",
       "      <td>0.456122</td>\n",
       "    </tr>\n",
       "    <tr>\n",
       "      <th>16</th>\n",
       "      <td>Annual_Income</td>\n",
       "      <td>0.513280</td>\n",
       "      <td>0.0</td>\n",
       "      <td>0.513280</td>\n",
       "    </tr>\n",
       "  </tbody>\n",
       "</table>\n",
       "</div>"
      ],
      "text/plain": [
       "              Feature  EffectSize   p_value  abs_effect\n",
       "20          Loan_Term   -0.023770   0.00279    0.023770\n",
       "18  Employment_Length    0.031713  0.000066    0.031713\n",
       "19                Age   -0.037802  0.000002    0.037802\n",
       "21        LoanPurpose   -0.155599       0.0    0.155599\n",
       "23     LoanCategories   -0.326106       0.0    0.326106\n",
       "22   EmploymentStatus    0.450389       0.0    0.450389\n",
       "17       Credit_Score    0.456122       0.0    0.456122\n",
       "16      Annual_Income    0.513280       0.0    0.513280"
      ]
     },
     "execution_count": 89,
     "metadata": {},
     "output_type": "execute_result"
    }
   ],
   "source": [
    "significant"
   ]
  },
  {
   "cell_type": "code",
   "execution_count": 91,
   "id": "162af7a9-cb09-4920-8a9e-a7d42efad3d3",
   "metadata": {},
   "outputs": [
    {
     "data": {
      "image/png": "[encoded data removed]",
      "text/plain": [
       "<Figure size 1000x600 with 1 Axes>"
      ]
     },
     "metadata": {},
     "output_type": "display_data"
    }
   ],
   "source": [
    "plt.figure(figsize=(10, 6))\n",
    "plt.barh(significant[\"Feature\"], significant[\"abs_effect\"])\n",
    "plt.xlabel(\"Standardized Effect Size (Beta)\")\n",
    "plt.title(\"Significant Feature Effects (p < 0.05)\")\n",
    "plt.grid(True, linestyle=\"--\", alpha=0.7)\n",
    "plt.tight_layout()\n",
    "plt.show()"
   ]
  },
  {
   "cell_type": "code",
   "execution_count": 99,
   "id": "4c6b1d51-66a4-4ae1-930c-3755ec84fff9",
   "metadata": {},
   "outputs": [],
   "source": [
    "def compute_metrics(GT, R):\n",
    "    # True Positives, False Positives, False Negatives\n",
    "    TP = GT & R\n",
    "    FP = R - GT\n",
    "    FN = GT - R\n",
    "    \n",
    "    # Counts\n",
    "    tp, fp, fn = len(TP), len(FP), len(FN)\n",
    "    \n",
    "    # Metrics\n",
    "    precision = tp / (tp + fp) if (tp + fp) > 0 else 0\n",
    "    recall = tp / len(GT) if len(GT) > 0 else 0\n",
    "    fdr = fp / (tp + fp) if (tp + fp) > 0 else 0\n",
    "    \n",
    "    return {\n",
    "        'TP': TP, 'FP': FP, 'FN': FN,\n",
    "        'Precision': precision,\n",
    "        'Recall': recall,\n",
    "        'FDR': fdr\n",
    "    }\n",
    "\n",
    "\n",
    "GT = {\"annual_income\", \"credit_score\",\"Employment_Status\",\"Loan_Categories\",\"Loan_Purpose\"}\n",
    "R  = {\"annual_income\",\n",
    "        \"credit_score\",\n",
    "      \"Employment_Status\",\n",
    "        \"Loan_Categories\",\n",
    "      \"Age\",\n",
    "        \"Employment_Length\",\n",
    "        \"Loan_Term\"}"
   ]
  },
  {
   "cell_type": "code",
   "execution_count": 101,
   "id": "563fd931-38c3-40a8-8953-18da324e8f4f",
   "metadata": {},
   "outputs": [],
   "source": [
    "metrics = compute_metrics(GT, R)"
   ]
  },
  {
   "cell_type": "code",
   "execution_count": 103,
   "id": "61231504-4b0a-45cf-8ba4-1393b913f48e",
   "metadata": {},
   "outputs": [
    {
     "name": "stdout",
     "output_type": "stream",
     "text": [
      "True Positives (TP): {'credit_score', 'Loan_Categories', 'annual_income', 'Employment_Status'}\n",
      "False Positives (FP): {'Age', 'Employment_Length', 'Loan_Term'}\n",
      "False Negatives (FN): {'Loan_Purpose'}\n",
      "Precision: 0.571\n",
      "Recall:    0.800\n",
      "FDR:       0.429\n"
     ]
    }
   ],
   "source": [
    "print(\"True Positives (TP):\", metrics['TP'])\n",
    "print(\"False Positives (FP):\", metrics['FP'])\n",
    "print(\"False Negatives (FN):\", metrics['FN'])\n",
    "print(f\"Precision: {metrics['Precision']:.3f}\")\n",
    "print(f\"Recall:    {metrics['Recall']:.3f}\")\n",
    "print(f\"FDR:       {metrics['FDR']:.3f}\")"
   ]
  },
  {
   "cell_type": "code",
   "execution_count": 76,
   "id": "868e207b-78c0-49be-8d76-d86068eb3de9",
   "metadata": {},
   "outputs": [],
   "source": [
    "import shap\n",
    "import numpy as np\n",
    "import psutil\n",
    "import os\n",
    "import torch.optim as optim\n",
    "import matplotlib.pyplot as plt"
   ]
  },
  {
   "cell_type": "code",
   "execution_count": 77,
   "id": "a0cc59be-e124-4ab9-8a86-17c84479cf8d",
   "metadata": {},
   "outputs": [],
   "source": [
    "X_train_all = np.hstack([train_num, train_cat.values])  # (14000, D)\n",
    "X_test_all  = np.hstack([test_num,  test_cat.values])   # (6000, D)\n",
    "\n"
   ]
  },
  {
   "cell_type": "code",
   "execution_count": 80,
   "id": "632e376a-d707-43c1-808d-bb396550b717",
   "metadata": {},
   "outputs": [],
   "source": [
    "feature_names = num_feats + train_cat.columns.tolist()  # length D\n"
   ]
  },
  {
   "cell_type": "code",
   "execution_count": 75,
   "id": "a19669c9-3da8-4a96-8dc1-57c2bbce4a14",
   "metadata": {},
   "outputs": [
    {
     "data": {
      "text/plain": [
       "['Annual_Income',\n",
       " 'Credit_Score',\n",
       " 'Employment_Length',\n",
       " 'Age',\n",
       " 'Loan_Term',\n",
       " 'Loan_Purpose_Car',\n",
       " 'Loan_Purpose_Home',\n",
       " 'Loan_Purpose_Personal',\n",
       " 'Employment_Status_Employed',\n",
       " 'Employment_Status_Self-employed',\n",
       " 'Employment_Status_Unemployed',\n",
       " 'Loan_Categories_Large',\n",
       " 'Loan_Categories_Medium',\n",
       " 'Loan_Categories_Small',\n",
       " 'Region_East',\n",
       " 'Region_North',\n",
       " 'Region_South',\n",
       " 'Region_West',\n",
       " 'Marital_Status_Divorced',\n",
       " 'Marital_Status_Married',\n",
       " 'Marital_Status_Single']"
      ]
     },
     "execution_count": 75,
     "metadata": {},
     "output_type": "execute_result"
    }
   ],
   "source": [
    "feature_names"
   ]
  },
  {
   "cell_type": "code",
   "execution_count": 82,
   "id": "94fa3b24-4389-4d3f-8b1d-bacc84125f9a",
   "metadata": {},
   "outputs": [
    {
     "data": {
      "text/plain": [
       "OneHotRNNReg(\n",
       "  (rnn): RNN(1, 32, batch_first=True)\n",
       "  (head): Linear(in_features=32, out_features=1, bias=True)\n",
       ")"
      ]
     },
     "execution_count": 82,
     "metadata": {},
     "output_type": "execute_result"
    }
   ],
   "source": [
    "\n",
    "device = torch.device(\"cuda\" if torch.cuda.is_available() else \"cpu\")\n",
    "model.to(device).eval()"
   ]
  },
  {
   "cell_type": "code",
   "execution_count": 84,
   "id": "1c4be400-a588-4eb8-82d2-2b6ecb4f01b0",
   "metadata": {},
   "outputs": [],
   "source": [
    "\n",
    "def predict_regression(x_np):\n",
    "    \"\"\"\n",
    "    x_np: np.array shape (batch, D)\n",
    "    returns np.array shape (batch,) of model outputs\n",
    "    \"\"\"\n",
    "    with torch.no_grad():\n",
    "        # convert to tensor and add sequence dim: [batch, seq_len=D, 1]\n",
    "        t = torch.from_numpy(x_np).float().unsqueeze(-1).to(device)\n",
    "        out = model(t).cpu().numpy().flatten()   # raw regression output\n",
    "    return out"
   ]
  },
  {
   "cell_type": "code",
   "execution_count": 86,
   "id": "2332fa55-498c-450a-a944-51f21aa96b63",
   "metadata": {},
   "outputs": [],
   "source": [
    "bg_size    = 200\n",
    "bg_indices = np.random.choice(len(X_train_all), size=bg_size, replace=False)\n",
    "background = X_train_all[bg_indices]  # (200, D)\n"
   ]
  },
  {
   "cell_type": "code",
   "execution_count": 88,
   "id": "6b9802b8-b44f-479f-b6de-0a2759c4e6ce",
   "metadata": {},
   "outputs": [
    {
     "name": "stderr",
     "output_type": "stream",
     "text": [
      "Using 200 background data samples could cause slower run times. Consider using shap.sample(data, K) or shap.kmeans(data, K) to summarize the background as K samples.\n"
     ]
    }
   ],
   "source": [
    "explainer = shap.KernelExplainer(predict_regression, background)\n"
   ]
  },
  {
   "cell_type": "code",
   "execution_count": 90,
   "id": "26ff43ab-a8f4-4adf-a65b-e3b0a59161d4",
   "metadata": {},
   "outputs": [
    {
     "name": "stdout",
     "output_type": "stream",
     "text": [
      "Batch 0-512: free RAM = 4.59 GB\n"
     ]
    },
    {
     "data": {
      "application/vnd.jupyter.widget-view+json": {
       "model_id": "242c3dab1d634c5c869141aadb0e9b7d",
       "version_major": 2,
       "version_minor": 0
      },
      "text/plain": [
       "  0%|          | 0/512 [00:00<?, ?it/s]"
      ]
     },
     "metadata": {},
     "output_type": "display_data"
    },
    {
     "name": "stdout",
     "output_type": "stream",
     "text": [
      "Batch 512-1024: free RAM = 4.53 GB\n"
     ]
    },
    {
     "data": {
      "application/vnd.jupyter.widget-view+json": {
       "model_id": "caa4701ac71941fe9ea5c3a76f596fb0",
       "version_major": 2,
       "version_minor": 0
      },
      "text/plain": [
       "  0%|          | 0/512 [00:00<?, ?it/s]"
      ]
     },
     "metadata": {},
     "output_type": "display_data"
    },
    {
     "name": "stdout",
     "output_type": "stream",
     "text": [
      "Batch 1024-1536: free RAM = 4.54 GB\n"
     ]
    },
    {
     "data": {
      "application/vnd.jupyter.widget-view+json": {
       "model_id": "d5f94a313834429dba910821e25b0277",
       "version_major": 2,
       "version_minor": 0
      },
      "text/plain": [
       "  0%|          | 0/512 [00:00<?, ?it/s]"
      ]
     },
     "metadata": {},
     "output_type": "display_data"
    },
    {
     "name": "stdout",
     "output_type": "stream",
     "text": [
      "Batch 1536-2048: free RAM = 4.61 GB\n"
     ]
    },
    {
     "data": {
      "application/vnd.jupyter.widget-view+json": {
       "model_id": "62c082f05534460087ab2fdedfb7dc0d",
       "version_major": 2,
       "version_minor": 0
      },
      "text/plain": [
       "  0%|          | 0/512 [00:00<?, ?it/s]"
      ]
     },
     "metadata": {},
     "output_type": "display_data"
    },
    {
     "name": "stdout",
     "output_type": "stream",
     "text": [
      "Batch 2048-2560: free RAM = 4.47 GB\n"
     ]
    },
    {
     "data": {
      "application/vnd.jupyter.widget-view+json": {
       "model_id": "0f189e02848348b5a7807a6941464179",
       "version_major": 2,
       "version_minor": 0
      },
      "text/plain": [
       "  0%|          | 0/512 [00:00<?, ?it/s]"
      ]
     },
     "metadata": {},
     "output_type": "display_data"
    },
    {
     "name": "stdout",
     "output_type": "stream",
     "text": [
      "Batch 2560-3000: free RAM = 4.40 GB\n"
     ]
    },
    {
     "data": {
      "application/vnd.jupyter.widget-view+json": {
       "model_id": "61f24c39805c4c28a6f900c2a6647dea",
       "version_major": 2,
       "version_minor": 0
      },
      "text/plain": [
       "  0%|          | 0/440 [00:00<?, ?it/s]"
      ]
     },
     "metadata": {},
     "output_type": "display_data"
    }
   ],
   "source": [
    "batch_size     = 512\n",
    "all_shap       = []\n",
    "\n",
    "for start in range(0, X_test_all.shape[0], batch_size):\n",
    "    end = min(start + batch_size, X_test_all.shape[0])\n",
    "    Xb = X_test_all[start:end]  # (batch, D)\n",
    "\n",
    "    # monitor memory\n",
    "    mem = psutil.virtual_memory()\n",
    "    print(f\"Batch {start}-{end}: free RAM = {mem.available/1e9:.2f} GB\")\n",
    "\n",
    "    # nsamples trades speed vs. accuracy\n",
    "    sv = explainer.shap_values(Xb, nsamples=100)  # (batch, D)\n",
    "    all_shap.append(sv)\n"
   ]
  },
  {
   "cell_type": "code",
   "execution_count": 92,
   "id": "997e2f3f-2771-431f-986d-80286f3a9c4d",
   "metadata": {},
   "outputs": [],
   "source": [
    "all_shap_values = np.vstack(all_shap)"
   ]
  },
  {
   "cell_type": "code",
   "execution_count": 94,
   "id": "5803a4ba-3109-4a5d-92de-40e679aad73a",
   "metadata": {},
   "outputs": [
    {
     "name": "stdout",
     "output_type": "stream",
     "text": [
      "Mean |SHAP value| per feature:\n",
      "Employment_Length                  0.001257\n",
      "Loan_Term                          0.002466\n",
      "Age                                0.003036\n",
      "Region_East                        0.003866\n",
      "Loan_Purpose_Home                  0.005887\n",
      "Region_West                        0.006305\n",
      "Region_South                       0.007001\n",
      "Region_North                       0.007141\n",
      "Loan_Categories_Medium             0.009942\n",
      "Loan_Purpose_Car                   0.014502\n",
      "Marital_Status_Married             0.014555\n",
      "Loan_Purpose_Personal              0.015589\n",
      "Marital_Status_Single              0.018174\n",
      "Marital_Status_Divorced            0.018409\n",
      "Employment_Status_Employed         0.019971\n",
      "Loan_Categories_Small              0.029530\n",
      "Loan_Categories_Large              0.048677\n",
      "Employment_Status_Unemployed       0.049914\n",
      "Employment_Status_Self-employed    0.063521\n",
      "Credit_Score                       0.068922\n",
      "Annual_Income                      0.098816\n",
      "dtype: float64\n"
     ]
    }
   ],
   "source": [
    "mean_abs = pd.Series(\n",
    "    np.abs(all_shap_values).mean(axis=0),\n",
    "    index=feature_names\n",
    ").sort_values()\n",
    "\n",
    "# Print the values\n",
    "print(\"Mean |SHAP value| per feature:\")\n",
    "print(mean_abs)\n"
   ]
  },
  {
   "cell_type": "code",
   "execution_count": 96,
   "id": "49a43eb1-cc90-4e20-a79d-8f2887a8374f",
   "metadata": {},
   "outputs": [
    {
     "data": {
      "image/png": "[encoded data removed]",
      "text/plain": [
       "<Figure size 800x500 with 1 Axes>"
      ]
     },
     "metadata": {},
     "output_type": "display_data"
    }
   ],
   "source": [
    "os.makedirs(\"shap\", exist_ok=True)\n",
    "plt.figure(figsize=(8,5))\n",
    "mean_abs.plot.barh()\n",
    "plt.xlabel(\"Mean |SHAP value|\")\n",
    "plt.title(\"Mean absolute SHAP — Mixed RNN regression inputs\")\n",
    "# plt.tight_layout()\n",
    "# plt.savefig(\"shap/MixedRNN_regression_shap_summary.jpg\", dpi=300)\n",
    "plt.show()"
   ]
  },
  {
   "cell_type": "code",
   "execution_count": 98,
   "id": "8637b47b-935e-44a9-a01f-f032cd18b337",
   "metadata": {},
   "outputs": [],
   "source": [
    "shap_feats = [\n",
    "    'Loan_Purpose_Car', 'Loan_Purpose_Home', 'Loan_Purpose_Personal',\n",
    "    'Employment_Status_Employed','Employment_Status_Self-employed',\n",
    "    'Employment_Status_Unemployed',\n",
    "    'Loan_Categories_Large','Loan_Categories_Medium','Loan_Categories_Small',\n",
    "    'Region_East','Region_North','Region_South','Region_West',\n",
    "    'Marital_Status_Divorced','Marital_Status_Married','Marital_Status_Single',\n",
    "    'Annual_Income','Credit_Score','Employment_Length','Age','Loan_Term'\n",
    "]\n",
    "\n",
    "# 2) The 10 original variables you want:\n",
    "orig_feats = [\n",
    "    'Annual_Income', 'Credit_Score', 'Employment_Length', 'Age', 'Loan_Term',\n",
    "    'Loan_Purpose', 'Employment_Status', 'Loan_Categories', 'Region', 'Marital_Status'\n",
    "]\n",
    "\n",
    "# 3) Suppose `all_shap_values` is your array of shape (n_samples, 21).\n",
    "#    First compute the mean absolute SHAP per encoded feature:\n",
    "mean_abs_enc = pd.Series(\n",
    "    np.abs(all_shap_values).mean(axis=0),\n",
    "    index=shap_feats\n",
    ")\n",
    "\n",
    "# 4) Build a map from each encoded feature → its original parent:\n",
    "mapping = {}\n",
    "for f in shap_feats:\n",
    "    if f in ['Annual_Income','Credit_Score','Employment_Length','Age','Loan_Term']:\n",
    "        mapping[f] = f\n",
    "    else:\n",
    "        # anything before the last underscore is the parent:\n",
    "        parent = f.rsplit('_',1)[0]\n",
    "        mapping[f] = parent\n",
    "\n",
    "# 5) Aggregate by summing all SHAP values for each parent:\n",
    "mean_abs_orig = mean_abs_enc.groupby(mapping).sum()\n",
    "\n",
    "# 6) Reindex to your desired order:\n",
    "mean_abs_orig = mean_abs_orig.reindex(orig_feats)\n",
    "mean_orig_sorted = mean_abs_orig.sort_values(ascending=False)\n"
   ]
  },
  {
   "cell_type": "code",
   "execution_count": 100,
   "id": "66f4b680-9a51-4bd5-ae78-56b49324e751",
   "metadata": {},
   "outputs": [
    {
     "data": {
      "text/plain": [
       "Region               0.172054\n",
       "Loan_Purpose         0.168995\n",
       "Loan_Categories      0.041446\n",
       "Marital_Status       0.040537\n",
       "Employment_Status    0.020003\n",
       "Employment_Length    0.018409\n",
       "Loan_Term            0.018174\n",
       "Age                  0.014555\n",
       "Annual_Income        0.007001\n",
       "Credit_Score         0.006305\n",
       "dtype: float64"
      ]
     },
     "execution_count": 100,
     "metadata": {},
     "output_type": "execute_result"
    }
   ],
   "source": [
    "mean_orig_sorted"
   ]
  },
  {
   "cell_type": "code",
   "execution_count": 102,
   "id": "5d8a7c3f-2957-4253-b3ed-f8aca30dad15",
   "metadata": {},
   "outputs": [
    {
     "data": {
      "image/png": "[encoded data removed]",
      "text/plain": [
       "<Figure size 600x400 with 1 Axes>"
      ]
     },
     "metadata": {},
     "output_type": "display_data"
    }
   ],
   "source": [
    "os.makedirs(\"shap\", exist_ok=True)\n",
    "plt.figure(figsize=(6,4))\n",
    "mean_orig_sorted.plot.barh()\n",
    "plt.xlabel(\"mean(|SHAP value|)\")\n",
    "plt.title(\"Mean absolute SHAP - Numerical and Categorical Features\")\n",
    "plt.gca().invert_yaxis()\n",
    "plt.tight_layout()\n",
    "out_path = os.path.join(\"shap\", \"RNN_numerical categorical_regression_test_shap_summary.jpg\")\n",
    "plt.savefig(out_path, format=\"jpg\", dpi=300)\n",
    "plt.show()"
   ]
  },
  {
   "cell_type": "code",
   "execution_count": 69,
   "id": "a1735531-be35-4a11-86bd-68b1e758e649",
   "metadata": {},
   "outputs": [],
   "source": [
    "def compute_metrics(GT, R):\n",
    "    # True Positives, False Positives, False Negatives\n",
    "    TP = GT & R\n",
    "    FP = R - GT\n",
    "    FN = GT - R\n",
    "    \n",
    "    # Counts\n",
    "    tp, fp, fn = len(TP), len(FP), len(FN)\n",
    "    \n",
    "    # Metrics\n",
    "    precision = tp / (tp + fp) if (tp + fp) > 0 else 0\n",
    "    recall = tp / len(GT) if len(GT) > 0 else 0\n",
    "    fdr = fp / (tp + fp) if (tp + fp) > 0 else 0\n",
    "    \n",
    "    return {\n",
    "        'TP': TP, 'FP': FP, 'FN': FN,\n",
    "        'Precision': precision,\n",
    "        'Recall': recall,\n",
    "        'FDR': fdr\n",
    "    }\n",
    "\n",
    "\n",
    "GT = {\"annual_income\", \"credit_score\",\"Employment_Status\",\"Loan_Categories\",\"Loan_Purpose\"}\n",
    "R  = {\"Loan_Purpose\",\n",
    "        \"Region\",\n",
    "        \"credit_score\",\n",
    "        \"Loan_Categories\",\n",
    "        \"Marital_Status\",\n",
    "        \"Age\",\n",
    "        \"Employment_Length\",\n",
    "     \"Loan_Term\",\n",
    "    \"Employment_Status\",\n",
    "    \"Credit_Score\",\n",
    "     \"Annual_Income\"}"
   ]
  },
  {
   "cell_type": "code",
   "execution_count": 71,
   "id": "219e6d4e-22b7-4b16-9d1b-346ef74d55cb",
   "metadata": {},
   "outputs": [],
   "source": [
    "metrics = compute_metrics(GT, R)"
   ]
  },
  {
   "cell_type": "code",
   "execution_count": 73,
   "id": "e322f92e-8064-4212-9e47-e0ac9cf3b266",
   "metadata": {},
   "outputs": [
    {
     "name": "stdout",
     "output_type": "stream",
     "text": [
      "True Positives (TP): {'Loan_Purpose', 'credit_score', 'Loan_Categories', 'Employment_Status'}\n",
      "False Positives (FP): {'Age', 'Marital_Status', 'Annual_Income', 'Credit_Score', 'Region', 'Loan_Term', 'Employment_Length'}\n",
      "False Negatives (FN): {'annual_income'}\n",
      "Precision: 0.364\n",
      "Recall:    0.800\n",
      "FDR:       0.636\n"
     ]
    }
   ],
   "source": [
    "print(\"True Positives (TP):\", metrics['TP'])\n",
    "print(\"False Positives (FP):\", metrics['FP'])\n",
    "print(\"False Negatives (FN):\", metrics['FN'])\n",
    "print(f\"Precision: {metrics['Precision']:.3f}\")\n",
    "print(f\"Recall:    {metrics['Recall']:.3f}\")\n",
    "print(f\"FDR:       {metrics['FDR']:.3f}\")"
   ]
  },
  {
   "cell_type": "code",
   "execution_count": null,
   "id": "85c5ffc2-9da3-4e10-83e2-96147b369da1",
   "metadata": {},
   "outputs": [],
   "source": []
  }
 ],
 "metadata": {
  "kernelspec": {
   "display_name": "Python [conda env:base] *",
   "language": "python",
   "name": "conda-base-py"
  },
  "language_info": {
   "codemirror_mode": {
    "name": "ipython",
    "version": 3
   },
   "file_extension": ".py",
   "mimetype": "text/x-python",
   "name": "python",
   "nbconvert_exporter": "python",
   "pygments_lexer": "ipython3",
   "version": "3.12.7"
  }
 },
 "nbformat": 4,
 "nbformat_minor": 5
}

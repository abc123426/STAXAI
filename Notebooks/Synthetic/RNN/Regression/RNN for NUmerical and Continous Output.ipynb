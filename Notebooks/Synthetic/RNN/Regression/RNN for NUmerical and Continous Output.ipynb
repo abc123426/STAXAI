{
 "cells": [
  {
   "cell_type": "code",
   "execution_count": 2,
   "id": "529fd21f-3023-41c1-b9b3-ed573cf1ae4d",
   "metadata": {},
   "outputs": [],
   "source": [
    "import pandas as pd\n",
    "import numpy as np\n",
    "from sklearn.model_selection import train_test_split\n",
    "from sklearn.preprocessing import StandardScaler\n",
    "from sklearn.metrics import mean_squared_error, r2_score\n",
    "import matplotlib.pyplot as plt\n",
    "import torch\n",
    "import torch.nn as nn\n",
    "from torch.utils.data import Dataset, DataLoader"
   ]
  },
  {
   "cell_type": "code",
   "execution_count": 3,
   "id": "93603a3c-8396-462c-bb4e-209eabc4d64a",
   "metadata": {},
   "outputs": [],
   "source": [
    "data = pd.read_csv('Numerical Features Continous Outcome.csv')"
   ]
  },
  {
   "cell_type": "code",
   "execution_count": 6,
   "id": "a4f040fd-f50e-41c4-9a1a-b27a7c358abc",
   "metadata": {},
   "outputs": [],
   "source": [
    "data = data.drop(data.columns[[0]], axis=1)"
   ]
  },
  {
   "cell_type": "code",
   "execution_count": 8,
   "id": "3670f2e2-eabb-42fa-a601-aa73c163b07a",
   "metadata": {},
   "outputs": [],
   "source": [
    "X = data[[\"Annual_Income\",\"Credit_Score\",\"Debt_to_Income\",\"Employment_Length\",\"Age\"]].values\n",
    "y = data[\"Loan_Approval\"].values.reshape(-1,1)"
   ]
  },
  {
   "cell_type": "code",
   "execution_count": 10,
   "id": "6b98780e-0b22-44bd-b074-d113a6975eef",
   "metadata": {},
   "outputs": [],
   "source": [
    "X_train, X_test, y_train, y_test = train_test_split(X, y, test_size=0.3, random_state=42)\n"
   ]
  },
  {
   "cell_type": "code",
   "execution_count": 12,
   "id": "106b8475-2008-4d2b-a9d8-c800233dfbae",
   "metadata": {},
   "outputs": [],
   "source": [
    "X_test_original = X_test.copy()"
   ]
  },
  {
   "cell_type": "code",
   "execution_count": 14,
   "id": "276a2015-c06f-485c-8639-f2fc57dbb9e8",
   "metadata": {},
   "outputs": [],
   "source": [
    "scaler = StandardScaler().fit(X_train)\n",
    "X_train = scaler.transform(X_train)\n",
    "X_test  = scaler.transform(X_test)"
   ]
  },
  {
   "cell_type": "code",
   "execution_count": 16,
   "id": "634da398-18ab-4345-a061-8351acf87861",
   "metadata": {},
   "outputs": [],
   "source": [
    "class TabularSeqDataset(Dataset):\n",
    "    def __init__(self, X, y):\n",
    "        self.X = torch.from_numpy(X).float()\n",
    "        self.y = torch.from_numpy(y).float()\n",
    "    def __len__(self):\n",
    "        return len(self.X)\n",
    "    def __getitem__(self, i):\n",
    "        # return sequence [seq_len=5, 1] and target\n",
    "        return self.X[i].unsqueeze(-1), self.y[i]\n",
    "\n",
    "train_ds = TabularSeqDataset(X_train, y_train)\n",
    "test_ds  = TabularSeqDataset(X_test,  y_test)\n",
    "train_dl = DataLoader(train_ds, batch_size=4, shuffle=True)\n",
    "test_dl  = DataLoader(test_ds,  batch_size=4)\n",
    "\n"
   ]
  },
  {
   "cell_type": "code",
   "execution_count": 18,
   "id": "c709776e-67c4-4ea5-af0c-b0943821cf01",
   "metadata": {},
   "outputs": [],
   "source": [
    "class TabularRNN(nn.Module):\n",
    "    def __init__(self, input_size=1, hidden_size=32, num_layers=1, bidirectional=False):\n",
    "        super().__init__()\n",
    "        self.rnn = nn.RNN(input_size=input_size,\n",
    "                          hidden_size=hidden_size,\n",
    "                          num_layers=num_layers,\n",
    "                          batch_first=True,\n",
    "                          bidirectional=bidirectional)\n",
    "        direction_factor = 2 if bidirectional else 1\n",
    "        self.head = nn.Linear(hidden_size * direction_factor, 1)\n",
    "\n",
    "    def forward(self, x):\n",
    "        # x: [B, seq_len=5, 1]\n",
    "        out, h_n = self.rnn(x)  \n",
    "        # h_n: [num_layers * num_directions, B, hidden_size]\n",
    "        # take last layer’s hidden state:\n",
    "        last_hidden = h_n[-1]         # [B, hidden_size] (or [B, hidden_size*2] if bidir)\n",
    "        return self.head(last_hidden) # → [B,1]\n"
   ]
  },
  {
   "cell_type": "code",
   "execution_count": 20,
   "id": "b2c030f2-ab19-4f21-aad1-8d5ab4ed12c3",
   "metadata": {},
   "outputs": [
    {
     "name": "stdout",
     "output_type": "stream",
     "text": [
      "Epoch 10  train MSE=0.00003306  val MSE=0.00001191\n",
      "Epoch 20  train MSE=0.00003069  val MSE=0.00000876\n"
     ]
    }
   ],
   "source": [
    "device = torch.device(\"cuda\" if torch.cuda.is_available() else \"cpu\")\n",
    "model = TabularRNN().to(device)\n",
    "opt   = torch.optim.Adam(model.parameters(), lr=1e-3)\n",
    "loss_fn = nn.MSELoss()\n",
    "\n",
    "for epoch in range(1, 21):\n",
    "    model.train()\n",
    "    total_loss = 0.0\n",
    "    for xb, yb in train_dl:\n",
    "        xb, yb = xb.to(device), yb.to(device)\n",
    "        pred = model(xb)\n",
    "        loss = loss_fn(pred, yb)\n",
    "        opt.zero_grad()\n",
    "        loss.backward()\n",
    "        opt.step()\n",
    "        total_loss += loss.item() * xb.size(0)\n",
    "    total_loss /= len(train_dl.dataset)\n",
    "\n",
    "    model.eval()\n",
    "    with torch.no_grad():\n",
    "        val_loss = 0.0\n",
    "        for xb, yb in test_dl:\n",
    "            xb, yb = xb.to(device), yb.to(device)\n",
    "            val_loss += loss_fn(model(xb), yb).item() * xb.size(0)\n",
    "        val_loss /= len(test_dl.dataset)\n",
    "\n",
    "    if epoch % 10 == 0:\n",
    "        print(f\"Epoch {epoch:02d}  train MSE={total_loss:.8f}  val MSE={val_loss:.8f}\")\n",
    "\n",
    "\n",
    "\n",
    "\n"
   ]
  },
  {
   "cell_type": "code",
   "execution_count": 22,
   "id": "b95c6202-c28e-4ed8-a771-2b9a8d67e38c",
   "metadata": {},
   "outputs": [
    {
     "name": "stdout",
     "output_type": "stream",
     "text": [
      "\n",
      "Test MSE: 0.0000\n",
      "Test R² : 0.9998\n"
     ]
    }
   ],
   "source": [
    "model.eval()\n",
    "with torch.no_grad():\n",
    "    X_test_t = torch.from_numpy(X_test).float().unsqueeze(-1).to(device)\n",
    "    preds = model(X_test_t).cpu().numpy().flatten()\n",
    "\n",
    "mse = mean_squared_error(y_test.flatten(), preds)\n",
    "r2  = r2_score         (y_test.flatten(), preds)\n",
    "\n",
    "print(f\"\\nTest MSE: {mse:.4f}\")\n",
    "print(f\"Test R² : {r2:.4f}\")"
   ]
  },
  {
   "cell_type": "code",
   "execution_count": 24,
   "id": "7ab61e8c-5c1b-4796-b535-1a28ba55634a",
   "metadata": {},
   "outputs": [],
   "source": [
    "predictions_df = pd.DataFrame(preds.flatten(), columns=['Loan_Approval_Pred'])"
   ]
  },
  {
   "cell_type": "code",
   "execution_count": 29,
   "id": "0a5e60dd-8924-4865-9043-9c619f67fbaf",
   "metadata": {},
   "outputs": [],
   "source": [
    "cols = [\"Annual_Income\",\"Credit_Score\",\"Debt_to_Income\",\"Employment_Length\",\"Age\"]\n",
    "\n",
    "# 2. Convert the NumPy arrays into DataFrames\n",
    "X_test_df      = pd.DataFrame(X_test_original, columns=cols)"
   ]
  },
  {
   "cell_type": "code",
   "execution_count": 31,
   "id": "9dcf8672-cee3-41c2-982e-d7f41df2a2f2",
   "metadata": {},
   "outputs": [
    {
     "data": {
      "text/html": [
       "<div>\n",
       "<style scoped>\n",
       "    .dataframe tbody tr th:only-of-type {\n",
       "        vertical-align: middle;\n",
       "    }\n",
       "\n",
       "    .dataframe tbody tr th {\n",
       "        vertical-align: top;\n",
       "    }\n",
       "\n",
       "    .dataframe thead th {\n",
       "        text-align: right;\n",
       "    }\n",
       "</style>\n",
       "<table border=\"1\" class=\"dataframe\">\n",
       "  <thead>\n",
       "    <tr style=\"text-align: right;\">\n",
       "      <th></th>\n",
       "      <th>Annual_Income</th>\n",
       "      <th>Credit_Score</th>\n",
       "      <th>Debt_to_Income</th>\n",
       "      <th>Employment_Length</th>\n",
       "      <th>Age</th>\n",
       "    </tr>\n",
       "  </thead>\n",
       "  <tbody>\n",
       "    <tr>\n",
       "      <th>0</th>\n",
       "      <td>62060.319343</td>\n",
       "      <td>353.290689</td>\n",
       "      <td>0.968948</td>\n",
       "      <td>11.586947</td>\n",
       "      <td>45.0</td>\n",
       "    </tr>\n",
       "    <tr>\n",
       "      <th>1</th>\n",
       "      <td>103673.003188</td>\n",
       "      <td>734.158798</td>\n",
       "      <td>0.195106</td>\n",
       "      <td>15.575252</td>\n",
       "      <td>25.0</td>\n",
       "    </tr>\n",
       "    <tr>\n",
       "      <th>2</th>\n",
       "      <td>89270.104448</td>\n",
       "      <td>414.860361</td>\n",
       "      <td>0.989355</td>\n",
       "      <td>11.385730</td>\n",
       "      <td>23.0</td>\n",
       "    </tr>\n",
       "    <tr>\n",
       "      <th>3</th>\n",
       "      <td>33381.071927</td>\n",
       "      <td>743.248106</td>\n",
       "      <td>0.128248</td>\n",
       "      <td>6.649651</td>\n",
       "      <td>34.0</td>\n",
       "    </tr>\n",
       "    <tr>\n",
       "      <th>4</th>\n",
       "      <td>84826.122827</td>\n",
       "      <td>818.050800</td>\n",
       "      <td>0.354751</td>\n",
       "      <td>16.913153</td>\n",
       "      <td>75.0</td>\n",
       "    </tr>\n",
       "    <tr>\n",
       "      <th>...</th>\n",
       "      <td>...</td>\n",
       "      <td>...</td>\n",
       "      <td>...</td>\n",
       "      <td>...</td>\n",
       "      <td>...</td>\n",
       "    </tr>\n",
       "    <tr>\n",
       "      <th>2995</th>\n",
       "      <td>94322.002703</td>\n",
       "      <td>414.425660</td>\n",
       "      <td>0.881754</td>\n",
       "      <td>13.826463</td>\n",
       "      <td>73.0</td>\n",
       "    </tr>\n",
       "    <tr>\n",
       "      <th>2996</th>\n",
       "      <td>123833.627025</td>\n",
       "      <td>465.124911</td>\n",
       "      <td>0.243383</td>\n",
       "      <td>10.934319</td>\n",
       "      <td>59.0</td>\n",
       "    </tr>\n",
       "    <tr>\n",
       "      <th>2997</th>\n",
       "      <td>89246.633938</td>\n",
       "      <td>835.664566</td>\n",
       "      <td>0.630416</td>\n",
       "      <td>8.551179</td>\n",
       "      <td>19.0</td>\n",
       "    </tr>\n",
       "    <tr>\n",
       "      <th>2998</th>\n",
       "      <td>66442.858834</td>\n",
       "      <td>580.706474</td>\n",
       "      <td>0.405352</td>\n",
       "      <td>15.213339</td>\n",
       "      <td>30.0</td>\n",
       "    </tr>\n",
       "    <tr>\n",
       "      <th>2999</th>\n",
       "      <td>70108.262219</td>\n",
       "      <td>578.302934</td>\n",
       "      <td>0.421781</td>\n",
       "      <td>13.612290</td>\n",
       "      <td>42.0</td>\n",
       "    </tr>\n",
       "  </tbody>\n",
       "</table>\n",
       "<p>3000 rows × 5 columns</p>\n",
       "</div>"
      ],
      "text/plain": [
       "      Annual_Income  Credit_Score  Debt_to_Income  Employment_Length   Age\n",
       "0      62060.319343    353.290689        0.968948          11.586947  45.0\n",
       "1     103673.003188    734.158798        0.195106          15.575252  25.0\n",
       "2      89270.104448    414.860361        0.989355          11.385730  23.0\n",
       "3      33381.071927    743.248106        0.128248           6.649651  34.0\n",
       "4      84826.122827    818.050800        0.354751          16.913153  75.0\n",
       "...             ...           ...             ...                ...   ...\n",
       "2995   94322.002703    414.425660        0.881754          13.826463  73.0\n",
       "2996  123833.627025    465.124911        0.243383          10.934319  59.0\n",
       "2997   89246.633938    835.664566        0.630416           8.551179  19.0\n",
       "2998   66442.858834    580.706474        0.405352          15.213339  30.0\n",
       "2999   70108.262219    578.302934        0.421781          13.612290  42.0\n",
       "\n",
       "[3000 rows x 5 columns]"
      ]
     },
     "execution_count": 31,
     "metadata": {},
     "output_type": "execute_result"
    }
   ],
   "source": []
  },
  {
   "cell_type": "code",
   "execution_count": 33,
   "id": "5ba9904a-2f81-4500-9dd9-f780a404e934",
   "metadata": {},
   "outputs": [],
   "source": [
    "merged_df = pd.concat([\n",
    "    X_test_df.reset_index(drop=True),\n",
    "    predictions_df.reset_index(drop=True)\n",
    "], axis=1)"
   ]
  },
  {
   "cell_type": "code",
   "execution_count": 37,
   "id": "32d560fd-1820-44af-bf88-00c504dc7417",
   "metadata": {},
   "outputs": [
    {
     "data": {
      "text/html": [
       "<div>\n",
       "<style scoped>\n",
       "    .dataframe tbody tr th:only-of-type {\n",
       "        vertical-align: middle;\n",
       "    }\n",
       "\n",
       "    .dataframe tbody tr th {\n",
       "        vertical-align: top;\n",
       "    }\n",
       "\n",
       "    .dataframe thead th {\n",
       "        text-align: right;\n",
       "    }\n",
       "</style>\n",
       "<table border=\"1\" class=\"dataframe\">\n",
       "  <thead>\n",
       "    <tr style=\"text-align: right;\">\n",
       "      <th></th>\n",
       "      <th>Annual_Income</th>\n",
       "      <th>Credit_Score</th>\n",
       "      <th>Debt_to_Income</th>\n",
       "      <th>Employment_Length</th>\n",
       "      <th>Age</th>\n",
       "      <th>Loan_Approval_Pred</th>\n",
       "    </tr>\n",
       "  </thead>\n",
       "  <tbody>\n",
       "    <tr>\n",
       "      <th>0</th>\n",
       "      <td>62060.319343</td>\n",
       "      <td>353.290689</td>\n",
       "      <td>0.968948</td>\n",
       "      <td>11.586947</td>\n",
       "      <td>45.0</td>\n",
       "      <td>0.421100</td>\n",
       "    </tr>\n",
       "    <tr>\n",
       "      <th>1</th>\n",
       "      <td>103673.003188</td>\n",
       "      <td>734.158798</td>\n",
       "      <td>0.195106</td>\n",
       "      <td>15.575252</td>\n",
       "      <td>25.0</td>\n",
       "      <td>0.655092</td>\n",
       "    </tr>\n",
       "    <tr>\n",
       "      <th>2</th>\n",
       "      <td>89270.104448</td>\n",
       "      <td>414.860361</td>\n",
       "      <td>0.989355</td>\n",
       "      <td>11.385730</td>\n",
       "      <td>23.0</td>\n",
       "      <td>0.640915</td>\n",
       "    </tr>\n",
       "    <tr>\n",
       "      <th>3</th>\n",
       "      <td>33381.071927</td>\n",
       "      <td>743.248106</td>\n",
       "      <td>0.128248</td>\n",
       "      <td>6.649651</td>\n",
       "      <td>34.0</td>\n",
       "      <td>0.260911</td>\n",
       "    </tr>\n",
       "    <tr>\n",
       "      <th>4</th>\n",
       "      <td>84826.122827</td>\n",
       "      <td>818.050800</td>\n",
       "      <td>0.354751</td>\n",
       "      <td>16.913153</td>\n",
       "      <td>75.0</td>\n",
       "      <td>0.698159</td>\n",
       "    </tr>\n",
       "    <tr>\n",
       "      <th>...</th>\n",
       "      <td>...</td>\n",
       "      <td>...</td>\n",
       "      <td>...</td>\n",
       "      <td>...</td>\n",
       "      <td>...</td>\n",
       "      <td>...</td>\n",
       "    </tr>\n",
       "    <tr>\n",
       "      <th>2995</th>\n",
       "      <td>94322.002703</td>\n",
       "      <td>414.425660</td>\n",
       "      <td>0.881754</td>\n",
       "      <td>13.826463</td>\n",
       "      <td>73.0</td>\n",
       "      <td>0.620974</td>\n",
       "    </tr>\n",
       "    <tr>\n",
       "      <th>2996</th>\n",
       "      <td>123833.627025</td>\n",
       "      <td>465.124911</td>\n",
       "      <td>0.243383</td>\n",
       "      <td>10.934319</td>\n",
       "      <td>59.0</td>\n",
       "      <td>0.537442</td>\n",
       "    </tr>\n",
       "    <tr>\n",
       "      <th>2997</th>\n",
       "      <td>89246.633938</td>\n",
       "      <td>835.664566</td>\n",
       "      <td>0.630416</td>\n",
       "      <td>8.551179</td>\n",
       "      <td>19.0</td>\n",
       "      <td>0.821762</td>\n",
       "    </tr>\n",
       "    <tr>\n",
       "      <th>2998</th>\n",
       "      <td>66442.858834</td>\n",
       "      <td>580.706474</td>\n",
       "      <td>0.405352</td>\n",
       "      <td>15.213339</td>\n",
       "      <td>30.0</td>\n",
       "      <td>0.398316</td>\n",
       "    </tr>\n",
       "    <tr>\n",
       "      <th>2999</th>\n",
       "      <td>70108.262219</td>\n",
       "      <td>578.302934</td>\n",
       "      <td>0.421781</td>\n",
       "      <td>13.612290</td>\n",
       "      <td>42.0</td>\n",
       "      <td>0.423985</td>\n",
       "    </tr>\n",
       "  </tbody>\n",
       "</table>\n",
       "<p>3000 rows × 6 columns</p>\n",
       "</div>"
      ],
      "text/plain": [
       "      Annual_Income  Credit_Score  Debt_to_Income  Employment_Length   Age  \\\n",
       "0      62060.319343    353.290689        0.968948          11.586947  45.0   \n",
       "1     103673.003188    734.158798        0.195106          15.575252  25.0   \n",
       "2      89270.104448    414.860361        0.989355          11.385730  23.0   \n",
       "3      33381.071927    743.248106        0.128248           6.649651  34.0   \n",
       "4      84826.122827    818.050800        0.354751          16.913153  75.0   \n",
       "...             ...           ...             ...                ...   ...   \n",
       "2995   94322.002703    414.425660        0.881754          13.826463  73.0   \n",
       "2996  123833.627025    465.124911        0.243383          10.934319  59.0   \n",
       "2997   89246.633938    835.664566        0.630416           8.551179  19.0   \n",
       "2998   66442.858834    580.706474        0.405352          15.213339  30.0   \n",
       "2999   70108.262219    578.302934        0.421781          13.612290  42.0   \n",
       "\n",
       "      Loan_Approval_Pred  \n",
       "0               0.421100  \n",
       "1               0.655092  \n",
       "2               0.640915  \n",
       "3               0.260911  \n",
       "4               0.698159  \n",
       "...                  ...  \n",
       "2995            0.620974  \n",
       "2996            0.537442  \n",
       "2997            0.821762  \n",
       "2998            0.398316  \n",
       "2999            0.423985  \n",
       "\n",
       "[3000 rows x 6 columns]"
      ]
     },
     "execution_count": 37,
     "metadata": {},
     "output_type": "execute_result"
    }
   ],
   "source": [
    "merged_df"
   ]
  },
  {
   "cell_type": "code",
   "execution_count": 35,
   "id": "b094f496-9674-42ca-bb31-af10a4abe54d",
   "metadata": {},
   "outputs": [],
   "source": [
    "# merged_df.to_csv('Statistical Dataset for Numerical Features and Continous Outcome for RNN.csv', index=False)"
   ]
  },
  {
   "cell_type": "code",
   "execution_count": 49,
   "id": "94dc8bf9-7de7-4084-8905-35d9fecf5d94",
   "metadata": {},
   "outputs": [
    {
     "name": "stdout",
     "output_type": "stream",
     "text": [
      "                            OLS Regression Results                            \n",
      "==============================================================================\n",
      "Dep. Variable:     Loan_Approval_Pred   R-squared:                       0.990\n",
      "Model:                            OLS   Adj. R-squared:                  0.990\n",
      "Method:                 Least Squares   F-statistic:                 5.722e+04\n",
      "Date:                Thu, 01 May 2025   Prob (F-statistic):               0.00\n",
      "Time:                        17:18:25   Log-Likelihood:                 7224.6\n",
      "No. Observations:                3000   AIC:                        -1.444e+04\n",
      "Df Residuals:                    2994   BIC:                        -1.440e+04\n",
      "Df Model:                           5                                         \n",
      "Covariance Type:            nonrobust                                         \n",
      "=====================================================================================\n",
      "                        coef    std err          t      P>|t|      [0.025      0.975]\n",
      "-------------------------------------------------------------------------------------\n",
      "const                 0.5028      0.000   1263.567      0.000       0.502       0.504\n",
      "Annual_Income         0.1301      0.000    326.788      0.000       0.129       0.131\n",
      "Credit_Score          0.1270      0.000    319.104      0.000       0.126       0.128\n",
      "Debt_to_Income        0.1127      0.000    283.100      0.000       0.112       0.113\n",
      "Employment_Length     0.0001      0.000      0.319      0.750      -0.001       0.001\n",
      "Age                   0.0004      0.000      1.117      0.264      -0.000       0.001\n",
      "==============================================================================\n",
      "Omnibus:                      363.745   Durbin-Watson:                   1.979\n",
      "Prob(Omnibus):                  0.000   Jarque-Bera (JB):             3753.312\n",
      "Skew:                           0.082   Prob(JB):                         0.00\n",
      "Kurtosis:                       8.477   Cond. No.                         1.04\n",
      "==============================================================================\n",
      "\n",
      "Notes:\n",
      "[1] Standard Errors assume that the covariance matrix of the errors is correctly specified.\n",
      "\n",
      "OLS Regression Summary on Standardized Data:\n",
      "                            OLS Regression Results                            \n",
      "==============================================================================\n",
      "Dep. Variable:                      y   R-squared:                       0.990\n",
      "Model:                            OLS   Adj. R-squared:                  0.990\n",
      "Method:                 Least Squares   F-statistic:                 5.722e+04\n",
      "Date:                Thu, 01 May 2025   Prob (F-statistic):               0.00\n",
      "Time:                        17:18:25   Log-Likelihood:                 2598.4\n",
      "No. Observations:                3000   AIC:                            -5185.\n",
      "Df Residuals:                    2994   BIC:                            -5149.\n",
      "Df Model:                           5                                         \n",
      "Covariance Type:            nonrobust                                         \n",
      "=====================================================================================\n",
      "                        coef    std err          t      P>|t|      [0.025      0.975]\n",
      "-------------------------------------------------------------------------------------\n",
      "const                7.4e-09      0.002   3.98e-06      1.000      -0.004       0.004\n",
      "Annual_Income         0.6080      0.002    326.788      0.000       0.604       0.612\n",
      "Credit_Score          0.5937      0.002    319.104      0.000       0.590       0.597\n",
      "Debt_to_Income        0.5268      0.002    283.100      0.000       0.523       0.530\n",
      "Employment_Length     0.0006      0.002      0.319      0.750      -0.003       0.004\n",
      "Age                   0.0021      0.002      1.117      0.264      -0.002       0.006\n",
      "==============================================================================\n",
      "Omnibus:                      363.745   Durbin-Watson:                   1.979\n",
      "Prob(Omnibus):                  0.000   Jarque-Bera (JB):             3753.311\n",
      "Skew:                           0.082   Prob(JB):                         0.00\n",
      "Kurtosis:                       8.477   Cond. No.                         1.04\n",
      "==============================================================================\n",
      "\n",
      "Notes:\n",
      "[1] Standard Errors assume that the covariance matrix of the errors is correctly specified.\n",
      "\n",
      "Beta Weights (Standardized Coefficients):\n",
      "Annual_Income        0.607956\n",
      "Credit_Score         0.593701\n",
      "Debt_to_Income       0.526828\n",
      "Employment_Length    0.000594\n",
      "Age                  0.002078\n",
      "dtype: float64\n"
     ]
    }
   ],
   "source": [
    "import statsmodels.api as sm\n",
    "from scipy import stats\n",
    "\n",
    "features = ['Annual_Income', 'Credit_Score', 'Debt_to_Income', 'Employment_Length', 'Age']\n",
    "DV = 'Loan_Approval_Pred'\n",
    "\n",
    "scaler = StandardScaler()\n",
    "X_std = scaler.fit_transform(merged_df[features])\n",
    "# Convert back to DataFrame for easier manipulation.\n",
    "X_std_df = pd.DataFrame(X_std, columns=features)\n",
    "\n",
    "# Define the target\n",
    "y = merged_df[DV]\n",
    "\n",
    "# # Add an intercept (constant) to the standardized features.\n",
    "X_std_const = sm.add_constant(X_std_df)\n",
    "\n",
    "# # ----------------------------\n",
    "# # 3. Fit a Multiple Linear Regression Model\n",
    "# # ----------------------------\n",
    "model_std = sm.OLS(y, X_std_const)\n",
    "results_std = model_std.fit()\n",
    "print(results_std.summary())\n",
    "\n",
    "\n",
    "\n",
    "scaler_y = StandardScaler()\n",
    "y_std = scaler_y.fit_transform(y.values.reshape(-1, 1)).flatten()\n",
    "\n",
    "# Add an intercept term to the standardized independent variables\n",
    "X_std_const = sm.add_constant(X_std_df)\n",
    "\n",
    "# ----------------------------\n",
    "# 3. Fit the OLS Regression Model on Standardized Data\n",
    "# ----------------------------\n",
    "model_std = sm.OLS(y_std, X_std_const)\n",
    "results_std = model_std.fit()\n",
    "print(\"\\nOLS Regression Summary on Standardized Data:\")\n",
    "print(results_std.summary())\n",
    "\n",
    "\n",
    "\n",
    "# Extract Beta Weights (standardized coefficients) excluding the intercept.\n",
    "beta_weights = results_std.params.drop('const')\n",
    "print(\"\\nBeta Weights (Standardized Coefficients):\")\n",
    "print(beta_weights)\n"
   ]
  },
  {
   "cell_type": "code",
   "execution_count": 59,
   "id": "14274ecb-aa89-4b4a-bc9d-502cfe40f14d",
   "metadata": {},
   "outputs": [
    {
     "name": "stdout",
     "output_type": "stream",
     "text": [
      "Significant features (p < 0.05), ranked by |β|:\n",
      "\n",
      "          Feature      Beta  p_value  abs_beta\n",
      "0   Annual_Income  0.607956      0.0  0.607956\n",
      "1    Credit_Score  0.593701      0.0  0.593701\n",
      "2  Debt_to_Income  0.526828      0.0  0.526828\n"
     ]
    },
    {
     "data": {
      "image/png": "[encoded data removed]",
      "text/plain": [
       "<Figure size 700x400 with 1 Axes>"
      ]
     },
     "metadata": {},
     "output_type": "display_data"
    }
   ],
   "source": [
    "p_vals = results_std.pvalues.drop('const')\n",
    "betas  = results_std.params   .drop('const')\n",
    "\n",
    "# 2. Build a DataFrame\n",
    "significant = pd.DataFrame({\n",
    "    'Feature':  betas.index,\n",
    "    'Beta':     betas.values,\n",
    "    'p_value':  p_vals.values\n",
    "})\n",
    "\n",
    "# 3. Filter to p < .05\n",
    "significant = significant[significant['p_value'] < 0.05].copy()\n",
    "\n",
    "# 4. Compute absolute β and sort by it descending\n",
    "significant['abs_beta'] = significant['Beta'].abs()\n",
    "significant = significant.sort_values('abs_beta', ascending=False).reset_index(drop=True)\n",
    "\n",
    "# 5. Display\n",
    "print(\"Significant features (p < 0.05), ranked by |β|:\\n\")\n",
    "print(significant[['Feature','Beta','p_value','abs_beta']])\n",
    "\n",
    "# 6. Plot\n",
    "plt.figure(figsize=(7,4))\n",
    "plt.barh(significant['Feature'], significant['abs_beta'], color='skyblue')\n",
    "plt.xlabel(\"Absolute standardized β\")\n",
    "plt.title(\"Ranked Effect Sizes for Significant Features\")\n",
    "plt.gca().invert_yaxis()  # highest on top\n",
    "plt.grid(axis='x', linestyle='--', alpha=0.6)\n",
    "plt.tight_layout()\n",
    "plt.show()"
   ]
  },
  {
   "cell_type": "code",
   "execution_count": null,
   "id": "68a705c1-95c1-4fb3-8ed8-27ec5dcba389",
   "metadata": {},
   "outputs": [],
   "source": []
  },
  {
   "cell_type": "code",
   "execution_count": 53,
   "id": "b0798c03-cb9b-4041-965b-89be2086357a",
   "metadata": {},
   "outputs": [],
   "source": [
    "# beta_weights_sorted = beta_weights.sort_values(ascending=True)\n",
    "\n",
    "# # Plot the sorted beta weights\n",
    "# plt.figure(figsize=(8, 6))\n",
    "# plt.barh(beta_weights_sorted.index, beta_weights_sorted.values, color='skyblue')\n",
    "# plt.xlabel(\"Beta Weight (Standardized Coefficient)\")\n",
    "# plt.title(\"Beta Weights for Each Feature (Sorted in Ascending Order)\")\n",
    "# plt.grid(True, axis='x', linestyle='--', alpha=0.6)\n",
    "# plt.show()"
   ]
  },
  {
   "cell_type": "code",
   "execution_count": 55,
   "id": "3627b653-40ba-446b-bd3b-e823fdbb8076",
   "metadata": {},
   "outputs": [
    {
     "name": "stdout",
     "output_type": "stream",
     "text": [
      "  Method  Precision  Recall  FDR  Top-1 Match\n",
      "Stat-XAI        1.0     1.0  0.0            1\n"
     ]
    }
   ],
   "source": [
    "def compute_feature_recovery_metrics(gt, flagged, ranking):\n",
    "    \"\"\"\n",
    "    Compute TP, FP, FN, Precision, Recall, FDR, and Top-1 Match for feature recovery.\n",
    "\n",
    "    Parameters\n",
    "    ----------\n",
    "    gt : set\n",
    "        Ground-truth causal features.\n",
    "    flagged : list or set\n",
    "        Features your method flagged as important (e.g., top‑k from ranking).\n",
    "    ranking : list\n",
    "        Ordered list of features by descending effect size.\n",
    "\n",
    "    Returns\n",
    "    -------\n",
    "    pd.DataFrame\n",
    "        Single-row DataFrame with the metrics.\n",
    "    \"\"\"\n",
    "    tp = set(gt) & set(flagged)\n",
    "    fp = set(flagged) - set(gt)\n",
    "    fn = set(gt) - set(flagged)\n",
    "\n",
    "    precision = len(tp) / (len(tp) + len(fp)) if (len(tp) + len(fp)) else 0.0\n",
    "    recall    = len(tp) / len(gt)        if len(gt)              else 0.0\n",
    "    fdr       = len(fp) / (len(tp) + len(fp)) if (len(tp) + len(fp)) else 0.0\n",
    "    top1      = 1 if ranking and ranking[0] in gt else 0\n",
    "\n",
    "    metrics = {\n",
    "        \"TP\":           \", \".join(sorted(tp)),\n",
    "        \"FP\":           \", \".join(sorted(fp)),\n",
    "        \"FN\":           \", \".join(sorted(fn)),\n",
    "        \"Precision\":     precision,\n",
    "        \"Recall\":        recall,\n",
    "        \"FDR\":           fdr,\n",
    "        \"Top-1 Match\":   top1\n",
    "    }\n",
    "    return pd.DataFrame([{\n",
    "        \"Precision\": precision,\n",
    "        \"Recall\": recall,\n",
    "        \"FDR\": fdr,\n",
    "        \"Top-1 Match\": top1\n",
    "    }])\n",
    "\n",
    "\n",
    "\n",
    "if __name__ == \"__main__\":\n",
    "    # Example:\n",
    "    GT = {\"annual_income\", \"credit_score\", \"debt_to_income\"}\n",
    "    ranking = [\n",
    "        \"annual_income\",\n",
    "        \"credit_score\",\n",
    "        \"debt_to_income\",\n",
    "    ]\n",
    "    flagged = ranking[:3]  # e.g. top‑3 features\n",
    "\n",
    "    df_metrics = compute_feature_recovery_metrics(GT, flagged, ranking)\n",
    "    df_metrics.insert(0, \"Method\", \"Stat-XAI\")\n",
    "    df_metrics = df_metrics[[\"Method\", \"Precision\", \"Recall\", \"FDR\", \"Top-1 Match\"]]\n",
    "    print(df_metrics.to_string(index=False))"
   ]
  },
  {
   "cell_type": "code",
   "execution_count": null,
   "id": "3294a053-9c75-4788-b598-8431c37c5fd1",
   "metadata": {},
   "outputs": [],
   "source": []
  },
  {
   "cell_type": "code",
   "execution_count": 24,
   "id": "534857a4-b493-4677-9ef8-44f5b8ffd05c",
   "metadata": {},
   "outputs": [],
   "source": [
    "import shap\n",
    "import numpy as np\n",
    "import psutil\n",
    "import os\n",
    "import torch.optim as optim\n",
    "import matplotlib.pyplot as plt\n"
   ]
  },
  {
   "cell_type": "code",
   "execution_count": 26,
   "id": "16f73bd4-a111-4409-ab8f-59f9e9a41f87",
   "metadata": {},
   "outputs": [],
   "source": [
    "def predict_regression(x_np):\n",
    "    \"\"\"\n",
    "    x_np: np.array shape (batch, 5), dtype float\n",
    "    returns: np.array shape (batch,) of raw model outputs\n",
    "    \"\"\"\n",
    "    with torch.no_grad():\n",
    "        t = torch.from_numpy(x_np).float().unsqueeze(-1).to(device)  # → (batch,5,1)\n",
    "        out = model(t).cpu().numpy().flatten()                      # raw logits/regression output\n",
    "    return out\n"
   ]
  },
  {
   "cell_type": "code",
   "execution_count": 28,
   "id": "479cbfdd-f22f-4ee9-a0a5-a623c568bed2",
   "metadata": {},
   "outputs": [],
   "source": [
    "bg_size = 200\n",
    "bg_idx  = np.random.choice(len(X_train), size=bg_size, replace=False)\n",
    "background = X_train[bg_idx]  "
   ]
  },
  {
   "cell_type": "code",
   "execution_count": 30,
   "id": "ce72042a-602b-4f35-8281-0df260123857",
   "metadata": {},
   "outputs": [
    {
     "name": "stderr",
     "output_type": "stream",
     "text": [
      "Using 200 background data samples could cause slower run times. Consider using shap.sample(data, K) or shap.kmeans(data, K) to summarize the background as K samples.\n"
     ]
    }
   ],
   "source": [
    "explainer = shap.KernelExplainer(predict_regression, background)"
   ]
  },
  {
   "cell_type": "code",
   "execution_count": 32,
   "id": "a5025141-316e-4cf5-a817-ba940be63226",
   "metadata": {},
   "outputs": [
    {
     "name": "stdout",
     "output_type": "stream",
     "text": [
      "Batch 0-512: free RAM = 4.56 GB\n"
     ]
    },
    {
     "data": {
      "application/vnd.jupyter.widget-view+json": {
       "model_id": "70686bf6af794a92890d8c72584ad22f",
       "version_major": 2,
       "version_minor": 0
      },
      "text/plain": [
       "  0%|          | 0/512 [00:00<?, ?it/s]"
      ]
     },
     "metadata": {},
     "output_type": "display_data"
    },
    {
     "name": "stdout",
     "output_type": "stream",
     "text": [
      "Batch 512-1024: free RAM = 4.75 GB\n"
     ]
    },
    {
     "data": {
      "application/vnd.jupyter.widget-view+json": {
       "model_id": "7bd2c6a1bdb14c5cbcfcbf77d7a3e6b5",
       "version_major": 2,
       "version_minor": 0
      },
      "text/plain": [
       "  0%|          | 0/512 [00:00<?, ?it/s]"
      ]
     },
     "metadata": {},
     "output_type": "display_data"
    },
    {
     "name": "stdout",
     "output_type": "stream",
     "text": [
      "Batch 1024-1536: free RAM = 4.73 GB\n"
     ]
    },
    {
     "data": {
      "application/vnd.jupyter.widget-view+json": {
       "model_id": "efd54dc1cddb4ed786ffd5618db06d31",
       "version_major": 2,
       "version_minor": 0
      },
      "text/plain": [
       "  0%|          | 0/512 [00:00<?, ?it/s]"
      ]
     },
     "metadata": {},
     "output_type": "display_data"
    },
    {
     "name": "stdout",
     "output_type": "stream",
     "text": [
      "Batch 1536-2048: free RAM = 4.76 GB\n"
     ]
    },
    {
     "data": {
      "application/vnd.jupyter.widget-view+json": {
       "model_id": "0b54e16d65924ed0ab38d511b8ce4382",
       "version_major": 2,
       "version_minor": 0
      },
      "text/plain": [
       "  0%|          | 0/512 [00:00<?, ?it/s]"
      ]
     },
     "metadata": {},
     "output_type": "display_data"
    },
    {
     "name": "stdout",
     "output_type": "stream",
     "text": [
      "Batch 2048-2560: free RAM = 4.72 GB\n"
     ]
    },
    {
     "data": {
      "application/vnd.jupyter.widget-view+json": {
       "model_id": "3fd9b18f2bc84ca39d5cdae8f1c7f568",
       "version_major": 2,
       "version_minor": 0
      },
      "text/plain": [
       "  0%|          | 0/512 [00:00<?, ?it/s]"
      ]
     },
     "metadata": {},
     "output_type": "display_data"
    },
    {
     "name": "stdout",
     "output_type": "stream",
     "text": [
      "Batch 2560-3000: free RAM = 4.77 GB\n"
     ]
    },
    {
     "data": {
      "application/vnd.jupyter.widget-view+json": {
       "model_id": "9e401164c678433097837734241b5536",
       "version_major": 2,
       "version_minor": 0
      },
      "text/plain": [
       "  0%|          | 0/440 [00:00<?, ?it/s]"
      ]
     },
     "metadata": {},
     "output_type": "display_data"
    }
   ],
   "source": [
    "batch_size = 512\n",
    "all_shap   = []\n",
    "\n",
    "for start in range(0, X_test.shape[0], batch_size):\n",
    "    end = min(start + batch_size, X_test.shape[0])\n",
    "    Xb  = X_test[start:end]  # (batch,5)\n",
    "\n",
    "    mem = psutil.virtual_memory()\n",
    "    print(f\"Batch {start}-{end}: free RAM = {mem.available/1e9:.2f} GB\")\n",
    "\n",
    "    # nsamples trades speed vs. accuracy\n",
    "    sv = explainer.shap_values(Xb, nsamples=100)  # shape = (batch,5)\n",
    "    all_shap.append(sv)\n"
   ]
  },
  {
   "cell_type": "code",
   "execution_count": 34,
   "id": "19e9aa12-625f-4fa2-a7f9-96ce823fd622",
   "metadata": {},
   "outputs": [],
   "source": [
    "all_shap_values = np.vstack(all_shap)"
   ]
  },
  {
   "cell_type": "code",
   "execution_count": 40,
   "id": "9f15dceb-6e03-48ec-8496-1b28bb25301c",
   "metadata": {},
   "outputs": [],
   "source": [
    "num_feats = [\"Annual_Income\",\"Credit_Score\",\"Debt_to_Income\",\"Employment_Length\",\"Age\"]"
   ]
  },
  {
   "cell_type": "code",
   "execution_count": 42,
   "id": "ee0545b3-0495-4cff-8b15-7cb16005ef7c",
   "metadata": {},
   "outputs": [],
   "source": [
    "mean_abs = pd.Series(\n",
    "    np.abs(all_shap_values).mean(axis=0),\n",
    "    index=num_feats\n",
    ").sort_values()\n"
   ]
  },
  {
   "cell_type": "code",
   "execution_count": 44,
   "id": "d9572d64-338c-4c1d-a048-c3744e4f69b5",
   "metadata": {},
   "outputs": [
    {
     "name": "stdout",
     "output_type": "stream",
     "text": [
      "Mean |SHAP| per feature (regression):\n",
      "Age                  0.000629\n",
      "Employment_Length    0.000718\n",
      "Debt_to_Income       0.098275\n",
      "Credit_Score         0.109155\n",
      "Annual_Income        0.112870\n",
      "dtype: float64\n"
     ]
    }
   ],
   "source": [
    "print(\"Mean |SHAP| per feature (regression):\")\n",
    "print(mean_abs)"
   ]
  },
  {
   "cell_type": "code",
   "execution_count": 48,
   "id": "9222a80a-fe7d-453f-a164-92a2a5964cc9",
   "metadata": {},
   "outputs": [
    {
     "data": {
      "image/png": "[encoded data removed]",
      "text/plain": [
       "<Figure size 600x400 with 1 Axes>"
      ]
     },
     "metadata": {},
     "output_type": "display_data"
    }
   ],
   "source": [
    "os.makedirs(\"shap\", exist_ok=True)\n",
    "plt.figure(figsize=(6,4))\n",
    "mean_abs.plot.barh()\n",
    "plt.xlabel(\"Mean |SHAP value|\")\n",
    "plt.title(\"Mean absolute SHAP — Numeric RNN (regression)\")\n",
    "plt.tight_layout()\n",
    "plt.savefig(\"shap/RNN_numeric_regression_shap.jpg\", dpi=300)\n",
    "plt.show()"
   ]
  },
  {
   "cell_type": "code",
   "execution_count": 50,
   "id": "c029249d-2027-40ea-bea3-9c1973fee592",
   "metadata": {},
   "outputs": [
    {
     "name": "stdout",
     "output_type": "stream",
     "text": [
      "  Method  Precision  Recall  FDR  Top-1 Match\n",
      "Stat-XAI        0.6     1.0  0.4            1\n"
     ]
    }
   ],
   "source": [
    "def compute_feature_recovery_metrics(gt, ranking):\n",
    "    \"\"\"\n",
    "    Compute TP, FP, FN, Precision, Recall, FDR, and Top-1 Match for feature recovery.\n",
    "\n",
    "    Parameters\n",
    "    ----------\n",
    "    gt : set\n",
    "        Ground-truth causal features.\n",
    "    flagged : list or set\n",
    "        Features your method flagged as important (e.g., top‑k from ranking).\n",
    "    ranking : list\n",
    "        Ordered list of features by descending effect size.\n",
    "\n",
    "    Returns\n",
    "    -------\n",
    "    pd.DataFrame\n",
    "        Single-row DataFrame with the metrics.\n",
    "    \"\"\"\n",
    "    tp = set(gt) & set(ranking)\n",
    "    fp = set(ranking) - set(gt)\n",
    "    fn = set(gt) - set(ranking)\n",
    "\n",
    "    precision = len(tp) / (len(tp) + len(fp)) if (len(tp) + len(fp)) else 0.0\n",
    "    recall    = len(tp) / len(gt)        if len(gt)              else 0.0\n",
    "    fdr       = len(fp) / (len(tp) + len(fp)) if (len(tp) + len(fp)) else 0.0\n",
    "    top1      = 1 if ranking and ranking[0] in gt else 0\n",
    "\n",
    "    metrics = {\n",
    "        \"TP\":           \", \".join(sorted(tp)),\n",
    "        \"FP\":           \", \".join(sorted(fp)),\n",
    "        \"FN\":           \", \".join(sorted(fn)),\n",
    "        \"Precision\":     precision,\n",
    "        \"Recall\":        recall,\n",
    "        \"FDR\":           fdr,\n",
    "        \"Top-1 Match\":   top1\n",
    "    }\n",
    "    return pd.DataFrame([{\n",
    "        \"Precision\": precision,\n",
    "        \"Recall\": recall,\n",
    "        \"FDR\": fdr,\n",
    "        \"Top-1 Match\": top1\n",
    "    }])\n",
    "\n",
    "\n",
    "\n",
    "if __name__ == \"__main__\":\n",
    "    # Example:\n",
    "    GT = {\"annual_income\", \"credit_score\", \"debt_to_income\"}\n",
    "    ranking = [\n",
    "        \"annual_income\",\n",
    "        \"credit_score\",\n",
    "        \"debt_to_income\",\n",
    "        \"Employement_Length\",\n",
    "        \"Age\"\n",
    "    ]\n",
    "    # flagged = ranking[:3]  # e.g. top‑3 features\n",
    "\n",
    "    df_metrics = compute_feature_recovery_metrics(GT, ranking)\n",
    "    df_metrics.insert(0, \"Method\", \"Stat-XAI\")\n",
    "    df_metrics = df_metrics[[\"Method\", \"Precision\", \"Recall\", \"FDR\", \"Top-1 Match\"]]\n",
    "    print(df_metrics.to_string(index=False))"
   ]
  },
  {
   "cell_type": "code",
   "execution_count": null,
   "id": "08517116-522f-4c16-ac43-436ff1f4b254",
   "metadata": {},
   "outputs": [],
   "source": []
  }
 ],
 "metadata": {
  "kernelspec": {
   "display_name": "Python [conda env:base] *",
   "language": "python",
   "name": "conda-base-py"
  },
  "language_info": {
   "codemirror_mode": {
    "name": "ipython",
    "version": 3
   },
   "file_extension": ".py",
   "mimetype": "text/x-python",
   "name": "python",
   "nbconvert_exporter": "python",
   "pygments_lexer": "ipython3",
   "version": "3.12.7"
  }
 },
 "nbformat": 4,
 "nbformat_minor": 5
}

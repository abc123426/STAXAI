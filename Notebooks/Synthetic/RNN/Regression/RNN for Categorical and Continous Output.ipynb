{
 "cells": [
  {
   "cell_type": "code",
   "execution_count": 109,
   "id": "41d313dd-e171-412c-94e1-b0f658b3ceea",
   "metadata": {},
   "outputs": [],
   "source": [
    "import pandas as pd\n",
    "import numpy as np\n",
    "from sklearn.model_selection import train_test_split\n",
    "from sklearn.preprocessing import StandardScaler\n",
    "from sklearn.metrics import mean_squared_error, r2_score\n",
    "import matplotlib.pyplot as plt\n",
    "import torch\n",
    "import torch.nn as nn\n",
    "from torch.utils.data import Dataset, DataLoader\n",
    "import pandas as pd\n",
    "from sklearn.model_selection import train_test_split\n",
    "from sklearn.metrics import mean_squared_error, r2_score"
   ]
  },
  {
   "cell_type": "code",
   "execution_count": 111,
   "id": "c5f3ec8a-a172-42bd-8684-60ed0b0e8814",
   "metadata": {},
   "outputs": [],
   "source": [
    "df = pd.read_csv(\"/Users/arsh/Downloads/Loan Approval Categorical Synthetic Dataset.csv\")"
   ]
  },
  {
   "cell_type": "code",
   "execution_count": 113,
   "id": "c048f604-c4ab-498e-959f-52193d10c0c0",
   "metadata": {},
   "outputs": [],
   "source": [
    "df = df.drop(df.columns[[0, -1]], axis=1)"
   ]
  },
  {
   "cell_type": "code",
   "execution_count": 115,
   "id": "dbaa568e-c5a4-4aa2-ad9d-fe93d22b7ff5",
   "metadata": {},
   "outputs": [],
   "source": [
    "# features = [\"Credit_History\", \"Income_Level\", \"Loan_Amount\", \"Zip_Code\", \"Education_Level\"]\n",
    "# target   = \"Approval_Prob\"  # now continuous\n",
    "\n",
    "X = df[[\"Credit_History\", \"Income_Level\", \"Loan_Amount\", \"Zip_Code\", \"Education_Level\"]].values\n",
    "y = df[\"Approval_Prob\"].values.reshape(-1,1)"
   ]
  },
  {
   "cell_type": "code",
   "execution_count": 117,
   "id": "efa8d8c4-2829-4792-9dc4-d39b5db05eb7",
   "metadata": {},
   "outputs": [],
   "source": [
    "train_df, test_df = train_test_split(df, test_size=0.3, random_state=42)\n",
    "\n",
    "# Keep a copy of unencoded test features for later\n",
    "test_df_unencoded = test_df.copy()"
   ]
  },
  {
   "cell_type": "code",
   "execution_count": null,
   "id": "dd80f28a-6814-4856-9ce2-bcd4da3de7d4",
   "metadata": {},
   "outputs": [],
   "source": []
  },
  {
   "cell_type": "code",
   "execution_count": null,
   "id": "a8782a56-1edf-424d-b7f1-0db06cb4144e",
   "metadata": {},
   "outputs": [],
   "source": []
  },
  {
   "cell_type": "code",
   "execution_count": 121,
   "id": "65d48943-1481-4c9f-981f-141e5bb9bbfb",
   "metadata": {},
   "outputs": [],
   "source": [
    "mappings = {\n",
    "    \"Credit_History\":   {\"Bad\":0, \"Fair\":1, \"Good\":2},\n",
    "    \"Income_Level\":     {\"Low\":0, \"Medium\":1, \"High\":2},\n",
    "    \"Loan_Amount\":      {\"Small\":2, \"Medium\":1, \"Large\":0},\n",
    "    \"Zip_Code\":         {\"Urban\":0, \"Suburban\":1, \"Rural\":2},\n",
    "    \"Education_Level\":  {\"High School\":0, \"Bachelor\":1, \"Master\":2}\n",
    "}\n",
    "features = list(mappings.keys())\n",
    "target   = \"Approval_Prob\""
   ]
  },
  {
   "cell_type": "code",
   "execution_count": 123,
   "id": "363332f7-7913-4c5b-a3bf-7a6ef82b5acb",
   "metadata": {},
   "outputs": [],
   "source": [
    "for col, mp in mappings.items():\n",
    "    train_df[col] = train_df[col].map(mp)\n",
    "    test_df[col]  = test_df[col].map(mp)"
   ]
  },
  {
   "cell_type": "code",
   "execution_count": 125,
   "id": "b3bb1d31-4882-45c2-84cd-548a0ae366cc",
   "metadata": {},
   "outputs": [],
   "source": [
    "class CatRegDataset(Dataset):\n",
    "    def __init__(self, X_cat, y_cont):\n",
    "        self.X = torch.LongTensor(X_cat)\n",
    "        self.y = torch.FloatTensor(y_cont.reshape(-1,1))\n",
    "    def __len__(self):\n",
    "        return len(self.X)\n",
    "    def __getitem__(self, idx):\n",
    "        return self.X[idx], self.y[idx]"
   ]
  },
  {
   "cell_type": "code",
   "execution_count": 127,
   "id": "0c88735f-ef61-4ee9-8211-66b11a9c2213",
   "metadata": {},
   "outputs": [],
   "source": [
    "X_train = train_df[features].values\n",
    "y_train = train_df[target].values\n",
    "X_test  = test_df[features].values\n",
    "y_test  = test_df[target].values\n"
   ]
  },
  {
   "cell_type": "code",
   "execution_count": 131,
   "id": "1f4b13c7-d063-4081-8e7a-9852d2878759",
   "metadata": {},
   "outputs": [
    {
     "data": {
      "text/plain": [
       "array([[1, 0, 2, 1, 1],\n",
       "       [2, 1, 0, 1, 1],\n",
       "       [1, 0, 2, 1, 0],\n",
       "       ...,\n",
       "       [1, 2, 1, 0, 0],\n",
       "       [1, 1, 1, 1, 2],\n",
       "       [1, 1, 1, 1, 2]])"
      ]
     },
     "execution_count": 131,
     "metadata": {},
     "output_type": "execute_result"
    }
   ],
   "source": [
    "X_test"
   ]
  },
  {
   "cell_type": "code",
   "execution_count": 129,
   "id": "2e3aefc8-9f93-491e-ad05-b8e8d3214ba7",
   "metadata": {},
   "outputs": [],
   "source": [
    "train_ds = CatRegDataset(X_train, y_train)\n",
    "test_ds  = CatRegDataset(X_test,  y_test)\n",
    "train_dl = DataLoader(train_ds, batch_size=4, shuffle=True)\n",
    "test_dl  = DataLoader(test_ds,  batch_size=4)\n"
   ]
  },
  {
   "cell_type": "code",
   "execution_count": 76,
   "id": "123c9b6e-eb9b-47f6-a935-b5b014fc7b6c",
   "metadata": {},
   "outputs": [],
   "source": [
    "class CatRNNReg(nn.Module):\n",
    "    def __init__(self, num_feats=5, n_categories=3, emb_dim=16, hidden_size=32):\n",
    "        super().__init__()\n",
    "        self.embed = nn.Embedding(n_categories, emb_dim)\n",
    "        self.rnn   = nn.RNN(emb_dim, hidden_size, batch_first=True)\n",
    "        self.head  = nn.Linear(hidden_size, 1)\n",
    "\n",
    "    def forward(self, x):\n",
    "        x_emb = self.embed(x)            # [B, num_feats, emb_dim]\n",
    "        out, h_n = self.rnn(x_emb)       # out: [B, num_feats, hidden]\n",
    "        last_h   = h_n[-1]               # [B, hidden]\n",
    "        return self.head(last_h)         # [B,1]\n"
   ]
  },
  {
   "cell_type": "code",
   "execution_count": 78,
   "id": "5d993922-d455-4a4b-a5ec-66ead051cf1c",
   "metadata": {},
   "outputs": [],
   "source": [
    "device = torch.device(\"cuda\" if torch.cuda.is_available() else \"cpu\")\n",
    "model = CatRNNReg().to(device)\n",
    "opt   = torch.optim.Adam(model.parameters(), lr=1e-3)\n",
    "loss_fn = nn.MSELoss()\n"
   ]
  },
  {
   "cell_type": "code",
   "execution_count": 80,
   "id": "11887ff8-6885-44c4-bed4-6e34494ff481",
   "metadata": {},
   "outputs": [
    {
     "name": "stdout",
     "output_type": "stream",
     "text": [
      "Epoch 10  Train MSE = 0.0199\n",
      "Epoch 20  Train MSE = 0.0196\n"
     ]
    }
   ],
   "source": [
    "for epoch in range(1, 21):\n",
    "    model.train()\n",
    "    total_loss = 0.0\n",
    "    for x_cat, y_cont in train_dl:\n",
    "        x_cat, y_cont = x_cat.to(device), y_cont.to(device)\n",
    "        pred = model(x_cat)\n",
    "        loss = loss_fn(pred, y_cont)\n",
    "        opt.zero_grad(); loss.backward(); opt.step()\n",
    "        total_loss += loss.item() * x_cat.size(0)\n",
    "    if epoch % 10 == 0:\n",
    "        print(f\"Epoch {epoch:02d}  Train MSE = {total_loss/len(train_dl.dataset):.4f}\")\n"
   ]
  },
  {
   "cell_type": "code",
   "execution_count": 82,
   "id": "a5e3d44b-fa5d-4edc-b5b4-a34fb6992689",
   "metadata": {},
   "outputs": [
    {
     "name": "stdout",
     "output_type": "stream",
     "text": [
      "\n",
      "Test MSE: 0.0205\n",
      "Test R² : 0.5367\n"
     ]
    }
   ],
   "source": [
    "model.eval()\n",
    "y_preds, y_trues = [], []\n",
    "with torch.no_grad():\n",
    "    for x_cat, y_cont in test_dl:\n",
    "        x_cat = x_cat.to(device)\n",
    "        preds = model(x_cat).cpu().numpy().flatten()\n",
    "        y_preds.extend(preds)\n",
    "        y_trues.extend(y_cont.numpy().flatten())\n",
    "\n",
    "mse = mean_squared_error(y_trues, y_preds)\n",
    "r2  = r2_score(y_trues, y_preds)\n",
    "print(f\"\\nTest MSE: {mse:.4f}\")\n",
    "print(f\"Test R² : {r2:.4f}\")"
   ]
  },
  {
   "cell_type": "code",
   "execution_count": 84,
   "id": "a8d2f93f-d46e-41d0-b42c-0f07fb1f110f",
   "metadata": {},
   "outputs": [],
   "source": [
    "preds_df = pd.DataFrame({\"pred_value\": y_preds})"
   ]
  },
  {
   "cell_type": "code",
   "execution_count": 86,
   "id": "53d41c65-53db-4e50-b132-4e479610e9b1",
   "metadata": {},
   "outputs": [],
   "source": [
    "test_df = test_df_unencoded.drop(test_df_unencoded.columns[[-1]], axis=1)"
   ]
  },
  {
   "cell_type": "code",
   "execution_count": 67,
   "id": "fdd96166-1b88-43ed-b495-2917b5bc72fc",
   "metadata": {},
   "outputs": [],
   "source": [
    "merged_df = pd.concat([\n",
    "    test_df.reset_index(drop=True),\n",
    "    preds_df.reset_index(drop=True)\n",
    "], axis=1)"
   ]
  },
  {
   "cell_type": "code",
   "execution_count": 69,
   "id": "116f7561-a8f6-4be8-820f-49244aaebb2f",
   "metadata": {},
   "outputs": [],
   "source": [
    "import statsmodels.api as sm\n",
    "from statsmodels.formula.api import ols\n",
    "from statsmodels.stats.anova import anova_lm\n",
    "import statsmodels.formula.api as smf"
   ]
  },
  {
   "cell_type": "code",
   "execution_count": 71,
   "id": "b2604423-6492-49a3-b528-6d1dd8edb9c0",
   "metadata": {},
   "outputs": [],
   "source": [
    "def one_way_anova_with_eta(df, feature, target=\"Prediction\"):\n",
    "    formula = f\"{target} ~ C({feature})\"\n",
    "    model = ols(formula, data=df).fit()\n",
    "    anova_table = anova_lm(model, typ=2)\n",
    "\n",
    "    sum_sq_factor = anova_table.loc[f\"C({feature})\", \"sum_sq\"]\n",
    "    sum_sq_total = anova_table[\"sum_sq\"].sum()\n",
    "    F_stat = anova_table.loc[f\"C({feature})\", \"F\"]\n",
    "    p_value = anova_table.loc[f\"C({feature})\", \"PR(>F)\"]\n",
    "    eta_sq = sum_sq_factor / sum_sq_total if sum_sq_total > 0 else 0.0\n",
    "    return F_stat, p_value, eta_sq\n",
    "\n",
    "# 2) Features of interest\n",
    "features = [\"Credit_History\", \"Income_Level\", \"Loan_Amount\", \"Zip_Code\", \"Education_Level\"]"
   ]
  },
  {
   "cell_type": "code",
   "execution_count": 73,
   "id": "b25690b5-a91d-4534-a8d8-f6d81b77949a",
   "metadata": {},
   "outputs": [],
   "source": [
    "results = []\n",
    "for feat in features:\n",
    "    F, pval, eta_sq = one_way_anova_with_eta(merged_df, feat, target=\"pred_value\")\n",
    "    results.append({\n",
    "        \"Feature\": feat,\n",
    "        \"F_stat\": F,\n",
    "        \"Eta_squared\": eta_sq,\n",
    "        \"p_value\": pval\n",
    "    })"
   ]
  },
  {
   "cell_type": "code",
   "execution_count": 75,
   "id": "bd284ccb-0889-4f85-8a6d-5d4421e0df31",
   "metadata": {},
   "outputs": [
    {
     "name": "stdout",
     "output_type": "stream",
     "text": [
      "Significant Features (p < 0.05), ranked by η²:\n",
      "\n",
      "           Feature      F_stat        p_value  Eta_squared\n",
      "0      Loan_Amount  976.352948   0.000000e+00     0.394509\n",
      "1   Credit_History  926.481518  5.445641e-314     0.382057\n",
      "2     Income_Level  329.166084  5.877628e-130     0.180102\n",
      "3  Education_Level    4.555610   1.058095e-02     0.003031\n",
      "4         Zip_Code    4.056938   1.739702e-02     0.002700\n"
     ]
    }
   ],
   "source": [
    "res_df = pd.DataFrame(results)\n",
    "sig_df = res_df[res_df[\"p_value\"] < 0.05].copy()\n",
    "\n",
    "# 5) Sort by effect size (η²) descending\n",
    "sig_df.sort_values(\"Eta_squared\", ascending=False, inplace=True)\n",
    "sig_df.reset_index(drop=True, inplace=True)\n",
    "\n",
    "# 6) Display significant results\n",
    "print(\"Significant Features (p < 0.05), ranked by η²:\\n\")\n",
    "print(sig_df[[\"Feature\", \"F_stat\", \"p_value\", \"Eta_squared\"]])\n"
   ]
  },
  {
   "cell_type": "code",
   "execution_count": 77,
   "id": "c9b5ab76-d7c2-4547-8e07-ab7348ecbc2b",
   "metadata": {},
   "outputs": [
    {
     "data": {
      "image/png": "[encoded data removed]",
      "text/plain": [
       "<Figure size 800x500 with 1 Axes>"
      ]
     },
     "metadata": {},
     "output_type": "display_data"
    }
   ],
   "source": [
    "import matplotlib.pyplot as plt\n",
    "\n",
    "plt.figure(figsize=(8, 5))\n",
    "plt.barh(sig_df[\"Feature\"], sig_df[\"Eta_squared\"])\n",
    "plt.xlabel(\"η² (Eta-squared)\")\n",
    "plt.title(\"One-way ANOVA Effect Sizes for Significant Features\")\n",
    "plt.gca().invert_yaxis()  # largest η² on top\n",
    "plt.grid(axis=\"x\", linestyle=\"--\", alpha=0.6)\n",
    "plt.tight_layout()\n",
    "plt.show()"
   ]
  },
  {
   "cell_type": "code",
   "execution_count": 79,
   "id": "b4d96791-0be1-49a7-a5e2-e0cfe1757297",
   "metadata": {},
   "outputs": [
    {
     "name": "stdout",
     "output_type": "stream",
     "text": [
      "  Method  Precision  Recall  FDR  Top-1 Match\n",
      "Stat-XAI        0.6     1.0  0.4            1\n"
     ]
    }
   ],
   "source": [
    "def compute_feature_recovery_metrics(gt, ranking):\n",
    "    \"\"\"\n",
    "    Compute TP, FP, FN, Precision, Recall, FDR, and Top-1 Match for feature recovery.\n",
    "\n",
    "    Parameters\n",
    "    ----------\n",
    "    gt : set\n",
    "        Ground-truth causal features.\n",
    "    flagged : list or set\n",
    "        Features your method flagged as important (e.g., top‑k from ranking).\n",
    "    ranking : list\n",
    "        Ordered list of features by descending effect size.\n",
    "\n",
    "    Returns\n",
    "    -------\n",
    "    pd.DataFrame\n",
    "        Single-row DataFrame with the metrics.\n",
    "    \"\"\"\n",
    "    tp = set(gt) & set(ranking)\n",
    "    fp = set(ranking) - set(gt)\n",
    "    fn = set(gt) - set(ranking)\n",
    "\n",
    "    precision = len(tp) / (len(tp) + len(fp)) if (len(tp) + len(fp)) else 0.0\n",
    "    recall    = len(tp) / len(gt)        if len(gt)              else 0.0\n",
    "    fdr       = len(fp) / (len(tp) + len(fp)) if (len(tp) + len(fp)) else 0.0\n",
    "    top1      = 1 if ranking and ranking[0] in gt else 0\n",
    "\n",
    "    metrics = {\n",
    "        \"TP\":           \", \".join(sorted(tp)),\n",
    "        \"FP\":           \", \".join(sorted(fp)),\n",
    "        \"FN\":           \", \".join(sorted(fn)),\n",
    "        \"Precision\":     precision,\n",
    "        \"Recall\":        recall,\n",
    "        \"FDR\":           fdr,\n",
    "        \"Top-1 Match\":   top1\n",
    "    }\n",
    "    return pd.DataFrame([{\n",
    "        \"Precision\": precision,\n",
    "        \"Recall\": recall,\n",
    "        \"FDR\": fdr,\n",
    "        \"Top-1 Match\": top1\n",
    "    }])\n",
    "\n",
    "\n",
    "\n",
    "if __name__ == \"__main__\":\n",
    "    # Example:\n",
    "    GT = {\"Loan_Amount\", \"Credit_History\", \"Income_Level\"}\n",
    "    ranking = [\n",
    "        \"Loan_Amount\",\n",
    "        \"Credit_History\",\n",
    "        \"Income_Level\",\n",
    "        \"Education_Level\",\n",
    "        \"Zip_Code\"\n",
    "    ]\n",
    "    # flagged = ranking[:3]  # e.g. top‑3 features\n",
    "\n",
    "    df_metrics = compute_feature_recovery_metrics(GT, ranking)\n",
    "    df_metrics.insert(0, \"Method\", \"Stat-XAI\")\n",
    "    df_metrics = df_metrics[[\"Method\", \"Precision\", \"Recall\", \"FDR\", \"Top-1 Match\"]]\n",
    "    print(df_metrics.to_string(index=False))"
   ]
  },
  {
   "cell_type": "code",
   "execution_count": null,
   "id": "9131aa26-3a42-4198-9290-aead38b12104",
   "metadata": {},
   "outputs": [],
   "source": []
  },
  {
   "cell_type": "code",
   "execution_count": 88,
   "id": "fa71245b-dfce-4410-ab89-ab262749123a",
   "metadata": {},
   "outputs": [],
   "source": [
    "import shap\n",
    "import numpy as np\n",
    "import psutil\n",
    "import os\n",
    "import torch.optim as optim\n",
    "import matplotlib.pyplot as plt"
   ]
  },
  {
   "cell_type": "code",
   "execution_count": 90,
   "id": "36eef43b-0fe0-4fa2-a383-f60ba9d176bc",
   "metadata": {},
   "outputs": [],
   "source": [
    "def predict_proba_np(x_np):\n",
    "    \"\"\"\n",
    "    x_np: np.array of shape (batch, 5), dtype int\n",
    "    returns: np.array of shape (batch,) with predicted positive‐class probabilities\n",
    "    \"\"\"\n",
    "    model.eval()\n",
    "    with torch.no_grad():\n",
    "        tensor = torch.LongTensor(x_np).to(device)\n",
    "        logits = model(tensor)\n",
    "        probs  = torch.sigmoid(logits).cpu().numpy().flatten()\n",
    "    return probs"
   ]
  },
  {
   "cell_type": "code",
   "execution_count": 92,
   "id": "62fadbc5-ac12-4e98-9342-af85581091d1",
   "metadata": {},
   "outputs": [],
   "source": [
    "bg_size    = 100\n",
    "bg_idx     = np.random.choice(len(X_train), size=bg_size, replace=False)\n",
    "background = X_train[bg_idx] "
   ]
  },
  {
   "cell_type": "code",
   "execution_count": 94,
   "id": "e638dcde-3295-4efd-8c1b-b48fb168d9ca",
   "metadata": {},
   "outputs": [],
   "source": [
    "explainer = shap.KernelExplainer(predict_proba_np, background)\n",
    "\n"
   ]
  },
  {
   "cell_type": "code",
   "execution_count": 96,
   "id": "3ddb3ced-e5bb-4e77-a825-3cb3b9410de6",
   "metadata": {},
   "outputs": [],
   "source": [
    "batch_size = 512\n",
    "all_shap   = []\n"
   ]
  },
  {
   "cell_type": "code",
   "execution_count": 98,
   "id": "27567e1d-1843-473b-87e4-089b4d1c4994",
   "metadata": {},
   "outputs": [
    {
     "name": "stdout",
     "output_type": "stream",
     "text": [
      "Batch 0-512: free RAM 3.83 GB\n"
     ]
    },
    {
     "data": {
      "application/vnd.jupyter.widget-view+json": {
       "model_id": "8ef050f2dd0f46fd82f486b138b9658b",
       "version_major": 2,
       "version_minor": 0
      },
      "text/plain": [
       "  0%|          | 0/512 [00:00<?, ?it/s]"
      ]
     },
     "metadata": {},
     "output_type": "display_data"
    },
    {
     "name": "stdout",
     "output_type": "stream",
     "text": [
      "Batch 512-1024: free RAM 3.96 GB\n"
     ]
    },
    {
     "data": {
      "application/vnd.jupyter.widget-view+json": {
       "model_id": "601ad9278fa04655bff4aee009f4a50f",
       "version_major": 2,
       "version_minor": 0
      },
      "text/plain": [
       "  0%|          | 0/512 [00:00<?, ?it/s]"
      ]
     },
     "metadata": {},
     "output_type": "display_data"
    },
    {
     "name": "stdout",
     "output_type": "stream",
     "text": [
      "Batch 1024-1536: free RAM 3.71 GB\n"
     ]
    },
    {
     "data": {
      "application/vnd.jupyter.widget-view+json": {
       "model_id": "9e2b906ce8924006b63ecc244b11c264",
       "version_major": 2,
       "version_minor": 0
      },
      "text/plain": [
       "  0%|          | 0/512 [00:00<?, ?it/s]"
      ]
     },
     "metadata": {},
     "output_type": "display_data"
    },
    {
     "name": "stdout",
     "output_type": "stream",
     "text": [
      "Batch 1536-2048: free RAM 3.73 GB\n"
     ]
    },
    {
     "data": {
      "application/vnd.jupyter.widget-view+json": {
       "model_id": "36703101e0dc44ddb17bd5adcc962573",
       "version_major": 2,
       "version_minor": 0
      },
      "text/plain": [
       "  0%|          | 0/512 [00:00<?, ?it/s]"
      ]
     },
     "metadata": {},
     "output_type": "display_data"
    },
    {
     "name": "stdout",
     "output_type": "stream",
     "text": [
      "Batch 2048-2560: free RAM 3.79 GB\n"
     ]
    },
    {
     "data": {
      "application/vnd.jupyter.widget-view+json": {
       "model_id": "5dbd542028da4d5484425c514f5942f2",
       "version_major": 2,
       "version_minor": 0
      },
      "text/plain": [
       "  0%|          | 0/512 [00:00<?, ?it/s]"
      ]
     },
     "metadata": {},
     "output_type": "display_data"
    },
    {
     "name": "stdout",
     "output_type": "stream",
     "text": [
      "Batch 2560-3000: free RAM 3.79 GB\n"
     ]
    },
    {
     "data": {
      "application/vnd.jupyter.widget-view+json": {
       "model_id": "2a36cf3add2d41e48bad5b5e850c3a91",
       "version_major": 2,
       "version_minor": 0
      },
      "text/plain": [
       "  0%|          | 0/440 [00:00<?, ?it/s]"
      ]
     },
     "metadata": {},
     "output_type": "display_data"
    }
   ],
   "source": [
    "for start in range(0, len(X_test), batch_size):\n",
    "    end    = min(start + batch_size, len(X_test))\n",
    "    Xb_np  = X_test[start:end]\n",
    "    \n",
    "    mem = psutil.virtual_memory()\n",
    "    print(f\"Batch {start}-{end}: free RAM {mem.available/1e9:.2f} GB\")\n",
    "    \n",
    "    # nsamples controls speed/accuracy\n",
    "    shap_vals_batch = explainer.shap_values(Xb_np, nsamples=100)\n",
    "    all_shap.append(shap_vals_batch)\n"
   ]
  },
  {
   "cell_type": "code",
   "execution_count": 100,
   "id": "3b65c1e8-904b-4dcd-ac9a-701c2de37220",
   "metadata": {},
   "outputs": [],
   "source": [
    "all_shap_values = np.vstack(all_shap)"
   ]
  },
  {
   "cell_type": "code",
   "execution_count": 102,
   "id": "aa799880-dcc7-4a71-b0ee-06158020dd14",
   "metadata": {},
   "outputs": [],
   "source": [
    "mean_abs = pd.Series(\n",
    "    np.abs(all_shap_values).mean(axis=0),\n",
    "    index=features\n",
    ").sort_values()"
   ]
  },
  {
   "cell_type": "code",
   "execution_count": 104,
   "id": "8d96f196-cd79-458c-8ba3-be1fa2c02649",
   "metadata": {},
   "outputs": [
    {
     "data": {
      "text/plain": [
       "Education_Level    0.001350\n",
       "Zip_Code           0.001528\n",
       "Income_Level       0.014508\n",
       "Credit_History     0.015034\n",
       "Loan_Amount        0.015578\n",
       "dtype: float64"
      ]
     },
     "execution_count": 104,
     "metadata": {},
     "output_type": "execute_result"
    }
   ],
   "source": [
    "mean_abs"
   ]
  },
  {
   "cell_type": "code",
   "execution_count": 52,
   "id": "c4a9c321-eebe-4525-9432-c95cc3eedbc8",
   "metadata": {},
   "outputs": [
    {
     "data": {
      "image/png": "[encoded data removed]",
      "text/plain": [
       "<Figure size 600x400 with 1 Axes>"
      ]
     },
     "metadata": {},
     "output_type": "display_data"
    }
   ],
   "source": [
    "os.makedirs(\"shap\", exist_ok=True)\n",
    "plt.figure(figsize=(6,4))\n",
    "mean_abs.plot.barh()\n",
    "plt.xlabel(\"Mean |SHAP value|\")\n",
    "plt.title(\"Mean absolute SHAP — RNN model\")\n",
    "plt.tight_layout()\n",
    "plt.savefig(\"shap/RNN_categorical_continous_shap_summary.jpg\", dpi=300)\n",
    "plt.show()"
   ]
  },
  {
   "cell_type": "code",
   "execution_count": 48,
   "id": "0d905143-a276-43cd-af47-cf696dd5c0f2",
   "metadata": {},
   "outputs": [],
   "source": [
    "def compute_feature_recovery_metrics(gt, ranking):\n",
    "    \"\"\"\n",
    "    Compute TP, FP, FN, Precision, Recall, FDR, and Top-1 Match for feature recovery.\n",
    "\n",
    "    Parameters\n",
    "    ----------\n",
    "    gt : set\n",
    "        Ground-truth causal features.\n",
    "    flagged : list or set\n",
    "        Features your method flagged as important (e.g., top‑k from ranking).\n",
    "    ranking : list\n",
    "        Ordered list of features by descending effect size.\n",
    "\n",
    "    Returns\n",
    "    -------\n",
    "    pd.DataFrame\n",
    "        Single-row DataFrame with the metrics.\n",
    "    \"\"\"\n",
    "    tp = set(gt) & set(ranking)\n",
    "    fp = set(ranking) - set(gt)\n",
    "    fn = set(gt) - set(ranking)\n",
    "\n",
    "    precision = len(tp) / (len(tp) + len(fp)) if (len(tp) + len(fp)) else 0.0\n",
    "    recall    = len(tp) / len(gt)        if len(gt)              else 0.0\n",
    "    fdr       = len(fp) / (len(tp) + len(fp)) if (len(tp) + len(fp)) else 0.0\n",
    "    top1      = 1 if ranking and ranking[0] in gt else 0\n",
    "\n",
    "    metrics = {\n",
    "        \"TP\":           \", \".join(sorted(tp)),\n",
    "        \"FP\":           \", \".join(sorted(fp)),\n",
    "        \"FN\":           \", \".join(sorted(fn)),\n",
    "        \"Precision\":     precision,\n",
    "        \"Recall\":        recall,\n",
    "        \"FDR\":           fdr,\n",
    "        \"Top-1 Match\":   top1\n",
    "    }\n",
    "    return pd.DataFrame([{\n",
    "        \"Precision\": precision,\n",
    "        \"Recall\": recall,\n",
    "        \"FDR\": fdr,\n",
    "        \"Top-1 Match\": top1\n",
    "    }])\n",
    "\n",
    "\n"
   ]
  },
  {
   "cell_type": "code",
   "execution_count": 50,
   "id": "3e89aa00-eae2-4ef4-844e-d79acd10b1a9",
   "metadata": {},
   "outputs": [
    {
     "name": "stdout",
     "output_type": "stream",
     "text": [
      "  Method  Precision  Recall  FDR  Top-1 Match\n",
      "SHAP-XAI        0.6     1.0  0.4            1\n"
     ]
    }
   ],
   "source": [
    "if __name__ == \"__main__\":\n",
    "    # Example:\n",
    "    GT = {\"Loan_Amount\", \"Credit_History\", \"Income_Level\"}\n",
    "    ranking = [\n",
    "        \"Loan_Amount\",\n",
    "        \"Credit_History\",\n",
    "        \"Income_Level\",\n",
    "    \"Education_Level\",\n",
    "    \"Zip_Code\"]\n",
    "    # flagged = ranking[:3]  # e.g. top‑3 features\n",
    "\n",
    "    df_metrics = compute_feature_recovery_metrics(GT, ranking)\n",
    "    df_metrics.insert(0, \"Method\", \"SHAP-XAI\")\n",
    "    df_metrics = df_metrics[[\"Method\", \"Precision\", \"Recall\", \"FDR\", \"Top-1 Match\"]]\n",
    "    print(df_metrics.to_string(index=False))"
   ]
  },
  {
   "cell_type": "code",
   "execution_count": null,
   "id": "39eeb9f1-8af5-4e04-8b97-90660d2bb9a5",
   "metadata": {},
   "outputs": [],
   "source": []
  }
 ],
 "metadata": {
  "kernelspec": {
   "display_name": "Python [conda env:base] *",
   "language": "python",
   "name": "conda-base-py"
  },
  "language_info": {
   "codemirror_mode": {
    "name": "ipython",
    "version": 3
   },
   "file_extension": ".py",
   "mimetype": "text/x-python",
   "name": "python",
   "nbconvert_exporter": "python",
   "pygments_lexer": "ipython3",
   "version": "3.12.7"
  }
 },
 "nbformat": 4,
 "nbformat_minor": 5
}

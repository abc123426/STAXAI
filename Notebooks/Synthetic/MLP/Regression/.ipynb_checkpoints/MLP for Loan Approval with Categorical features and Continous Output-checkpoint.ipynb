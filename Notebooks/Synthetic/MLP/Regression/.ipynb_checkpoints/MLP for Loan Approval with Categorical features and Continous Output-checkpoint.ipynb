{
 "cells": [
  {
   "cell_type": "code",
   "execution_count": 126,
   "id": "012db990-2243-4d35-acb2-0da01378b44a",
   "metadata": {},
   "outputs": [],
   "source": [
    "import pandas as pd\n",
    "import numpy as np\n",
    "import torch\n",
    "import torch.nn as nn\n",
    "import torch.optim as optim\n",
    "from torch.utils.data import Dataset, DataLoader\n",
    "from sklearn.model_selection import train_test_split\n",
    "import shap\n"
   ]
  },
  {
   "cell_type": "code",
   "execution_count": 128,
   "id": "5e28a705-8f23-476a-9cd5-0737341a98e9",
   "metadata": {},
   "outputs": [
    {
     "data": {
      "text/html": [
       "<div>\n",
       "<style scoped>\n",
       "    .dataframe tbody tr th:only-of-type {\n",
       "        vertical-align: middle;\n",
       "    }\n",
       "\n",
       "    .dataframe tbody tr th {\n",
       "        vertical-align: top;\n",
       "    }\n",
       "\n",
       "    .dataframe thead th {\n",
       "        text-align: right;\n",
       "    }\n",
       "</style>\n",
       "<table border=\"1\" class=\"dataframe\">\n",
       "  <thead>\n",
       "    <tr style=\"text-align: right;\">\n",
       "      <th></th>\n",
       "      <th>Unnamed: 0</th>\n",
       "      <th>Credit_History</th>\n",
       "      <th>Income_Level</th>\n",
       "      <th>Loan_Amount</th>\n",
       "      <th>Zip_Code</th>\n",
       "      <th>Education_Level</th>\n",
       "      <th>Approval_Prob</th>\n",
       "      <th>Loan_Approval</th>\n",
       "    </tr>\n",
       "  </thead>\n",
       "  <tbody>\n",
       "    <tr>\n",
       "      <th>0</th>\n",
       "      <td>0</td>\n",
       "      <td>Fair</td>\n",
       "      <td>Low</td>\n",
       "      <td>Small</td>\n",
       "      <td>Suburban</td>\n",
       "      <td>High School</td>\n",
       "      <td>0.545770</td>\n",
       "      <td>Approved</td>\n",
       "    </tr>\n",
       "    <tr>\n",
       "      <th>1</th>\n",
       "      <td>1</td>\n",
       "      <td>Good</td>\n",
       "      <td>Low</td>\n",
       "      <td>Large</td>\n",
       "      <td>Urban</td>\n",
       "      <td>High School</td>\n",
       "      <td>0.582107</td>\n",
       "      <td>Approved</td>\n",
       "    </tr>\n",
       "    <tr>\n",
       "      <th>2</th>\n",
       "      <td>2</td>\n",
       "      <td>Good</td>\n",
       "      <td>Low</td>\n",
       "      <td>Medium</td>\n",
       "      <td>Rural</td>\n",
       "      <td>High School</td>\n",
       "      <td>0.646670</td>\n",
       "      <td>Approved</td>\n",
       "    </tr>\n",
       "    <tr>\n",
       "      <th>3</th>\n",
       "      <td>3</td>\n",
       "      <td>Fair</td>\n",
       "      <td>Medium</td>\n",
       "      <td>Medium</td>\n",
       "      <td>Urban</td>\n",
       "      <td>High School</td>\n",
       "      <td>0.379236</td>\n",
       "      <td>Disapproved</td>\n",
       "    </tr>\n",
       "    <tr>\n",
       "      <th>4</th>\n",
       "      <td>4</td>\n",
       "      <td>Bad</td>\n",
       "      <td>Medium</td>\n",
       "      <td>Medium</td>\n",
       "      <td>Suburban</td>\n",
       "      <td>High School</td>\n",
       "      <td>0.633403</td>\n",
       "      <td>Approved</td>\n",
       "    </tr>\n",
       "  </tbody>\n",
       "</table>\n",
       "</div>"
      ],
      "text/plain": [
       "   Unnamed: 0 Credit_History Income_Level Loan_Amount  Zip_Code  \\\n",
       "0           0           Fair          Low       Small  Suburban   \n",
       "1           1           Good          Low       Large     Urban   \n",
       "2           2           Good          Low      Medium     Rural   \n",
       "3           3           Fair       Medium      Medium     Urban   \n",
       "4           4            Bad       Medium      Medium  Suburban   \n",
       "\n",
       "  Education_Level  Approval_Prob Loan_Approval  \n",
       "0     High School       0.545770      Approved  \n",
       "1     High School       0.582107      Approved  \n",
       "2     High School       0.646670      Approved  \n",
       "3     High School       0.379236   Disapproved  \n",
       "4     High School       0.633403      Approved  "
      ]
     },
     "execution_count": 128,
     "metadata": {},
     "output_type": "execute_result"
    }
   ],
   "source": [
    "# 1. Load the Dataset\n",
    "df = pd.read_csv('/Users/Loan Approval Categorical Synthetic Dataset.csv')\n",
    "df.head()\n"
   ]
  },
  {
   "cell_type": "code",
   "execution_count": 130,
   "id": "5a38fe70-0b98-4ab1-a2cd-95ad3f175815",
   "metadata": {},
   "outputs": [],
   "source": [
    "from sklearn.model_selection import train_test_split\n",
    "from sklearn.metrics import mean_squared_error, mean_absolute_error, r2_score\n",
    "import matplotlib.pyplot as plt"
   ]
  },
  {
   "cell_type": "code",
   "execution_count": 132,
   "id": "c299db44-0d18-4df6-b24b-820ece8c9d2c",
   "metadata": {},
   "outputs": [],
   "source": [
    "df = pd.read_csv('Loan Approval Categorical Synthetic Dataset.csv')\n",
    "df_orig = df.copy()  # this will remain unchanged"
   ]
  },
  {
   "cell_type": "code",
   "execution_count": 134,
   "id": "ace18f67-97b4-43c0-b8ee-a0256f4d47cd",
   "metadata": {},
   "outputs": [],
   "source": [
    "df_orig = df_orig.drop(df_orig.columns[[0,-2, -1]], axis=1)"
   ]
  },
  {
   "cell_type": "code",
   "execution_count": 136,
   "id": "f7b3c731-e478-4818-af6c-d3b96c04ab22",
   "metadata": {},
   "outputs": [],
   "source": [
    "df = df.drop(df.columns[[0, -1]], axis=1)"
   ]
  },
  {
   "cell_type": "code",
   "execution_count": 138,
   "id": "15ea094c-7224-4302-9459-a7ac82c2e100",
   "metadata": {},
   "outputs": [
    {
     "data": {
      "text/html": [
       "<div>\n",
       "<style scoped>\n",
       "    .dataframe tbody tr th:only-of-type {\n",
       "        vertical-align: middle;\n",
       "    }\n",
       "\n",
       "    .dataframe tbody tr th {\n",
       "        vertical-align: top;\n",
       "    }\n",
       "\n",
       "    .dataframe thead th {\n",
       "        text-align: right;\n",
       "    }\n",
       "</style>\n",
       "<table border=\"1\" class=\"dataframe\">\n",
       "  <thead>\n",
       "    <tr style=\"text-align: right;\">\n",
       "      <th></th>\n",
       "      <th>Credit_History</th>\n",
       "      <th>Income_Level</th>\n",
       "      <th>Loan_Amount</th>\n",
       "      <th>Zip_Code</th>\n",
       "      <th>Education_Level</th>\n",
       "      <th>Approval_Prob</th>\n",
       "    </tr>\n",
       "  </thead>\n",
       "  <tbody>\n",
       "    <tr>\n",
       "      <th>0</th>\n",
       "      <td>Fair</td>\n",
       "      <td>Low</td>\n",
       "      <td>Small</td>\n",
       "      <td>Suburban</td>\n",
       "      <td>High School</td>\n",
       "      <td>0.545770</td>\n",
       "    </tr>\n",
       "    <tr>\n",
       "      <th>1</th>\n",
       "      <td>Good</td>\n",
       "      <td>Low</td>\n",
       "      <td>Large</td>\n",
       "      <td>Urban</td>\n",
       "      <td>High School</td>\n",
       "      <td>0.582107</td>\n",
       "    </tr>\n",
       "    <tr>\n",
       "      <th>2</th>\n",
       "      <td>Good</td>\n",
       "      <td>Low</td>\n",
       "      <td>Medium</td>\n",
       "      <td>Rural</td>\n",
       "      <td>High School</td>\n",
       "      <td>0.646670</td>\n",
       "    </tr>\n",
       "    <tr>\n",
       "      <th>3</th>\n",
       "      <td>Fair</td>\n",
       "      <td>Medium</td>\n",
       "      <td>Medium</td>\n",
       "      <td>Urban</td>\n",
       "      <td>High School</td>\n",
       "      <td>0.379236</td>\n",
       "    </tr>\n",
       "    <tr>\n",
       "      <th>4</th>\n",
       "      <td>Bad</td>\n",
       "      <td>Medium</td>\n",
       "      <td>Medium</td>\n",
       "      <td>Suburban</td>\n",
       "      <td>High School</td>\n",
       "      <td>0.633403</td>\n",
       "    </tr>\n",
       "    <tr>\n",
       "      <th>5</th>\n",
       "      <td>Bad</td>\n",
       "      <td>High</td>\n",
       "      <td>Small</td>\n",
       "      <td>Suburban</td>\n",
       "      <td>High School</td>\n",
       "      <td>0.382140</td>\n",
       "    </tr>\n",
       "    <tr>\n",
       "      <th>6</th>\n",
       "      <td>Bad</td>\n",
       "      <td>Low</td>\n",
       "      <td>Small</td>\n",
       "      <td>Rural</td>\n",
       "      <td>High School</td>\n",
       "      <td>0.431187</td>\n",
       "    </tr>\n",
       "    <tr>\n",
       "      <th>7</th>\n",
       "      <td>Good</td>\n",
       "      <td>Medium</td>\n",
       "      <td>Large</td>\n",
       "      <td>Urban</td>\n",
       "      <td>Bachelor</td>\n",
       "      <td>0.376445</td>\n",
       "    </tr>\n",
       "    <tr>\n",
       "      <th>8</th>\n",
       "      <td>Fair</td>\n",
       "      <td>Medium</td>\n",
       "      <td>Small</td>\n",
       "      <td>Suburban</td>\n",
       "      <td>Bachelor</td>\n",
       "      <td>0.429118</td>\n",
       "    </tr>\n",
       "    <tr>\n",
       "      <th>9</th>\n",
       "      <td>Good</td>\n",
       "      <td>Medium</td>\n",
       "      <td>Large</td>\n",
       "      <td>Urban</td>\n",
       "      <td>Bachelor</td>\n",
       "      <td>0.330043</td>\n",
       "    </tr>\n",
       "    <tr>\n",
       "      <th>10</th>\n",
       "      <td>Bad</td>\n",
       "      <td>High</td>\n",
       "      <td>Medium</td>\n",
       "      <td>Urban</td>\n",
       "      <td>Master</td>\n",
       "      <td>0.459421</td>\n",
       "    </tr>\n",
       "    <tr>\n",
       "      <th>11</th>\n",
       "      <td>Good</td>\n",
       "      <td>Medium</td>\n",
       "      <td>Large</td>\n",
       "      <td>Rural</td>\n",
       "      <td>Bachelor</td>\n",
       "      <td>0.564926</td>\n",
       "    </tr>\n",
       "    <tr>\n",
       "      <th>12</th>\n",
       "      <td>Good</td>\n",
       "      <td>High</td>\n",
       "      <td>Large</td>\n",
       "      <td>Rural</td>\n",
       "      <td>Master</td>\n",
       "      <td>0.771043</td>\n",
       "    </tr>\n",
       "    <tr>\n",
       "      <th>13</th>\n",
       "      <td>Fair</td>\n",
       "      <td>Low</td>\n",
       "      <td>Medium</td>\n",
       "      <td>Suburban</td>\n",
       "      <td>Master</td>\n",
       "      <td>0.624092</td>\n",
       "    </tr>\n",
       "    <tr>\n",
       "      <th>14</th>\n",
       "      <td>Bad</td>\n",
       "      <td>Medium</td>\n",
       "      <td>Medium</td>\n",
       "      <td>Urban</td>\n",
       "      <td>High School</td>\n",
       "      <td>0.391981</td>\n",
       "    </tr>\n",
       "    <tr>\n",
       "      <th>15</th>\n",
       "      <td>Bad</td>\n",
       "      <td>Low</td>\n",
       "      <td>Small</td>\n",
       "      <td>Rural</td>\n",
       "      <td>Bachelor</td>\n",
       "      <td>0.321577</td>\n",
       "    </tr>\n",
       "    <tr>\n",
       "      <th>16</th>\n",
       "      <td>Fair</td>\n",
       "      <td>Low</td>\n",
       "      <td>Small</td>\n",
       "      <td>Urban</td>\n",
       "      <td>Bachelor</td>\n",
       "      <td>0.705712</td>\n",
       "    </tr>\n",
       "    <tr>\n",
       "      <th>17</th>\n",
       "      <td>Fair</td>\n",
       "      <td>Low</td>\n",
       "      <td>Small</td>\n",
       "      <td>Urban</td>\n",
       "      <td>Bachelor</td>\n",
       "      <td>0.448832</td>\n",
       "    </tr>\n",
       "    <tr>\n",
       "      <th>18</th>\n",
       "      <td>Fair</td>\n",
       "      <td>Low</td>\n",
       "      <td>Medium</td>\n",
       "      <td>Suburban</td>\n",
       "      <td>High School</td>\n",
       "      <td>0.182545</td>\n",
       "    </tr>\n",
       "    <tr>\n",
       "      <th>19</th>\n",
       "      <td>Fair</td>\n",
       "      <td>Low</td>\n",
       "      <td>Large</td>\n",
       "      <td>Urban</td>\n",
       "      <td>Master</td>\n",
       "      <td>0.378268</td>\n",
       "    </tr>\n",
       "  </tbody>\n",
       "</table>\n",
       "</div>"
      ],
      "text/plain": [
       "   Credit_History Income_Level Loan_Amount  Zip_Code Education_Level  \\\n",
       "0            Fair          Low       Small  Suburban     High School   \n",
       "1            Good          Low       Large     Urban     High School   \n",
       "2            Good          Low      Medium     Rural     High School   \n",
       "3            Fair       Medium      Medium     Urban     High School   \n",
       "4             Bad       Medium      Medium  Suburban     High School   \n",
       "5             Bad         High       Small  Suburban     High School   \n",
       "6             Bad          Low       Small     Rural     High School   \n",
       "7            Good       Medium       Large     Urban        Bachelor   \n",
       "8            Fair       Medium       Small  Suburban        Bachelor   \n",
       "9            Good       Medium       Large     Urban        Bachelor   \n",
       "10            Bad         High      Medium     Urban          Master   \n",
       "11           Good       Medium       Large     Rural        Bachelor   \n",
       "12           Good         High       Large     Rural          Master   \n",
       "13           Fair          Low      Medium  Suburban          Master   \n",
       "14            Bad       Medium      Medium     Urban     High School   \n",
       "15            Bad          Low       Small     Rural        Bachelor   \n",
       "16           Fair          Low       Small     Urban        Bachelor   \n",
       "17           Fair          Low       Small     Urban        Bachelor   \n",
       "18           Fair          Low      Medium  Suburban     High School   \n",
       "19           Fair          Low       Large     Urban          Master   \n",
       "\n",
       "    Approval_Prob  \n",
       "0        0.545770  \n",
       "1        0.582107  \n",
       "2        0.646670  \n",
       "3        0.379236  \n",
       "4        0.633403  \n",
       "5        0.382140  \n",
       "6        0.431187  \n",
       "7        0.376445  \n",
       "8        0.429118  \n",
       "9        0.330043  \n",
       "10       0.459421  \n",
       "11       0.564926  \n",
       "12       0.771043  \n",
       "13       0.624092  \n",
       "14       0.391981  \n",
       "15       0.321577  \n",
       "16       0.705712  \n",
       "17       0.448832  \n",
       "18       0.182545  \n",
       "19       0.378268  "
      ]
     },
     "execution_count": 138,
     "metadata": {},
     "output_type": "execute_result"
    }
   ],
   "source": [
    "df.head(20)"
   ]
  },
  {
   "cell_type": "code",
   "execution_count": 140,
   "id": "a90609aa-605e-4433-b314-734216c13d64",
   "metadata": {},
   "outputs": [],
   "source": [
    "features = ['Credit_History', 'Income_Level', 'Loan_Amount', 'Zip_Code', 'Education_Level']\n",
    "target = 'Approval_Prob'"
   ]
  },
  {
   "cell_type": "code",
   "execution_count": 142,
   "id": "0e27115f-3f02-4ad6-8bb9-9ce529b97a67",
   "metadata": {},
   "outputs": [
    {
     "name": "stdout",
     "output_type": "stream",
     "text": [
      "   Credit_History  Income_Level  Loan_Amount  Zip_Code  Education_Level\n",
      "0               1             0            2         1                1\n",
      "1               2             0            0         2                1\n",
      "2               2             0            1         0                1\n",
      "3               1             1            1         2                1\n",
      "4               0             1            1         1                1\n"
     ]
    }
   ],
   "source": [
    "loan_mapping = {'Small': 2, 'Medium': 1, 'Large': 0}\n",
    "df[\"Loan_Amount\"] = df[\"Loan_Amount\"].map(loan_mapping)\n",
    "\n",
    "income_mapping = {'Low': 0, 'Medium': 1, 'High': 2}\n",
    "df[\"Income_Level\"] = df[\"Income_Level\"].map(income_mapping)\n",
    "\n",
    "\n",
    "# education_mapping = {'High School': 0, 'Bachelor': 1, 'Master': 2}\n",
    "# df[\"Education_Level\"] = df[\"Education_Level\"].map(education_mapping)\n",
    "\n",
    "# Zip_mapping = {'Rural': 0, 'Suburban': 1, 'Urban': 2}\n",
    "# df[\"Zip_Code\"] = df[\"Zip_Code\"].map(Zip_mapping)\n",
    "\n",
    "# Convert other features automatically using astype('category').cat.codes\n",
    "for col in features:\n",
    "    if col != (\"Loan_Amount\", \"Income_Level\"):\n",
    "        df[col] = df[col].astype('category').cat.codes\n",
    "\n",
    "# Check the result:\n",
    "print(df[features].head())\n",
    "\n",
    "# for col in features:\n",
    "#     df[col] = df[col].astype('category').cat.codes\n"
   ]
  },
  {
   "cell_type": "code",
   "execution_count": 144,
   "id": "763bf817-f92b-4a77-9130-4a311534a0d0",
   "metadata": {},
   "outputs": [
    {
     "name": "stdout",
     "output_type": "stream",
     "text": [
      "   Credit_History  Income_Level  Loan_Amount  Zip_Code  Education_Level\n",
      "0               1             0            2         1                1\n",
      "1               2             0            0         2                1\n",
      "2               2             0            1         0                1\n",
      "3               1             1            1         2                1\n",
      "4               0             1            1         1                1\n",
      "5               0             2            2         1                1\n",
      "6               0             0            2         0                1\n",
      "7               2             1            0         2                0\n",
      "8               1             1            2         1                0\n",
      "9               2             1            0         2                0\n"
     ]
    }
   ],
   "source": [
    "print(df[features].head(10))"
   ]
  },
  {
   "cell_type": "code",
   "execution_count": 146,
   "id": "26f44bac-e13d-4564-9795-6dc4407918b3",
   "metadata": {},
   "outputs": [
    {
     "name": "stdout",
     "output_type": "stream",
     "text": [
      "Unique categories per feature: [3, 3, 3, 3, 3]\n"
     ]
    }
   ],
   "source": [
    "cat_dims = [df[col].nunique() for col in features]\n",
    "print(\"Unique categories per feature:\", cat_dims)"
   ]
  },
  {
   "cell_type": "code",
   "execution_count": 148,
   "id": "9e47647f-aedf-48c9-9b21-c3c0bf7555e0",
   "metadata": {},
   "outputs": [
    {
     "name": "stdout",
     "output_type": "stream",
     "text": [
      "Embedding dimensions: [4, 4, 4, 4, 4]\n"
     ]
    }
   ],
   "source": [
    "# emb_dims = [2] * len(cat_dims)\n",
    "emb_dims = [4] * len(cat_dims)\n",
    "print(\"Embedding dimensions:\", emb_dims)"
   ]
  },
  {
   "cell_type": "code",
   "execution_count": 150,
   "id": "2142fb91-504d-415e-81e9-8d50df14a182",
   "metadata": {},
   "outputs": [
    {
     "name": "stdout",
     "output_type": "stream",
     "text": [
      "Embedding dimensions: [4, 4, 4, 4, 4]\n"
     ]
    }
   ],
   "source": [
    "print(\"Embedding dimensions:\", emb_dims)"
   ]
  },
  {
   "cell_type": "code",
   "execution_count": 152,
   "id": "f09e512c-ab57-456e-a462-26af08ee6e6d",
   "metadata": {},
   "outputs": [],
   "source": [
    "X = df[features].values\n",
    "y = df[target].values"
   ]
  },
  {
   "cell_type": "code",
   "execution_count": 27,
   "id": "68a2105f-785b-4376-89de-a86db6bfd712",
   "metadata": {},
   "outputs": [],
   "source": [
    "# X = df.drop('Approval_Prob', axis=1)\n",
    "# y = df['Approval_Prob']"
   ]
  },
  {
   "cell_type": "code",
   "execution_count": 66,
   "id": "4a5dff5a-1453-421f-9b21-b2870832b96e",
   "metadata": {},
   "outputs": [
    {
     "data": {
      "text/plain": [
       "array([[1, 0, 2, 1, 0],\n",
       "       [2, 1, 0, 1, 0],\n",
       "       [1, 0, 2, 1, 1],\n",
       "       ...,\n",
       "       [0, 2, 1, 0, 0],\n",
       "       [1, 1, 0, 2, 1],\n",
       "       [1, 0, 1, 2, 1]], dtype=int8)"
      ]
     },
     "execution_count": 66,
     "metadata": {},
     "output_type": "execute_result"
    }
   ],
   "source": []
  },
  {
   "cell_type": "code",
   "execution_count": 154,
   "id": "96c63bf9-3597-4172-903f-347b70ae88d5",
   "metadata": {},
   "outputs": [],
   "source": [
    "X_train, X_test, y_train, y_test = train_test_split(X, y, test_size=0.4, random_state=42)"
   ]
  },
  {
   "cell_type": "code",
   "execution_count": 156,
   "id": "a4c05258-3479-49a5-9fce-40c349384275",
   "metadata": {},
   "outputs": [],
   "source": [
    "X_train_df = pd.DataFrame(X_train, columns=features)\n",
    "y_train_sr = pd.Series(y_train)\n",
    "\n",
    "X_test_df  = pd.DataFrame(X_test,  columns=features)\n",
    "y_test_sr  = pd.Series(y_test)"
   ]
  },
  {
   "cell_type": "code",
   "execution_count": null,
   "id": "404dd281-ffe7-44f0-b6df-555575d00134",
   "metadata": {},
   "outputs": [],
   "source": []
  },
  {
   "cell_type": "code",
   "execution_count": 158,
   "id": "da5f66a5-c78f-4011-bc72-4fcfb4946db1",
   "metadata": {},
   "outputs": [],
   "source": [
    "class LoanDataset(Dataset):\n",
    "    def __init__(self, X, y):\n",
    "        # Convert features to torch.long (required for embeddings)\n",
    "        self.X = torch.tensor(X, dtype=torch.long)\n",
    "        # Target converted to float32 for BCELoss (binary cross-entropy)\n",
    "        self.y = torch.tensor(y, dtype=torch.float32)\n",
    "    \n",
    "    def __len__(self):\n",
    "        return len(self.X)\n",
    "    \n",
    "    def __getitem__(self, idx):\n",
    "        return self.X[idx], self.y[idx]"
   ]
  },
  {
   "cell_type": "code",
   "execution_count": 160,
   "id": "a41ea117-b744-47ef-8f97-63a6c4ce9cf3",
   "metadata": {},
   "outputs": [],
   "source": [
    "train_dataset = LoanDataset(X_train, y_train)\n",
    "test_dataset  = LoanDataset(X_test, y_test)"
   ]
  },
  {
   "cell_type": "code",
   "execution_count": 64,
   "id": "49a00da5-aa53-429f-be47-89e2998735c9",
   "metadata": {},
   "outputs": [
    {
     "data": {
      "text/plain": [
       "<torch.utils.data.dataloader.DataLoader at 0x13e38a1b0>"
      ]
     },
     "execution_count": 64,
     "metadata": {},
     "output_type": "execute_result"
    }
   ],
   "source": []
  },
  {
   "cell_type": "code",
   "execution_count": 162,
   "id": "c01c6cfe-f290-48a7-97a1-ae955ae66b0c",
   "metadata": {},
   "outputs": [],
   "source": [
    "batch_size = 32\n",
    "train_loader = DataLoader(train_dataset, batch_size=batch_size, shuffle=True)\n",
    "test_loader  = DataLoader(test_dataset, batch_size=batch_size)"
   ]
  },
  {
   "cell_type": "code",
   "execution_count": 164,
   "id": "e21bec0f-eee9-4187-b58e-b287817a9ecb",
   "metadata": {},
   "outputs": [],
   "source": [
    "class ThreeLevelMLP(nn.Module):\n",
    "    def __init__(self, cat_dims, emb_dims, hidden_dims=[128, 64, 32, 16],dropout_rate = 0.2):\n",
    "        \"\"\"\n",
    "        cat_dims: List with the number of unique categories for each feature.\n",
    "        emb_dims: List with the embedding dimension for each feature.\n",
    "        hidden_dims: List with sizes for the three hidden layers.\n",
    "        \"\"\"\n",
    "        super(ThreeLevelMLP, self).__init__()\n",
    "        \n",
    "        # Create an embedding layer for each categorical feature.\n",
    "        self.embeddings = nn.ModuleList([\n",
    "            nn.Embedding(num_categories, emb_dim)\n",
    "            for num_categories, emb_dim in zip(cat_dims, emb_dims)\n",
    "        ])\n",
    "        \n",
    "        # The total input size after concatenation of embeddings.\n",
    "        input_size = sum(emb_dims)\n",
    "        \n",
    "        # Define three fully connected hidden layers.\n",
    "        self.fc1 = nn.Linear(input_size, hidden_dims[0])\n",
    "        self.bn1 = nn.BatchNorm1d(hidden_dims[0])\n",
    "        self.dropout1 = nn.Dropout(dropout_rate)\n",
    "        \n",
    "        self.fc2 = nn.Linear(hidden_dims[0], hidden_dims[1])\n",
    "        self.bn2 = nn.BatchNorm1d(hidden_dims[1])\n",
    "        self.dropout2 = nn.Dropout(dropout_rate)\n",
    "        \n",
    "        self.fc3 = nn.Linear(hidden_dims[1], hidden_dims[2])\n",
    "        self.bn3 = nn.BatchNorm1d(hidden_dims[2])\n",
    "        self.dropout3 = nn.Dropout(dropout_rate)\n",
    "        \n",
    "        self.fc4 = nn.Linear(hidden_dims[2], hidden_dims[3])\n",
    "        self.bn4 = nn.BatchNorm1d(hidden_dims[3])\n",
    "        self.dropout4 = nn.Dropout(dropout_rate)\n",
    "        \n",
    "        # self.fc5 = nn.Linear(hidden_dims[3], hidden_dims[4])\n",
    "        # self.bn5 = nn.BatchNorm1d(hidden_dims[4])\n",
    "        # self.dropout5 = nn.Dropout(dropout_rate)\n",
    "        \n",
    "        # Output layer producing one value.\n",
    "        self.out = nn.Linear(hidden_dims[3], 1)\n",
    "        \n",
    "        # Activation functions.\n",
    "        self.relu = nn.ReLU()\n",
    "        self.sigmoid = nn.Sigmoid()\n",
    "        \n",
    "    def forward(self, x):\n",
    "        # Pass each feature through its corresponding embedding layer.\n",
    "        x_emb = [emb(x[:, i]) for i, emb in enumerate(self.embeddings)]\n",
    "            # Concatenate all embedded features\n",
    "        x_emb = torch.cat(x_emb, dim=1)\n",
    "\n",
    "        x = self.fc1(x_emb)\n",
    "        x = self.bn1(x)\n",
    "        x = self.relu(x)\n",
    "        x = self.dropout1(x)\n",
    "        \n",
    "        x = self.fc2(x)\n",
    "        x = self.bn2(x)\n",
    "        x = self.relu(x)\n",
    "        x = self.dropout2(x)\n",
    "        \n",
    "        x = self.fc3(x)\n",
    "        x = self.bn3(x)\n",
    "        x = self.relu(x)\n",
    "        x = self.dropout3(x)\n",
    "        \n",
    "        x = self.fc4(x)\n",
    "        x = self.bn4(x)\n",
    "        x = self.relu(x)\n",
    "        x = self.dropout4(x)\n",
    "        \n",
    "        # x = self.fc5(x)\n",
    "        # x = self.bn5(x)\n",
    "        # x = self.relu(x)\n",
    "        # x = self.dropout5(x)\n",
    "        \n",
    "        # Output layer and sigmoid activation to ensure output is between 0 and 1.\n",
    "        x = self.out(x)\n",
    "        x = self.sigmoid(x)\n",
    "        return x\n",
    "            \n",
    "            # Forward pass through the three hidden layers.\n",
    "        # x = self.relu(self.fc1(x_emb))\n",
    "        # x = self.relu(self.fc2(x))\n",
    "        # x = self.relu(self.fc3(x))\n",
    "        # x = self.relu(self.fc4(x))\n",
    "        # # x = self.relu(self.fc5(x))\n",
    "            \n",
    "        #     # Final output layer and sigmoid activation ensures output is between 0 and 1.\n",
    "        # x = self.sigmoid(self.out(x))\n",
    "        # return x"
   ]
  },
  {
   "cell_type": "code",
   "execution_count": 166,
   "id": "cfb3738d-7ef4-41db-a9d1-0d020759e9b9",
   "metadata": {},
   "outputs": [
    {
     "name": "stdout",
     "output_type": "stream",
     "text": [
      "\n",
      "Model architecture:\n",
      "ThreeLevelMLP(\n",
      "  (embeddings): ModuleList(\n",
      "    (0-4): 5 x Embedding(3, 4)\n",
      "  )\n",
      "  (fc1): Linear(in_features=20, out_features=128, bias=True)\n",
      "  (bn1): BatchNorm1d(128, eps=1e-05, momentum=0.1, affine=True, track_running_stats=True)\n",
      "  (dropout1): Dropout(p=0.2, inplace=False)\n",
      "  (fc2): Linear(in_features=128, out_features=64, bias=True)\n",
      "  (bn2): BatchNorm1d(64, eps=1e-05, momentum=0.1, affine=True, track_running_stats=True)\n",
      "  (dropout2): Dropout(p=0.2, inplace=False)\n",
      "  (fc3): Linear(in_features=64, out_features=32, bias=True)\n",
      "  (bn3): BatchNorm1d(32, eps=1e-05, momentum=0.1, affine=True, track_running_stats=True)\n",
      "  (dropout3): Dropout(p=0.2, inplace=False)\n",
      "  (fc4): Linear(in_features=32, out_features=16, bias=True)\n",
      "  (bn4): BatchNorm1d(16, eps=1e-05, momentum=0.1, affine=True, track_running_stats=True)\n",
      "  (dropout4): Dropout(p=0.2, inplace=False)\n",
      "  (out): Linear(in_features=16, out_features=1, bias=True)\n",
      "  (relu): ReLU()\n",
      "  (sigmoid): Sigmoid()\n",
      ")\n"
     ]
    }
   ],
   "source": [
    "model = ThreeLevelMLP(cat_dims, emb_dims,dropout_rate = 0.2)\n",
    "print(\"\\nModel architecture:\")\n",
    "print(model)"
   ]
  },
  {
   "cell_type": "code",
   "execution_count": 168,
   "id": "c570d7fe-7635-4367-b2c3-db94c34ce430",
   "metadata": {},
   "outputs": [],
   "source": [
    "criterion = nn.MSELoss()   # Binary Cross-Entropy Loss\n",
    "optimizer = optim.Adam(model.parameters(), lr=0.001, weight_decay=1e-5)\n",
    "\n",
    "l1_lambda = 1e-5  # Strength for L1 regularization\n",
    "\n",
    "for X_batch, y_batch in train_loader:\n",
    "    optimizer.zero_grad()\n",
    "    outputs = model(X_batch).squeeze()\n",
    "    \n",
    "    # Base loss using MSELoss\n",
    "    loss = criterion(outputs, y_batch)\n",
    "    \n",
    "    # Optional: Add L1 regularization (uncomment the next two lines if needed)\n",
    "    # l1_norm = sum(p.abs().sum() for p in model.parameters())\n",
    "    # loss = loss + l1_lambda * l1_norm\n",
    "    \n",
    "    loss.backward()\n",
    "    optimizer.step()\n"
   ]
  },
  {
   "cell_type": "code",
   "execution_count": 170,
   "id": "68114494-3164-4e9e-abcc-3cbf642c92e9",
   "metadata": {},
   "outputs": [
    {
     "name": "stdout",
     "output_type": "stream",
     "text": [
      "Epoch 1/200 | Train Loss: 0.0225 | Test MSE: 0.0201 | Test MAE: 0.1157 | Test R2: 0.5424\n",
      "Epoch 2/200 | Train Loss: 0.0216 | Test MSE: 0.0201 | Test MAE: 0.1154 | Test R2: 0.5437\n",
      "Epoch 3/200 | Train Loss: 0.0215 | Test MSE: 0.0199 | Test MAE: 0.1150 | Test R2: 0.5464\n",
      "Epoch 4/200 | Train Loss: 0.0211 | Test MSE: 0.0200 | Test MAE: 0.1149 | Test R2: 0.5450\n",
      "Epoch 5/200 | Train Loss: 0.0208 | Test MSE: 0.0199 | Test MAE: 0.1149 | Test R2: 0.5470\n",
      "Epoch 6/200 | Train Loss: 0.0210 | Test MSE: 0.0199 | Test MAE: 0.1146 | Test R2: 0.5462\n",
      "Epoch 7/200 | Train Loss: 0.0207 | Test MSE: 0.0199 | Test MAE: 0.1141 | Test R2: 0.5482\n",
      "Epoch 8/200 | Train Loss: 0.0207 | Test MSE: 0.0197 | Test MAE: 0.1135 | Test R2: 0.5509\n",
      "Epoch 9/200 | Train Loss: 0.0211 | Test MSE: 0.0198 | Test MAE: 0.1135 | Test R2: 0.5503\n",
      "Epoch 10/200 | Train Loss: 0.0205 | Test MSE: 0.0198 | Test MAE: 0.1138 | Test R2: 0.5485\n",
      "Epoch 11/200 | Train Loss: 0.0206 | Test MSE: 0.0200 | Test MAE: 0.1151 | Test R2: 0.5448\n",
      "Epoch 12/200 | Train Loss: 0.0206 | Test MSE: 0.0200 | Test MAE: 0.1152 | Test R2: 0.5444\n",
      "Epoch 13/200 | Train Loss: 0.0207 | Test MSE: 0.0199 | Test MAE: 0.1143 | Test R2: 0.5482\n",
      "Epoch 14/200 | Train Loss: 0.0207 | Test MSE: 0.0197 | Test MAE: 0.1139 | Test R2: 0.5511\n",
      "Epoch 15/200 | Train Loss: 0.0205 | Test MSE: 0.0199 | Test MAE: 0.1145 | Test R2: 0.5471\n",
      "Epoch 16/200 | Train Loss: 0.0205 | Test MSE: 0.0201 | Test MAE: 0.1152 | Test R2: 0.5437\n",
      "Epoch 17/200 | Train Loss: 0.0205 | Test MSE: 0.0197 | Test MAE: 0.1135 | Test R2: 0.5516\n",
      "Epoch 18/200 | Train Loss: 0.0202 | Test MSE: 0.0197 | Test MAE: 0.1131 | Test R2: 0.5521\n",
      "Epoch 19/200 | Train Loss: 0.0205 | Test MSE: 0.0198 | Test MAE: 0.1139 | Test R2: 0.5494\n",
      "Epoch 20/200 | Train Loss: 0.0205 | Test MSE: 0.0197 | Test MAE: 0.1136 | Test R2: 0.5521\n",
      "Epoch 21/200 | Train Loss: 0.0207 | Test MSE: 0.0199 | Test MAE: 0.1149 | Test R2: 0.5463\n",
      "Epoch 22/200 | Train Loss: 0.0202 | Test MSE: 0.0199 | Test MAE: 0.1138 | Test R2: 0.5483\n",
      "Epoch 23/200 | Train Loss: 0.0205 | Test MSE: 0.0198 | Test MAE: 0.1140 | Test R2: 0.5492\n",
      "Epoch 24/200 | Train Loss: 0.0203 | Test MSE: 0.0198 | Test MAE: 0.1144 | Test R2: 0.5484\n",
      "Epoch 25/200 | Train Loss: 0.0206 | Test MSE: 0.0200 | Test MAE: 0.1148 | Test R2: 0.5459\n",
      "Epoch 26/200 | Train Loss: 0.0205 | Test MSE: 0.0197 | Test MAE: 0.1136 | Test R2: 0.5510\n",
      "Epoch 27/200 | Train Loss: 0.0204 | Test MSE: 0.0198 | Test MAE: 0.1139 | Test R2: 0.5496\n",
      "Epoch 28/200 | Train Loss: 0.0202 | Test MSE: 0.0199 | Test MAE: 0.1146 | Test R2: 0.5466\n",
      "Epoch 29/200 | Train Loss: 0.0203 | Test MSE: 0.0197 | Test MAE: 0.1137 | Test R2: 0.5512\n",
      "Epoch 30/200 | Train Loss: 0.0201 | Test MSE: 0.0198 | Test MAE: 0.1136 | Test R2: 0.5484\n",
      "Epoch 31/200 | Train Loss: 0.0204 | Test MSE: 0.0196 | Test MAE: 0.1132 | Test R2: 0.5534\n",
      "Epoch 32/200 | Train Loss: 0.0199 | Test MSE: 0.0201 | Test MAE: 0.1156 | Test R2: 0.5434\n",
      "Epoch 33/200 | Train Loss: 0.0203 | Test MSE: 0.0197 | Test MAE: 0.1140 | Test R2: 0.5509\n",
      "Epoch 34/200 | Train Loss: 0.0202 | Test MSE: 0.0197 | Test MAE: 0.1135 | Test R2: 0.5511\n",
      "Epoch 35/200 | Train Loss: 0.0203 | Test MSE: 0.0197 | Test MAE: 0.1131 | Test R2: 0.5506\n",
      "Epoch 36/200 | Train Loss: 0.0202 | Test MSE: 0.0198 | Test MAE: 0.1131 | Test R2: 0.5488\n",
      "Epoch 37/200 | Train Loss: 0.0203 | Test MSE: 0.0201 | Test MAE: 0.1154 | Test R2: 0.5425\n",
      "Epoch 38/200 | Train Loss: 0.0204 | Test MSE: 0.0199 | Test MAE: 0.1149 | Test R2: 0.5463\n",
      "Epoch 39/200 | Train Loss: 0.0203 | Test MSE: 0.0200 | Test MAE: 0.1149 | Test R2: 0.5448\n",
      "Epoch 40/200 | Train Loss: 0.0203 | Test MSE: 0.0199 | Test MAE: 0.1142 | Test R2: 0.5478\n",
      "Epoch 41/200 | Train Loss: 0.0198 | Test MSE: 0.0197 | Test MAE: 0.1133 | Test R2: 0.5522\n",
      "Epoch 42/200 | Train Loss: 0.0204 | Test MSE: 0.0199 | Test MAE: 0.1139 | Test R2: 0.5476\n",
      "Epoch 43/200 | Train Loss: 0.0198 | Test MSE: 0.0198 | Test MAE: 0.1135 | Test R2: 0.5489\n",
      "Epoch 44/200 | Train Loss: 0.0200 | Test MSE: 0.0199 | Test MAE: 0.1146 | Test R2: 0.5471\n",
      "Epoch 45/200 | Train Loss: 0.0201 | Test MSE: 0.0198 | Test MAE: 0.1134 | Test R2: 0.5499\n",
      "Epoch 46/200 | Train Loss: 0.0199 | Test MSE: 0.0200 | Test MAE: 0.1141 | Test R2: 0.5461\n",
      "Epoch 47/200 | Train Loss: 0.0201 | Test MSE: 0.0197 | Test MAE: 0.1134 | Test R2: 0.5507\n",
      "Epoch 48/200 | Train Loss: 0.0202 | Test MSE: 0.0197 | Test MAE: 0.1131 | Test R2: 0.5519\n",
      "Epoch 49/200 | Train Loss: 0.0202 | Test MSE: 0.0198 | Test MAE: 0.1133 | Test R2: 0.5492\n",
      "Epoch 50/200 | Train Loss: 0.0198 | Test MSE: 0.0200 | Test MAE: 0.1147 | Test R2: 0.5458\n",
      "Epoch 51/200 | Train Loss: 0.0199 | Test MSE: 0.0197 | Test MAE: 0.1138 | Test R2: 0.5514\n",
      "Epoch 52/200 | Train Loss: 0.0201 | Test MSE: 0.0201 | Test MAE: 0.1150 | Test R2: 0.5438\n",
      "Epoch 53/200 | Train Loss: 0.0203 | Test MSE: 0.0199 | Test MAE: 0.1148 | Test R2: 0.5464\n",
      "Epoch 54/200 | Train Loss: 0.0202 | Test MSE: 0.0198 | Test MAE: 0.1141 | Test R2: 0.5485\n",
      "Epoch 55/200 | Train Loss: 0.0203 | Test MSE: 0.0199 | Test MAE: 0.1146 | Test R2: 0.5470\n",
      "Epoch 56/200 | Train Loss: 0.0200 | Test MSE: 0.0197 | Test MAE: 0.1141 | Test R2: 0.5511\n",
      "Epoch 57/200 | Train Loss: 0.0202 | Test MSE: 0.0200 | Test MAE: 0.1146 | Test R2: 0.5459\n",
      "Epoch 58/200 | Train Loss: 0.0200 | Test MSE: 0.0198 | Test MAE: 0.1142 | Test R2: 0.5493\n",
      "Epoch 59/200 | Train Loss: 0.0196 | Test MSE: 0.0198 | Test MAE: 0.1134 | Test R2: 0.5501\n",
      "Epoch 60/200 | Train Loss: 0.0199 | Test MSE: 0.0202 | Test MAE: 0.1156 | Test R2: 0.5414\n",
      "Epoch 61/200 | Train Loss: 0.0200 | Test MSE: 0.0200 | Test MAE: 0.1138 | Test R2: 0.5454\n",
      "Epoch 62/200 | Train Loss: 0.0200 | Test MSE: 0.0199 | Test MAE: 0.1144 | Test R2: 0.5480\n",
      "Epoch 63/200 | Train Loss: 0.0200 | Test MSE: 0.0197 | Test MAE: 0.1135 | Test R2: 0.5520\n",
      "Epoch 64/200 | Train Loss: 0.0202 | Test MSE: 0.0199 | Test MAE: 0.1140 | Test R2: 0.5463\n",
      "Epoch 65/200 | Train Loss: 0.0199 | Test MSE: 0.0199 | Test MAE: 0.1141 | Test R2: 0.5483\n",
      "Epoch 66/200 | Train Loss: 0.0202 | Test MSE: 0.0199 | Test MAE: 0.1139 | Test R2: 0.5461\n",
      "Epoch 67/200 | Train Loss: 0.0201 | Test MSE: 0.0196 | Test MAE: 0.1130 | Test R2: 0.5530\n",
      "Epoch 68/200 | Train Loss: 0.0198 | Test MSE: 0.0198 | Test MAE: 0.1129 | Test R2: 0.5506\n",
      "Epoch 69/200 | Train Loss: 0.0201 | Test MSE: 0.0198 | Test MAE: 0.1137 | Test R2: 0.5484\n",
      "Epoch 70/200 | Train Loss: 0.0202 | Test MSE: 0.0197 | Test MAE: 0.1131 | Test R2: 0.5518\n",
      "Epoch 71/200 | Train Loss: 0.0198 | Test MSE: 0.0197 | Test MAE: 0.1132 | Test R2: 0.5514\n",
      "Epoch 72/200 | Train Loss: 0.0200 | Test MSE: 0.0196 | Test MAE: 0.1126 | Test R2: 0.5538\n",
      "Epoch 73/200 | Train Loss: 0.0201 | Test MSE: 0.0199 | Test MAE: 0.1148 | Test R2: 0.5462\n",
      "Epoch 74/200 | Train Loss: 0.0203 | Test MSE: 0.0197 | Test MAE: 0.1133 | Test R2: 0.5512\n",
      "Epoch 75/200 | Train Loss: 0.0198 | Test MSE: 0.0198 | Test MAE: 0.1139 | Test R2: 0.5495\n",
      "Epoch 76/200 | Train Loss: 0.0199 | Test MSE: 0.0197 | Test MAE: 0.1136 | Test R2: 0.5524\n",
      "Epoch 77/200 | Train Loss: 0.0200 | Test MSE: 0.0197 | Test MAE: 0.1135 | Test R2: 0.5507\n",
      "Epoch 78/200 | Train Loss: 0.0201 | Test MSE: 0.0198 | Test MAE: 0.1133 | Test R2: 0.5505\n",
      "Epoch 79/200 | Train Loss: 0.0202 | Test MSE: 0.0196 | Test MAE: 0.1129 | Test R2: 0.5537\n",
      "Epoch 80/200 | Train Loss: 0.0201 | Test MSE: 0.0198 | Test MAE: 0.1135 | Test R2: 0.5484\n",
      "Epoch 81/200 | Train Loss: 0.0201 | Test MSE: 0.0197 | Test MAE: 0.1128 | Test R2: 0.5512\n",
      "Epoch 82/200 | Train Loss: 0.0200 | Test MSE: 0.0198 | Test MAE: 0.1138 | Test R2: 0.5493\n",
      "Epoch 83/200 | Train Loss: 0.0200 | Test MSE: 0.0197 | Test MAE: 0.1125 | Test R2: 0.5517\n",
      "Epoch 84/200 | Train Loss: 0.0203 | Test MSE: 0.0196 | Test MAE: 0.1126 | Test R2: 0.5534\n",
      "Epoch 85/200 | Train Loss: 0.0204 | Test MSE: 0.0198 | Test MAE: 0.1132 | Test R2: 0.5504\n",
      "Epoch 86/200 | Train Loss: 0.0198 | Test MSE: 0.0197 | Test MAE: 0.1129 | Test R2: 0.5524\n",
      "Epoch 87/200 | Train Loss: 0.0201 | Test MSE: 0.0200 | Test MAE: 0.1143 | Test R2: 0.5456\n",
      "Epoch 88/200 | Train Loss: 0.0200 | Test MSE: 0.0198 | Test MAE: 0.1137 | Test R2: 0.5485\n",
      "Epoch 89/200 | Train Loss: 0.0199 | Test MSE: 0.0197 | Test MAE: 0.1136 | Test R2: 0.5520\n",
      "Epoch 90/200 | Train Loss: 0.0197 | Test MSE: 0.0198 | Test MAE: 0.1129 | Test R2: 0.5502\n",
      "Epoch 91/200 | Train Loss: 0.0199 | Test MSE: 0.0196 | Test MAE: 0.1128 | Test R2: 0.5540\n",
      "Epoch 92/200 | Train Loss: 0.0200 | Test MSE: 0.0197 | Test MAE: 0.1134 | Test R2: 0.5520\n",
      "Epoch 93/200 | Train Loss: 0.0204 | Test MSE: 0.0198 | Test MAE: 0.1130 | Test R2: 0.5492\n",
      "Epoch 94/200 | Train Loss: 0.0201 | Test MSE: 0.0198 | Test MAE: 0.1134 | Test R2: 0.5494\n",
      "Epoch 95/200 | Train Loss: 0.0202 | Test MSE: 0.0198 | Test MAE: 0.1142 | Test R2: 0.5498\n",
      "Epoch 96/200 | Train Loss: 0.0202 | Test MSE: 0.0199 | Test MAE: 0.1143 | Test R2: 0.5476\n",
      "Epoch 97/200 | Train Loss: 0.0200 | Test MSE: 0.0196 | Test MAE: 0.1130 | Test R2: 0.5530\n",
      "Epoch 98/200 | Train Loss: 0.0199 | Test MSE: 0.0199 | Test MAE: 0.1136 | Test R2: 0.5469\n",
      "Epoch 99/200 | Train Loss: 0.0203 | Test MSE: 0.0199 | Test MAE: 0.1142 | Test R2: 0.5476\n",
      "Epoch 100/200 | Train Loss: 0.0199 | Test MSE: 0.0199 | Test MAE: 0.1141 | Test R2: 0.5483\n",
      "Epoch 101/200 | Train Loss: 0.0198 | Test MSE: 0.0197 | Test MAE: 0.1131 | Test R2: 0.5526\n",
      "Epoch 102/200 | Train Loss: 0.0199 | Test MSE: 0.0198 | Test MAE: 0.1141 | Test R2: 0.5484\n",
      "Epoch 103/200 | Train Loss: 0.0199 | Test MSE: 0.0198 | Test MAE: 0.1131 | Test R2: 0.5501\n",
      "Epoch 104/200 | Train Loss: 0.0197 | Test MSE: 0.0198 | Test MAE: 0.1140 | Test R2: 0.5491\n",
      "Epoch 105/200 | Train Loss: 0.0201 | Test MSE: 0.0198 | Test MAE: 0.1141 | Test R2: 0.5496\n",
      "Epoch 106/200 | Train Loss: 0.0199 | Test MSE: 0.0199 | Test MAE: 0.1139 | Test R2: 0.5481\n",
      "Epoch 107/200 | Train Loss: 0.0199 | Test MSE: 0.0198 | Test MAE: 0.1137 | Test R2: 0.5506\n",
      "Epoch 108/200 | Train Loss: 0.0199 | Test MSE: 0.0196 | Test MAE: 0.1130 | Test R2: 0.5531\n",
      "Epoch 109/200 | Train Loss: 0.0198 | Test MSE: 0.0198 | Test MAE: 0.1135 | Test R2: 0.5498\n",
      "Epoch 110/200 | Train Loss: 0.0201 | Test MSE: 0.0198 | Test MAE: 0.1140 | Test R2: 0.5490\n",
      "Epoch 111/200 | Train Loss: 0.0202 | Test MSE: 0.0198 | Test MAE: 0.1136 | Test R2: 0.5484\n",
      "Epoch 112/200 | Train Loss: 0.0200 | Test MSE: 0.0198 | Test MAE: 0.1135 | Test R2: 0.5498\n",
      "Epoch 113/200 | Train Loss: 0.0199 | Test MSE: 0.0197 | Test MAE: 0.1135 | Test R2: 0.5508\n",
      "Epoch 114/200 | Train Loss: 0.0198 | Test MSE: 0.0197 | Test MAE: 0.1130 | Test R2: 0.5516\n",
      "Epoch 115/200 | Train Loss: 0.0202 | Test MSE: 0.0198 | Test MAE: 0.1133 | Test R2: 0.5498\n",
      "Epoch 116/200 | Train Loss: 0.0201 | Test MSE: 0.0198 | Test MAE: 0.1143 | Test R2: 0.5488\n",
      "Epoch 117/200 | Train Loss: 0.0202 | Test MSE: 0.0197 | Test MAE: 0.1126 | Test R2: 0.5520\n",
      "Epoch 118/200 | Train Loss: 0.0204 | Test MSE: 0.0198 | Test MAE: 0.1135 | Test R2: 0.5503\n",
      "Epoch 119/200 | Train Loss: 0.0198 | Test MSE: 0.0196 | Test MAE: 0.1129 | Test R2: 0.5535\n",
      "Epoch 120/200 | Train Loss: 0.0201 | Test MSE: 0.0198 | Test MAE: 0.1138 | Test R2: 0.5491\n",
      "Epoch 121/200 | Train Loss: 0.0203 | Test MSE: 0.0198 | Test MAE: 0.1138 | Test R2: 0.5488\n",
      "Epoch 122/200 | Train Loss: 0.0201 | Test MSE: 0.0199 | Test MAE: 0.1145 | Test R2: 0.5475\n",
      "Epoch 123/200 | Train Loss: 0.0201 | Test MSE: 0.0197 | Test MAE: 0.1137 | Test R2: 0.5511\n",
      "Epoch 124/200 | Train Loss: 0.0201 | Test MSE: 0.0201 | Test MAE: 0.1140 | Test R2: 0.5429\n",
      "Epoch 125/200 | Train Loss: 0.0199 | Test MSE: 0.0198 | Test MAE: 0.1137 | Test R2: 0.5488\n",
      "Epoch 126/200 | Train Loss: 0.0200 | Test MSE: 0.0196 | Test MAE: 0.1129 | Test R2: 0.5529\n",
      "Epoch 127/200 | Train Loss: 0.0200 | Test MSE: 0.0199 | Test MAE: 0.1138 | Test R2: 0.5478\n",
      "Epoch 128/200 | Train Loss: 0.0199 | Test MSE: 0.0198 | Test MAE: 0.1129 | Test R2: 0.5503\n",
      "Epoch 129/200 | Train Loss: 0.0196 | Test MSE: 0.0199 | Test MAE: 0.1144 | Test R2: 0.5474\n",
      "Epoch 130/200 | Train Loss: 0.0201 | Test MSE: 0.0198 | Test MAE: 0.1135 | Test R2: 0.5502\n",
      "Epoch 131/200 | Train Loss: 0.0199 | Test MSE: 0.0197 | Test MAE: 0.1131 | Test R2: 0.5519\n",
      "Epoch 132/200 | Train Loss: 0.0200 | Test MSE: 0.0197 | Test MAE: 0.1135 | Test R2: 0.5512\n",
      "Epoch 133/200 | Train Loss: 0.0203 | Test MSE: 0.0198 | Test MAE: 0.1141 | Test R2: 0.5495\n",
      "Epoch 134/200 | Train Loss: 0.0200 | Test MSE: 0.0199 | Test MAE: 0.1146 | Test R2: 0.5472\n",
      "Epoch 135/200 | Train Loss: 0.0200 | Test MSE: 0.0198 | Test MAE: 0.1142 | Test R2: 0.5491\n",
      "Epoch 136/200 | Train Loss: 0.0204 | Test MSE: 0.0197 | Test MAE: 0.1133 | Test R2: 0.5507\n",
      "Epoch 137/200 | Train Loss: 0.0201 | Test MSE: 0.0197 | Test MAE: 0.1135 | Test R2: 0.5515\n",
      "Epoch 138/200 | Train Loss: 0.0198 | Test MSE: 0.0197 | Test MAE: 0.1134 | Test R2: 0.5525\n",
      "Epoch 139/200 | Train Loss: 0.0200 | Test MSE: 0.0196 | Test MAE: 0.1128 | Test R2: 0.5530\n",
      "Epoch 140/200 | Train Loss: 0.0200 | Test MSE: 0.0199 | Test MAE: 0.1147 | Test R2: 0.5479\n",
      "Epoch 141/200 | Train Loss: 0.0199 | Test MSE: 0.0201 | Test MAE: 0.1146 | Test R2: 0.5431\n",
      "Epoch 142/200 | Train Loss: 0.0198 | Test MSE: 0.0199 | Test MAE: 0.1143 | Test R2: 0.5475\n",
      "Epoch 143/200 | Train Loss: 0.0199 | Test MSE: 0.0198 | Test MAE: 0.1136 | Test R2: 0.5503\n",
      "Epoch 144/200 | Train Loss: 0.0198 | Test MSE: 0.0197 | Test MAE: 0.1136 | Test R2: 0.5515\n",
      "Epoch 145/200 | Train Loss: 0.0201 | Test MSE: 0.0197 | Test MAE: 0.1139 | Test R2: 0.5509\n",
      "Epoch 146/200 | Train Loss: 0.0196 | Test MSE: 0.0198 | Test MAE: 0.1138 | Test R2: 0.5493\n",
      "Epoch 147/200 | Train Loss: 0.0199 | Test MSE: 0.0199 | Test MAE: 0.1142 | Test R2: 0.5470\n",
      "Epoch 148/200 | Train Loss: 0.0198 | Test MSE: 0.0198 | Test MAE: 0.1138 | Test R2: 0.5501\n",
      "Epoch 149/200 | Train Loss: 0.0200 | Test MSE: 0.0200 | Test MAE: 0.1142 | Test R2: 0.5450\n",
      "Epoch 150/200 | Train Loss: 0.0198 | Test MSE: 0.0197 | Test MAE: 0.1130 | Test R2: 0.5523\n",
      "Epoch 151/200 | Train Loss: 0.0196 | Test MSE: 0.0198 | Test MAE: 0.1138 | Test R2: 0.5497\n",
      "Epoch 152/200 | Train Loss: 0.0202 | Test MSE: 0.0197 | Test MAE: 0.1130 | Test R2: 0.5522\n",
      "Epoch 153/200 | Train Loss: 0.0199 | Test MSE: 0.0198 | Test MAE: 0.1131 | Test R2: 0.5500\n",
      "Epoch 154/200 | Train Loss: 0.0197 | Test MSE: 0.0198 | Test MAE: 0.1130 | Test R2: 0.5500\n",
      "Epoch 155/200 | Train Loss: 0.0201 | Test MSE: 0.0198 | Test MAE: 0.1137 | Test R2: 0.5497\n",
      "Epoch 156/200 | Train Loss: 0.0202 | Test MSE: 0.0197 | Test MAE: 0.1132 | Test R2: 0.5516\n",
      "Epoch 157/200 | Train Loss: 0.0198 | Test MSE: 0.0199 | Test MAE: 0.1139 | Test R2: 0.5481\n",
      "Epoch 158/200 | Train Loss: 0.0201 | Test MSE: 0.0198 | Test MAE: 0.1137 | Test R2: 0.5496\n",
      "Epoch 159/200 | Train Loss: 0.0200 | Test MSE: 0.0198 | Test MAE: 0.1139 | Test R2: 0.5494\n",
      "Epoch 160/200 | Train Loss: 0.0199 | Test MSE: 0.0198 | Test MAE: 0.1136 | Test R2: 0.5502\n",
      "Epoch 161/200 | Train Loss: 0.0198 | Test MSE: 0.0197 | Test MAE: 0.1137 | Test R2: 0.5509\n",
      "Epoch 162/200 | Train Loss: 0.0200 | Test MSE: 0.0197 | Test MAE: 0.1135 | Test R2: 0.5507\n",
      "Epoch 163/200 | Train Loss: 0.0199 | Test MSE: 0.0199 | Test MAE: 0.1142 | Test R2: 0.5477\n",
      "Epoch 164/200 | Train Loss: 0.0201 | Test MSE: 0.0198 | Test MAE: 0.1134 | Test R2: 0.5495\n",
      "Epoch 165/200 | Train Loss: 0.0198 | Test MSE: 0.0197 | Test MAE: 0.1134 | Test R2: 0.5522\n",
      "Epoch 166/200 | Train Loss: 0.0200 | Test MSE: 0.0197 | Test MAE: 0.1132 | Test R2: 0.5507\n",
      "Epoch 167/200 | Train Loss: 0.0200 | Test MSE: 0.0198 | Test MAE: 0.1138 | Test R2: 0.5493\n",
      "Epoch 168/200 | Train Loss: 0.0199 | Test MSE: 0.0197 | Test MAE: 0.1138 | Test R2: 0.5514\n",
      "Epoch 169/200 | Train Loss: 0.0201 | Test MSE: 0.0197 | Test MAE: 0.1135 | Test R2: 0.5523\n",
      "Epoch 170/200 | Train Loss: 0.0199 | Test MSE: 0.0197 | Test MAE: 0.1132 | Test R2: 0.5524\n",
      "Epoch 171/200 | Train Loss: 0.0201 | Test MSE: 0.0197 | Test MAE: 0.1129 | Test R2: 0.5526\n",
      "Epoch 172/200 | Train Loss: 0.0199 | Test MSE: 0.0198 | Test MAE: 0.1137 | Test R2: 0.5505\n",
      "Epoch 173/200 | Train Loss: 0.0198 | Test MSE: 0.0197 | Test MAE: 0.1131 | Test R2: 0.5522\n",
      "Epoch 174/200 | Train Loss: 0.0201 | Test MSE: 0.0198 | Test MAE: 0.1139 | Test R2: 0.5503\n",
      "Epoch 175/200 | Train Loss: 0.0201 | Test MSE: 0.0197 | Test MAE: 0.1135 | Test R2: 0.5512\n",
      "Epoch 176/200 | Train Loss: 0.0199 | Test MSE: 0.0198 | Test MAE: 0.1135 | Test R2: 0.5502\n",
      "Epoch 177/200 | Train Loss: 0.0199 | Test MSE: 0.0196 | Test MAE: 0.1131 | Test R2: 0.5534\n",
      "Epoch 178/200 | Train Loss: 0.0199 | Test MSE: 0.0197 | Test MAE: 0.1134 | Test R2: 0.5515\n",
      "Epoch 179/200 | Train Loss: 0.0200 | Test MSE: 0.0197 | Test MAE: 0.1128 | Test R2: 0.5517\n",
      "Epoch 180/200 | Train Loss: 0.0201 | Test MSE: 0.0198 | Test MAE: 0.1132 | Test R2: 0.5500\n",
      "Epoch 181/200 | Train Loss: 0.0196 | Test MSE: 0.0199 | Test MAE: 0.1148 | Test R2: 0.5472\n",
      "Epoch 182/200 | Train Loss: 0.0200 | Test MSE: 0.0197 | Test MAE: 0.1133 | Test R2: 0.5507\n",
      "Epoch 183/200 | Train Loss: 0.0200 | Test MSE: 0.0197 | Test MAE: 0.1132 | Test R2: 0.5517\n",
      "Epoch 184/200 | Train Loss: 0.0197 | Test MSE: 0.0197 | Test MAE: 0.1137 | Test R2: 0.5514\n",
      "Epoch 185/200 | Train Loss: 0.0199 | Test MSE: 0.0198 | Test MAE: 0.1132 | Test R2: 0.5501\n",
      "Epoch 186/200 | Train Loss: 0.0200 | Test MSE: 0.0199 | Test MAE: 0.1136 | Test R2: 0.5483\n",
      "Epoch 187/200 | Train Loss: 0.0201 | Test MSE: 0.0198 | Test MAE: 0.1141 | Test R2: 0.5495\n",
      "Epoch 188/200 | Train Loss: 0.0200 | Test MSE: 0.0197 | Test MAE: 0.1130 | Test R2: 0.5522\n",
      "Epoch 189/200 | Train Loss: 0.0201 | Test MSE: 0.0198 | Test MAE: 0.1137 | Test R2: 0.5506\n",
      "Epoch 190/200 | Train Loss: 0.0199 | Test MSE: 0.0196 | Test MAE: 0.1130 | Test R2: 0.5537\n",
      "Epoch 191/200 | Train Loss: 0.0199 | Test MSE: 0.0199 | Test MAE: 0.1142 | Test R2: 0.5478\n",
      "Epoch 192/200 | Train Loss: 0.0199 | Test MSE: 0.0197 | Test MAE: 0.1131 | Test R2: 0.5510\n",
      "Epoch 193/200 | Train Loss: 0.0199 | Test MSE: 0.0197 | Test MAE: 0.1134 | Test R2: 0.5525\n",
      "Epoch 194/200 | Train Loss: 0.0196 | Test MSE: 0.0198 | Test MAE: 0.1141 | Test R2: 0.5490\n",
      "Epoch 195/200 | Train Loss: 0.0199 | Test MSE: 0.0198 | Test MAE: 0.1135 | Test R2: 0.5491\n",
      "Epoch 196/200 | Train Loss: 0.0198 | Test MSE: 0.0197 | Test MAE: 0.1132 | Test R2: 0.5527\n",
      "Epoch 197/200 | Train Loss: 0.0197 | Test MSE: 0.0199 | Test MAE: 0.1136 | Test R2: 0.5471\n",
      "Epoch 198/200 | Train Loss: 0.0198 | Test MSE: 0.0197 | Test MAE: 0.1133 | Test R2: 0.5510\n",
      "Epoch 199/200 | Train Loss: 0.0198 | Test MSE: 0.0197 | Test MAE: 0.1133 | Test R2: 0.5515\n",
      "Epoch 200/200 | Train Loss: 0.0200 | Test MSE: 0.0196 | Test MAE: 0.1133 | Test R2: 0.5529\n"
     ]
    }
   ],
   "source": [
    "\n",
    "num_epochs = 200\n",
    "train_losses = []\n",
    "test_mse_list = []\n",
    "test_mae_list = []\n",
    "test_r2_list = []\n",
    "\n",
    "for epoch in range(num_epochs):\n",
    "    model.train()\n",
    "    running_loss = 0.0\n",
    "    for X_batch, y_batch in train_loader:\n",
    "        optimizer.zero_grad()\n",
    "        outputs = model(X_batch).squeeze()\n",
    "        loss = criterion(outputs, y_batch)\n",
    "        loss.backward()\n",
    "        optimizer.step()\n",
    "        running_loss += loss.item() * X_batch.size(0)\n",
    "    \n",
    "    epoch_train_loss = running_loss / len(train_dataset)\n",
    "    train_losses.append(epoch_train_loss)\n",
    "    \n",
    "    model.eval()\n",
    "    all_predictions = []\n",
    "    all_targets = []\n",
    "    running_test_loss = 0.0\n",
    "    with torch.no_grad():\n",
    "        for X_batch, y_batch in test_loader:\n",
    "            outputs = model(X_batch).squeeze()\n",
    "            loss = criterion(outputs, y_batch)\n",
    "            running_test_loss += loss.item() * X_batch.size(0)\n",
    "            all_predictions.extend(outputs.cpu().numpy())\n",
    "            all_targets.extend(y_batch.cpu().numpy())\n",
    "    \n",
    "    epoch_test_loss = running_test_loss / len(test_dataset)\n",
    "    # Calculate additional regression metrics\n",
    "    epoch_mse = mean_squared_error(all_targets, all_predictions)\n",
    "    epoch_mae = mean_absolute_error(all_targets, all_predictions)\n",
    "    epoch_r2 = r2_score(all_targets, all_predictions)\n",
    "    \n",
    "    test_mse_list.append(epoch_mse)\n",
    "    test_mae_list.append(epoch_mae)\n",
    "    test_r2_list.append(epoch_r2)\n",
    "    \n",
    "    print(f\"Epoch {epoch+1}/{num_epochs} | Train Loss: {epoch_train_loss:.4f} | \"\n",
    "          f\"Test MSE: {epoch_mse:.4f} | Test MAE: {epoch_mae:.4f} | Test R2: {epoch_r2:.4f}\")\n"
   ]
  },
  {
   "cell_type": "code",
   "execution_count": 172,
   "id": "776739ef-db52-4088-98aa-9e4de58f29fa",
   "metadata": {},
   "outputs": [],
   "source": [
    "# model = ThreeLevelMLP(cat_dims, emb_dims).to('cpu')\n",
    "# optimizer = optim.Adam(model.parameters(), lr=1e-3, weight_decay=1e-5)\n",
    "# criterion = nn.BCELoss()\n",
    "\n",
    "# # 6) Training loop\n",
    "# num_epochs = 20\n",
    "# for epoch in range(num_epochs):\n",
    "#     model.train()\n",
    "#     total_loss = 0.0\n",
    "#     for Xb, yb in train_loader:\n",
    "#         optimizer.zero_grad()\n",
    "#         preds = model(Xb)\n",
    "#         loss  = criterion(preds, yb)\n",
    "#         loss.backward()\n",
    "#         optimizer.step()\n",
    "#         total_loss += loss.item() * Xb.size(0)\n",
    "#     avg = total_loss / len(train_dataset)\n",
    "#     print(f\"Epoch {epoch+1}/{num_epochs} — train loss: {avg:.4f}\")\n"
   ]
  },
  {
   "cell_type": "code",
   "execution_count": null,
   "id": "e819b1eb-3674-4ac4-b902-eab40956b6d9",
   "metadata": {},
   "outputs": [],
   "source": [
    "\n"
   ]
  },
  {
   "cell_type": "code",
   "execution_count": 174,
   "id": "0a8f18e1-d34a-41f0-b6ed-ce1ef7ca9f9e",
   "metadata": {},
   "outputs": [
    {
     "name": "stdout",
     "output_type": "stream",
     "text": [
      "\n",
      "Final Test Loss (MSE): 0.0196\n"
     ]
    }
   ],
   "source": [
    "final_test_loss = test_mse_list[-1]\n",
    "print(f\"\\nFinal Test Loss (MSE): {final_test_loss:.4f}\")"
   ]
  },
  {
   "cell_type": "code",
   "execution_count": 176,
   "id": "d678cddf-8522-4b2b-b0d2-e18b78209de5",
   "metadata": {},
   "outputs": [
    {
     "name": "stdout",
     "output_type": "stream",
     "text": [
      "Epoch 200/200, Training Loss: 0.0200, Test Loss: 0.0196\n"
     ]
    }
   ],
   "source": [
    " print(f\"Epoch {epoch+1}/{num_epochs}, Training Loss: {epoch_train_loss:.4f}, Test Loss: {epoch_test_loss:.4f}\")"
   ]
  },
  {
   "cell_type": "code",
   "execution_count": null,
   "id": "466f42c2-3bdb-4140-8cde-3716aca1da4a",
   "metadata": {},
   "outputs": [],
   "source": []
  },
  {
   "cell_type": "code",
   "execution_count": 178,
   "id": "f9e1d212-21cb-4a71-96e7-9a06eac253a3",
   "metadata": {},
   "outputs": [
    {
     "name": "stdout",
     "output_type": "stream",
     "text": [
      "\n",
      "Final Test Metrics:\n",
      "Final Test MSE: 0.0196\n",
      "Final Test MAE: 0.1133\n",
      "Final Test R²: 0.5529\n"
     ]
    }
   ],
   "source": [
    "final_mse = test_mse_list[-1]\n",
    "final_mae = test_mae_list[-1]\n",
    "final_r2 = test_r2_list[-1]\n",
    "print(\"\\nFinal Test Metrics:\")\n",
    "print(f\"Final Test MSE: {final_mse:.4f}\")\n",
    "print(f\"Final Test MAE: {final_mae:.4f}\")\n",
    "print(f\"Final Test R²: {final_r2:.4f}\")\n"
   ]
  },
  {
   "cell_type": "code",
   "execution_count": 43,
   "id": "afd32079-408a-4cde-a777-01877f013e25",
   "metadata": {},
   "outputs": [],
   "source": [
    "# from sklearn.metrics import mean_squared_error, mean_absolute_error, r2_score\n"
   ]
  },
  {
   "cell_type": "code",
   "execution_count": 43,
   "id": "d1ed6317-98d7-43fc-8834-a04447a4183c",
   "metadata": {},
   "outputs": [],
   "source": [
    "# print(f\"\\nFinal Evaluation Metrics:\")\n",
    "# print(f\"Mean Squared Error (MSE): {mse:.4f}\")\n",
    "# print(f\"Mean Absolute Error (MAE): {mae:.4f}\")\n",
    "# print(f\"R² Score: {r2:.4f}\")"
   ]
  },
  {
   "cell_type": "code",
   "execution_count": null,
   "id": "b3db45d3-2fa3-4341-839b-2dd2112359c7",
   "metadata": {},
   "outputs": [],
   "source": []
  },
  {
   "cell_type": "code",
   "execution_count": 50,
   "id": "bd4a890a-1e0a-4993-ae41-73b0dca2af59",
   "metadata": {},
   "outputs": [
    {
     "data": {
      "image/png": "[encoded data removed]",
      "text/plain": [
       "<Figure size 800x600 with 1 Axes>"
      ]
     },
     "metadata": {},
     "output_type": "display_data"
    }
   ],
   "source": [
    "epochs = range(1, num_epochs+1)  # This will be range(1, 3) in your case\n",
    "\n",
    "plt.figure(figsize=(8, 6))\n",
    "plt.plot(epochs, train_losses, label='Training Loss')\n",
    "plt.plot(epochs, test_mse_list, label='Test Loss')\n",
    "plt.xlabel('Epoch')\n",
    "plt.ylabel('Loss (MSE)')\n",
    "plt.title('Training and Test Loss Over Epochs')\n",
    "plt.legend()\n",
    "plt.show()"
   ]
  },
  {
   "cell_type": "code",
   "execution_count": 68,
   "id": "e53deabb-e280-4758-9187-b3f3870bb6da",
   "metadata": {},
   "outputs": [],
   "source": [
    "loan_mapping = {'Small': 2, 'Medium': 1, 'Large': 0}\n",
    "income_mapping = {'Low': 0, 'Medium': 1, 'High': 2}\n",
    "# education_mapping = {'High School': 0, 'Bachelor': 1, 'Master': 2}\n",
    "# Zip_mapping = {'Rural': 0, 'Suburban': 1, 'Urban': 2}\n"
   ]
  },
  {
   "cell_type": "code",
   "execution_count": 70,
   "id": "e6001dd3-546b-4822-b0f1-c56f11c78483",
   "metadata": {},
   "outputs": [],
   "source": [
    "inv_loan_mapping = {v: k for k, v in loan_mapping.items()}\n",
    "inv_income_mapping = {v: k for k, v in income_mapping.items()}\n",
    "# inv_education_mapping = {v: k for k, v in education_mapping.items()}\n",
    "# inv_Zip_mapping = {v: k for k, v in Zip_mapping.items()}"
   ]
  },
  {
   "cell_type": "code",
   "execution_count": 72,
   "id": "0bc26947-c186-412a-bebb-df42dac52a51",
   "metadata": {},
   "outputs": [],
   "source": [
    "\n",
    "X_test_df = pd.DataFrame(X_test, columns=features)"
   ]
  },
  {
   "cell_type": "code",
   "execution_count": null,
   "id": "bccf2307-1c83-4ef3-ac5e-962829eaf1a5",
   "metadata": {},
   "outputs": [],
   "source": []
  },
  {
   "cell_type": "code",
   "execution_count": 63,
   "id": "f6fd758a-7698-4da0-a0be-21e2d4faf9f1",
   "metadata": {},
   "outputs": [
    {
     "data": {
      "text/html": [
       "<div>\n",
       "<style scoped>\n",
       "    .dataframe tbody tr th:only-of-type {\n",
       "        vertical-align: middle;\n",
       "    }\n",
       "\n",
       "    .dataframe tbody tr th {\n",
       "        vertical-align: top;\n",
       "    }\n",
       "\n",
       "    .dataframe thead th {\n",
       "        text-align: right;\n",
       "    }\n",
       "</style>\n",
       "<table border=\"1\" class=\"dataframe\">\n",
       "  <thead>\n",
       "    <tr style=\"text-align: right;\">\n",
       "      <th></th>\n",
       "      <th>Credit_History</th>\n",
       "      <th>Income_Level</th>\n",
       "      <th>Loan_Amount</th>\n",
       "      <th>Zip_Code</th>\n",
       "      <th>Education_Level</th>\n",
       "    </tr>\n",
       "  </thead>\n",
       "  <tbody>\n",
       "    <tr>\n",
       "      <th>0</th>\n",
       "      <td>1</td>\n",
       "      <td>0</td>\n",
       "      <td>2</td>\n",
       "      <td>1</td>\n",
       "      <td>1</td>\n",
       "    </tr>\n",
       "    <tr>\n",
       "      <th>1</th>\n",
       "      <td>2</td>\n",
       "      <td>1</td>\n",
       "      <td>0</td>\n",
       "      <td>1</td>\n",
       "      <td>1</td>\n",
       "    </tr>\n",
       "    <tr>\n",
       "      <th>2</th>\n",
       "      <td>1</td>\n",
       "      <td>0</td>\n",
       "      <td>2</td>\n",
       "      <td>1</td>\n",
       "      <td>0</td>\n",
       "    </tr>\n",
       "    <tr>\n",
       "      <th>3</th>\n",
       "      <td>0</td>\n",
       "      <td>2</td>\n",
       "      <td>0</td>\n",
       "      <td>2</td>\n",
       "      <td>2</td>\n",
       "    </tr>\n",
       "    <tr>\n",
       "      <th>4</th>\n",
       "      <td>1</td>\n",
       "      <td>2</td>\n",
       "      <td>1</td>\n",
       "      <td>0</td>\n",
       "      <td>1</td>\n",
       "    </tr>\n",
       "    <tr>\n",
       "      <th>...</th>\n",
       "      <td>...</td>\n",
       "      <td>...</td>\n",
       "      <td>...</td>\n",
       "      <td>...</td>\n",
       "      <td>...</td>\n",
       "    </tr>\n",
       "    <tr>\n",
       "      <th>3995</th>\n",
       "      <td>0</td>\n",
       "      <td>0</td>\n",
       "      <td>1</td>\n",
       "      <td>2</td>\n",
       "      <td>2</td>\n",
       "    </tr>\n",
       "    <tr>\n",
       "      <th>3996</th>\n",
       "      <td>1</td>\n",
       "      <td>2</td>\n",
       "      <td>1</td>\n",
       "      <td>2</td>\n",
       "      <td>0</td>\n",
       "    </tr>\n",
       "    <tr>\n",
       "      <th>3997</th>\n",
       "      <td>0</td>\n",
       "      <td>2</td>\n",
       "      <td>1</td>\n",
       "      <td>0</td>\n",
       "      <td>1</td>\n",
       "    </tr>\n",
       "    <tr>\n",
       "      <th>3998</th>\n",
       "      <td>1</td>\n",
       "      <td>1</td>\n",
       "      <td>0</td>\n",
       "      <td>2</td>\n",
       "      <td>0</td>\n",
       "    </tr>\n",
       "    <tr>\n",
       "      <th>3999</th>\n",
       "      <td>1</td>\n",
       "      <td>0</td>\n",
       "      <td>1</td>\n",
       "      <td>2</td>\n",
       "      <td>0</td>\n",
       "    </tr>\n",
       "  </tbody>\n",
       "</table>\n",
       "<p>4000 rows × 5 columns</p>\n",
       "</div>"
      ],
      "text/plain": [
       "      Credit_History  Income_Level  Loan_Amount  Zip_Code  Education_Level\n",
       "0                  1             0            2         1                1\n",
       "1                  2             1            0         1                1\n",
       "2                  1             0            2         1                0\n",
       "3                  0             2            0         2                2\n",
       "4                  1             2            1         0                1\n",
       "...              ...           ...          ...       ...              ...\n",
       "3995               0             0            1         2                2\n",
       "3996               1             2            1         2                0\n",
       "3997               0             2            1         0                1\n",
       "3998               1             1            0         2                0\n",
       "3999               1             0            1         2                0\n",
       "\n",
       "[4000 rows x 5 columns]"
      ]
     },
     "execution_count": 63,
     "metadata": {},
     "output_type": "execute_result"
    }
   ],
   "source": []
  },
  {
   "cell_type": "code",
   "execution_count": 74,
   "id": "f614848b-6260-4644-a25a-92dd9022370c",
   "metadata": {},
   "outputs": [],
   "source": [
    "X_test_df['Loan_Amount'] = X_test_df['Loan_Amount'].map(inv_loan_mapping)\n",
    "X_test_df['Income_Level'] = X_test_df['Income_Level'].map(inv_income_mapping)\n",
    "# X_test_df['Education_Level'] = X_test_df['Education_Level'].map(inv_education_mapping)\n",
    "# X_test_df['Zip_Code'] = X_test_df['Zip_Code'].map(inv_Zip_mapping)"
   ]
  },
  {
   "cell_type": "code",
   "execution_count": 76,
   "id": "9b5d1117-03e9-448a-b86c-003e52be1d0f",
   "metadata": {},
   "outputs": [
    {
     "data": {
      "text/html": [
       "<div>\n",
       "<style scoped>\n",
       "    .dataframe tbody tr th:only-of-type {\n",
       "        vertical-align: middle;\n",
       "    }\n",
       "\n",
       "    .dataframe tbody tr th {\n",
       "        vertical-align: top;\n",
       "    }\n",
       "\n",
       "    .dataframe thead th {\n",
       "        text-align: right;\n",
       "    }\n",
       "</style>\n",
       "<table border=\"1\" class=\"dataframe\">\n",
       "  <thead>\n",
       "    <tr style=\"text-align: right;\">\n",
       "      <th></th>\n",
       "      <th>Credit_History</th>\n",
       "      <th>Income_Level</th>\n",
       "      <th>Loan_Amount</th>\n",
       "      <th>Zip_Code</th>\n",
       "      <th>Education_Level</th>\n",
       "    </tr>\n",
       "  </thead>\n",
       "  <tbody>\n",
       "    <tr>\n",
       "      <th>0</th>\n",
       "      <td>1</td>\n",
       "      <td>Low</td>\n",
       "      <td>Small</td>\n",
       "      <td>1</td>\n",
       "      <td>0</td>\n",
       "    </tr>\n",
       "    <tr>\n",
       "      <th>1</th>\n",
       "      <td>2</td>\n",
       "      <td>Medium</td>\n",
       "      <td>Large</td>\n",
       "      <td>1</td>\n",
       "      <td>0</td>\n",
       "    </tr>\n",
       "    <tr>\n",
       "      <th>2</th>\n",
       "      <td>1</td>\n",
       "      <td>Low</td>\n",
       "      <td>Small</td>\n",
       "      <td>1</td>\n",
       "      <td>1</td>\n",
       "    </tr>\n",
       "    <tr>\n",
       "      <th>3</th>\n",
       "      <td>0</td>\n",
       "      <td>High</td>\n",
       "      <td>Large</td>\n",
       "      <td>2</td>\n",
       "      <td>2</td>\n",
       "    </tr>\n",
       "    <tr>\n",
       "      <th>4</th>\n",
       "      <td>1</td>\n",
       "      <td>High</td>\n",
       "      <td>Medium</td>\n",
       "      <td>0</td>\n",
       "      <td>0</td>\n",
       "    </tr>\n",
       "    <tr>\n",
       "      <th>...</th>\n",
       "      <td>...</td>\n",
       "      <td>...</td>\n",
       "      <td>...</td>\n",
       "      <td>...</td>\n",
       "      <td>...</td>\n",
       "    </tr>\n",
       "    <tr>\n",
       "      <th>3995</th>\n",
       "      <td>0</td>\n",
       "      <td>Low</td>\n",
       "      <td>Medium</td>\n",
       "      <td>2</td>\n",
       "      <td>2</td>\n",
       "    </tr>\n",
       "    <tr>\n",
       "      <th>3996</th>\n",
       "      <td>1</td>\n",
       "      <td>High</td>\n",
       "      <td>Medium</td>\n",
       "      <td>2</td>\n",
       "      <td>1</td>\n",
       "    </tr>\n",
       "    <tr>\n",
       "      <th>3997</th>\n",
       "      <td>0</td>\n",
       "      <td>High</td>\n",
       "      <td>Medium</td>\n",
       "      <td>0</td>\n",
       "      <td>0</td>\n",
       "    </tr>\n",
       "    <tr>\n",
       "      <th>3998</th>\n",
       "      <td>1</td>\n",
       "      <td>Medium</td>\n",
       "      <td>Large</td>\n",
       "      <td>2</td>\n",
       "      <td>1</td>\n",
       "    </tr>\n",
       "    <tr>\n",
       "      <th>3999</th>\n",
       "      <td>1</td>\n",
       "      <td>Low</td>\n",
       "      <td>Medium</td>\n",
       "      <td>2</td>\n",
       "      <td>1</td>\n",
       "    </tr>\n",
       "  </tbody>\n",
       "</table>\n",
       "<p>4000 rows × 5 columns</p>\n",
       "</div>"
      ],
      "text/plain": [
       "      Credit_History Income_Level Loan_Amount  Zip_Code  Education_Level\n",
       "0                  1          Low       Small         1                0\n",
       "1                  2       Medium       Large         1                0\n",
       "2                  1          Low       Small         1                1\n",
       "3                  0         High       Large         2                2\n",
       "4                  1         High      Medium         0                0\n",
       "...              ...          ...         ...       ...              ...\n",
       "3995               0          Low      Medium         2                2\n",
       "3996               1         High      Medium         2                1\n",
       "3997               0         High      Medium         0                0\n",
       "3998               1       Medium       Large         2                1\n",
       "3999               1          Low      Medium         2                1\n",
       "\n",
       "[4000 rows x 5 columns]"
      ]
     },
     "execution_count": 76,
     "metadata": {},
     "output_type": "execute_result"
    }
   ],
   "source": [
    "X_test_df"
   ]
  },
  {
   "cell_type": "code",
   "execution_count": 78,
   "id": "f9d2b609-062b-4953-9288-6ead2dbb8235",
   "metadata": {},
   "outputs": [],
   "source": [
    "credit_inverse_mapping = {0: 'bad', 1: 'fair', 2: 'good'}\n",
    "Zip_Code_inverse_mapping = {0: 'Rural', 1: 'Suburban', 2: 'Urban'}\n",
    "Education_Level_inverse_mapping = {0: 'Bachelor', 1: 'Highschool', 2: 'Master'}"
   ]
  },
  {
   "cell_type": "code",
   "execution_count": 80,
   "id": "bc4bdb83-7fc7-470f-9467-9181a7244a10",
   "metadata": {},
   "outputs": [],
   "source": [
    "X_test_df['Credit_History'] = X_test_df['Credit_History'].map(credit_inverse_mapping)"
   ]
  },
  {
   "cell_type": "code",
   "execution_count": 82,
   "id": "b8217451-2e11-4ace-bc77-5d393351a011",
   "metadata": {},
   "outputs": [],
   "source": [
    "X_test_df['Zip_Code'] = X_test_df['Zip_Code'].map(Zip_Code_inverse_mapping)\n",
    "\n"
   ]
  },
  {
   "cell_type": "code",
   "execution_count": 84,
   "id": "506477ff-d707-438e-ac87-1141c44f3866",
   "metadata": {},
   "outputs": [],
   "source": [
    "X_test_df['Education_Level'] = X_test_df['Education_Level'].map(Education_Level_inverse_mapping)"
   ]
  },
  {
   "cell_type": "code",
   "execution_count": 86,
   "id": "ddf313f5-5820-43a2-ad2d-546238b1b9bc",
   "metadata": {},
   "outputs": [
    {
     "data": {
      "text/html": [
       "<div>\n",
       "<style scoped>\n",
       "    .dataframe tbody tr th:only-of-type {\n",
       "        vertical-align: middle;\n",
       "    }\n",
       "\n",
       "    .dataframe tbody tr th {\n",
       "        vertical-align: top;\n",
       "    }\n",
       "\n",
       "    .dataframe thead th {\n",
       "        text-align: right;\n",
       "    }\n",
       "</style>\n",
       "<table border=\"1\" class=\"dataframe\">\n",
       "  <thead>\n",
       "    <tr style=\"text-align: right;\">\n",
       "      <th></th>\n",
       "      <th>Credit_History</th>\n",
       "      <th>Income_Level</th>\n",
       "      <th>Loan_Amount</th>\n",
       "      <th>Zip_Code</th>\n",
       "      <th>Education_Level</th>\n",
       "    </tr>\n",
       "  </thead>\n",
       "  <tbody>\n",
       "    <tr>\n",
       "      <th>0</th>\n",
       "      <td>fair</td>\n",
       "      <td>Low</td>\n",
       "      <td>Small</td>\n",
       "      <td>Suburban</td>\n",
       "      <td>Bachelor</td>\n",
       "    </tr>\n",
       "    <tr>\n",
       "      <th>1</th>\n",
       "      <td>good</td>\n",
       "      <td>Medium</td>\n",
       "      <td>Large</td>\n",
       "      <td>Suburban</td>\n",
       "      <td>Bachelor</td>\n",
       "    </tr>\n",
       "    <tr>\n",
       "      <th>2</th>\n",
       "      <td>fair</td>\n",
       "      <td>Low</td>\n",
       "      <td>Small</td>\n",
       "      <td>Suburban</td>\n",
       "      <td>Highschool</td>\n",
       "    </tr>\n",
       "    <tr>\n",
       "      <th>3</th>\n",
       "      <td>bad</td>\n",
       "      <td>High</td>\n",
       "      <td>Large</td>\n",
       "      <td>Urban</td>\n",
       "      <td>Master</td>\n",
       "    </tr>\n",
       "    <tr>\n",
       "      <th>4</th>\n",
       "      <td>fair</td>\n",
       "      <td>High</td>\n",
       "      <td>Medium</td>\n",
       "      <td>Rural</td>\n",
       "      <td>Bachelor</td>\n",
       "    </tr>\n",
       "    <tr>\n",
       "      <th>...</th>\n",
       "      <td>...</td>\n",
       "      <td>...</td>\n",
       "      <td>...</td>\n",
       "      <td>...</td>\n",
       "      <td>...</td>\n",
       "    </tr>\n",
       "    <tr>\n",
       "      <th>3995</th>\n",
       "      <td>bad</td>\n",
       "      <td>Low</td>\n",
       "      <td>Medium</td>\n",
       "      <td>Urban</td>\n",
       "      <td>Master</td>\n",
       "    </tr>\n",
       "    <tr>\n",
       "      <th>3996</th>\n",
       "      <td>fair</td>\n",
       "      <td>High</td>\n",
       "      <td>Medium</td>\n",
       "      <td>Urban</td>\n",
       "      <td>Highschool</td>\n",
       "    </tr>\n",
       "    <tr>\n",
       "      <th>3997</th>\n",
       "      <td>bad</td>\n",
       "      <td>High</td>\n",
       "      <td>Medium</td>\n",
       "      <td>Rural</td>\n",
       "      <td>Bachelor</td>\n",
       "    </tr>\n",
       "    <tr>\n",
       "      <th>3998</th>\n",
       "      <td>fair</td>\n",
       "      <td>Medium</td>\n",
       "      <td>Large</td>\n",
       "      <td>Urban</td>\n",
       "      <td>Highschool</td>\n",
       "    </tr>\n",
       "    <tr>\n",
       "      <th>3999</th>\n",
       "      <td>fair</td>\n",
       "      <td>Low</td>\n",
       "      <td>Medium</td>\n",
       "      <td>Urban</td>\n",
       "      <td>Highschool</td>\n",
       "    </tr>\n",
       "  </tbody>\n",
       "</table>\n",
       "<p>4000 rows × 5 columns</p>\n",
       "</div>"
      ],
      "text/plain": [
       "     Credit_History Income_Level Loan_Amount  Zip_Code Education_Level\n",
       "0              fair          Low       Small  Suburban        Bachelor\n",
       "1              good       Medium       Large  Suburban        Bachelor\n",
       "2              fair          Low       Small  Suburban      Highschool\n",
       "3               bad         High       Large     Urban          Master\n",
       "4              fair         High      Medium     Rural        Bachelor\n",
       "...             ...          ...         ...       ...             ...\n",
       "3995            bad          Low      Medium     Urban          Master\n",
       "3996           fair         High      Medium     Urban      Highschool\n",
       "3997            bad         High      Medium     Rural        Bachelor\n",
       "3998           fair       Medium       Large     Urban      Highschool\n",
       "3999           fair          Low      Medium     Urban      Highschool\n",
       "\n",
       "[4000 rows x 5 columns]"
      ]
     },
     "execution_count": 86,
     "metadata": {},
     "output_type": "execute_result"
    }
   ],
   "source": [
    "X_test_df"
   ]
  },
  {
   "cell_type": "code",
   "execution_count": null,
   "id": "9c8b5b72-e554-44f7-a9a2-706805f79288",
   "metadata": {},
   "outputs": [],
   "source": []
  },
  {
   "cell_type": "code",
   "execution_count": 88,
   "id": "ede4ad8d-23da-41c7-8acf-56f9038cc311",
   "metadata": {},
   "outputs": [],
   "source": [
    "X_test_tensor = torch.tensor(X_test, dtype=torch.long)\n",
    "with torch.no_grad():\n",
    "    predictions = model(X_test_tensor).squeeze().numpy()\n",
    "\n"
   ]
  },
  {
   "cell_type": "code",
   "execution_count": 90,
   "id": "4cf9cf88-0b97-45d1-94c5-5906bbf78129",
   "metadata": {},
   "outputs": [
    {
     "name": "stdout",
     "output_type": "stream",
     "text": [
      "\n",
      "Test Data with Predictions:\n",
      "  Credit_History Income_Level Loan_Amount  Zip_Code Education_Level  \\\n",
      "0           fair          Low       Small  Suburban        Bachelor   \n",
      "1           good       Medium       Large  Suburban        Bachelor   \n",
      "2           fair          Low       Small  Suburban      Highschool   \n",
      "3            bad         High       Large     Urban          Master   \n",
      "4           fair         High      Medium     Rural        Bachelor   \n",
      "\n",
      "   Prediction  \n",
      "0    0.541367  \n",
      "1    0.507705  \n",
      "2    0.541367  \n",
      "3    0.356461  \n",
      "4    0.595311  \n"
     ]
    }
   ],
   "source": [
    "# Build a DataFrame with the test inputs and the corresponding predictions.\n",
    "df_test_predictions = pd.DataFrame(X_test_df, columns=features)\n",
    "df_test_predictions['Prediction'] = predictions\n",
    "print(\"\\nTest Data with Predictions:\")\n",
    "print(df_test_predictions.head())"
   ]
  },
  {
   "cell_type": "code",
   "execution_count": 92,
   "id": "b6deaf1f-c249-44b0-84b0-968af805605f",
   "metadata": {},
   "outputs": [
    {
     "data": {
      "text/html": [
       "<div>\n",
       "<style scoped>\n",
       "    .dataframe tbody tr th:only-of-type {\n",
       "        vertical-align: middle;\n",
       "    }\n",
       "\n",
       "    .dataframe tbody tr th {\n",
       "        vertical-align: top;\n",
       "    }\n",
       "\n",
       "    .dataframe thead th {\n",
       "        text-align: right;\n",
       "    }\n",
       "</style>\n",
       "<table border=\"1\" class=\"dataframe\">\n",
       "  <thead>\n",
       "    <tr style=\"text-align: right;\">\n",
       "      <th></th>\n",
       "      <th>Credit_History</th>\n",
       "      <th>Income_Level</th>\n",
       "      <th>Loan_Amount</th>\n",
       "      <th>Zip_Code</th>\n",
       "      <th>Education_Level</th>\n",
       "      <th>Prediction</th>\n",
       "    </tr>\n",
       "  </thead>\n",
       "  <tbody>\n",
       "    <tr>\n",
       "      <th>0</th>\n",
       "      <td>fair</td>\n",
       "      <td>Low</td>\n",
       "      <td>Small</td>\n",
       "      <td>Suburban</td>\n",
       "      <td>Bachelor</td>\n",
       "      <td>0.541367</td>\n",
       "    </tr>\n",
       "    <tr>\n",
       "      <th>1</th>\n",
       "      <td>good</td>\n",
       "      <td>Medium</td>\n",
       "      <td>Large</td>\n",
       "      <td>Suburban</td>\n",
       "      <td>Bachelor</td>\n",
       "      <td>0.507705</td>\n",
       "    </tr>\n",
       "    <tr>\n",
       "      <th>2</th>\n",
       "      <td>fair</td>\n",
       "      <td>Low</td>\n",
       "      <td>Small</td>\n",
       "      <td>Suburban</td>\n",
       "      <td>Highschool</td>\n",
       "      <td>0.541367</td>\n",
       "    </tr>\n",
       "    <tr>\n",
       "      <th>3</th>\n",
       "      <td>bad</td>\n",
       "      <td>High</td>\n",
       "      <td>Large</td>\n",
       "      <td>Urban</td>\n",
       "      <td>Master</td>\n",
       "      <td>0.356461</td>\n",
       "    </tr>\n",
       "    <tr>\n",
       "      <th>4</th>\n",
       "      <td>fair</td>\n",
       "      <td>High</td>\n",
       "      <td>Medium</td>\n",
       "      <td>Rural</td>\n",
       "      <td>Bachelor</td>\n",
       "      <td>0.595311</td>\n",
       "    </tr>\n",
       "    <tr>\n",
       "      <th>...</th>\n",
       "      <td>...</td>\n",
       "      <td>...</td>\n",
       "      <td>...</td>\n",
       "      <td>...</td>\n",
       "      <td>...</td>\n",
       "      <td>...</td>\n",
       "    </tr>\n",
       "    <tr>\n",
       "      <th>3995</th>\n",
       "      <td>bad</td>\n",
       "      <td>Low</td>\n",
       "      <td>Medium</td>\n",
       "      <td>Urban</td>\n",
       "      <td>Master</td>\n",
       "      <td>0.313325</td>\n",
       "    </tr>\n",
       "    <tr>\n",
       "      <th>3996</th>\n",
       "      <td>fair</td>\n",
       "      <td>High</td>\n",
       "      <td>Medium</td>\n",
       "      <td>Urban</td>\n",
       "      <td>Highschool</td>\n",
       "      <td>0.626483</td>\n",
       "    </tr>\n",
       "    <tr>\n",
       "      <th>3997</th>\n",
       "      <td>bad</td>\n",
       "      <td>High</td>\n",
       "      <td>Medium</td>\n",
       "      <td>Rural</td>\n",
       "      <td>Bachelor</td>\n",
       "      <td>0.467131</td>\n",
       "    </tr>\n",
       "    <tr>\n",
       "      <th>3998</th>\n",
       "      <td>fair</td>\n",
       "      <td>Medium</td>\n",
       "      <td>Large</td>\n",
       "      <td>Urban</td>\n",
       "      <td>Highschool</td>\n",
       "      <td>0.369495</td>\n",
       "    </tr>\n",
       "    <tr>\n",
       "      <th>3999</th>\n",
       "      <td>fair</td>\n",
       "      <td>Low</td>\n",
       "      <td>Medium</td>\n",
       "      <td>Urban</td>\n",
       "      <td>Highschool</td>\n",
       "      <td>0.396347</td>\n",
       "    </tr>\n",
       "  </tbody>\n",
       "</table>\n",
       "<p>4000 rows × 6 columns</p>\n",
       "</div>"
      ],
      "text/plain": [
       "     Credit_History Income_Level Loan_Amount  Zip_Code Education_Level  \\\n",
       "0              fair          Low       Small  Suburban        Bachelor   \n",
       "1              good       Medium       Large  Suburban        Bachelor   \n",
       "2              fair          Low       Small  Suburban      Highschool   \n",
       "3               bad         High       Large     Urban          Master   \n",
       "4              fair         High      Medium     Rural        Bachelor   \n",
       "...             ...          ...         ...       ...             ...   \n",
       "3995            bad          Low      Medium     Urban          Master   \n",
       "3996           fair         High      Medium     Urban      Highschool   \n",
       "3997            bad         High      Medium     Rural        Bachelor   \n",
       "3998           fair       Medium       Large     Urban      Highschool   \n",
       "3999           fair          Low      Medium     Urban      Highschool   \n",
       "\n",
       "      Prediction  \n",
       "0       0.541367  \n",
       "1       0.507705  \n",
       "2       0.541367  \n",
       "3       0.356461  \n",
       "4       0.595311  \n",
       "...          ...  \n",
       "3995    0.313325  \n",
       "3996    0.626483  \n",
       "3997    0.467131  \n",
       "3998    0.369495  \n",
       "3999    0.396347  \n",
       "\n",
       "[4000 rows x 6 columns]"
      ]
     },
     "execution_count": 92,
     "metadata": {},
     "output_type": "execute_result"
    }
   ],
   "source": [
    "df_test_predictions"
   ]
  },
  {
   "cell_type": "code",
   "execution_count": null,
   "id": "20fbebd4-30f4-4676-8e47-1e7d39077660",
   "metadata": {},
   "outputs": [],
   "source": []
  },
  {
   "cell_type": "code",
   "execution_count": 83,
   "id": "b300a17d-a540-4d81-ac93-819f872a9200",
   "metadata": {},
   "outputs": [],
   "source": [
    "# df_test_predictions.to_csv(\"Statistical Test Dataset.csv\")"
   ]
  },
  {
   "cell_type": "code",
   "execution_count": 94,
   "id": "464e3c6b-2033-43cf-b93d-816ac775732b",
   "metadata": {},
   "outputs": [],
   "source": [
    "import statsmodels.api as sm\n",
    "from statsmodels.formula.api import ols\n",
    "from statsmodels.stats.anova import anova_lm\n",
    "import statsmodels.formula.api as smf"
   ]
  },
  {
   "cell_type": "code",
   "execution_count": 96,
   "id": "5fe546eb-8ff8-44dc-bd25-111fdd332c95",
   "metadata": {},
   "outputs": [],
   "source": [
    "def one_way_anova_with_eta(df, feature, target=\"Prediction\"):\n",
    "\n",
    "    # 1) Build formula like: \"Prediction ~ C(feature)\"\n",
    "    formula = f\"{target} ~ C({feature})\"\n",
    "    \n",
    "    # 2) Fit ordinary least squares (OLS) model\n",
    "    model = ols(formula, data=df).fit()\n",
    "    \n",
    "    # 3) Perform ANOVA\n",
    "    anova_table = anova_lm(model, typ=2)\n",
    "\n",
    "    sum_sq_factor = anova_table.loc[f\"C({feature})\", \"sum_sq\"]\n",
    "    sum_sq_total = anova_table[\"sum_sq\"].sum()  # factor + residual\n",
    "    F_stat = anova_table.loc[f\"C({feature})\", \"F\"]\n",
    "    p_value = anova_table.loc[f\"C({feature})\", \"PR(>F)\"]\n",
    "    \n",
    "    # Eta-squared = sum_sq_factor / sum_sq_total\n",
    "    eta_sq = sum_sq_factor / sum_sq_total if sum_sq_total > 0 else 0.0\n",
    "    \n",
    "    return F_stat, p_value, eta_sq"
   ]
  },
  {
   "cell_type": "code",
   "execution_count": 98,
   "id": "3184ecfd-35e5-419e-b8b2-7b52905edb68",
   "metadata": {},
   "outputs": [],
   "source": [
    "features = [\"Credit_History\", \"Income_Level\", \n",
    "            \"Loan_Amount\", \"Zip_Code\", \"Education_Level\"]\n"
   ]
  },
  {
   "cell_type": "code",
   "execution_count": 100,
   "id": "7ae60067-ab53-4b3d-91da-1124316da634",
   "metadata": {},
   "outputs": [],
   "source": [
    "results = []\n",
    "for feat in features:\n",
    "    F, pval, eta_sq = one_way_anova_with_eta(df_test_predictions, feat, target=\"Prediction\")\n",
    "    results.append({\n",
    "        \"Feature\": feat,\n",
    "        \"F_stat\": F,\n",
    "        \"Eta_squared\": eta_sq,\n",
    "        \"p_val\": pval\n",
    "    })\n"
   ]
  },
  {
   "cell_type": "code",
   "execution_count": 102,
   "id": "ad52ac03-f988-4888-a2a8-920fae0d16b8",
   "metadata": {},
   "outputs": [],
   "source": [
    "results_df = pd.DataFrame(results)"
   ]
  },
  {
   "cell_type": "code",
   "execution_count": 104,
   "id": "0a55d844-1693-441c-bbaa-42fd4b4d7617",
   "metadata": {},
   "outputs": [
    {
     "data": {
      "text/html": [
       "<div>\n",
       "<style scoped>\n",
       "    .dataframe tbody tr th:only-of-type {\n",
       "        vertical-align: middle;\n",
       "    }\n",
       "\n",
       "    .dataframe tbody tr th {\n",
       "        vertical-align: top;\n",
       "    }\n",
       "\n",
       "    .dataframe thead th {\n",
       "        text-align: right;\n",
       "    }\n",
       "</style>\n",
       "<table border=\"1\" class=\"dataframe\">\n",
       "  <thead>\n",
       "    <tr style=\"text-align: right;\">\n",
       "      <th></th>\n",
       "      <th>Feature</th>\n",
       "      <th>F_stat</th>\n",
       "      <th>Eta_squared</th>\n",
       "      <th>p_val</th>\n",
       "    </tr>\n",
       "  </thead>\n",
       "  <tbody>\n",
       "    <tr>\n",
       "      <th>0</th>\n",
       "      <td>Credit_History</td>\n",
       "      <td>903.430382</td>\n",
       "      <td>0.311320</td>\n",
       "      <td>0.000000e+00</td>\n",
       "    </tr>\n",
       "    <tr>\n",
       "      <th>1</th>\n",
       "      <td>Income_Level</td>\n",
       "      <td>534.103227</td>\n",
       "      <td>0.210891</td>\n",
       "      <td>2.680945e-206</td>\n",
       "    </tr>\n",
       "    <tr>\n",
       "      <th>2</th>\n",
       "      <td>Loan_Amount</td>\n",
       "      <td>1460.483210</td>\n",
       "      <td>0.422229</td>\n",
       "      <td>0.000000e+00</td>\n",
       "    </tr>\n",
       "    <tr>\n",
       "      <th>3</th>\n",
       "      <td>Zip_Code</td>\n",
       "      <td>3.834810</td>\n",
       "      <td>0.001915</td>\n",
       "      <td>2.168497e-02</td>\n",
       "    </tr>\n",
       "    <tr>\n",
       "      <th>4</th>\n",
       "      <td>Education_Level</td>\n",
       "      <td>6.796269</td>\n",
       "      <td>0.003389</td>\n",
       "      <td>1.130902e-03</td>\n",
       "    </tr>\n",
       "  </tbody>\n",
       "</table>\n",
       "</div>"
      ],
      "text/plain": [
       "           Feature       F_stat  Eta_squared          p_val\n",
       "0   Credit_History   903.430382     0.311320   0.000000e+00\n",
       "1     Income_Level   534.103227     0.210891  2.680945e-206\n",
       "2      Loan_Amount  1460.483210     0.422229   0.000000e+00\n",
       "3         Zip_Code     3.834810     0.001915   2.168497e-02\n",
       "4  Education_Level     6.796269     0.003389   1.130902e-03"
      ]
     },
     "execution_count": 104,
     "metadata": {},
     "output_type": "execute_result"
    }
   ],
   "source": [
    "results_df"
   ]
  },
  {
   "cell_type": "code",
   "execution_count": 106,
   "id": "235feb16-ed0d-4ba6-8ccf-058a6add1678",
   "metadata": {},
   "outputs": [],
   "source": [
    "results_df.sort_values(\"Eta_squared\", ascending=False, inplace=True)"
   ]
  },
  {
   "cell_type": "code",
   "execution_count": 108,
   "id": "cf615866-096f-45d7-b5c7-c3ff7dee27b0",
   "metadata": {},
   "outputs": [
    {
     "name": "stdout",
     "output_type": "stream",
     "text": [
      "\n",
      "=== One-Way ANOVA Results ===\n",
      "        Feature      F_stat  Eta_squared         p_val\n",
      "    Loan_Amount 1460.483210     0.422229  0.000000e+00\n",
      " Credit_History  903.430382     0.311320  0.000000e+00\n",
      "   Income_Level  534.103227     0.210891 2.680945e-206\n",
      "Education_Level    6.796269     0.003389  1.130902e-03\n",
      "       Zip_Code    3.834810     0.001915  2.168497e-02\n"
     ]
    }
   ],
   "source": [
    "print(\"\\n=== One-Way ANOVA Results ===\")\n",
    "print(results_df.to_string(index=False))"
   ]
  },
  {
   "cell_type": "code",
   "execution_count": 110,
   "id": "9a3b58a1-3866-4a29-b695-34b364d0b19e",
   "metadata": {},
   "outputs": [
    {
     "name": "stdout",
     "output_type": "stream",
     "text": [
      "\n",
      "Ranked Features by Eta-squared (descending):\n",
      "Loan_Amount: Eta^2=0.4222\n",
      "Credit_History: Eta^2=0.3113\n",
      "Income_Level: Eta^2=0.2109\n",
      "Education_Level: Eta^2=0.0034\n",
      "Zip_Code: Eta^2=0.0019\n"
     ]
    }
   ],
   "source": [
    "print(\"\\nRanked Features by Eta-squared (descending):\")\n",
    "for i, row in results_df.iterrows():\n",
    "    print(f\"{row['Feature']}: Eta^2={row['Eta_squared']:.4f}\")"
   ]
  },
  {
   "cell_type": "code",
   "execution_count": 112,
   "id": "bd54dc1e-1e47-4815-8851-5f7930005aa6",
   "metadata": {},
   "outputs": [
    {
     "data": {
      "image/png": "[encoded data removed]",
      "text/plain": [
       "<Figure size 600x400 with 1 Axes>"
      ]
     },
     "metadata": {},
     "output_type": "display_data"
    }
   ],
   "source": [
    "import matplotlib.pyplot as plt\n",
    "plt.figure(figsize=(6, 4))  # optional: adjust figure size\n",
    "\n",
    "# Horizontal bar chart: barh(y, width)\n",
    "plt.barh(results_df[\"Feature\"], results_df[\"Eta_squared\"])\n",
    "\n",
    "# Because we sorted ascending, let's invert the y-axis\n",
    "# so the largest effect size is at the top:\n",
    "plt.gca().invert_yaxis()\n",
    "\n",
    "# Labels and title\n",
    "plt.xlabel(\"Eta-squared (Effect Size)\")\n",
    "plt.ylabel(\"Features\")\n",
    "plt.title(\"Feature Importance by Eta-squared (ANOVA)\")\n",
    "\n",
    "# Make layout neat\n",
    "plt.tight_layout()\n",
    "\n",
    "# Show the plot\n",
    "plt.show()"
   ]
  },
  {
   "cell_type": "code",
   "execution_count": 114,
   "id": "cb2c8b97-55a5-4dfb-b492-33289a798b1b",
   "metadata": {},
   "outputs": [],
   "source": [
    "def multiway_anova_with_eta(df, features, target=\"Prediction\"):\n",
    "    # Create formula: 'Prediction ~ C(f1) + C(f2) + ...'\n",
    "    formula = f\"{target} ~ \" + \" + \".join([f\"C({f})\" for f in features])\n",
    "    \n",
    "    # Fit OLS model\n",
    "    model = smf.ols(formula, data=df).fit()\n",
    "    \n",
    "    # Run ANOVA\n",
    "    anova_table = anova_lm(model, typ=2)\n",
    "\n",
    "    # Total SS = sum of all SS including residual\n",
    "    ss_total = anova_table[\"sum_sq\"].sum()\n",
    "    \n",
    "    # Compute eta squared for each feature (excluding residual)\n",
    "    eta_squared = (anova_table.loc[anova_table.index != \"Residual\", \"sum_sq\"] / ss_total).to_dict()\n",
    "    \n",
    "    # Combine with F and p-values\n",
    "    results = {}\n",
    "    for idx in anova_table.index:\n",
    "        if idx == \"Residual\":\n",
    "            continue\n",
    "        results[idx.replace(\"C(\", \"\").replace(\")\", \"\")] = {\n",
    "            \"F\": anova_table.loc[idx, \"F\"],\n",
    "            \"p-value\": anova_table.loc[idx, \"PR(>F)\"],\n",
    "            \"eta_squared\": eta_squared[idx]\n",
    "        }\n",
    "\n",
    "    # Convert to DataFrame and rank\n",
    "    df_results = pd.DataFrame(results).T\n",
    "    df_results[\"rank\"] = df_results[\"eta_squared\"].rank(ascending=False)\n",
    "    df_results = df_results.sort_values(by=\"eta_squared\", ascending=False)\n",
    "    \n",
    "    return df_results"
   ]
  },
  {
   "cell_type": "code",
   "execution_count": 116,
   "id": "57f15e52-1d6b-4968-ae49-563b40bf17a7",
   "metadata": {},
   "outputs": [
    {
     "name": "stdout",
     "output_type": "stream",
     "text": [
      "                            F   p-value  eta_squared  rank\n",
      "Loan_Amount      58419.830633  0.000000     0.434398   1.0\n",
      "Credit_History   44058.568675  0.000000     0.327610   2.0\n",
      "Income_Level     29997.145742  0.000000     0.223053   3.0\n",
      "Education_Level     11.757807  0.000008     0.000087   4.0\n",
      "Zip_Code             2.882445  0.056114     0.000021   5.0\n"
     ]
    }
   ],
   "source": [
    "result = multiway_anova_with_eta(df_test_predictions, features)\n",
    "print(result)"
   ]
  },
  {
   "cell_type": "code",
   "execution_count": 118,
   "id": "19157d40-2ea3-4c36-a654-e4b573eef14c",
   "metadata": {},
   "outputs": [
    {
     "data": {
      "text/html": [
       "<div>\n",
       "<style scoped>\n",
       "    .dataframe tbody tr th:only-of-type {\n",
       "        vertical-align: middle;\n",
       "    }\n",
       "\n",
       "    .dataframe tbody tr th {\n",
       "        vertical-align: top;\n",
       "    }\n",
       "\n",
       "    .dataframe thead th {\n",
       "        text-align: right;\n",
       "    }\n",
       "</style>\n",
       "<table border=\"1\" class=\"dataframe\">\n",
       "  <thead>\n",
       "    <tr style=\"text-align: right;\">\n",
       "      <th></th>\n",
       "      <th>F</th>\n",
       "      <th>p-value</th>\n",
       "      <th>eta_squared</th>\n",
       "      <th>rank</th>\n",
       "    </tr>\n",
       "  </thead>\n",
       "  <tbody>\n",
       "    <tr>\n",
       "      <th>Loan_Amount</th>\n",
       "      <td>58419.830633</td>\n",
       "      <td>0.000000</td>\n",
       "      <td>0.434398</td>\n",
       "      <td>1.0</td>\n",
       "    </tr>\n",
       "    <tr>\n",
       "      <th>Credit_History</th>\n",
       "      <td>44058.568675</td>\n",
       "      <td>0.000000</td>\n",
       "      <td>0.327610</td>\n",
       "      <td>2.0</td>\n",
       "    </tr>\n",
       "    <tr>\n",
       "      <th>Income_Level</th>\n",
       "      <td>29997.145742</td>\n",
       "      <td>0.000000</td>\n",
       "      <td>0.223053</td>\n",
       "      <td>3.0</td>\n",
       "    </tr>\n",
       "    <tr>\n",
       "      <th>Education_Level</th>\n",
       "      <td>11.757807</td>\n",
       "      <td>0.000008</td>\n",
       "      <td>0.000087</td>\n",
       "      <td>4.0</td>\n",
       "    </tr>\n",
       "    <tr>\n",
       "      <th>Zip_Code</th>\n",
       "      <td>2.882445</td>\n",
       "      <td>0.056114</td>\n",
       "      <td>0.000021</td>\n",
       "      <td>5.0</td>\n",
       "    </tr>\n",
       "  </tbody>\n",
       "</table>\n",
       "</div>"
      ],
      "text/plain": [
       "                            F   p-value  eta_squared  rank\n",
       "Loan_Amount      58419.830633  0.000000     0.434398   1.0\n",
       "Credit_History   44058.568675  0.000000     0.327610   2.0\n",
       "Income_Level     29997.145742  0.000000     0.223053   3.0\n",
       "Education_Level     11.757807  0.000008     0.000087   4.0\n",
       "Zip_Code             2.882445  0.056114     0.000021   5.0"
      ]
     },
     "execution_count": 118,
     "metadata": {},
     "output_type": "execute_result"
    }
   ],
   "source": [
    "result"
   ]
  },
  {
   "cell_type": "code",
   "execution_count": 120,
   "id": "9a9a12aa-dceb-492c-a2ec-87b11fdf430a",
   "metadata": {},
   "outputs": [
    {
     "ename": "NameError",
     "evalue": "name 'df_results' is not defined",
     "output_type": "error",
     "traceback": [
      "\u001b[0;31m---------------------------------------------------------------------------\u001b[0m",
      "\u001b[0;31mNameError\u001b[0m                                 Traceback (most recent call last)",
      "Cell \u001b[0;32mIn[120], line 13\u001b[0m\n\u001b[1;32m     10\u001b[0m     plt\u001b[38;5;241m.\u001b[39mshow()\n\u001b[1;32m     12\u001b[0m \u001b[38;5;66;03m# Call this after computing df_results\u001b[39;00m\n\u001b[0;32m---> 13\u001b[0m plot_effect_sizes(df_results)\n",
      "\u001b[0;31mNameError\u001b[0m: name 'df_results' is not defined"
     ]
    }
   ],
   "source": [
    "def plot_effect_sizes(df_results):\n",
    "    plt.figure(figsize=(8, 5))\n",
    "    df_results = df_results.sort_values(by=\"eta_squared\", ascending=True)  # for clean horizontal bars\n",
    "    plt.barh(df_results.index, df_results[\"eta_squared\"])\n",
    "    plt.xlabel(\"Effect Size (Eta Squared)\")\n",
    "    plt.title(\"Feature Importance Based on ANOVA Effect Size\")\n",
    "    for i, v in enumerate(df_results[\"eta_squared\"]):\n",
    "        plt.text(v + 0.005, i, f\"{v:.3f}\", va='center')\n",
    "    plt.tight_layout()\n",
    "    plt.show()\n",
    "\n",
    "# Call this after computing df_results\n",
    "plot_effect_sizes(df_results)"
   ]
  },
  {
   "cell_type": "code",
   "execution_count": 122,
   "id": "12d6c02c-7bca-43eb-8e8b-cc48ef571b8e",
   "metadata": {},
   "outputs": [
    {
     "name": "stdout",
     "output_type": "stream",
     "text": [
      "  Method  Precision  Recall  FDR  Top-1 Match\n",
      "Stat-XAI       0.75     1.0 0.25            1\n"
     ]
    }
   ],
   "source": [
    "def compute_feature_recovery_metrics(gt, ranking):\n",
    "    \"\"\"\n",
    "    Compute TP, FP, FN, Precision, Recall, FDR, and Top-1 Match for feature recovery.\n",
    "\n",
    "    Parameters\n",
    "    ----------\n",
    "    gt : set\n",
    "        Ground-truth causal features.\n",
    "    flagged : list or set\n",
    "        Features your method flagged as important (e.g., top‑k from ranking).\n",
    "    ranking : list\n",
    "        Ordered list of features by descending effect size.\n",
    "\n",
    "    Returns\n",
    "    -------\n",
    "    pd.DataFrame\n",
    "        Single-row DataFrame with the metrics.\n",
    "    \"\"\"\n",
    "    tp = set(gt) & set(ranking)\n",
    "    fp = set(ranking) - set(gt)\n",
    "    fn = set(gt) - set(ranking)\n",
    "\n",
    "    precision = len(tp) / (len(tp) + len(fp)) if (len(tp) + len(fp)) else 0.0\n",
    "    recall    = len(tp) / len(gt)        if len(gt)              else 0.0\n",
    "    fdr       = len(fp) / (len(tp) + len(fp)) if (len(tp) + len(fp)) else 0.0\n",
    "    top1      = 1 if ranking and ranking[0] in gt else 0\n",
    "\n",
    "    metrics = {\n",
    "        \"TP\":           \", \".join(sorted(tp)),\n",
    "        \"FP\":           \", \".join(sorted(fp)),\n",
    "        \"FN\":           \", \".join(sorted(fn)),\n",
    "        \"Precision\":     precision,\n",
    "        \"Recall\":        recall,\n",
    "        \"FDR\":           fdr,\n",
    "        \"Top-1 Match\":   top1\n",
    "    }\n",
    "    return pd.DataFrame([{\n",
    "        \"Precision\": precision,\n",
    "        \"Recall\": recall,\n",
    "        \"FDR\": fdr,\n",
    "        \"Top-1 Match\": top1\n",
    "    }])\n",
    "\n",
    "\n",
    "\n",
    "if __name__ == \"__main__\":\n",
    "    # Example:\n",
    "    GT = {\"Loan_Amount\", \"Credit_History\", \"Income_Level\"}\n",
    "    ranking = [\n",
    "        \"Loan_Amount\",\n",
    "        \"Credit_History\",\n",
    "        \"Income_Level\",\n",
    "        \"Education_Level\"\n",
    "    ]\n",
    "    # flagged = ranking[:3]  # e.g. top‑3 features\n",
    "\n",
    "    df_metrics = compute_feature_recovery_metrics(GT, ranking)\n",
    "    df_metrics.insert(0, \"Method\", \"Stat-XAI\")\n",
    "    df_metrics = df_metrics[[\"Method\", \"Precision\", \"Recall\", \"FDR\", \"Top-1 Match\"]]\n",
    "    print(df_metrics.to_string(index=False))"
   ]
  },
  {
   "cell_type": "code",
   "execution_count": 79,
   "id": "88116adf-f4a6-44ea-ba11-9d61f930284a",
   "metadata": {},
   "outputs": [
    {
     "data": {
      "text/html": [
       "<div>\n",
       "<style scoped>\n",
       "    .dataframe tbody tr th:only-of-type {\n",
       "        vertical-align: middle;\n",
       "    }\n",
       "\n",
       "    .dataframe tbody tr th {\n",
       "        vertical-align: top;\n",
       "    }\n",
       "\n",
       "    .dataframe thead th {\n",
       "        text-align: right;\n",
       "    }\n",
       "</style>\n",
       "<table border=\"1\" class=\"dataframe\">\n",
       "  <thead>\n",
       "    <tr style=\"text-align: right;\">\n",
       "      <th></th>\n",
       "      <th>Credit_History</th>\n",
       "      <th>Income_Level</th>\n",
       "      <th>Loan_Amount</th>\n",
       "      <th>Zip_Code</th>\n",
       "      <th>Education_Level</th>\n",
       "    </tr>\n",
       "  </thead>\n",
       "  <tbody>\n",
       "    <tr>\n",
       "      <th>0</th>\n",
       "      <td>1</td>\n",
       "      <td>0</td>\n",
       "      <td>2</td>\n",
       "      <td>1</td>\n",
       "      <td>0</td>\n",
       "    </tr>\n",
       "    <tr>\n",
       "      <th>1</th>\n",
       "      <td>2</td>\n",
       "      <td>1</td>\n",
       "      <td>0</td>\n",
       "      <td>1</td>\n",
       "      <td>0</td>\n",
       "    </tr>\n",
       "    <tr>\n",
       "      <th>2</th>\n",
       "      <td>1</td>\n",
       "      <td>0</td>\n",
       "      <td>2</td>\n",
       "      <td>1</td>\n",
       "      <td>1</td>\n",
       "    </tr>\n",
       "    <tr>\n",
       "      <th>3</th>\n",
       "      <td>0</td>\n",
       "      <td>2</td>\n",
       "      <td>0</td>\n",
       "      <td>2</td>\n",
       "      <td>2</td>\n",
       "    </tr>\n",
       "    <tr>\n",
       "      <th>4</th>\n",
       "      <td>1</td>\n",
       "      <td>2</td>\n",
       "      <td>1</td>\n",
       "      <td>0</td>\n",
       "      <td>0</td>\n",
       "    </tr>\n",
       "    <tr>\n",
       "      <th>...</th>\n",
       "      <td>...</td>\n",
       "      <td>...</td>\n",
       "      <td>...</td>\n",
       "      <td>...</td>\n",
       "      <td>...</td>\n",
       "    </tr>\n",
       "    <tr>\n",
       "      <th>3995</th>\n",
       "      <td>0</td>\n",
       "      <td>0</td>\n",
       "      <td>1</td>\n",
       "      <td>2</td>\n",
       "      <td>2</td>\n",
       "    </tr>\n",
       "    <tr>\n",
       "      <th>3996</th>\n",
       "      <td>1</td>\n",
       "      <td>2</td>\n",
       "      <td>1</td>\n",
       "      <td>2</td>\n",
       "      <td>1</td>\n",
       "    </tr>\n",
       "    <tr>\n",
       "      <th>3997</th>\n",
       "      <td>0</td>\n",
       "      <td>2</td>\n",
       "      <td>1</td>\n",
       "      <td>0</td>\n",
       "      <td>0</td>\n",
       "    </tr>\n",
       "    <tr>\n",
       "      <th>3998</th>\n",
       "      <td>1</td>\n",
       "      <td>1</td>\n",
       "      <td>0</td>\n",
       "      <td>2</td>\n",
       "      <td>1</td>\n",
       "    </tr>\n",
       "    <tr>\n",
       "      <th>3999</th>\n",
       "      <td>1</td>\n",
       "      <td>0</td>\n",
       "      <td>1</td>\n",
       "      <td>2</td>\n",
       "      <td>1</td>\n",
       "    </tr>\n",
       "  </tbody>\n",
       "</table>\n",
       "<p>4000 rows × 5 columns</p>\n",
       "</div>"
      ],
      "text/plain": [
       "      Credit_History  Income_Level  Loan_Amount  Zip_Code  Education_Level\n",
       "0                  1             0            2         1                0\n",
       "1                  2             1            0         1                0\n",
       "2                  1             0            2         1                1\n",
       "3                  0             2            0         2                2\n",
       "4                  1             2            1         0                0\n",
       "...              ...           ...          ...       ...              ...\n",
       "3995               0             0            1         2                2\n",
       "3996               1             2            1         2                1\n",
       "3997               0             2            1         0                0\n",
       "3998               1             1            0         2                1\n",
       "3999               1             0            1         2                1\n",
       "\n",
       "[4000 rows x 5 columns]"
      ]
     },
     "execution_count": 79,
     "metadata": {},
     "output_type": "execute_result"
    }
   ],
   "source": [
    "X_test_df"
   ]
  },
  {
   "cell_type": "code",
   "execution_count": 235,
   "id": "fec95ccc-463e-47ba-b1c4-4ac3a13f7d49",
   "metadata": {},
   "outputs": [],
   "source": [
    "import shap\n",
    "import numpy as np\n",
    "import psutil\n",
    "import os\n",
    "import torch.optim as optim\n",
    "import matplotlib.pyplot as plt"
   ]
  },
  {
   "cell_type": "code",
   "execution_count": 233,
   "id": "69f03bf9-f64e-480f-8f57-4d163eb1cc30",
   "metadata": {},
   "outputs": [],
   "source": [
    "def predict_proba_np(x_np):\n",
    "    \"\"\"\n",
    "    x_np: np.array of shape (batch, 5), dtype int\n",
    "    returns: np.array of shape (batch,) with predicted positive‐class probabilities\n",
    "    \"\"\"\n",
    "    model.eval()\n",
    "    with torch.no_grad():\n",
    "        tensor = torch.LongTensor(x_np).to(device)\n",
    "        logits = model(tensor)\n",
    "        probs  = torch.sigmoid(logits).cpu().numpy().flatten()\n",
    "    return probs\n"
   ]
  },
  {
   "cell_type": "code",
   "execution_count": 237,
   "id": "e44caa2b-f9fb-4d87-8871-5cb619d0452a",
   "metadata": {},
   "outputs": [],
   "source": [
    "bg_size    = 100\n",
    "bg_idx     = np.random.choice(len(X_train), size=bg_size, replace=False)\n",
    "background = X_train[bg_idx] "
   ]
  },
  {
   "cell_type": "code",
   "execution_count": 239,
   "id": "a6d72bb9-1789-45f0-a846-6ef0da256cbb",
   "metadata": {},
   "outputs": [],
   "source": [
    "import torch\n",
    "device = torch.device(\"cuda\" if torch.cuda.is_available() else \"cpu\")\n",
    "model = model.to(device)"
   ]
  },
  {
   "cell_type": "code",
   "execution_count": 241,
   "id": "74ce9500-8945-442d-8319-40fab7b037c9",
   "metadata": {},
   "outputs": [],
   "source": [
    "explainer = shap.KernelExplainer(predict_proba_np, background)\n"
   ]
  },
  {
   "cell_type": "code",
   "execution_count": 243,
   "id": "2dd0ba32-c75b-448b-bb95-1bb675ae976a",
   "metadata": {},
   "outputs": [],
   "source": [
    "batch_size = 512\n",
    "all_shap   = []"
   ]
  },
  {
   "cell_type": "code",
   "execution_count": 245,
   "id": "6ba51550-6ab9-47d6-9c51-96fcba773017",
   "metadata": {},
   "outputs": [
    {
     "name": "stdout",
     "output_type": "stream",
     "text": [
      "Batch 0-512: free RAM 3.03 GB\n"
     ]
    },
    {
     "data": {
      "application/vnd.jupyter.widget-view+json": {
       "model_id": "27bae6b14fa04d93b2aa9c616e5f0ffb",
       "version_major": 2,
       "version_minor": 0
      },
      "text/plain": [
       "  0%|          | 0/512 [00:00<?, ?it/s]"
      ]
     },
     "metadata": {},
     "output_type": "display_data"
    },
    {
     "name": "stdout",
     "output_type": "stream",
     "text": [
      "Batch 512-1024: free RAM 3.23 GB\n"
     ]
    },
    {
     "data": {
      "application/vnd.jupyter.widget-view+json": {
       "model_id": "c08129885e1c41bf8a954d96810aa11d",
       "version_major": 2,
       "version_minor": 0
      },
      "text/plain": [
       "  0%|          | 0/512 [00:00<?, ?it/s]"
      ]
     },
     "metadata": {},
     "output_type": "display_data"
    },
    {
     "name": "stdout",
     "output_type": "stream",
     "text": [
      "Batch 1024-1536: free RAM 3.00 GB\n"
     ]
    },
    {
     "data": {
      "application/vnd.jupyter.widget-view+json": {
       "model_id": "5742fd8d10c748c2a521fcc0b47f2fd0",
       "version_major": 2,
       "version_minor": 0
      },
      "text/plain": [
       "  0%|          | 0/512 [00:00<?, ?it/s]"
      ]
     },
     "metadata": {},
     "output_type": "display_data"
    },
    {
     "name": "stdout",
     "output_type": "stream",
     "text": [
      "Batch 1536-2048: free RAM 3.12 GB\n"
     ]
    },
    {
     "data": {
      "application/vnd.jupyter.widget-view+json": {
       "model_id": "70c274d853a44e83999fd85c09db5869",
       "version_major": 2,
       "version_minor": 0
      },
      "text/plain": [
       "  0%|          | 0/512 [00:00<?, ?it/s]"
      ]
     },
     "metadata": {},
     "output_type": "display_data"
    },
    {
     "name": "stdout",
     "output_type": "stream",
     "text": [
      "Batch 2048-2560: free RAM 3.14 GB\n"
     ]
    },
    {
     "data": {
      "application/vnd.jupyter.widget-view+json": {
       "model_id": "710537fcc05f4d2c846ccdd5694b7717",
       "version_major": 2,
       "version_minor": 0
      },
      "text/plain": [
       "  0%|          | 0/512 [00:00<?, ?it/s]"
      ]
     },
     "metadata": {},
     "output_type": "display_data"
    },
    {
     "name": "stdout",
     "output_type": "stream",
     "text": [
      "Batch 2560-3072: free RAM 3.07 GB\n"
     ]
    },
    {
     "data": {
      "application/vnd.jupyter.widget-view+json": {
       "model_id": "3077d7cee48549479a0aa06857a59ef0",
       "version_major": 2,
       "version_minor": 0
      },
      "text/plain": [
       "  0%|          | 0/512 [00:00<?, ?it/s]"
      ]
     },
     "metadata": {},
     "output_type": "display_data"
    },
    {
     "name": "stdout",
     "output_type": "stream",
     "text": [
      "Batch 3072-3584: free RAM 3.20 GB\n"
     ]
    },
    {
     "data": {
      "application/vnd.jupyter.widget-view+json": {
       "model_id": "2b4a519bd1e1408aaec307f942208691",
       "version_major": 2,
       "version_minor": 0
      },
      "text/plain": [
       "  0%|          | 0/512 [00:00<?, ?it/s]"
      ]
     },
     "metadata": {},
     "output_type": "display_data"
    },
    {
     "name": "stdout",
     "output_type": "stream",
     "text": [
      "Batch 3584-4000: free RAM 3.11 GB\n"
     ]
    },
    {
     "data": {
      "application/vnd.jupyter.widget-view+json": {
       "model_id": "f45c32adb25f436fa25bcf1b359c9ec4",
       "version_major": 2,
       "version_minor": 0
      },
      "text/plain": [
       "  0%|          | 0/416 [00:00<?, ?it/s]"
      ]
     },
     "metadata": {},
     "output_type": "display_data"
    }
   ],
   "source": [
    "for start in range(0, len(X_test), batch_size):\n",
    "    end    = min(start + batch_size, len(X_test))\n",
    "    Xb_np  = X_test[start:end]\n",
    "    \n",
    "    mem = psutil.virtual_memory()\n",
    "    print(f\"Batch {start}-{end}: free RAM {mem.available/1e9:.2f} GB\")\n",
    "    \n",
    "    # nsamples controls speed/accuracy\n",
    "    shap_vals_batch = explainer.shap_values(Xb_np, nsamples=100)\n",
    "    all_shap.append(shap_vals_batch)"
   ]
  },
  {
   "cell_type": "code",
   "execution_count": 247,
   "id": "9b891f32-78c7-4092-9b4f-d787073a51f7",
   "metadata": {},
   "outputs": [],
   "source": [
    "all_shap_values = np.vstack(all_shap)"
   ]
  },
  {
   "cell_type": "code",
   "execution_count": 249,
   "id": "1d3a1772-9826-4e13-a00f-3430d3229074",
   "metadata": {},
   "outputs": [],
   "source": [
    "mean_abs = pd.Series(\n",
    "    np.abs(all_shap_values).mean(axis=0),\n",
    "    index=features\n",
    ").sort_values()"
   ]
  },
  {
   "cell_type": "code",
   "execution_count": 251,
   "id": "a0c97abe-8298-4f0a-a694-13e697b45fb7",
   "metadata": {},
   "outputs": [
    {
     "data": {
      "text/plain": [
       "Zip_Code           0.000395\n",
       "Education_Level    0.000704\n",
       "Income_Level       0.014792\n",
       "Credit_History     0.017566\n",
       "Loan_Amount        0.018405\n",
       "dtype: float64"
      ]
     },
     "execution_count": 251,
     "metadata": {},
     "output_type": "execute_result"
    }
   ],
   "source": [
    "mean_abs   "
   ]
  },
  {
   "cell_type": "code",
   "execution_count": 253,
   "id": "c7f4066f-cabe-4f43-986c-0ce37b01791e",
   "metadata": {},
   "outputs": [
    {
     "data": {
      "image/png": "[encoded data removed]",
      "text/plain": [
       "<Figure size 600x400 with 1 Axes>"
      ]
     },
     "metadata": {},
     "output_type": "display_data"
    }
   ],
   "source": [
    "os.makedirs(\"shap\", exist_ok=True)\n",
    "plt.figure(figsize=(6,4))\n",
    "mean_abs.plot.barh()\n",
    "plt.xlabel(\"Mean |SHAP value|\")\n",
    "plt.title(\"Mean absolute SHAP — RNN model\")\n",
    "plt.tight_layout()\n",
    "plt.savefig(\"shap/MLP_categorical_continous_shap_summary.jpg\", dpi=300)\n",
    "plt.show()"
   ]
  },
  {
   "cell_type": "code",
   "execution_count": 257,
   "id": "3534ea4d-eee4-4250-8c6b-986930de5dcc",
   "metadata": {},
   "outputs": [
    {
     "name": "stdout",
     "output_type": "stream",
     "text": [
      "  Method  Precision  Recall  FDR  Top-1 Match\n",
      "Stat-XAI        0.6     1.0  0.4            1\n"
     ]
    }
   ],
   "source": [
    "def compute_feature_recovery_metrics(gt, ranking):\n",
    "    \"\"\"\n",
    "    Compute TP, FP, FN, Precision, Recall, FDR, and Top-1 Match for feature recovery.\n",
    "\n",
    "    Parameters\n",
    "    ----------\n",
    "    gt : set\n",
    "        Ground-truth causal features.\n",
    "    flagged : list or set\n",
    "        Features your method flagged as important (e.g., top‑k from ranking).\n",
    "    ranking : list\n",
    "        Ordered list of features by descending effect size.\n",
    "\n",
    "    Returns\n",
    "    -------\n",
    "    pd.DataFrame\n",
    "        Single-row DataFrame with the metrics.\n",
    "    \"\"\"\n",
    "    tp = set(gt) & set(ranking)\n",
    "    fp = set(ranking) - set(gt)\n",
    "    fn = set(gt) - set(ranking)\n",
    "\n",
    "    precision = len(tp) / (len(tp) + len(fp)) if (len(tp) + len(fp)) else 0.0\n",
    "    recall    = len(tp) / len(gt)        if len(gt)              else 0.0\n",
    "    fdr       = len(fp) / (len(tp) + len(fp)) if (len(tp) + len(fp)) else 0.0\n",
    "    top1      = 1 if ranking and ranking[0] in gt else 0\n",
    "\n",
    "    metrics = {\n",
    "        \"TP\":           \", \".join(sorted(tp)),\n",
    "        \"FP\":           \", \".join(sorted(fp)),\n",
    "        \"FN\":           \", \".join(sorted(fn)),\n",
    "        \"Precision\":     precision,\n",
    "        \"Recall\":        recall,\n",
    "        \"FDR\":           fdr,\n",
    "        \"Top-1 Match\":   top1\n",
    "    }\n",
    "    return pd.DataFrame([{\n",
    "        \"Precision\": precision,\n",
    "        \"Recall\": recall,\n",
    "        \"FDR\": fdr,\n",
    "        \"Top-1 Match\": top1\n",
    "    }])\n",
    "\n",
    "\n",
    "\n",
    "if __name__ == \"__main__\":\n",
    "    # Example:\n",
    "    GT = {\"Loan_Amount\", \"Credit_History\", \"Income_Level\"}\n",
    "    ranking = [\n",
    "        \"Loan_Amount\",\n",
    "        \"Credit_History\",\n",
    "        \"Income_Level\",\n",
    "        \"Education_Level\",\n",
    "        \"Zip_Code\"\n",
    "    ]\n",
    "    # flagged = ranking[:3]  # e.g. top‑3 features\n",
    "\n",
    "    df_metrics = compute_feature_recovery_metrics(GT, ranking)\n",
    "    df_metrics.insert(0, \"Method\", \"Stat-XAI\")\n",
    "    df_metrics = df_metrics[[\"Method\", \"Precision\", \"Recall\", \"FDR\", \"Top-1 Match\"]]\n",
    "    print(df_metrics.to_string(index=False))"
   ]
  },
  {
   "cell_type": "code",
   "execution_count": null,
   "id": "aabb2e45-b75b-4f3c-a111-2b48021f55db",
   "metadata": {},
   "outputs": [],
   "source": []
  },
  {
   "cell_type": "code",
   "execution_count": null,
   "id": "74a05a50-d54c-4289-a0d9-7655bf5b09be",
   "metadata": {},
   "outputs": [],
   "source": []
  },
  {
   "cell_type": "code",
   "execution_count": null,
   "id": "369fef20-2e4b-4db0-8991-9bff81ba65c6",
   "metadata": {},
   "outputs": [],
   "source": []
  },
  {
   "cell_type": "code",
   "execution_count": null,
   "id": "1685c603-630b-416e-af92-add2f23a724a",
   "metadata": {},
   "outputs": [],
   "source": []
  }
 ],
 "metadata": {
  "kernelspec": {
   "display_name": "Python [conda env:base] *",
   "language": "python",
   "name": "conda-base-py"
  },
  "language_info": {
   "codemirror_mode": {
    "name": "ipython",
    "version": 3
   },
   "file_extension": ".py",
   "mimetype": "text/x-python",
   "name": "python",
   "nbconvert_exporter": "python",
   "pygments_lexer": "ipython3",
   "version": "3.12.7"
  }
 },
 "nbformat": 4,
 "nbformat_minor": 5
}

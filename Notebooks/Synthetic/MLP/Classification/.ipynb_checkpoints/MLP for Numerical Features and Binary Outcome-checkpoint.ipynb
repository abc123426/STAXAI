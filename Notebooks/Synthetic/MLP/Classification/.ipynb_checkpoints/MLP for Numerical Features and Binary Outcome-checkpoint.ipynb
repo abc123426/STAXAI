{
 "cells": [
  {
   "cell_type": "code",
   "execution_count": 2,
   "id": "5f8960bd-dd4e-40d2-b5df-f7d9efa22ae9",
   "metadata": {},
   "outputs": [],
   "source": [
    "from sklearn.neural_network import MLPClassifier\n",
    "from sklearn.datasets import make_classification\n",
    "from sklearn.model_selection import train_test_split\n",
    "from sklearn.preprocessing import OneHotEncoder\n",
    "import pandas as pd\n",
    "import numpy as np\n",
    "from sklearn.metrics import accuracy_score\n",
    "from sklearn.preprocessing import StandardScaler\n",
    "import matplotlib.pyplot as plt\n",
    "import shap"
   ]
  },
  {
   "cell_type": "code",
   "execution_count": 3,
   "id": "89509c7f-ea3b-4b96-aa85-6ee2550cb71f",
   "metadata": {},
   "outputs": [
    {
     "data": {
      "text/html": [
       "<div>\n",
       "<style scoped>\n",
       "    .dataframe tbody tr th:only-of-type {\n",
       "        vertical-align: middle;\n",
       "    }\n",
       "\n",
       "    .dataframe tbody tr th {\n",
       "        vertical-align: top;\n",
       "    }\n",
       "\n",
       "    .dataframe thead th {\n",
       "        text-align: right;\n",
       "    }\n",
       "</style>\n",
       "<table border=\"1\" class=\"dataframe\">\n",
       "  <thead>\n",
       "    <tr style=\"text-align: right;\">\n",
       "      <th></th>\n",
       "      <th>Unnamed: 0</th>\n",
       "      <th>Annual_Income</th>\n",
       "      <th>Credit_Score</th>\n",
       "      <th>Debt_to_Income</th>\n",
       "      <th>Employment_Length</th>\n",
       "      <th>Age</th>\n",
       "      <th>Loan_Approval</th>\n",
       "    </tr>\n",
       "  </thead>\n",
       "  <tbody>\n",
       "    <tr>\n",
       "      <th>0</th>\n",
       "      <td>0</td>\n",
       "      <td>65581.311290</td>\n",
       "      <td>505.502450</td>\n",
       "      <td>0.729998</td>\n",
       "      <td>12.762891</td>\n",
       "      <td>73</td>\n",
       "      <td>0</td>\n",
       "    </tr>\n",
       "    <tr>\n",
       "      <th>1</th>\n",
       "      <td>1</td>\n",
       "      <td>120317.859109</td>\n",
       "      <td>483.101653</td>\n",
       "      <td>0.184512</td>\n",
       "      <td>9.185849</td>\n",
       "      <td>38</td>\n",
       "      <td>1</td>\n",
       "    </tr>\n",
       "    <tr>\n",
       "      <th>2</th>\n",
       "      <td>2</td>\n",
       "      <td>99539.424472</td>\n",
       "      <td>396.884652</td>\n",
       "      <td>0.346640</td>\n",
       "      <td>19.289970</td>\n",
       "      <td>18</td>\n",
       "      <td>0</td>\n",
       "    </tr>\n",
       "    <tr>\n",
       "      <th>3</th>\n",
       "      <td>3</td>\n",
       "      <td>86872.555999</td>\n",
       "      <td>633.996669</td>\n",
       "      <td>0.663281</td>\n",
       "      <td>4.379569</td>\n",
       "      <td>69</td>\n",
       "      <td>1</td>\n",
       "    </tr>\n",
       "    <tr>\n",
       "      <th>4</th>\n",
       "      <td>4</td>\n",
       "      <td>44821.770842</td>\n",
       "      <td>562.143288</td>\n",
       "      <td>0.482089</td>\n",
       "      <td>11.757128</td>\n",
       "      <td>20</td>\n",
       "      <td>0</td>\n",
       "    </tr>\n",
       "  </tbody>\n",
       "</table>\n",
       "</div>"
      ],
      "text/plain": [
       "   Unnamed: 0  Annual_Income  Credit_Score  Debt_to_Income  Employment_Length  \\\n",
       "0           0   65581.311290    505.502450        0.729998          12.762891   \n",
       "1           1  120317.859109    483.101653        0.184512           9.185849   \n",
       "2           2   99539.424472    396.884652        0.346640          19.289970   \n",
       "3           3   86872.555999    633.996669        0.663281           4.379569   \n",
       "4           4   44821.770842    562.143288        0.482089          11.757128   \n",
       "\n",
       "   Age  Loan_Approval  \n",
       "0   73              0  \n",
       "1   38              1  \n",
       "2   18              0  \n",
       "3   69              1  \n",
       "4   20              0  "
      ]
     },
     "execution_count": 3,
     "metadata": {},
     "output_type": "execute_result"
    }
   ],
   "source": [
    "df = pd.read_csv('Numerical Loan Approval Synthetic Dataset with binary outcome.csv')\n",
    "df.head()"
   ]
  },
  {
   "cell_type": "code",
   "execution_count": 6,
   "id": "2395e032-270b-435b-9ee7-0748e5bb2870",
   "metadata": {},
   "outputs": [],
   "source": [
    "df = df.drop(df.columns[[0]], axis=1)"
   ]
  },
  {
   "cell_type": "code",
   "execution_count": 8,
   "id": "e75b0489-982c-4222-af02-372bf96725b3",
   "metadata": {},
   "outputs": [
    {
     "data": {
      "text/html": [
       "<div>\n",
       "<style scoped>\n",
       "    .dataframe tbody tr th:only-of-type {\n",
       "        vertical-align: middle;\n",
       "    }\n",
       "\n",
       "    .dataframe tbody tr th {\n",
       "        vertical-align: top;\n",
       "    }\n",
       "\n",
       "    .dataframe thead th {\n",
       "        text-align: right;\n",
       "    }\n",
       "</style>\n",
       "<table border=\"1\" class=\"dataframe\">\n",
       "  <thead>\n",
       "    <tr style=\"text-align: right;\">\n",
       "      <th></th>\n",
       "      <th>Annual_Income</th>\n",
       "      <th>Credit_Score</th>\n",
       "      <th>Debt_to_Income</th>\n",
       "      <th>Employment_Length</th>\n",
       "      <th>Age</th>\n",
       "      <th>Loan_Approval</th>\n",
       "    </tr>\n",
       "  </thead>\n",
       "  <tbody>\n",
       "    <tr>\n",
       "      <th>0</th>\n",
       "      <td>65581.311290</td>\n",
       "      <td>505.502450</td>\n",
       "      <td>0.729998</td>\n",
       "      <td>12.762891</td>\n",
       "      <td>73</td>\n",
       "      <td>0</td>\n",
       "    </tr>\n",
       "    <tr>\n",
       "      <th>1</th>\n",
       "      <td>120317.859109</td>\n",
       "      <td>483.101653</td>\n",
       "      <td>0.184512</td>\n",
       "      <td>9.185849</td>\n",
       "      <td>38</td>\n",
       "      <td>1</td>\n",
       "    </tr>\n",
       "    <tr>\n",
       "      <th>2</th>\n",
       "      <td>99539.424472</td>\n",
       "      <td>396.884652</td>\n",
       "      <td>0.346640</td>\n",
       "      <td>19.289970</td>\n",
       "      <td>18</td>\n",
       "      <td>0</td>\n",
       "    </tr>\n",
       "    <tr>\n",
       "      <th>3</th>\n",
       "      <td>86872.555999</td>\n",
       "      <td>633.996669</td>\n",
       "      <td>0.663281</td>\n",
       "      <td>4.379569</td>\n",
       "      <td>69</td>\n",
       "      <td>1</td>\n",
       "    </tr>\n",
       "    <tr>\n",
       "      <th>4</th>\n",
       "      <td>44821.770842</td>\n",
       "      <td>562.143288</td>\n",
       "      <td>0.482089</td>\n",
       "      <td>11.757128</td>\n",
       "      <td>20</td>\n",
       "      <td>0</td>\n",
       "    </tr>\n",
       "  </tbody>\n",
       "</table>\n",
       "</div>"
      ],
      "text/plain": [
       "   Annual_Income  Credit_Score  Debt_to_Income  Employment_Length  Age  \\\n",
       "0   65581.311290    505.502450        0.729998          12.762891   73   \n",
       "1  120317.859109    483.101653        0.184512           9.185849   38   \n",
       "2   99539.424472    396.884652        0.346640          19.289970   18   \n",
       "3   86872.555999    633.996669        0.663281           4.379569   69   \n",
       "4   44821.770842    562.143288        0.482089          11.757128   20   \n",
       "\n",
       "   Loan_Approval  \n",
       "0              0  \n",
       "1              1  \n",
       "2              0  \n",
       "3              1  \n",
       "4              0  "
      ]
     },
     "execution_count": 8,
     "metadata": {},
     "output_type": "execute_result"
    }
   ],
   "source": [
    "df.head()"
   ]
  },
  {
   "cell_type": "code",
   "execution_count": 10,
   "id": "84208f58-c705-4bd0-836c-90748151729e",
   "metadata": {},
   "outputs": [
    {
     "name": "stdout",
     "output_type": "stream",
     "text": [
      "Annual_Income        0\n",
      "Credit_Score         0\n",
      "Debt_to_Income       0\n",
      "Employment_Length    0\n",
      "Age                  0\n",
      "Loan_Approval        0\n",
      "dtype: int64\n"
     ]
    }
   ],
   "source": [
    "print(df.isnull().sum())"
   ]
  },
  {
   "cell_type": "code",
   "execution_count": 13,
   "id": "7e677c85-2a31-476b-9ee0-ace36c5aa97d",
   "metadata": {},
   "outputs": [],
   "source": [
    "# features = ['Annual_Income', 'Credit_Score', 'Debt_to_Income', 'Employment_Length', 'Age']\n",
    "# target = 'Loan_Approval'"
   ]
  },
  {
   "cell_type": "code",
   "execution_count": 12,
   "id": "87a2b0e1-2528-4fb8-9645-c3e68e6620e8",
   "metadata": {},
   "outputs": [],
   "source": [
    "X = df.drop('Loan_Approval', axis=1)\n",
    "y = df['Loan_Approval']"
   ]
  },
  {
   "cell_type": "code",
   "execution_count": null,
   "id": "b41a2564-3170-4f3c-aa2f-5aba9239a2f3",
   "metadata": {},
   "outputs": [],
   "source": []
  },
  {
   "cell_type": "code",
   "execution_count": 14,
   "id": "058f7919-8692-4ce3-80aa-042206b772cd",
   "metadata": {},
   "outputs": [],
   "source": [
    "X_train, X_test, y_train, y_test = train_test_split(X, y, test_size=0.2, random_state=42)\n"
   ]
  },
  {
   "cell_type": "code",
   "execution_count": 16,
   "id": "a6ce129c-4ead-4bfd-9a85-c76323d9d8a4",
   "metadata": {},
   "outputs": [],
   "source": [
    "X_test_original = X_test.copy()"
   ]
  },
  {
   "cell_type": "code",
   "execution_count": null,
   "id": "445b0a7a-75b5-46cb-ae47-ac1fea2b26cd",
   "metadata": {},
   "outputs": [],
   "source": []
  },
  {
   "cell_type": "code",
   "execution_count": 19,
   "id": "5f65ea7a-adad-48a5-b024-8d879c7fcfac",
   "metadata": {},
   "outputs": [],
   "source": [
    "def clip_outliers(df, lower_quantile=0.01, upper_quantile=0.99, ref_bounds=None):\n",
    "    \n",
    "    df_clipped = df.copy()\n",
    "    bounds = {} if ref_bounds is None else ref_bounds\n",
    "\n",
    "    for col in df.columns:\n",
    "        if ref_bounds is None:\n",
    "            lower = df[col].quantile(lower_quantile)\n",
    "            upper = df[col].quantile(upper_quantile)\n",
    "            bounds[col] = (lower, upper)\n",
    "        else:\n",
    "            lower, upper = ref_bounds[col]\n",
    "        df_clipped[col] = df_clipped[col].clip(lower, upper)\n",
    "    return df_clipped, bounds"
   ]
  },
  {
   "cell_type": "code",
   "execution_count": 21,
   "id": "7eb32c0a-9aab-434b-baa9-f180e3a97d78",
   "metadata": {},
   "outputs": [],
   "source": [
    "X_train, train_bounds = clip_outliers(X_train, lower_quantile=0.01, upper_quantile=0.95, ref_bounds=None)\n",
    "\n",
    "# Now, apply the same outlier clipping on the test data using the bounds calculated from training data.\n",
    "X_test, _ = clip_outliers(X_test, lower_quantile=0.01, upper_quantile=0.95, ref_bounds=train_bounds)"
   ]
  },
  {
   "cell_type": "code",
   "execution_count": 23,
   "id": "40c366c6-12eb-424f-8ff5-2174c0f87cd1",
   "metadata": {},
   "outputs": [],
   "source": [
    "scaler = StandardScaler()\n",
    "X_train_scaled = scaler.fit_transform(X_train)\n",
    "X_test_scaled = scaler.transform(X_test)"
   ]
  },
  {
   "cell_type": "code",
   "execution_count": 79,
   "id": "0a96c6c4-457c-4d3e-893f-00519fffecc0",
   "metadata": {},
   "outputs": [
    {
     "data": {
      "text/plain": [
       "array([[ 0.97663539, -1.23294415,  1.57931429, -0.12777397,  0.89389882],\n",
       "       [-0.89259428, -0.86217377, -1.13611138, -1.56481374, -1.58483098],\n",
       "       [-0.38934507, -0.57405777, -0.07659563, -1.24031518,  0.28798709],\n",
       "       ...,\n",
       "       [-1.2336431 , -1.22349238, -1.06469467,  1.5491132 ,  1.44472767],\n",
       "       [ 0.99313498,  1.55302462, -0.77510743, -1.16331641,  1.27947901],\n",
       "       [-0.5990818 , -0.03357839, -0.99879293, -1.58292093,  0.6184844 ]])"
      ]
     },
     "execution_count": 79,
     "metadata": {},
     "output_type": "execute_result"
    }
   ],
   "source": [
    "X_train_scaled"
   ]
  },
  {
   "cell_type": "code",
   "execution_count": 25,
   "id": "d4fb004e-6c69-49bd-b4d2-e6bfba69bdf8",
   "metadata": {},
   "outputs": [],
   "source": [
    "clf = MLPClassifier(hidden_layer_sizes=(128, 64, 32, 16),random_state=1, max_iter=500,activation='relu', solver='adam', alpha=0.0001, batch_size=64,\n",
    "                    learning_rate='constant', learning_rate_init=0.0001).fit(X_train_scaled, y_train)\n"
   ]
  },
  {
   "cell_type": "code",
   "execution_count": 2,
   "id": "01dff9f3-a0b6-4e8d-b5a3-8ca6710d7418",
   "metadata": {},
   "outputs": [],
   "source": [
    "# clf.score(X_test_scaled, y_test)"
   ]
  },
  {
   "cell_type": "code",
   "execution_count": 29,
   "id": "347b504e-c274-4eed-84c9-96a1ff02dfaa",
   "metadata": {},
   "outputs": [],
   "source": [
    "probs = clf.predict_proba(X_test_scaled)[:, 1]"
   ]
  },
  {
   "cell_type": "code",
   "execution_count": 31,
   "id": "befcbc0b-e671-4849-a468-8d036041c8bc",
   "metadata": {},
   "outputs": [],
   "source": [
    "threshold = 0.5\n",
    "loan_approval_preds = (probs > threshold).astype(int)"
   ]
  },
  {
   "cell_type": "code",
   "execution_count": 33,
   "id": "7608d1fb-db1a-4835-a830-ce25ab8f3319",
   "metadata": {},
   "outputs": [
    {
     "name": "stdout",
     "output_type": "stream",
     "text": [
      "Actual: 0 | Probability: 7.735691308119464e-08 → Predicted: 0\n",
      "Actual: 1 | Probability: 0.9999999999999996 → Predicted: 1\n",
      "Actual: 1 | Probability: 0.9999999999999989 → Predicted: 1\n",
      "Actual: 0 | Probability: 1.2141763527682097e-12 → Predicted: 0\n",
      "Actual: 1 | Probability: 1.0 → Predicted: 1\n",
      "Actual: 0 | Probability: 1.2326155078544272e-17 → Predicted: 0\n",
      "Actual: 1 | Probability: 1.0 → Predicted: 1\n",
      "Actual: 1 | Probability: 0.9999999999951421 → Predicted: 1\n",
      "Actual: 0 | Probability: 1.8880211937898487e-09 → Predicted: 0\n",
      "Actual: 0 | Probability: 3.634935505846836e-18 → Predicted: 0\n",
      "Actual: 0 | Probability: 1.3688303490887308e-10 → Predicted: 0\n",
      "Actual: 1 | Probability: 1.0 → Predicted: 1\n",
      "Actual: 0 | Probability: 3.676854027711064e-12 → Predicted: 0\n",
      "Actual: 0 | Probability: 0.00036956292937741794 → Predicted: 0\n",
      "Actual: 1 | Probability: 0.9994460319299776 → Predicted: 1\n",
      "Actual: 0 | Probability: 1.0684567653875787e-14 → Predicted: 0\n",
      "Actual: 0 | Probability: 1.1433664626865422e-07 → Predicted: 0\n",
      "Actual: 1 | Probability: 0.9700221972869657 → Predicted: 1\n",
      "Actual: 0 | Probability: 4.600342187206601e-15 → Predicted: 0\n",
      "Actual: 0 | Probability: 1.975861225003835e-11 → Predicted: 0\n",
      "Actual: 0 | Probability: 1.318965376977328e-08 → Predicted: 0\n",
      "Actual: 0 | Probability: 1.2613047270572132e-11 → Predicted: 0\n",
      "Actual: 1 | Probability: 0.9999996960400661 → Predicted: 1\n",
      "Actual: 0 | Probability: 5.0410274150394656e-12 → Predicted: 0\n",
      "Actual: 1 | Probability: 1.0 → Predicted: 1\n",
      "Actual: 0 | Probability: 2.780073785620692e-09 → Predicted: 0\n",
      "Actual: 0 | Probability: 1.8997446936731678e-09 → Predicted: 0\n",
      "Actual: 0 | Probability: 8.26984981505946e-14 → Predicted: 0\n",
      "Actual: 1 | Probability: 0.9999999999969338 → Predicted: 1\n",
      "Actual: 1 | Probability: 0.9999999999992457 → Predicted: 1\n",
      "Actual: 0 | Probability: 0.04473889194481814 → Predicted: 0\n",
      "Actual: 1 | Probability: 0.9062857407061254 → Predicted: 1\n",
      "Actual: 0 | Probability: 3.36494703087531e-09 → Predicted: 0\n",
      "Actual: 1 | Probability: 1.0 → Predicted: 1\n",
      "Actual: 0 | Probability: 2.1416179038580158e-07 → Predicted: 0\n",
      "Actual: 1 | Probability: 1.0 → Predicted: 1\n",
      "Actual: 0 | Probability: 5.525722403488548e-11 → Predicted: 0\n",
      "Actual: 0 | Probability: 1.6414828079222363e-12 → Predicted: 0\n",
      "Actual: 1 | Probability: 1.0 → Predicted: 1\n",
      "Actual: 0 | Probability: 5.769423460170012e-14 → Predicted: 0\n",
      "Actual: 0 | Probability: 3.95094003311464e-11 → Predicted: 0\n",
      "Actual: 1 | Probability: 1.0 → Predicted: 1\n",
      "Actual: 0 | Probability: 0.25830012572647776 → Predicted: 0\n",
      "Actual: 0 | Probability: 5.830557007231291e-15 → Predicted: 0\n",
      "Actual: 1 | Probability: 1.0 → Predicted: 1\n",
      "Actual: 0 | Probability: 3.815679919808233e-17 → Predicted: 0\n",
      "Actual: 0 | Probability: 2.5796972080115853e-10 → Predicted: 0\n",
      "Actual: 0 | Probability: 2.00025619564568e-06 → Predicted: 0\n",
      "Actual: 1 | Probability: 1.0 → Predicted: 1\n",
      "Actual: 1 | Probability: 1.0 → Predicted: 1\n",
      "Actual: 0 | Probability: 2.7626723988587483e-09 → Predicted: 0\n",
      "Actual: 1 | Probability: 0.9999992405425332 → Predicted: 1\n",
      "Actual: 0 | Probability: 4.177938258800346e-09 → Predicted: 0\n",
      "Actual: 1 | Probability: 1.0 → Predicted: 1\n",
      "Actual: 0 | Probability: 5.130687841217767e-07 → Predicted: 0\n",
      "Actual: 1 | Probability: 1.0 → Predicted: 1\n",
      "Actual: 1 | Probability: 1.0 → Predicted: 1\n",
      "Actual: 0 | Probability: 6.648728284903824e-08 → Predicted: 0\n",
      "Actual: 0 | Probability: 4.3243828625844385e-05 → Predicted: 0\n",
      "Actual: 0 | Probability: 7.398644686895144e-05 → Predicted: 0\n",
      "Actual: 0 | Probability: 2.228383075638332e-12 → Predicted: 0\n",
      "Actual: 1 | Probability: 0.9999999999965938 → Predicted: 1\n",
      "Actual: 0 | Probability: 3.8078571290552026e-16 → Predicted: 0\n",
      "Actual: 1 | Probability: 1.0 → Predicted: 1\n",
      "Actual: 1 | Probability: 1.0 → Predicted: 1\n",
      "Actual: 1 | Probability: 1.0 → Predicted: 1\n",
      "Actual: 0 | Probability: 1.9135386115225938e-10 → Predicted: 0\n",
      "Actual: 1 | Probability: 1.0 → Predicted: 1\n",
      "Actual: 1 | Probability: 0.9996353212680137 → Predicted: 1\n",
      "Actual: 0 | Probability: 9.477929835076678e-09 → Predicted: 0\n",
      "Actual: 1 | Probability: 1.0 → Predicted: 1\n",
      "Actual: 1 | Probability: 0.9999999994713864 → Predicted: 1\n",
      "Actual: 0 | Probability: 1.3675380364750685e-14 → Predicted: 0\n",
      "Actual: 0 | Probability: 1.4845594377617658e-09 → Predicted: 0\n",
      "Actual: 1 | Probability: 1.0 → Predicted: 1\n",
      "Actual: 0 | Probability: 1.9908771686653492e-13 → Predicted: 0\n",
      "Actual: 1 | Probability: 1.0 → Predicted: 1\n",
      "Actual: 0 | Probability: 3.1348976627625755e-07 → Predicted: 0\n",
      "Actual: 1 | Probability: 0.9999786218444275 → Predicted: 1\n",
      "Actual: 1 | Probability: 1.0 → Predicted: 1\n",
      "Actual: 1 | Probability: 1.0 → Predicted: 1\n",
      "Actual: 0 | Probability: 1.5392575591872662e-10 → Predicted: 0\n",
      "Actual: 0 | Probability: 2.536642288858608e-12 → Predicted: 0\n",
      "Actual: 1 | Probability: 1.0 → Predicted: 1\n",
      "Actual: 1 | Probability: 0.999954752731042 → Predicted: 1\n",
      "Actual: 1 | Probability: 0.9999999999938551 → Predicted: 1\n",
      "Actual: 0 | Probability: 7.88635626530896e-06 → Predicted: 0\n",
      "Actual: 1 | Probability: 1.0 → Predicted: 1\n",
      "Actual: 0 | Probability: 9.723105548937151e-15 → Predicted: 0\n",
      "Actual: 1 | Probability: 1.0 → Predicted: 1\n",
      "Actual: 0 | Probability: 1.1064804461489644e-06 → Predicted: 0\n",
      "Actual: 1 | Probability: 1.0 → Predicted: 1\n",
      "Actual: 1 | Probability: 1.0 → Predicted: 1\n",
      "Actual: 1 | Probability: 1.0 → Predicted: 1\n",
      "Actual: 0 | Probability: 8.419225857118506e-07 → Predicted: 0\n",
      "Actual: 0 | Probability: 7.879175037766094e-13 → Predicted: 0\n",
      "Actual: 1 | Probability: 0.9999999999931799 → Predicted: 1\n",
      "Actual: 1 | Probability: 1.0 → Predicted: 1\n",
      "Actual: 0 | Probability: 2.023255858283005e-08 → Predicted: 0\n",
      "Actual: 0 | Probability: 0.11731585711049324 → Predicted: 0\n"
     ]
    }
   ],
   "source": [
    "y_test_array = y_test.to_numpy() if hasattr(y_test, \"to_numpy\") else y_test\n",
    "\n",
    "for i in range(100):\n",
    "    print(f\"Actual: {y_test_array[i]} | Probability: {probs[i]} → Predicted: {loan_approval_preds[i]}\")\n"
   ]
  },
  {
   "cell_type": "code",
   "execution_count": 4,
   "id": "347517cc-87fc-4243-8fed-340587c0d560",
   "metadata": {},
   "outputs": [],
   "source": [
    "accuracy = accuracy_score(y_test, loan_approval_preds)\n",
    "\n",
    "print(f\"Test Accuracy: {accuracy:.4f}\")"
   ]
  },
  {
   "cell_type": "code",
   "execution_count": 39,
   "id": "94a4924b-653f-4780-afb1-76f4aa559b12",
   "metadata": {},
   "outputs": [],
   "source": [
    "predictions_df = pd.DataFrame({'Predicted_Label': loan_approval_preds})"
   ]
  },
  {
   "cell_type": "code",
   "execution_count": 43,
   "id": "eb61d8f8-f7cb-4e72-abc1-04e537409e6a",
   "metadata": {},
   "outputs": [],
   "source": [
    "merged_df = pd.concat([X_test_original.reset_index(drop=True), predictions_df.reset_index(drop=True)], axis=1)"
   ]
  },
  {
   "cell_type": "code",
   "execution_count": 57,
   "id": "f86f9ba1-bf62-42fe-98e5-54157b9137ed",
   "metadata": {},
   "outputs": [],
   "source": [
    "def r_to_cohens_d(r):\n",
    "    return 2 * r / np.sqrt(1 - r**2)"
   ]
  },
  {
   "cell_type": "code",
   "execution_count": 61,
   "id": "4634a5e3-63a6-4a83-a072-b9fc246f2f31",
   "metadata": {},
   "outputs": [
    {
     "name": "stdout",
     "output_type": "stream",
     "text": [
      "\n",
      "For feature 'Annual_Income':\n",
      "  Point-Biserial r = 0.499 (p = 0.000)\n",
      "  Cohen's d (converted) = 1.152\n",
      "\n",
      "For feature 'Credit_Score':\n",
      "  Point-Biserial r = 0.462 (p = 0.000)\n",
      "  Cohen's d (converted) = 1.041\n",
      "\n",
      "For feature 'Debt_to_Income':\n",
      "  Point-Biserial r = 0.458 (p = 0.000)\n",
      "  Cohen's d (converted) = 1.029\n",
      "\n",
      "For feature 'Employment_Length':\n",
      "  Point-Biserial r = -0.003 (p = 0.891)\n",
      "  Cohen's d (converted) = -0.006\n",
      "\n",
      "For feature 'Age':\n",
      "  Point-Biserial r = -0.005 (p = 0.838)\n",
      "  Cohen's d (converted) = -0.009\n"
     ]
    }
   ],
   "source": [
    "from scipy.stats import pointbiserialr\n",
    "\n",
    "# Assuming 'results' is your merged DataFrame with the original test data and predictions\n",
    "features = ['Annual_Income', 'Credit_Score', 'Debt_to_Income', 'Employment_Length', 'Age']\n",
    "effect_sizes_r = {}\n",
    "\n",
    "for feature in features:\n",
    "    r, p_value = pointbiserialr(merged_df[feature], merged_df['Predicted_Label'])\n",
    "    effect_sizes_r[feature] = r\n",
    "    d = r_to_cohens_d(r)\n",
    "    print(f\"\\nFor feature '{feature}':\")\n",
    "    print(f\"  Point-Biserial r = {r:.3f} (p = {p_value:.3f})\")\n",
    "    print(f\"  Cohen's d (converted) = {d:.3f}\")"
   ]
  },
  {
   "cell_type": "code",
   "execution_count": 73,
   "id": "8d5921fc-de59-46c1-bac6-1e51cba144d7",
   "metadata": {},
   "outputs": [
    {
     "name": "stdout",
     "output_type": "stream",
     "text": [
      "\n",
      "Ranking of Features by Absolute r Effect Size:\n",
      "             Feature         r     abs_r\n",
      "3  Employment_Length -0.003053  0.003053\n",
      "4                Age -0.004570  0.004570\n",
      "2     Debt_to_Income  0.457526  0.457526\n",
      "1       Credit_Score  0.461618  0.461618\n",
      "0      Annual_Income  0.499125  0.499125\n"
     ]
    }
   ],
   "source": [
    "effect_df = pd.DataFrame(list(effect_sizes_r.items()), columns=['Feature', 'r'])\n",
    "# Create a column with the absolute values of r for ranking based on magnitude.\n",
    "effect_df['abs_r'] = effect_df['r'].abs()\n",
    "# Sort by the absolute r values in increasing order.\n",
    "effect_df = effect_df.sort_values('abs_r',ascending=True)\n",
    "\n",
    "print(\"\\nRanking of Features by Absolute r Effect Size:\")\n",
    "print(effect_df)\n"
   ]
  },
  {
   "cell_type": "code",
   "execution_count": 75,
   "id": "b38c7e39-19e5-4487-a0e8-411d06e080a7",
   "metadata": {},
   "outputs": [
    {
     "data": {
      "image/png": "[encoded data removed]",
      "text/plain": [
       "<Figure size 800x600 with 1 Axes>"
      ]
     },
     "metadata": {},
     "output_type": "display_data"
    }
   ],
   "source": [
    "plt.figure(figsize=(8, 6))\n",
    "plt.barh(effect_df['Feature'], effect_df['r'], color='skyblue')\n",
    "plt.xlabel(\"Point-Biserial Correlation (r)\")\n",
    "plt.title(\"Ranking of Features by r Effect Size (Increasing Order)\")\n",
    "plt.axvline(0, color='black', linewidth=0.8)  # Vertical line to separate negative and positive values\n",
    "plt.tight_layout()\n",
    "plt.show()"
   ]
  },
  {
   "cell_type": "code",
   "execution_count": 13,
   "id": "6b4fbbc5-e4b8-4350-9364-3d4f9380bc47",
   "metadata": {},
   "outputs": [
    {
     "name": "stdout",
     "output_type": "stream",
     "text": [
      "  Method  Precision  Recall  FDR  Top-1 Match\n",
      "Stat-XAI        1.0     1.0  0.0            1\n"
     ]
    }
   ],
   "source": [
    "def compute_feature_recovery_metrics(gt, flagged, ranking):\n",
    "    \"\"\"\n",
    "    Compute TP, FP, FN, Precision, Recall, FDR, and Top-1 Match for feature recovery.\n",
    "\n",
    "    Parameters\n",
    "    ----------\n",
    "    gt : set\n",
    "        Ground-truth causal features.\n",
    "    flagged : list or set\n",
    "        Features your method flagged as important (e.g., top‑k from ranking).\n",
    "    ranking : list\n",
    "        Ordered list of features by descending effect size.\n",
    "\n",
    "    Returns\n",
    "    -------\n",
    "    pd.DataFrame\n",
    "        Single-row DataFrame with the metrics.\n",
    "    \"\"\"\n",
    "    tp = set(gt) & set(flagged)\n",
    "    fp = set(flagged) - set(gt)\n",
    "    fn = set(gt) - set(flagged)\n",
    "\n",
    "    precision = len(tp) / (len(tp) + len(fp)) if (len(tp) + len(fp)) else 0.0\n",
    "    recall    = len(tp) / len(gt)        if len(gt)              else 0.0\n",
    "    fdr       = len(fp) / (len(tp) + len(fp)) if (len(tp) + len(fp)) else 0.0\n",
    "    top1      = 1 if ranking and ranking[0] in gt else 0\n",
    "\n",
    "    metrics = {\n",
    "        \"TP\":           \", \".join(sorted(tp)),\n",
    "        \"FP\":           \", \".join(sorted(fp)),\n",
    "        \"FN\":           \", \".join(sorted(fn)),\n",
    "        \"Precision\":     precision,\n",
    "        \"Recall\":        recall,\n",
    "        \"FDR\":           fdr,\n",
    "        \"Top-1 Match\":   top1\n",
    "    }\n",
    "    return pd.DataFrame([{\n",
    "        \"Precision\": precision,\n",
    "        \"Recall\": recall,\n",
    "        \"FDR\": fdr,\n",
    "        \"Top-1 Match\": top1\n",
    "    }])\n",
    "\n",
    "\n",
    "\n",
    "if __name__ == \"__main__\":\n",
    "    # Example:\n",
    "    GT = {\"annual_income\", \"credit_score\", \"debt_to_income\"}\n",
    "    ranking = [\n",
    "        \"annual_income\",\n",
    "        \"credit_score\",\n",
    "        \"debt_to_income\",\n",
    "        \"Age\",\n",
    "        \"employment_length\"\n",
    "    ]\n",
    "    flagged = ranking[:3]  # e.g. top‑3 features\n",
    "\n",
    "    df_metrics = compute_feature_recovery_metrics(GT, flagged, ranking)\n",
    "    df_metrics.insert(0, \"Method\", \"Stat-XAI\")\n",
    "    df_metrics = df_metrics[[\"Method\", \"Precision\", \"Recall\", \"FDR\", \"Top-1 Match\"]]\n",
    "    print(df_metrics.to_string(index=False))"
   ]
  },
  {
   "cell_type": "code",
   "execution_count": null,
   "id": "79c13a61-e2eb-42c1-81ec-dab8e406af2b",
   "metadata": {},
   "outputs": [],
   "source": []
  },
  {
   "cell_type": "code",
   "execution_count": null,
   "id": "3897e39d-9d6d-4c88-91f2-882963635c63",
   "metadata": {},
   "outputs": [],
   "source": []
  },
  {
   "cell_type": "code",
   "execution_count": 37,
   "id": "c76ebe1e-7403-4f90-89be-b0791599f0ea",
   "metadata": {},
   "outputs": [],
   "source": [
    "import shap\n",
    "import numpy as np\n",
    "import psutil"
   ]
  },
  {
   "cell_type": "code",
   "execution_count": 81,
   "id": "57d9fe5f-03be-4536-9ddc-c261fa68a6c8",
   "metadata": {},
   "outputs": [],
   "source": [
    "explainer = shap.Explainer(lambda x: clf.predict_proba(x)[:, 1], X_train_scaled)\n"
   ]
  },
  {
   "cell_type": "code",
   "execution_count": 83,
   "id": "990d723c-149c-4c17-91ec-00fcfd43b25a",
   "metadata": {},
   "outputs": [
    {
     "data": {
      "text/html": [
       "<div>\n",
       "<style scoped>\n",
       "    .dataframe tbody tr th:only-of-type {\n",
       "        vertical-align: middle;\n",
       "    }\n",
       "\n",
       "    .dataframe tbody tr th {\n",
       "        vertical-align: top;\n",
       "    }\n",
       "\n",
       "    .dataframe thead th {\n",
       "        text-align: right;\n",
       "    }\n",
       "</style>\n",
       "<table border=\"1\" class=\"dataframe\">\n",
       "  <thead>\n",
       "    <tr style=\"text-align: right;\">\n",
       "      <th></th>\n",
       "      <th>Annual_Income</th>\n",
       "      <th>Credit_Score</th>\n",
       "      <th>Debt_to_Income</th>\n",
       "      <th>Employment_Length</th>\n",
       "      <th>Age</th>\n",
       "    </tr>\n",
       "  </thead>\n",
       "  <tbody>\n",
       "    <tr>\n",
       "      <th>9254</th>\n",
       "      <td>103227.379558</td>\n",
       "      <td>380.780982</td>\n",
       "      <td>0.949299</td>\n",
       "      <td>9.230562</td>\n",
       "      <td>65</td>\n",
       "    </tr>\n",
       "    <tr>\n",
       "      <th>1561</th>\n",
       "      <td>52502.703103</td>\n",
       "      <td>439.533256</td>\n",
       "      <td>0.175198</td>\n",
       "      <td>0.979428</td>\n",
       "      <td>20</td>\n",
       "    </tr>\n",
       "    <tr>\n",
       "      <th>1670</th>\n",
       "      <td>66159.212880</td>\n",
       "      <td>485.188118</td>\n",
       "      <td>0.477240</td>\n",
       "      <td>2.842620</td>\n",
       "      <td>54</td>\n",
       "    </tr>\n",
       "    <tr>\n",
       "      <th>6087</th>\n",
       "      <td>49568.877498</td>\n",
       "      <td>779.057858</td>\n",
       "      <td>0.804825</td>\n",
       "      <td>0.251649</td>\n",
       "      <td>66</td>\n",
       "    </tr>\n",
       "    <tr>\n",
       "      <th>6669</th>\n",
       "      <td>42380.208869</td>\n",
       "      <td>491.700658</td>\n",
       "      <td>0.128350</td>\n",
       "      <td>1.312047</td>\n",
       "      <td>29</td>\n",
       "    </tr>\n",
       "    <tr>\n",
       "      <th>...</th>\n",
       "      <td>...</td>\n",
       "      <td>...</td>\n",
       "      <td>...</td>\n",
       "      <td>...</td>\n",
       "      <td>...</td>\n",
       "    </tr>\n",
       "    <tr>\n",
       "      <th>5734</th>\n",
       "      <td>94326.805031</td>\n",
       "      <td>578.438454</td>\n",
       "      <td>0.257569</td>\n",
       "      <td>16.257921</td>\n",
       "      <td>27</td>\n",
       "    </tr>\n",
       "    <tr>\n",
       "      <th>5191</th>\n",
       "      <td>96576.799710</td>\n",
       "      <td>340.394580</td>\n",
       "      <td>0.950634</td>\n",
       "      <td>5.283406</td>\n",
       "      <td>21</td>\n",
       "    </tr>\n",
       "    <tr>\n",
       "      <th>5390</th>\n",
       "      <td>43247.772439</td>\n",
       "      <td>382.278711</td>\n",
       "      <td>0.195557</td>\n",
       "      <td>18.858842</td>\n",
       "      <td>75</td>\n",
       "    </tr>\n",
       "    <tr>\n",
       "      <th>860</th>\n",
       "      <td>103675.123586</td>\n",
       "      <td>822.245590</td>\n",
       "      <td>0.278111</td>\n",
       "      <td>3.284728</td>\n",
       "      <td>72</td>\n",
       "    </tr>\n",
       "    <tr>\n",
       "      <th>7270</th>\n",
       "      <td>60467.655674</td>\n",
       "      <td>570.832479</td>\n",
       "      <td>0.214344</td>\n",
       "      <td>0.875461</td>\n",
       "      <td>60</td>\n",
       "    </tr>\n",
       "  </tbody>\n",
       "</table>\n",
       "<p>8000 rows × 5 columns</p>\n",
       "</div>"
      ],
      "text/plain": [
       "      Annual_Income  Credit_Score  Debt_to_Income  Employment_Length  Age\n",
       "9254  103227.379558    380.780982        0.949299           9.230562   65\n",
       "1561   52502.703103    439.533256        0.175198           0.979428   20\n",
       "1670   66159.212880    485.188118        0.477240           2.842620   54\n",
       "6087   49568.877498    779.057858        0.804825           0.251649   66\n",
       "6669   42380.208869    491.700658        0.128350           1.312047   29\n",
       "...             ...           ...             ...                ...  ...\n",
       "5734   94326.805031    578.438454        0.257569          16.257921   27\n",
       "5191   96576.799710    340.394580        0.950634           5.283406   21\n",
       "5390   43247.772439    382.278711        0.195557          18.858842   75\n",
       "860   103675.123586    822.245590        0.278111           3.284728   72\n",
       "7270   60467.655674    570.832479        0.214344           0.875461   60\n",
       "\n",
       "[8000 rows x 5 columns]"
      ]
     },
     "execution_count": 83,
     "metadata": {},
     "output_type": "execute_result"
    }
   ],
   "source": [
    "X_train"
   ]
  },
  {
   "cell_type": "code",
   "execution_count": 85,
   "id": "436d584a-e50c-48a4-bd67-da30438b1b5d",
   "metadata": {},
   "outputs": [],
   "source": [
    "batch_size = 2000\n",
    "all_shap_values = []"
   ]
  },
  {
   "cell_type": "code",
   "execution_count": 87,
   "id": "80606fd7-4a3f-4212-917a-dee3af1922a0",
   "metadata": {},
   "outputs": [
    {
     "name": "stdout",
     "output_type": "stream",
     "text": [
      "Batch 0-2000: Available RAM = 4.53 GB\n"
     ]
    }
   ],
   "source": [
    "# for start in range(0, X_test.shape[0], batch_size):\n",
    "#     end = start + batch_size\n",
    "#     X_batch = X_test.iloc[start:end]\n",
    "\n",
    "#     # Check memory before each batch\n",
    "#     mem = psutil.virtual_memory()\n",
    "#     print(f\"Batch {start}-{end:,}: Available RAM = {mem.available/1e9:.2f} GB\")\n",
    "\n",
    "#     # Compute SHAP for this batch (each call returns shape [batch_size, n_features])\n",
    "#     shap_batch = explainer(X_batch)\n",
    "#     all_shap_values.append(shap_batch.values)\n",
    "\n",
    "for start in range(0, X_test_scaled.shape[0], batch_size):\n",
    "    end = min(start + batch_size, X_test_scaled.shape[0])\n",
    "    X_batch = X_test_scaled[start:end]\n",
    "    \n",
    "    # monitor memory\n",
    "    mem = psutil.virtual_memory()\n",
    "    print(f\"Batch {start}-{end}: Available RAM = {mem.available/1e9:.2f} GB\")\n",
    "    \n",
    "    # compute SHAP for this chunk\n",
    "    shap_chunk = explainer(X_batch)\n",
    "    # shap_chunk.values has shape (chunk_size, n_features)\n",
    "    all_shap_values.append(shap_chunk.values)\n"
   ]
  },
  {
   "cell_type": "code",
   "execution_count": null,
   "id": "350b01f6-3262-47ac-bcc4-4b157d57edad",
   "metadata": {},
   "outputs": [],
   "source": []
  },
  {
   "cell_type": "code",
   "execution_count": 91,
   "id": "724bc85d-63ca-4ad0-b0b0-b14fafab8099",
   "metadata": {},
   "outputs": [],
   "source": [
    "# all_shap_values = np.vstack(all_shap_values)\n",
    "\n",
    "all_shap_values = np.vstack(all_shap_values) "
   ]
  },
  {
   "cell_type": "code",
   "execution_count": 93,
   "id": "e824837d-3c7e-48ba-81b6-a1e3c47282a9",
   "metadata": {},
   "outputs": [],
   "source": [
    "feature_names = X.columns.tolist()  # your original features list\n",
    "X_test_df = pd.DataFrame(X_test_scaled, columns=feature_names)"
   ]
  },
  {
   "cell_type": "code",
   "execution_count": 105,
   "id": "09a584e2-e83c-47b5-a72e-ffea823e48b7",
   "metadata": {},
   "outputs": [
    {
     "data": {
      "image/png": "[encoded data removed]",
      "text/plain": [
       "<Figure size 800x350 with 1 Axes>"
      ]
     },
     "metadata": {},
     "output_type": "display_data"
    }
   ],
   "source": [
    "os.makedirs(\"shap\", exist_ok=True)\n",
    "\n",
    "plt.figure(figsize=(6,4))\n",
    "shap.summary_plot(\n",
    "    all_shap_values,\n",
    "    X_test_df,\n",
    "    feature_names=feature_names,\n",
    "    plot_type=\"bar\",\n",
    "    show=False\n",
    ")\n",
    "plt.title(\"Mean |SHAP value| per feature — full test set\")\n",
    "plt.tight_layout()\n",
    "out_path = os.path.join(\"shap\", \"numerical_classification_test_shap_summary.jpg\")\n",
    "plt.savefig(out_path, format=\"jpg\", dpi=300)\n",
    "plt.show()"
   ]
  },
  {
   "cell_type": "code",
   "execution_count": 97,
   "id": "1cb3f0fa-7914-4031-89f6-86b7a5cafa32",
   "metadata": {},
   "outputs": [
    {
     "name": "stdout",
     "output_type": "stream",
     "text": [
      "Mean |SHAP value| per feature (descending):\n",
      "Annual_Income        0.229793\n",
      "Debt_to_Income       0.208131\n",
      "Credit_Score         0.205987\n",
      "Age                  0.001874\n",
      "Employment_Length    0.001780\n",
      "dtype: float64\n"
     ]
    }
   ],
   "source": [
    "mean_shap = pd.Series(\n",
    "    np.abs(all_shap_values).mean(axis=0),\n",
    "    index=feature_names\n",
    ").sort_values(ascending=False)\n",
    "\n",
    "# Print them out\n",
    "print(\"Mean |SHAP value| per feature (descending):\")\n",
    "print(mean_shap)"
   ]
  },
  {
   "cell_type": "code",
   "execution_count": 103,
   "id": "ce856275-3603-46b7-9297-9047e5c8a6ec",
   "metadata": {},
   "outputs": [
    {
     "name": "stdout",
     "output_type": "stream",
     "text": [
      "  Method  Precision  Recall  FDR  Top-1 Match\n",
      "SHAP-XAI        0.6     1.0  0.4            1\n"
     ]
    }
   ],
   "source": [
    "def compute_feature_recovery_metrics(gt, ranking):\n",
    "    \"\"\"\n",
    "    Compute TP, FP, FN, Precision, Recall, FDR, and Top-1 Match for feature recovery.\n",
    "\n",
    "    Parameters\n",
    "    ----------\n",
    "    gt : set\n",
    "        Ground-truth causal features.\n",
    "    flagged : list or set\n",
    "        Features your method flagged as important (e.g., top‑k from ranking).\n",
    "    ranking : list\n",
    "        Ordered list of features by descending effect size.\n",
    "\n",
    "    Returns\n",
    "    -------\n",
    "    pd.DataFrame\n",
    "        Single-row DataFrame with the metrics.\n",
    "    \"\"\"\n",
    "    tp = set(gt) & set(ranking)\n",
    "    fp = set(ranking) - set(gt)\n",
    "    fn = set(gt) - set(ranking)\n",
    "\n",
    "    precision = len(tp) / (len(tp) + len(fp)) if (len(tp) + len(fp)) else 0.0\n",
    "    recall    = len(tp) / len(gt)        if len(gt)              else 0.0\n",
    "    fdr       = len(fp) / (len(tp) + len(fp)) if (len(tp) + len(fp)) else 0.0\n",
    "    top1      = 1 if ranking and ranking[0] in gt else 0\n",
    "\n",
    "    metrics = {\n",
    "        \"TP\":           \", \".join(sorted(tp)),\n",
    "        \"FP\":           \", \".join(sorted(fp)),\n",
    "        \"FN\":           \", \".join(sorted(fn)),\n",
    "        \"Precision\":     precision,\n",
    "        \"Recall\":        recall,\n",
    "        \"FDR\":           fdr,\n",
    "        \"Top-1 Match\":   top1\n",
    "    }\n",
    "    return pd.DataFrame([{\n",
    "        \"Precision\": precision,\n",
    "        \"Recall\": recall,\n",
    "        \"FDR\": fdr,\n",
    "        \"Top-1 Match\": top1\n",
    "    }])\n",
    "\n",
    "\n",
    "\n",
    "if __name__ == \"__main__\":\n",
    "    # Example:\n",
    "    GT = {\"annual_income\", \"credit_score\", \"debt_to_income\"}\n",
    "    ranking = [\n",
    "        \"credit_score\",\n",
    "        \"annual_income\",\n",
    "        \"debt_to_income\",\n",
    "        \"Age\",\n",
    "        \"employment_length\"\n",
    "    ]\n",
    "    # flagged = ranking[:3]  # e.g. top‑3 features\n",
    "\n",
    "    df_metrics = compute_feature_recovery_metrics(GT, ranking)\n",
    "    df_metrics.insert(0, \"Method\", \"SHAP-XAI\")\n",
    "    df_metrics = df_metrics[[\"Method\", \"Precision\", \"Recall\", \"FDR\", \"Top-1 Match\"]]\n",
    "    print(df_metrics.to_string(index=False))"
   ]
  },
  {
   "cell_type": "code",
   "execution_count": null,
   "id": "b265c470-b213-4e7f-a980-0f77577a6846",
   "metadata": {},
   "outputs": [],
   "source": []
  },
  {
   "cell_type": "code",
   "execution_count": null,
   "id": "f10d74f3-f9fd-40d6-a4d1-391b625efcc6",
   "metadata": {},
   "outputs": [],
   "source": []
  },
  {
   "cell_type": "code",
   "execution_count": null,
   "id": "9e2b8974-b45c-4537-a6ec-94b1e565eb6e",
   "metadata": {},
   "outputs": [],
   "source": []
  }
 ],
 "metadata": {
  "kernelspec": {
   "display_name": "Python [conda env:base] *",
   "language": "python",
   "name": "conda-base-py"
  },
  "language_info": {
   "codemirror_mode": {
    "name": "ipython",
    "version": 3
   },
   "file_extension": ".py",
   "mimetype": "text/x-python",
   "name": "python",
   "nbconvert_exporter": "python",
   "pygments_lexer": "ipython3",
   "version": "3.12.7"
  }
 },
 "nbformat": 4,
 "nbformat_minor": 5
}
